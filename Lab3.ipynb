{
 "cells": [
  {
   "cell_type": "markdown",
   "metadata": {},
   "source": [
    "# Фундаментальные концепции ИИ\n",
    "\n",
    "## Лабораторная работа №3\n",
    "### Оптимизация гиперпараметров \n",
    "\n",
    "Выполнил студент группы М8О-109СВ-24 Кучев Антон"
   ]
  },
  {
   "cell_type": "code",
   "execution_count": 1,
   "metadata": {},
   "outputs": [],
   "source": [
    "import optuna\n",
    "import pandas as pd\n",
    "import logging\n",
    "import sys\n",
    "\n",
    "import sklearn.datasets\n",
    "import sklearn.linear_model\n",
    "import sklearn.model_selection\n",
    "import sklearn.neighbors\n",
    "from sklearn.metrics import accuracy_score\n",
    "\n",
    "from optuna.visualization import plot_optimization_history, plot_param_importances"
   ]
  },
  {
   "cell_type": "markdown",
   "metadata": {},
   "source": [
    "docker run --name optuna-postgres -p 5432:5432 -e POSTGRES_USER=user -e POSTGRES_PASSWORD=optunaonelove -e POSTGRES_DB=optuna_db -d postgres"
   ]
  },
  {
   "cell_type": "code",
   "execution_count": 2,
   "metadata": {},
   "outputs": [],
   "source": [
    "cancer = sklearn.datasets.load_breast_cancer()"
   ]
  },
  {
   "cell_type": "code",
   "execution_count": 3,
   "metadata": {},
   "outputs": [],
   "source": [
    "def objective(trial):\n",
    "    train_x, valid_x, train_y, valid_y = sklearn.model_selection.train_test_split(\n",
    "        cancer.data, cancer.target, test_size=0.25, random_state=0\n",
    "    )\n",
    "\n",
    "    max_iter = trial.suggest_int(\"max_iter\", 100, 1000)\n",
    "    tol = trial.suggest_float(\"tol\", 1e-3, 1e-2)\n",
    "    warm_start = trial.suggest_categorical(\"warm_start\", [\"True\", \"False\"])\n",
    "    loss = trial.suggest_categorical(\"loss\", [\"squared_epsilon_insensitive\", \"epsilon_insensitive\"])\n",
    "    reg = sklearn.linear_model.PassiveAggressiveRegressor(max_iter=max_iter, tol=tol, warm_start=bool(warm_start), loss=loss)\n",
    "\n",
    "    for step in range(100):\n",
    "        reg.partial_fit(train_x, train_y)\n",
    "\n",
    "        intermediate_value = 1 - reg.score(valid_x, valid_y)\n",
    "        trial.report(intermediate_value, step)\n",
    "\n",
    "        if trial.should_prune():\n",
    "            raise optuna.TrialPruned()\n",
    "    return 1 - reg.score(valid_x, valid_y)"
   ]
  },
  {
   "cell_type": "code",
   "execution_count": 4,
   "metadata": {},
   "outputs": [
    {
     "name": "stderr",
     "output_type": "stream",
     "text": [
      "[I 2024-12-23 14:26:53,832] A new study created in memory with name: no-name-7eaf74fc-3268-4e29-b18f-c7ce2c682ec6\n"
     ]
    },
    {
     "name": "stdout",
     "output_type": "stream",
     "text": [
      "A new study created in memory with name: no-name-7eaf74fc-3268-4e29-b18f-c7ce2c682ec6\n"
     ]
    },
    {
     "name": "stderr",
     "output_type": "stream",
     "text": [
      "C:\\Users\\ivanm\\AppData\\Local\\Temp\\ipykernel_5188\\3408321151.py:5: ExperimentalWarning: WilcoxonPruner is experimental (supported from v3.6.0). The interface can change in the future.\n",
      "  study_2 = optuna.create_study(sampler=optuna.samplers.TPESampler(), pruner=optuna.pruners.WilcoxonPruner(), direction='maximize')\n",
      "[I 2024-12-23 14:26:53,834] A new study created in memory with name: no-name-d7069bb1-fdc6-4f07-88ad-e9976e7d788c\n"
     ]
    },
    {
     "name": "stdout",
     "output_type": "stream",
     "text": [
      "A new study created in memory with name: no-name-d7069bb1-fdc6-4f07-88ad-e9976e7d788c\n"
     ]
    },
    {
     "name": "stderr",
     "output_type": "stream",
     "text": [
      "[I 2024-12-23 14:26:53,899] Trial 0 finished with value: 0.7944759449947338 and parameters: {'max_iter': 399, 'tol': 0.007806626963537568, 'warm_start': 'False', 'loss': 'squared_epsilon_insensitive'}. Best is trial 0 with value: 0.7944759449947338.\n"
     ]
    },
    {
     "name": "stdout",
     "output_type": "stream",
     "text": [
      "Trial 0 finished with value: 0.7944759449947338 and parameters: {'max_iter': 399, 'tol': 0.007806626963537568, 'warm_start': 'False', 'loss': 'squared_epsilon_insensitive'}. Best is trial 0 with value: 0.7944759449947338.\n"
     ]
    },
    {
     "name": "stderr",
     "output_type": "stream",
     "text": [
      "[I 2024-12-23 14:26:53,967] Trial 1 finished with value: 0.590674025684299 and parameters: {'max_iter': 151, 'tol': 0.005472120483211327, 'warm_start': 'False', 'loss': 'epsilon_insensitive'}. Best is trial 0 with value: 0.7944759449947338.\n"
     ]
    },
    {
     "name": "stdout",
     "output_type": "stream",
     "text": [
      "Trial 1 finished with value: 0.590674025684299 and parameters: {'max_iter': 151, 'tol': 0.005472120483211327, 'warm_start': 'False', 'loss': 'epsilon_insensitive'}. Best is trial 0 with value: 0.7944759449947338.\n"
     ]
    },
    {
     "name": "stderr",
     "output_type": "stream",
     "text": [
      "[I 2024-12-23 14:26:54,033] Trial 2 finished with value: 0.6980699118259237 and parameters: {'max_iter': 702, 'tol': 0.0029245798294272995, 'warm_start': 'False', 'loss': 'squared_epsilon_insensitive'}. Best is trial 0 with value: 0.7944759449947338.\n"
     ]
    },
    {
     "name": "stdout",
     "output_type": "stream",
     "text": [
      "Trial 2 finished with value: 0.6980699118259237 and parameters: {'max_iter': 702, 'tol': 0.0029245798294272995, 'warm_start': 'False', 'loss': 'squared_epsilon_insensitive'}. Best is trial 0 with value: 0.7944759449947338.\n"
     ]
    },
    {
     "name": "stderr",
     "output_type": "stream",
     "text": [
      "[I 2024-12-23 14:26:54,097] Trial 3 finished with value: 0.6857677645682233 and parameters: {'max_iter': 270, 'tol': 0.003363000601567437, 'warm_start': 'True', 'loss': 'squared_epsilon_insensitive'}. Best is trial 0 with value: 0.7944759449947338.\n"
     ]
    },
    {
     "name": "stdout",
     "output_type": "stream",
     "text": [
      "Trial 3 finished with value: 0.6857677645682233 and parameters: {'max_iter': 270, 'tol': 0.003363000601567437, 'warm_start': 'True', 'loss': 'squared_epsilon_insensitive'}. Best is trial 0 with value: 0.7944759449947338.\n"
     ]
    },
    {
     "name": "stderr",
     "output_type": "stream",
     "text": [
      "[I 2024-12-23 14:26:54,118] Trial 4 pruned. \n"
     ]
    },
    {
     "name": "stdout",
     "output_type": "stream",
     "text": [
      "Trial 4 pruned. \n"
     ]
    },
    {
     "name": "stderr",
     "output_type": "stream",
     "text": [
      "[I 2024-12-23 14:26:54,126] Trial 5 pruned. \n"
     ]
    },
    {
     "name": "stdout",
     "output_type": "stream",
     "text": [
      "Trial 5 pruned. \n"
     ]
    },
    {
     "name": "stderr",
     "output_type": "stream",
     "text": [
      "[I 2024-12-23 14:26:54,134] Trial 6 pruned. \n"
     ]
    },
    {
     "name": "stdout",
     "output_type": "stream",
     "text": [
      "Trial 6 pruned. \n"
     ]
    },
    {
     "name": "stderr",
     "output_type": "stream",
     "text": [
      "[I 2024-12-23 14:26:54,190] Trial 7 pruned. \n"
     ]
    },
    {
     "name": "stdout",
     "output_type": "stream",
     "text": [
      "Trial 7 pruned. \n"
     ]
    },
    {
     "name": "stderr",
     "output_type": "stream",
     "text": [
      "[I 2024-12-23 14:26:54,279] Trial 8 finished with value: 3.001315709125658 and parameters: {'max_iter': 211, 'tol': 0.008466220749490824, 'warm_start': 'True', 'loss': 'squared_epsilon_insensitive'}. Best is trial 8 with value: 3.001315709125658.\n"
     ]
    },
    {
     "name": "stdout",
     "output_type": "stream",
     "text": [
      "Trial 8 finished with value: 3.001315709125658 and parameters: {'max_iter': 211, 'tol': 0.008466220749490824, 'warm_start': 'True', 'loss': 'squared_epsilon_insensitive'}. Best is trial 8 with value: 3.001315709125658.\n"
     ]
    },
    {
     "name": "stderr",
     "output_type": "stream",
     "text": [
      "[I 2024-12-23 14:26:54,296] Trial 9 pruned. \n"
     ]
    },
    {
     "name": "stdout",
     "output_type": "stream",
     "text": [
      "Trial 9 pruned. \n"
     ]
    },
    {
     "name": "stderr",
     "output_type": "stream",
     "text": [
      "[I 2024-12-23 14:26:54,391] Trial 10 finished with value: 0.6193527475147631 and parameters: {'max_iter': 134, 'tol': 0.009868668142836058, 'warm_start': 'True', 'loss': 'epsilon_insensitive'}. Best is trial 8 with value: 3.001315709125658.\n"
     ]
    },
    {
     "name": "stdout",
     "output_type": "stream",
     "text": [
      "Trial 10 finished with value: 0.6193527475147631 and parameters: {'max_iter': 134, 'tol': 0.009868668142836058, 'warm_start': 'True', 'loss': 'epsilon_insensitive'}. Best is trial 8 with value: 3.001315709125658.\n"
     ]
    },
    {
     "name": "stderr",
     "output_type": "stream",
     "text": [
      "[I 2024-12-23 14:26:54,416] Trial 11 pruned. \n"
     ]
    },
    {
     "name": "stdout",
     "output_type": "stream",
     "text": [
      "Trial 11 pruned. \n"
     ]
    },
    {
     "name": "stderr",
     "output_type": "stream",
     "text": [
      "[I 2024-12-23 14:26:54,449] Trial 12 pruned. \n"
     ]
    },
    {
     "name": "stdout",
     "output_type": "stream",
     "text": [
      "Trial 12 pruned. \n"
     ]
    },
    {
     "name": "stderr",
     "output_type": "stream",
     "text": [
      "[I 2024-12-23 14:26:54,489] Trial 13 pruned. \n"
     ]
    },
    {
     "name": "stdout",
     "output_type": "stream",
     "text": [
      "Trial 13 pruned. \n"
     ]
    },
    {
     "name": "stderr",
     "output_type": "stream",
     "text": [
      "[I 2024-12-23 14:26:54,509] Trial 14 pruned. \n"
     ]
    },
    {
     "name": "stdout",
     "output_type": "stream",
     "text": [
      "Trial 14 pruned. \n"
     ]
    },
    {
     "name": "stderr",
     "output_type": "stream",
     "text": [
      "[I 2024-12-23 14:26:54,537] Trial 15 pruned. \n"
     ]
    },
    {
     "name": "stdout",
     "output_type": "stream",
     "text": [
      "Trial 15 pruned. \n"
     ]
    },
    {
     "name": "stderr",
     "output_type": "stream",
     "text": [
      "[I 2024-12-23 14:26:54,558] Trial 16 pruned. \n"
     ]
    },
    {
     "name": "stdout",
     "output_type": "stream",
     "text": [
      "Trial 16 pruned. \n"
     ]
    },
    {
     "name": "stderr",
     "output_type": "stream",
     "text": [
      "[I 2024-12-23 14:26:54,580] Trial 17 pruned. \n"
     ]
    },
    {
     "name": "stdout",
     "output_type": "stream",
     "text": [
      "Trial 17 pruned. \n"
     ]
    },
    {
     "name": "stderr",
     "output_type": "stream",
     "text": [
      "[I 2024-12-23 14:26:54,607] Trial 18 pruned. \n"
     ]
    },
    {
     "name": "stdout",
     "output_type": "stream",
     "text": [
      "Trial 18 pruned. \n"
     ]
    },
    {
     "name": "stderr",
     "output_type": "stream",
     "text": [
      "[I 2024-12-23 14:26:54,627] Trial 19 pruned. \n"
     ]
    },
    {
     "name": "stdout",
     "output_type": "stream",
     "text": [
      "Trial 19 pruned. \n"
     ]
    },
    {
     "name": "stderr",
     "output_type": "stream",
     "text": [
      "[I 2024-12-23 14:26:54,652] Trial 20 pruned. \n"
     ]
    },
    {
     "name": "stdout",
     "output_type": "stream",
     "text": [
      "Trial 20 pruned. \n"
     ]
    },
    {
     "name": "stderr",
     "output_type": "stream",
     "text": [
      "[I 2024-12-23 14:26:54,677] Trial 21 pruned. \n"
     ]
    },
    {
     "name": "stdout",
     "output_type": "stream",
     "text": [
      "Trial 21 pruned. \n"
     ]
    },
    {
     "name": "stderr",
     "output_type": "stream",
     "text": [
      "[I 2024-12-23 14:26:54,701] Trial 22 pruned. \n"
     ]
    },
    {
     "name": "stdout",
     "output_type": "stream",
     "text": [
      "Trial 22 pruned. \n"
     ]
    },
    {
     "name": "stderr",
     "output_type": "stream",
     "text": [
      "[I 2024-12-23 14:26:54,729] Trial 23 pruned. \n"
     ]
    },
    {
     "name": "stdout",
     "output_type": "stream",
     "text": [
      "Trial 23 pruned. \n"
     ]
    },
    {
     "name": "stderr",
     "output_type": "stream",
     "text": [
      "[I 2024-12-23 14:26:54,756] Trial 24 pruned. \n"
     ]
    },
    {
     "name": "stdout",
     "output_type": "stream",
     "text": [
      "Trial 24 pruned. \n"
     ]
    },
    {
     "name": "stderr",
     "output_type": "stream",
     "text": [
      "[I 2024-12-23 14:26:54,781] Trial 25 pruned. \n"
     ]
    },
    {
     "name": "stdout",
     "output_type": "stream",
     "text": [
      "Trial 25 pruned. \n"
     ]
    },
    {
     "name": "stderr",
     "output_type": "stream",
     "text": [
      "[I 2024-12-23 14:26:54,806] Trial 26 pruned. \n"
     ]
    },
    {
     "name": "stdout",
     "output_type": "stream",
     "text": [
      "Trial 26 pruned. \n"
     ]
    },
    {
     "name": "stderr",
     "output_type": "stream",
     "text": [
      "[I 2024-12-23 14:26:54,828] Trial 27 pruned. \n"
     ]
    },
    {
     "name": "stdout",
     "output_type": "stream",
     "text": [
      "Trial 27 pruned. \n"
     ]
    },
    {
     "name": "stderr",
     "output_type": "stream",
     "text": [
      "[I 2024-12-23 14:26:54,855] Trial 28 pruned. \n"
     ]
    },
    {
     "name": "stdout",
     "output_type": "stream",
     "text": [
      "Trial 28 pruned. \n"
     ]
    },
    {
     "name": "stderr",
     "output_type": "stream",
     "text": [
      "[I 2024-12-23 14:26:54,883] Trial 29 pruned. \n"
     ]
    },
    {
     "name": "stdout",
     "output_type": "stream",
     "text": [
      "Trial 29 pruned. \n"
     ]
    },
    {
     "name": "stderr",
     "output_type": "stream",
     "text": [
      "[I 2024-12-23 14:26:54,967] Trial 30 finished with value: 0.5968568886322827 and parameters: {'max_iter': 420, 'tol': 0.0018823345272079499, 'warm_start': 'False', 'loss': 'squared_epsilon_insensitive'}. Best is trial 8 with value: 3.001315709125658.\n"
     ]
    },
    {
     "name": "stdout",
     "output_type": "stream",
     "text": [
      "Trial 30 finished with value: 0.5968568886322827 and parameters: {'max_iter': 420, 'tol': 0.0018823345272079499, 'warm_start': 'False', 'loss': 'squared_epsilon_insensitive'}. Best is trial 8 with value: 3.001315709125658.\n"
     ]
    },
    {
     "name": "stderr",
     "output_type": "stream",
     "text": [
      "[I 2024-12-23 14:26:54,987] Trial 31 pruned. \n"
     ]
    },
    {
     "name": "stdout",
     "output_type": "stream",
     "text": [
      "Trial 31 pruned. \n"
     ]
    },
    {
     "name": "stderr",
     "output_type": "stream",
     "text": [
      "[I 2024-12-23 14:26:55,009] Trial 32 pruned. \n"
     ]
    },
    {
     "name": "stdout",
     "output_type": "stream",
     "text": [
      "Trial 32 pruned. \n"
     ]
    },
    {
     "name": "stderr",
     "output_type": "stream",
     "text": [
      "[I 2024-12-23 14:26:55,032] Trial 33 pruned. \n"
     ]
    },
    {
     "name": "stdout",
     "output_type": "stream",
     "text": [
      "Trial 33 pruned. \n"
     ]
    },
    {
     "name": "stderr",
     "output_type": "stream",
     "text": [
      "[I 2024-12-23 14:26:55,079] Trial 34 pruned. \n"
     ]
    },
    {
     "name": "stdout",
     "output_type": "stream",
     "text": [
      "Trial 34 pruned. \n"
     ]
    },
    {
     "name": "stderr",
     "output_type": "stream",
     "text": [
      "[I 2024-12-23 14:26:55,129] Trial 35 pruned. \n"
     ]
    },
    {
     "name": "stdout",
     "output_type": "stream",
     "text": [
      "Trial 35 pruned. \n"
     ]
    },
    {
     "name": "stderr",
     "output_type": "stream",
     "text": [
      "[I 2024-12-23 14:26:55,213] Trial 36 pruned. \n"
     ]
    },
    {
     "name": "stdout",
     "output_type": "stream",
     "text": [
      "Trial 36 pruned. \n"
     ]
    },
    {
     "name": "stderr",
     "output_type": "stream",
     "text": [
      "[I 2024-12-23 14:26:55,230] Trial 37 pruned. \n"
     ]
    },
    {
     "name": "stdout",
     "output_type": "stream",
     "text": [
      "Trial 37 pruned. \n"
     ]
    },
    {
     "name": "stderr",
     "output_type": "stream",
     "text": [
      "[I 2024-12-23 14:26:55,249] Trial 38 pruned. \n"
     ]
    },
    {
     "name": "stdout",
     "output_type": "stream",
     "text": [
      "Trial 38 pruned. \n"
     ]
    },
    {
     "name": "stderr",
     "output_type": "stream",
     "text": [
      "[I 2024-12-23 14:26:55,267] Trial 39 pruned. \n"
     ]
    },
    {
     "name": "stdout",
     "output_type": "stream",
     "text": [
      "Trial 39 pruned. \n"
     ]
    },
    {
     "name": "stderr",
     "output_type": "stream",
     "text": [
      "[I 2024-12-23 14:26:55,286] Trial 40 pruned. \n"
     ]
    },
    {
     "name": "stdout",
     "output_type": "stream",
     "text": [
      "Trial 40 pruned. \n"
     ]
    },
    {
     "name": "stderr",
     "output_type": "stream",
     "text": [
      "[I 2024-12-23 14:26:55,307] Trial 41 pruned. \n"
     ]
    },
    {
     "name": "stdout",
     "output_type": "stream",
     "text": [
      "Trial 41 pruned. \n"
     ]
    },
    {
     "name": "stderr",
     "output_type": "stream",
     "text": [
      "[I 2024-12-23 14:26:55,326] Trial 42 pruned. \n"
     ]
    },
    {
     "name": "stdout",
     "output_type": "stream",
     "text": [
      "Trial 42 pruned. \n"
     ]
    },
    {
     "name": "stderr",
     "output_type": "stream",
     "text": [
      "[I 2024-12-23 14:26:55,374] Trial 43 pruned. \n"
     ]
    },
    {
     "name": "stdout",
     "output_type": "stream",
     "text": [
      "Trial 43 pruned. \n"
     ]
    },
    {
     "name": "stderr",
     "output_type": "stream",
     "text": [
      "[I 2024-12-23 14:26:55,396] Trial 44 pruned. \n"
     ]
    },
    {
     "name": "stdout",
     "output_type": "stream",
     "text": [
      "Trial 44 pruned. \n"
     ]
    },
    {
     "name": "stderr",
     "output_type": "stream",
     "text": [
      "[I 2024-12-23 14:26:55,415] Trial 45 pruned. \n"
     ]
    },
    {
     "name": "stdout",
     "output_type": "stream",
     "text": [
      "Trial 45 pruned. \n"
     ]
    },
    {
     "name": "stderr",
     "output_type": "stream",
     "text": [
      "[I 2024-12-23 14:26:55,437] Trial 46 pruned. \n"
     ]
    },
    {
     "name": "stdout",
     "output_type": "stream",
     "text": [
      "Trial 46 pruned. \n"
     ]
    },
    {
     "name": "stderr",
     "output_type": "stream",
     "text": [
      "[I 2024-12-23 14:26:55,470] Trial 47 pruned. \n"
     ]
    },
    {
     "name": "stdout",
     "output_type": "stream",
     "text": [
      "Trial 47 pruned. \n"
     ]
    },
    {
     "name": "stderr",
     "output_type": "stream",
     "text": [
      "[I 2024-12-23 14:26:55,488] Trial 48 pruned. \n"
     ]
    },
    {
     "name": "stdout",
     "output_type": "stream",
     "text": [
      "Trial 48 pruned. \n"
     ]
    },
    {
     "name": "stderr",
     "output_type": "stream",
     "text": [
      "[I 2024-12-23 14:26:55,512] Trial 49 pruned. \n"
     ]
    },
    {
     "name": "stdout",
     "output_type": "stream",
     "text": [
      "Trial 49 pruned. \n"
     ]
    },
    {
     "name": "stderr",
     "output_type": "stream",
     "text": [
      "[I 2024-12-23 14:26:55,532] Trial 50 pruned. \n"
     ]
    },
    {
     "name": "stdout",
     "output_type": "stream",
     "text": [
      "Trial 50 pruned. \n"
     ]
    },
    {
     "name": "stderr",
     "output_type": "stream",
     "text": [
      "[I 2024-12-23 14:26:55,555] Trial 51 pruned. \n"
     ]
    },
    {
     "name": "stdout",
     "output_type": "stream",
     "text": [
      "Trial 51 pruned. \n"
     ]
    },
    {
     "name": "stderr",
     "output_type": "stream",
     "text": [
      "[I 2024-12-23 14:26:55,580] Trial 52 pruned. \n"
     ]
    },
    {
     "name": "stdout",
     "output_type": "stream",
     "text": [
      "Trial 52 pruned. \n"
     ]
    },
    {
     "name": "stderr",
     "output_type": "stream",
     "text": [
      "[I 2024-12-23 14:26:55,600] Trial 53 pruned. \n"
     ]
    },
    {
     "name": "stdout",
     "output_type": "stream",
     "text": [
      "Trial 53 pruned. \n"
     ]
    },
    {
     "name": "stderr",
     "output_type": "stream",
     "text": [
      "[I 2024-12-23 14:26:55,676] Trial 54 finished with value: 3.151070183893854 and parameters: {'max_iter': 396, 'tol': 0.0025675470493296687, 'warm_start': 'False', 'loss': 'squared_epsilon_insensitive'}. Best is trial 54 with value: 3.151070183893854.\n"
     ]
    },
    {
     "name": "stdout",
     "output_type": "stream",
     "text": [
      "Trial 54 finished with value: 3.151070183893854 and parameters: {'max_iter': 396, 'tol': 0.0025675470493296687, 'warm_start': 'False', 'loss': 'squared_epsilon_insensitive'}. Best is trial 54 with value: 3.151070183893854.\n"
     ]
    },
    {
     "name": "stderr",
     "output_type": "stream",
     "text": [
      "[I 2024-12-23 14:26:55,699] Trial 55 pruned. \n"
     ]
    },
    {
     "name": "stdout",
     "output_type": "stream",
     "text": [
      "Trial 55 pruned. \n"
     ]
    },
    {
     "name": "stderr",
     "output_type": "stream",
     "text": [
      "[I 2024-12-23 14:26:55,722] Trial 56 pruned. \n"
     ]
    },
    {
     "name": "stdout",
     "output_type": "stream",
     "text": [
      "Trial 56 pruned. \n"
     ]
    },
    {
     "name": "stderr",
     "output_type": "stream",
     "text": [
      "[I 2024-12-23 14:26:55,745] Trial 57 pruned. \n"
     ]
    },
    {
     "name": "stdout",
     "output_type": "stream",
     "text": [
      "Trial 57 pruned. \n"
     ]
    },
    {
     "name": "stderr",
     "output_type": "stream",
     "text": [
      "[I 2024-12-23 14:26:55,764] Trial 58 pruned. \n"
     ]
    },
    {
     "name": "stdout",
     "output_type": "stream",
     "text": [
      "Trial 58 pruned. \n"
     ]
    },
    {
     "name": "stderr",
     "output_type": "stream",
     "text": [
      "[I 2024-12-23 14:26:55,790] Trial 59 pruned. \n"
     ]
    },
    {
     "name": "stdout",
     "output_type": "stream",
     "text": [
      "Trial 59 pruned. \n"
     ]
    },
    {
     "name": "stderr",
     "output_type": "stream",
     "text": [
      "[I 2024-12-23 14:26:55,824] Trial 60 pruned. \n"
     ]
    },
    {
     "name": "stdout",
     "output_type": "stream",
     "text": [
      "Trial 60 pruned. \n"
     ]
    },
    {
     "name": "stderr",
     "output_type": "stream",
     "text": [
      "[I 2024-12-23 14:26:55,855] Trial 61 pruned. \n"
     ]
    },
    {
     "name": "stdout",
     "output_type": "stream",
     "text": [
      "Trial 61 pruned. \n"
     ]
    },
    {
     "name": "stderr",
     "output_type": "stream",
     "text": [
      "[I 2024-12-23 14:26:55,883] Trial 62 pruned. \n"
     ]
    },
    {
     "name": "stdout",
     "output_type": "stream",
     "text": [
      "Trial 62 pruned. \n"
     ]
    },
    {
     "name": "stderr",
     "output_type": "stream",
     "text": [
      "[I 2024-12-23 14:26:55,904] Trial 63 pruned. \n"
     ]
    },
    {
     "name": "stdout",
     "output_type": "stream",
     "text": [
      "Trial 63 pruned. \n"
     ]
    },
    {
     "name": "stderr",
     "output_type": "stream",
     "text": [
      "[I 2024-12-23 14:26:55,970] Trial 64 pruned. \n"
     ]
    },
    {
     "name": "stdout",
     "output_type": "stream",
     "text": [
      "Trial 64 pruned. \n"
     ]
    },
    {
     "name": "stderr",
     "output_type": "stream",
     "text": [
      "[I 2024-12-23 14:26:55,991] Trial 65 pruned. \n"
     ]
    },
    {
     "name": "stdout",
     "output_type": "stream",
     "text": [
      "Trial 65 pruned. \n"
     ]
    },
    {
     "name": "stderr",
     "output_type": "stream",
     "text": [
      "[I 2024-12-23 14:26:56,014] Trial 66 pruned. \n"
     ]
    },
    {
     "name": "stdout",
     "output_type": "stream",
     "text": [
      "Trial 66 pruned. \n"
     ]
    },
    {
     "name": "stderr",
     "output_type": "stream",
     "text": [
      "[I 2024-12-23 14:26:56,040] Trial 67 pruned. \n"
     ]
    },
    {
     "name": "stdout",
     "output_type": "stream",
     "text": [
      "Trial 67 pruned. \n"
     ]
    },
    {
     "name": "stderr",
     "output_type": "stream",
     "text": [
      "[I 2024-12-23 14:26:56,061] Trial 68 pruned. \n"
     ]
    },
    {
     "name": "stdout",
     "output_type": "stream",
     "text": [
      "Trial 68 pruned. \n"
     ]
    },
    {
     "name": "stderr",
     "output_type": "stream",
     "text": [
      "[I 2024-12-23 14:26:56,084] Trial 69 pruned. \n"
     ]
    },
    {
     "name": "stdout",
     "output_type": "stream",
     "text": [
      "Trial 69 pruned. \n"
     ]
    },
    {
     "name": "stderr",
     "output_type": "stream",
     "text": [
      "[I 2024-12-23 14:26:56,121] Trial 70 pruned. \n"
     ]
    },
    {
     "name": "stdout",
     "output_type": "stream",
     "text": [
      "Trial 70 pruned. \n"
     ]
    },
    {
     "name": "stderr",
     "output_type": "stream",
     "text": [
      "[I 2024-12-23 14:26:56,147] Trial 71 pruned. \n"
     ]
    },
    {
     "name": "stdout",
     "output_type": "stream",
     "text": [
      "Trial 71 pruned. \n"
     ]
    },
    {
     "name": "stderr",
     "output_type": "stream",
     "text": [
      "[I 2024-12-23 14:26:56,171] Trial 72 pruned. \n"
     ]
    },
    {
     "name": "stdout",
     "output_type": "stream",
     "text": [
      "Trial 72 pruned. \n"
     ]
    },
    {
     "name": "stderr",
     "output_type": "stream",
     "text": [
      "[I 2024-12-23 14:26:56,193] Trial 73 pruned. \n"
     ]
    },
    {
     "name": "stdout",
     "output_type": "stream",
     "text": [
      "Trial 73 pruned. \n"
     ]
    },
    {
     "name": "stderr",
     "output_type": "stream",
     "text": [
      "[I 2024-12-23 14:26:56,220] Trial 74 pruned. \n"
     ]
    },
    {
     "name": "stdout",
     "output_type": "stream",
     "text": [
      "Trial 74 pruned. \n"
     ]
    },
    {
     "name": "stderr",
     "output_type": "stream",
     "text": [
      "[I 2024-12-23 14:26:56,241] Trial 75 pruned. \n"
     ]
    },
    {
     "name": "stdout",
     "output_type": "stream",
     "text": [
      "Trial 75 pruned. \n"
     ]
    },
    {
     "name": "stderr",
     "output_type": "stream",
     "text": [
      "[I 2024-12-23 14:26:56,264] Trial 76 pruned. \n"
     ]
    },
    {
     "name": "stdout",
     "output_type": "stream",
     "text": [
      "Trial 76 pruned. \n"
     ]
    },
    {
     "name": "stderr",
     "output_type": "stream",
     "text": [
      "[I 2024-12-23 14:26:56,290] Trial 77 pruned. \n"
     ]
    },
    {
     "name": "stdout",
     "output_type": "stream",
     "text": [
      "Trial 77 pruned. \n"
     ]
    },
    {
     "name": "stderr",
     "output_type": "stream",
     "text": [
      "[I 2024-12-23 14:26:56,346] Trial 78 pruned. \n"
     ]
    },
    {
     "name": "stdout",
     "output_type": "stream",
     "text": [
      "Trial 78 pruned. \n"
     ]
    },
    {
     "name": "stderr",
     "output_type": "stream",
     "text": [
      "[I 2024-12-23 14:26:56,372] Trial 79 pruned. \n"
     ]
    },
    {
     "name": "stdout",
     "output_type": "stream",
     "text": [
      "Trial 79 pruned. \n"
     ]
    },
    {
     "name": "stderr",
     "output_type": "stream",
     "text": [
      "[I 2024-12-23 14:26:56,396] Trial 80 pruned. \n"
     ]
    },
    {
     "name": "stdout",
     "output_type": "stream",
     "text": [
      "Trial 80 pruned. \n"
     ]
    },
    {
     "name": "stderr",
     "output_type": "stream",
     "text": [
      "[I 2024-12-23 14:26:56,420] Trial 81 pruned. \n"
     ]
    },
    {
     "name": "stdout",
     "output_type": "stream",
     "text": [
      "Trial 81 pruned. \n"
     ]
    },
    {
     "name": "stderr",
     "output_type": "stream",
     "text": [
      "[I 2024-12-23 14:26:56,444] Trial 82 pruned. \n"
     ]
    },
    {
     "name": "stdout",
     "output_type": "stream",
     "text": [
      "Trial 82 pruned. \n"
     ]
    },
    {
     "name": "stderr",
     "output_type": "stream",
     "text": [
      "[I 2024-12-23 14:26:56,484] Trial 83 pruned. \n"
     ]
    },
    {
     "name": "stdout",
     "output_type": "stream",
     "text": [
      "Trial 83 pruned. \n"
     ]
    },
    {
     "name": "stderr",
     "output_type": "stream",
     "text": [
      "[I 2024-12-23 14:26:56,523] Trial 84 pruned. \n"
     ]
    },
    {
     "name": "stdout",
     "output_type": "stream",
     "text": [
      "Trial 84 pruned. \n"
     ]
    },
    {
     "name": "stderr",
     "output_type": "stream",
     "text": [
      "[I 2024-12-23 14:26:56,561] Trial 85 pruned. \n"
     ]
    },
    {
     "name": "stdout",
     "output_type": "stream",
     "text": [
      "Trial 85 pruned. \n"
     ]
    },
    {
     "name": "stderr",
     "output_type": "stream",
     "text": [
      "[I 2024-12-23 14:26:56,592] Trial 86 pruned. \n"
     ]
    },
    {
     "name": "stdout",
     "output_type": "stream",
     "text": [
      "Trial 86 pruned. \n"
     ]
    },
    {
     "name": "stderr",
     "output_type": "stream",
     "text": [
      "[I 2024-12-23 14:26:56,615] Trial 87 pruned. \n"
     ]
    },
    {
     "name": "stdout",
     "output_type": "stream",
     "text": [
      "Trial 87 pruned. \n"
     ]
    },
    {
     "name": "stderr",
     "output_type": "stream",
     "text": [
      "[I 2024-12-23 14:26:56,650] Trial 88 pruned. \n"
     ]
    },
    {
     "name": "stdout",
     "output_type": "stream",
     "text": [
      "Trial 88 pruned. \n"
     ]
    },
    {
     "name": "stderr",
     "output_type": "stream",
     "text": [
      "[I 2024-12-23 14:26:56,675] Trial 89 pruned. \n"
     ]
    },
    {
     "name": "stdout",
     "output_type": "stream",
     "text": [
      "Trial 89 pruned. \n"
     ]
    },
    {
     "name": "stderr",
     "output_type": "stream",
     "text": [
      "[I 2024-12-23 14:26:56,702] Trial 90 pruned. \n"
     ]
    },
    {
     "name": "stdout",
     "output_type": "stream",
     "text": [
      "Trial 90 pruned. \n"
     ]
    },
    {
     "name": "stderr",
     "output_type": "stream",
     "text": [
      "[I 2024-12-23 14:26:56,728] Trial 91 pruned. \n"
     ]
    },
    {
     "name": "stdout",
     "output_type": "stream",
     "text": [
      "Trial 91 pruned. \n"
     ]
    },
    {
     "name": "stderr",
     "output_type": "stream",
     "text": [
      "[I 2024-12-23 14:26:56,757] Trial 92 pruned. \n"
     ]
    },
    {
     "name": "stdout",
     "output_type": "stream",
     "text": [
      "Trial 92 pruned. \n"
     ]
    },
    {
     "name": "stderr",
     "output_type": "stream",
     "text": [
      "[I 2024-12-23 14:26:56,784] Trial 93 pruned. \n"
     ]
    },
    {
     "name": "stdout",
     "output_type": "stream",
     "text": [
      "Trial 93 pruned. \n"
     ]
    },
    {
     "name": "stderr",
     "output_type": "stream",
     "text": [
      "[I 2024-12-23 14:26:56,828] Trial 94 pruned. \n"
     ]
    },
    {
     "name": "stdout",
     "output_type": "stream",
     "text": [
      "Trial 94 pruned. \n"
     ]
    },
    {
     "name": "stderr",
     "output_type": "stream",
     "text": [
      "[I 2024-12-23 14:26:56,903] Trial 95 pruned. \n"
     ]
    },
    {
     "name": "stdout",
     "output_type": "stream",
     "text": [
      "Trial 95 pruned. \n"
     ]
    },
    {
     "name": "stderr",
     "output_type": "stream",
     "text": [
      "[I 2024-12-23 14:26:56,930] Trial 96 pruned. \n"
     ]
    },
    {
     "name": "stdout",
     "output_type": "stream",
     "text": [
      "Trial 96 pruned. \n"
     ]
    },
    {
     "name": "stderr",
     "output_type": "stream",
     "text": [
      "[I 2024-12-23 14:26:56,956] Trial 97 pruned. \n"
     ]
    },
    {
     "name": "stdout",
     "output_type": "stream",
     "text": [
      "Trial 97 pruned. \n"
     ]
    },
    {
     "name": "stderr",
     "output_type": "stream",
     "text": [
      "[I 2024-12-23 14:26:56,984] Trial 98 pruned. \n"
     ]
    },
    {
     "name": "stdout",
     "output_type": "stream",
     "text": [
      "Trial 98 pruned. \n"
     ]
    },
    {
     "name": "stderr",
     "output_type": "stream",
     "text": [
      "[I 2024-12-23 14:26:57,011] Trial 99 pruned. \n"
     ]
    },
    {
     "name": "stdout",
     "output_type": "stream",
     "text": [
      "Trial 99 pruned. \n"
     ]
    }
   ],
   "source": [
    "# Add stream handler of stdout to show the messages\n",
    "optuna.logging.get_logger(\"optuna\").addHandler(logging.StreamHandler(sys.stdout))\n",
    "study_1 = optuna.create_study(sampler=optuna.samplers.TPESampler(), pruner=optuna.pruners.HyperbandPruner(), direction='maximize')\n",
    "\n",
    "study_2 = optuna.create_study(sampler=optuna.samplers.TPESampler(), pruner=optuna.pruners.WilcoxonPruner(), direction='maximize')\n",
    "\n",
    "study_1.optimize(objective, n_trials=100)"
   ]
  },
  {
   "cell_type": "code",
   "execution_count": 8,
   "metadata": {},
   "outputs": [
    {
     "name": "stderr",
     "output_type": "stream",
     "text": [
      "[I 2024-12-23 14:28:16,835] Trial 0 finished with value: 0.6389565224293663 and parameters: {'max_iter': 480, 'tol': 0.004583814399531198, 'warm_start': 'True', 'loss': 'epsilon_insensitive'}. Best is trial 0 with value: 0.6389565224293663.\n"
     ]
    },
    {
     "name": "stdout",
     "output_type": "stream",
     "text": [
      "Trial 0 finished with value: 0.6389565224293663 and parameters: {'max_iter': 480, 'tol': 0.004583814399531198, 'warm_start': 'True', 'loss': 'epsilon_insensitive'}. Best is trial 0 with value: 0.6389565224293663.\n"
     ]
    },
    {
     "name": "stderr",
     "output_type": "stream",
     "text": [
      "[I 2024-12-23 14:28:16,847] Trial 1 pruned. \n"
     ]
    },
    {
     "name": "stdout",
     "output_type": "stream",
     "text": [
      "Trial 1 pruned. \n"
     ]
    },
    {
     "name": "stderr",
     "output_type": "stream",
     "text": [
      "[I 2024-12-23 14:28:16,859] Trial 2 pruned. \n"
     ]
    },
    {
     "name": "stdout",
     "output_type": "stream",
     "text": [
      "Trial 2 pruned. \n"
     ]
    },
    {
     "name": "stderr",
     "output_type": "stream",
     "text": [
      "[I 2024-12-23 14:28:17,015] Trial 3 pruned. \n"
     ]
    },
    {
     "name": "stdout",
     "output_type": "stream",
     "text": [
      "Trial 3 pruned. \n"
     ]
    },
    {
     "name": "stderr",
     "output_type": "stream",
     "text": [
      "[I 2024-12-23 14:28:17,184] Trial 4 finished with value: 0.6602292697031584 and parameters: {'max_iter': 633, 'tol': 0.00914776336283539, 'warm_start': 'True', 'loss': 'squared_epsilon_insensitive'}. Best is trial 4 with value: 0.6602292697031584.\n"
     ]
    },
    {
     "name": "stdout",
     "output_type": "stream",
     "text": [
      "Trial 4 finished with value: 0.6602292697031584 and parameters: {'max_iter': 633, 'tol': 0.00914776336283539, 'warm_start': 'True', 'loss': 'squared_epsilon_insensitive'}. Best is trial 4 with value: 0.6602292697031584.\n"
     ]
    },
    {
     "name": "stderr",
     "output_type": "stream",
     "text": [
      "[I 2024-12-23 14:28:17,237] Trial 5 pruned. \n"
     ]
    },
    {
     "name": "stdout",
     "output_type": "stream",
     "text": [
      "Trial 5 pruned. \n"
     ]
    },
    {
     "name": "stderr",
     "output_type": "stream",
     "text": [
      "[I 2024-12-23 14:28:17,284] Trial 6 pruned. \n"
     ]
    },
    {
     "name": "stdout",
     "output_type": "stream",
     "text": [
      "Trial 6 pruned. \n"
     ]
    },
    {
     "name": "stderr",
     "output_type": "stream",
     "text": [
      "[I 2024-12-23 14:28:17,463] Trial 7 finished with value: 0.6271575437312882 and parameters: {'max_iter': 895, 'tol': 0.006449618779065304, 'warm_start': 'False', 'loss': 'epsilon_insensitive'}. Best is trial 4 with value: 0.6602292697031584.\n"
     ]
    },
    {
     "name": "stdout",
     "output_type": "stream",
     "text": [
      "Trial 7 finished with value: 0.6271575437312882 and parameters: {'max_iter': 895, 'tol': 0.006449618779065304, 'warm_start': 'False', 'loss': 'epsilon_insensitive'}. Best is trial 4 with value: 0.6602292697031584.\n"
     ]
    },
    {
     "name": "stderr",
     "output_type": "stream",
     "text": [
      "[I 2024-12-23 14:28:17,601] Trial 8 pruned. \n"
     ]
    },
    {
     "name": "stdout",
     "output_type": "stream",
     "text": [
      "Trial 8 pruned. \n"
     ]
    },
    {
     "name": "stderr",
     "output_type": "stream",
     "text": [
      "[I 2024-12-23 14:28:17,613] Trial 9 pruned. \n"
     ]
    },
    {
     "name": "stdout",
     "output_type": "stream",
     "text": [
      "Trial 9 pruned. \n"
     ]
    },
    {
     "name": "stderr",
     "output_type": "stream",
     "text": [
      "[I 2024-12-23 14:28:17,659] Trial 10 pruned. \n"
     ]
    },
    {
     "name": "stdout",
     "output_type": "stream",
     "text": [
      "Trial 10 pruned. \n"
     ]
    },
    {
     "name": "stderr",
     "output_type": "stream",
     "text": [
      "[I 2024-12-23 14:28:17,680] Trial 11 pruned. \n"
     ]
    },
    {
     "name": "stdout",
     "output_type": "stream",
     "text": [
      "Trial 11 pruned. \n"
     ]
    },
    {
     "name": "stderr",
     "output_type": "stream",
     "text": [
      "[I 2024-12-23 14:28:17,748] Trial 12 pruned. \n"
     ]
    },
    {
     "name": "stdout",
     "output_type": "stream",
     "text": [
      "Trial 12 pruned. \n"
     ]
    },
    {
     "name": "stderr",
     "output_type": "stream",
     "text": [
      "[I 2024-12-23 14:28:17,817] Trial 13 pruned. \n"
     ]
    },
    {
     "name": "stdout",
     "output_type": "stream",
     "text": [
      "Trial 13 pruned. \n"
     ]
    },
    {
     "name": "stderr",
     "output_type": "stream",
     "text": [
      "[I 2024-12-23 14:28:17,972] Trial 14 pruned. \n"
     ]
    },
    {
     "name": "stdout",
     "output_type": "stream",
     "text": [
      "Trial 14 pruned. \n"
     ]
    },
    {
     "name": "stderr",
     "output_type": "stream",
     "text": [
      "[I 2024-12-23 14:28:18,147] Trial 15 finished with value: 0.7096072313358983 and parameters: {'max_iter': 367, 'tol': 0.008131794772956278, 'warm_start': 'True', 'loss': 'epsilon_insensitive'}. Best is trial 15 with value: 0.7096072313358983.\n"
     ]
    },
    {
     "name": "stdout",
     "output_type": "stream",
     "text": [
      "Trial 15 finished with value: 0.7096072313358983 and parameters: {'max_iter': 367, 'tol': 0.008131794772956278, 'warm_start': 'True', 'loss': 'epsilon_insensitive'}. Best is trial 15 with value: 0.7096072313358983.\n"
     ]
    },
    {
     "name": "stderr",
     "output_type": "stream",
     "text": [
      "[I 2024-12-23 14:28:18,255] Trial 16 pruned. \n"
     ]
    },
    {
     "name": "stdout",
     "output_type": "stream",
     "text": [
      "Trial 16 pruned. \n"
     ]
    },
    {
     "name": "stderr",
     "output_type": "stream",
     "text": [
      "[I 2024-12-23 14:28:18,286] Trial 17 pruned. \n"
     ]
    },
    {
     "name": "stdout",
     "output_type": "stream",
     "text": [
      "Trial 17 pruned. \n"
     ]
    },
    {
     "name": "stderr",
     "output_type": "stream",
     "text": [
      "[I 2024-12-23 14:28:18,496] Trial 18 finished with value: 0.6287464516195275 and parameters: {'max_iter': 798, 'tol': 0.00991191966407167, 'warm_start': 'True', 'loss': 'epsilon_insensitive'}. Best is trial 15 with value: 0.7096072313358983.\n"
     ]
    },
    {
     "name": "stdout",
     "output_type": "stream",
     "text": [
      "Trial 18 finished with value: 0.6287464516195275 and parameters: {'max_iter': 798, 'tol': 0.00991191966407167, 'warm_start': 'True', 'loss': 'epsilon_insensitive'}. Best is trial 15 with value: 0.7096072313358983.\n"
     ]
    },
    {
     "name": "stderr",
     "output_type": "stream",
     "text": [
      "[I 2024-12-23 14:28:18,635] Trial 19 pruned. \n"
     ]
    },
    {
     "name": "stdout",
     "output_type": "stream",
     "text": [
      "Trial 19 pruned. \n"
     ]
    },
    {
     "name": "stderr",
     "output_type": "stream",
     "text": [
      "[I 2024-12-23 14:28:18,822] Trial 20 finished with value: 0.6168114498794788 and parameters: {'max_iter': 580, 'tol': 0.009134280139449155, 'warm_start': 'True', 'loss': 'squared_epsilon_insensitive'}. Best is trial 15 with value: 0.7096072313358983.\n"
     ]
    },
    {
     "name": "stdout",
     "output_type": "stream",
     "text": [
      "Trial 20 finished with value: 0.6168114498794788 and parameters: {'max_iter': 580, 'tol': 0.009134280139449155, 'warm_start': 'True', 'loss': 'squared_epsilon_insensitive'}. Best is trial 15 with value: 0.7096072313358983.\n"
     ]
    },
    {
     "name": "stderr",
     "output_type": "stream",
     "text": [
      "[I 2024-12-23 14:28:18,947] Trial 21 pruned. \n"
     ]
    },
    {
     "name": "stdout",
     "output_type": "stream",
     "text": [
      "Trial 21 pruned. \n"
     ]
    },
    {
     "name": "stderr",
     "output_type": "stream",
     "text": [
      "[I 2024-12-23 14:28:19,044] Trial 22 pruned. \n"
     ]
    },
    {
     "name": "stdout",
     "output_type": "stream",
     "text": [
      "Trial 22 pruned. \n"
     ]
    },
    {
     "name": "stderr",
     "output_type": "stream",
     "text": [
      "[I 2024-12-23 14:28:19,074] Trial 23 pruned. \n"
     ]
    },
    {
     "name": "stdout",
     "output_type": "stream",
     "text": [
      "Trial 23 pruned. \n"
     ]
    },
    {
     "name": "stderr",
     "output_type": "stream",
     "text": [
      "[I 2024-12-23 14:28:19,102] Trial 24 pruned. \n"
     ]
    },
    {
     "name": "stdout",
     "output_type": "stream",
     "text": [
      "Trial 24 pruned. \n"
     ]
    },
    {
     "name": "stderr",
     "output_type": "stream",
     "text": [
      "[I 2024-12-23 14:28:19,280] Trial 25 finished with value: 0.738328930827079 and parameters: {'max_iter': 462, 'tol': 0.0012819972422588423, 'warm_start': 'True', 'loss': 'epsilon_insensitive'}. Best is trial 25 with value: 0.738328930827079.\n"
     ]
    },
    {
     "name": "stdout",
     "output_type": "stream",
     "text": [
      "Trial 25 finished with value: 0.738328930827079 and parameters: {'max_iter': 462, 'tol': 0.0012819972422588423, 'warm_start': 'True', 'loss': 'epsilon_insensitive'}. Best is trial 25 with value: 0.738328930827079.\n"
     ]
    },
    {
     "name": "stderr",
     "output_type": "stream",
     "text": [
      "[I 2024-12-23 14:28:19,320] Trial 26 pruned. \n"
     ]
    },
    {
     "name": "stdout",
     "output_type": "stream",
     "text": [
      "Trial 26 pruned. \n"
     ]
    },
    {
     "name": "stderr",
     "output_type": "stream",
     "text": [
      "[I 2024-12-23 14:28:19,350] Trial 27 pruned. \n"
     ]
    },
    {
     "name": "stdout",
     "output_type": "stream",
     "text": [
      "Trial 27 pruned. \n"
     ]
    },
    {
     "name": "stderr",
     "output_type": "stream",
     "text": [
      "[I 2024-12-23 14:28:19,387] Trial 28 pruned. \n"
     ]
    },
    {
     "name": "stdout",
     "output_type": "stream",
     "text": [
      "Trial 28 pruned. \n"
     ]
    },
    {
     "name": "stderr",
     "output_type": "stream",
     "text": [
      "[I 2024-12-23 14:28:19,501] Trial 29 pruned. \n"
     ]
    },
    {
     "name": "stdout",
     "output_type": "stream",
     "text": [
      "Trial 29 pruned. \n"
     ]
    },
    {
     "name": "stderr",
     "output_type": "stream",
     "text": [
      "[I 2024-12-23 14:28:19,688] Trial 30 finished with value: 0.6749693659122246 and parameters: {'max_iter': 519, 'tol': 0.0036162120014637195, 'warm_start': 'True', 'loss': 'epsilon_insensitive'}. Best is trial 25 with value: 0.738328930827079.\n"
     ]
    },
    {
     "name": "stdout",
     "output_type": "stream",
     "text": [
      "Trial 30 finished with value: 0.6749693659122246 and parameters: {'max_iter': 519, 'tol': 0.0036162120014637195, 'warm_start': 'True', 'loss': 'epsilon_insensitive'}. Best is trial 25 with value: 0.738328930827079.\n"
     ]
    },
    {
     "name": "stderr",
     "output_type": "stream",
     "text": [
      "[I 2024-12-23 14:28:19,872] Trial 31 finished with value: 0.9314111103275584 and parameters: {'max_iter': 517, 'tol': 0.0019519596371961284, 'warm_start': 'True', 'loss': 'epsilon_insensitive'}. Best is trial 31 with value: 0.9314111103275584.\n"
     ]
    },
    {
     "name": "stdout",
     "output_type": "stream",
     "text": [
      "Trial 31 finished with value: 0.9314111103275584 and parameters: {'max_iter': 517, 'tol': 0.0019519596371961284, 'warm_start': 'True', 'loss': 'epsilon_insensitive'}. Best is trial 31 with value: 0.9314111103275584.\n"
     ]
    },
    {
     "name": "stderr",
     "output_type": "stream",
     "text": [
      "[I 2024-12-23 14:28:19,920] Trial 32 pruned. \n"
     ]
    },
    {
     "name": "stdout",
     "output_type": "stream",
     "text": [
      "Trial 32 pruned. \n"
     ]
    },
    {
     "name": "stderr",
     "output_type": "stream",
     "text": [
      "[I 2024-12-23 14:28:20,047] Trial 33 pruned. \n"
     ]
    },
    {
     "name": "stdout",
     "output_type": "stream",
     "text": [
      "Trial 33 pruned. \n"
     ]
    },
    {
     "name": "stderr",
     "output_type": "stream",
     "text": [
      "[I 2024-12-23 14:28:20,237] Trial 34 finished with value: 0.6401459341044038 and parameters: {'max_iter': 545, 'tol': 0.0033026161533443433, 'warm_start': 'False', 'loss': 'epsilon_insensitive'}. Best is trial 31 with value: 0.9314111103275584.\n"
     ]
    },
    {
     "name": "stdout",
     "output_type": "stream",
     "text": [
      "Trial 34 finished with value: 0.6401459341044038 and parameters: {'max_iter': 545, 'tol': 0.0033026161533443433, 'warm_start': 'False', 'loss': 'epsilon_insensitive'}. Best is trial 31 with value: 0.9314111103275584.\n"
     ]
    },
    {
     "name": "stderr",
     "output_type": "stream",
     "text": [
      "[I 2024-12-23 14:28:20,354] Trial 35 pruned. \n"
     ]
    },
    {
     "name": "stdout",
     "output_type": "stream",
     "text": [
      "Trial 35 pruned. \n"
     ]
    },
    {
     "name": "stderr",
     "output_type": "stream",
     "text": [
      "[I 2024-12-23 14:28:20,539] Trial 36 finished with value: 0.864393553402043 and parameters: {'max_iter': 461, 'tol': 0.002484648392733205, 'warm_start': 'True', 'loss': 'epsilon_insensitive'}. Best is trial 31 with value: 0.9314111103275584.\n"
     ]
    },
    {
     "name": "stdout",
     "output_type": "stream",
     "text": [
      "Trial 36 finished with value: 0.864393553402043 and parameters: {'max_iter': 461, 'tol': 0.002484648392733205, 'warm_start': 'True', 'loss': 'epsilon_insensitive'}. Best is trial 31 with value: 0.9314111103275584.\n"
     ]
    },
    {
     "name": "stderr",
     "output_type": "stream",
     "text": [
      "[I 2024-12-23 14:28:20,765] Trial 37 finished with value: 0.6058708362862203 and parameters: {'max_iter': 291, 'tol': 0.0024081673520078067, 'warm_start': 'False', 'loss': 'epsilon_insensitive'}. Best is trial 31 with value: 0.9314111103275584.\n"
     ]
    },
    {
     "name": "stdout",
     "output_type": "stream",
     "text": [
      "Trial 37 finished with value: 0.6058708362862203 and parameters: {'max_iter': 291, 'tol': 0.0024081673520078067, 'warm_start': 'False', 'loss': 'epsilon_insensitive'}. Best is trial 31 with value: 0.9314111103275584.\n"
     ]
    },
    {
     "name": "stderr",
     "output_type": "stream",
     "text": [
      "[I 2024-12-23 14:28:20,864] Trial 38 pruned. \n"
     ]
    },
    {
     "name": "stdout",
     "output_type": "stream",
     "text": [
      "Trial 38 pruned. \n"
     ]
    },
    {
     "name": "stderr",
     "output_type": "stream",
     "text": [
      "[I 2024-12-23 14:28:21,051] Trial 39 finished with value: 0.6232365921716533 and parameters: {'max_iter': 471, 'tol': 0.0014939061610044094, 'warm_start': 'False', 'loss': 'epsilon_insensitive'}. Best is trial 31 with value: 0.9314111103275584.\n"
     ]
    },
    {
     "name": "stdout",
     "output_type": "stream",
     "text": [
      "Trial 39 finished with value: 0.6232365921716533 and parameters: {'max_iter': 471, 'tol': 0.0014939061610044094, 'warm_start': 'False', 'loss': 'epsilon_insensitive'}. Best is trial 31 with value: 0.9314111103275584.\n"
     ]
    },
    {
     "name": "stderr",
     "output_type": "stream",
     "text": [
      "[I 2024-12-23 14:28:21,184] Trial 40 pruned. \n"
     ]
    },
    {
     "name": "stdout",
     "output_type": "stream",
     "text": [
      "Trial 40 pruned. \n"
     ]
    },
    {
     "name": "stderr",
     "output_type": "stream",
     "text": [
      "[I 2024-12-23 14:28:21,372] Trial 41 finished with value: 0.8342730036634781 and parameters: {'max_iter': 606, 'tol': 0.001381887413224766, 'warm_start': 'True', 'loss': 'epsilon_insensitive'}. Best is trial 31 with value: 0.9314111103275584.\n"
     ]
    },
    {
     "name": "stdout",
     "output_type": "stream",
     "text": [
      "Trial 41 finished with value: 0.8342730036634781 and parameters: {'max_iter': 606, 'tol': 0.001381887413224766, 'warm_start': 'True', 'loss': 'epsilon_insensitive'}. Best is trial 31 with value: 0.9314111103275584.\n"
     ]
    },
    {
     "name": "stderr",
     "output_type": "stream",
     "text": [
      "[I 2024-12-23 14:28:21,472] Trial 42 pruned. \n"
     ]
    },
    {
     "name": "stdout",
     "output_type": "stream",
     "text": [
      "Trial 42 pruned. \n"
     ]
    },
    {
     "name": "stderr",
     "output_type": "stream",
     "text": [
      "[I 2024-12-23 14:28:21,593] Trial 43 pruned. \n"
     ]
    },
    {
     "name": "stdout",
     "output_type": "stream",
     "text": [
      "Trial 43 pruned. \n"
     ]
    },
    {
     "name": "stderr",
     "output_type": "stream",
     "text": [
      "[I 2024-12-23 14:28:21,777] Trial 44 finished with value: 0.637726829558305 and parameters: {'max_iter': 466, 'tol': 0.0026308489281702406, 'warm_start': 'True', 'loss': 'epsilon_insensitive'}. Best is trial 31 with value: 0.9314111103275584.\n"
     ]
    },
    {
     "name": "stdout",
     "output_type": "stream",
     "text": [
      "Trial 44 finished with value: 0.637726829558305 and parameters: {'max_iter': 466, 'tol': 0.0026308489281702406, 'warm_start': 'True', 'loss': 'epsilon_insensitive'}. Best is trial 31 with value: 0.9314111103275584.\n"
     ]
    },
    {
     "name": "stderr",
     "output_type": "stream",
     "text": [
      "[I 2024-12-23 14:28:21,963] Trial 45 finished with value: 0.6899624232086614 and parameters: {'max_iter': 996, 'tol': 0.004845954265433864, 'warm_start': 'True', 'loss': 'epsilon_insensitive'}. Best is trial 31 with value: 0.9314111103275584.\n"
     ]
    },
    {
     "name": "stdout",
     "output_type": "stream",
     "text": [
      "Trial 45 finished with value: 0.6899624232086614 and parameters: {'max_iter': 996, 'tol': 0.004845954265433864, 'warm_start': 'True', 'loss': 'epsilon_insensitive'}. Best is trial 31 with value: 0.9314111103275584.\n"
     ]
    },
    {
     "name": "stderr",
     "output_type": "stream",
     "text": [
      "[I 2024-12-23 14:28:22,077] Trial 46 pruned. \n"
     ]
    },
    {
     "name": "stdout",
     "output_type": "stream",
     "text": [
      "Trial 46 pruned. \n"
     ]
    },
    {
     "name": "stderr",
     "output_type": "stream",
     "text": [
      "[I 2024-12-23 14:28:22,188] Trial 47 pruned. \n"
     ]
    },
    {
     "name": "stdout",
     "output_type": "stream",
     "text": [
      "Trial 47 pruned. \n"
     ]
    },
    {
     "name": "stderr",
     "output_type": "stream",
     "text": [
      "[I 2024-12-23 14:28:22,375] Trial 48 finished with value: 0.7148576317662291 and parameters: {'max_iter': 491, 'tol': 0.0028562670159480484, 'warm_start': 'True', 'loss': 'epsilon_insensitive'}. Best is trial 31 with value: 0.9314111103275584.\n"
     ]
    },
    {
     "name": "stdout",
     "output_type": "stream",
     "text": [
      "Trial 48 finished with value: 0.7148576317662291 and parameters: {'max_iter': 491, 'tol': 0.0028562670159480484, 'warm_start': 'True', 'loss': 'epsilon_insensitive'}. Best is trial 31 with value: 0.9314111103275584.\n"
     ]
    },
    {
     "name": "stderr",
     "output_type": "stream",
     "text": [
      "[I 2024-12-23 14:28:22,522] Trial 49 pruned. \n"
     ]
    },
    {
     "name": "stdout",
     "output_type": "stream",
     "text": [
      "Trial 49 pruned. \n"
     ]
    },
    {
     "name": "stderr",
     "output_type": "stream",
     "text": [
      "[I 2024-12-23 14:28:22,637] Trial 50 pruned. \n"
     ]
    },
    {
     "name": "stdout",
     "output_type": "stream",
     "text": [
      "Trial 50 pruned. \n"
     ]
    },
    {
     "name": "stderr",
     "output_type": "stream",
     "text": [
      "[I 2024-12-23 14:28:22,824] Trial 51 finished with value: 1.0349440811927504 and parameters: {'max_iter': 531, 'tol': 0.0023912998771680643, 'warm_start': 'True', 'loss': 'epsilon_insensitive'}. Best is trial 51 with value: 1.0349440811927504.\n"
     ]
    },
    {
     "name": "stdout",
     "output_type": "stream",
     "text": [
      "Trial 51 finished with value: 1.0349440811927504 and parameters: {'max_iter': 531, 'tol': 0.0023912998771680643, 'warm_start': 'True', 'loss': 'epsilon_insensitive'}. Best is trial 51 with value: 1.0349440811927504.\n"
     ]
    },
    {
     "name": "stderr",
     "output_type": "stream",
     "text": [
      "[I 2024-12-23 14:28:22,959] Trial 52 pruned. \n"
     ]
    },
    {
     "name": "stdout",
     "output_type": "stream",
     "text": [
      "Trial 52 pruned. \n"
     ]
    },
    {
     "name": "stderr",
     "output_type": "stream",
     "text": [
      "[I 2024-12-23 14:28:23,140] Trial 53 finished with value: 0.9132284116442332 and parameters: {'max_iter': 663, 'tol': 0.001721752289760944, 'warm_start': 'True', 'loss': 'epsilon_insensitive'}. Best is trial 51 with value: 1.0349440811927504.\n"
     ]
    },
    {
     "name": "stdout",
     "output_type": "stream",
     "text": [
      "Trial 53 finished with value: 0.9132284116442332 and parameters: {'max_iter': 663, 'tol': 0.001721752289760944, 'warm_start': 'True', 'loss': 'epsilon_insensitive'}. Best is trial 51 with value: 1.0349440811927504.\n"
     ]
    },
    {
     "name": "stderr",
     "output_type": "stream",
     "text": [
      "[I 2024-12-23 14:28:23,336] Trial 54 finished with value: 1.1079394417065516 and parameters: {'max_iter': 674, 'tol': 0.0015913610160806211, 'warm_start': 'True', 'loss': 'epsilon_insensitive'}. Best is trial 54 with value: 1.1079394417065516.\n"
     ]
    },
    {
     "name": "stdout",
     "output_type": "stream",
     "text": [
      "Trial 54 finished with value: 1.1079394417065516 and parameters: {'max_iter': 674, 'tol': 0.0015913610160806211, 'warm_start': 'True', 'loss': 'epsilon_insensitive'}. Best is trial 54 with value: 1.1079394417065516.\n"
     ]
    },
    {
     "name": "stderr",
     "output_type": "stream",
     "text": [
      "[I 2024-12-23 14:28:23,523] Trial 55 finished with value: 1.0392064082321542 and parameters: {'max_iter': 664, 'tol': 0.001722958251610303, 'warm_start': 'True', 'loss': 'epsilon_insensitive'}. Best is trial 54 with value: 1.1079394417065516.\n"
     ]
    },
    {
     "name": "stdout",
     "output_type": "stream",
     "text": [
      "Trial 55 finished with value: 1.0392064082321542 and parameters: {'max_iter': 664, 'tol': 0.001722958251610303, 'warm_start': 'True', 'loss': 'epsilon_insensitive'}. Best is trial 54 with value: 1.1079394417065516.\n"
     ]
    },
    {
     "name": "stderr",
     "output_type": "stream",
     "text": [
      "[I 2024-12-23 14:28:23,700] Trial 56 finished with value: 0.8253341778252333 and parameters: {'max_iter': 676, 'tol': 0.0016963676089991099, 'warm_start': 'True', 'loss': 'epsilon_insensitive'}. Best is trial 54 with value: 1.1079394417065516.\n"
     ]
    },
    {
     "name": "stdout",
     "output_type": "stream",
     "text": [
      "Trial 56 finished with value: 0.8253341778252333 and parameters: {'max_iter': 676, 'tol': 0.0016963676089991099, 'warm_start': 'True', 'loss': 'epsilon_insensitive'}. Best is trial 54 with value: 1.1079394417065516.\n"
     ]
    },
    {
     "name": "stderr",
     "output_type": "stream",
     "text": [
      "[I 2024-12-23 14:28:23,782] Trial 57 pruned. \n"
     ]
    },
    {
     "name": "stdout",
     "output_type": "stream",
     "text": [
      "Trial 57 pruned. \n"
     ]
    },
    {
     "name": "stderr",
     "output_type": "stream",
     "text": [
      "[I 2024-12-23 14:28:23,999] Trial 58 finished with value: 0.9283640532106842 and parameters: {'max_iter': 767, 'tol': 0.0026660212798219943, 'warm_start': 'True', 'loss': 'epsilon_insensitive'}. Best is trial 54 with value: 1.1079394417065516.\n"
     ]
    },
    {
     "name": "stdout",
     "output_type": "stream",
     "text": [
      "Trial 58 finished with value: 0.9283640532106842 and parameters: {'max_iter': 767, 'tol': 0.0026660212798219943, 'warm_start': 'True', 'loss': 'epsilon_insensitive'}. Best is trial 54 with value: 1.1079394417065516.\n"
     ]
    },
    {
     "name": "stderr",
     "output_type": "stream",
     "text": [
      "[I 2024-12-23 14:28:24,186] Trial 59 finished with value: 8.562758588684696 and parameters: {'max_iter': 780, 'tol': 0.003149182843646439, 'warm_start': 'True', 'loss': 'epsilon_insensitive'}. Best is trial 59 with value: 8.562758588684696.\n"
     ]
    },
    {
     "name": "stdout",
     "output_type": "stream",
     "text": [
      "Trial 59 finished with value: 8.562758588684696 and parameters: {'max_iter': 780, 'tol': 0.003149182843646439, 'warm_start': 'True', 'loss': 'epsilon_insensitive'}. Best is trial 59 with value: 8.562758588684696.\n"
     ]
    },
    {
     "name": "stderr",
     "output_type": "stream",
     "text": [
      "[I 2024-12-23 14:28:24,390] Trial 60 finished with value: 0.8842644460398225 and parameters: {'max_iter': 825, 'tol': 0.0036170114400809104, 'warm_start': 'True', 'loss': 'epsilon_insensitive'}. Best is trial 59 with value: 8.562758588684696.\n"
     ]
    },
    {
     "name": "stdout",
     "output_type": "stream",
     "text": [
      "Trial 60 finished with value: 0.8842644460398225 and parameters: {'max_iter': 825, 'tol': 0.0036170114400809104, 'warm_start': 'True', 'loss': 'epsilon_insensitive'}. Best is trial 59 with value: 8.562758588684696.\n"
     ]
    },
    {
     "name": "stderr",
     "output_type": "stream",
     "text": [
      "[I 2024-12-23 14:28:24,580] Trial 61 finished with value: 0.6886748665221994 and parameters: {'max_iter': 765, 'tol': 0.0032165526923983515, 'warm_start': 'True', 'loss': 'epsilon_insensitive'}. Best is trial 59 with value: 8.562758588684696.\n"
     ]
    },
    {
     "name": "stdout",
     "output_type": "stream",
     "text": [
      "Trial 61 finished with value: 0.6886748665221994 and parameters: {'max_iter': 765, 'tol': 0.0032165526923983515, 'warm_start': 'True', 'loss': 'epsilon_insensitive'}. Best is trial 59 with value: 8.562758588684696.\n"
     ]
    },
    {
     "name": "stderr",
     "output_type": "stream",
     "text": [
      "[I 2024-12-23 14:28:24,628] Trial 62 pruned. \n"
     ]
    },
    {
     "name": "stdout",
     "output_type": "stream",
     "text": [
      "Trial 62 pruned. \n"
     ]
    },
    {
     "name": "stderr",
     "output_type": "stream",
     "text": [
      "[I 2024-12-23 14:28:24,824] Trial 63 finished with value: 0.7916798647779757 and parameters: {'max_iter': 656, 'tol': 0.002725218479606922, 'warm_start': 'True', 'loss': 'epsilon_insensitive'}. Best is trial 59 with value: 8.562758588684696.\n"
     ]
    },
    {
     "name": "stdout",
     "output_type": "stream",
     "text": [
      "Trial 63 finished with value: 0.7916798647779757 and parameters: {'max_iter': 656, 'tol': 0.002725218479606922, 'warm_start': 'True', 'loss': 'epsilon_insensitive'}. Best is trial 59 with value: 8.562758588684696.\n"
     ]
    },
    {
     "name": "stderr",
     "output_type": "stream",
     "text": [
      "[I 2024-12-23 14:28:25,007] Trial 64 finished with value: 0.9442067357684246 and parameters: {'max_iter': 742, 'tol': 0.0022810464275521453, 'warm_start': 'True', 'loss': 'epsilon_insensitive'}. Best is trial 59 with value: 8.562758588684696.\n"
     ]
    },
    {
     "name": "stdout",
     "output_type": "stream",
     "text": [
      "Trial 64 finished with value: 0.9442067357684246 and parameters: {'max_iter': 742, 'tol': 0.0022810464275521453, 'warm_start': 'True', 'loss': 'epsilon_insensitive'}. Best is trial 59 with value: 8.562758588684696.\n"
     ]
    },
    {
     "name": "stderr",
     "output_type": "stream",
     "text": [
      "[I 2024-12-23 14:28:25,187] Trial 65 finished with value: 0.6590149507508314 and parameters: {'max_iter': 798, 'tol': 0.0022136506424175776, 'warm_start': 'True', 'loss': 'epsilon_insensitive'}. Best is trial 59 with value: 8.562758588684696.\n"
     ]
    },
    {
     "name": "stdout",
     "output_type": "stream",
     "text": [
      "Trial 65 finished with value: 0.6590149507508314 and parameters: {'max_iter': 798, 'tol': 0.0022136506424175776, 'warm_start': 'True', 'loss': 'epsilon_insensitive'}. Best is trial 59 with value: 8.562758588684696.\n"
     ]
    },
    {
     "name": "stderr",
     "output_type": "stream",
     "text": [
      "[I 2024-12-23 14:28:25,375] Trial 66 finished with value: 0.6926911936492308 and parameters: {'max_iter': 742, 'tol': 0.004169487470660288, 'warm_start': 'True', 'loss': 'squared_epsilon_insensitive'}. Best is trial 59 with value: 8.562758588684696.\n"
     ]
    },
    {
     "name": "stdout",
     "output_type": "stream",
     "text": [
      "Trial 66 finished with value: 0.6926911936492308 and parameters: {'max_iter': 742, 'tol': 0.004169487470660288, 'warm_start': 'True', 'loss': 'squared_epsilon_insensitive'}. Best is trial 59 with value: 8.562758588684696.\n"
     ]
    },
    {
     "name": "stderr",
     "output_type": "stream",
     "text": [
      "[I 2024-12-23 14:28:25,486] Trial 67 pruned. \n"
     ]
    },
    {
     "name": "stdout",
     "output_type": "stream",
     "text": [
      "Trial 67 pruned. \n"
     ]
    },
    {
     "name": "stderr",
     "output_type": "stream",
     "text": [
      "[I 2024-12-23 14:28:25,673] Trial 68 finished with value: 0.6599387294591406 and parameters: {'max_iter': 851, 'tol': 0.002673661629656746, 'warm_start': 'True', 'loss': 'epsilon_insensitive'}. Best is trial 59 with value: 8.562758588684696.\n"
     ]
    },
    {
     "name": "stdout",
     "output_type": "stream",
     "text": [
      "Trial 68 finished with value: 0.6599387294591406 and parameters: {'max_iter': 851, 'tol': 0.002673661629656746, 'warm_start': 'True', 'loss': 'epsilon_insensitive'}. Best is trial 59 with value: 8.562758588684696.\n"
     ]
    },
    {
     "name": "stderr",
     "output_type": "stream",
     "text": [
      "[I 2024-12-23 14:28:25,722] Trial 69 pruned. \n"
     ]
    },
    {
     "name": "stdout",
     "output_type": "stream",
     "text": [
      "Trial 69 pruned. \n"
     ]
    },
    {
     "name": "stderr",
     "output_type": "stream",
     "text": [
      "[I 2024-12-23 14:28:25,911] Trial 70 finished with value: 0.6416294408530481 and parameters: {'max_iter': 852, 'tol': 0.0020696860395739668, 'warm_start': 'True', 'loss': 'epsilon_insensitive'}. Best is trial 59 with value: 8.562758588684696.\n"
     ]
    },
    {
     "name": "stdout",
     "output_type": "stream",
     "text": [
      "Trial 70 finished with value: 0.6416294408530481 and parameters: {'max_iter': 852, 'tol': 0.0020696860395739668, 'warm_start': 'True', 'loss': 'epsilon_insensitive'}. Best is trial 59 with value: 8.562758588684696.\n"
     ]
    },
    {
     "name": "stderr",
     "output_type": "stream",
     "text": [
      "[I 2024-12-23 14:28:26,100] Trial 71 finished with value: 3.851244415621391 and parameters: {'max_iter': 659, 'tol': 0.002294213544630058, 'warm_start': 'True', 'loss': 'epsilon_insensitive'}. Best is trial 59 with value: 8.562758588684696.\n"
     ]
    },
    {
     "name": "stdout",
     "output_type": "stream",
     "text": [
      "Trial 71 finished with value: 3.851244415621391 and parameters: {'max_iter': 659, 'tol': 0.002294213544630058, 'warm_start': 'True', 'loss': 'epsilon_insensitive'}. Best is trial 59 with value: 8.562758588684696.\n"
     ]
    },
    {
     "name": "stderr",
     "output_type": "stream",
     "text": [
      "[I 2024-12-23 14:28:26,136] Trial 72 pruned. \n"
     ]
    },
    {
     "name": "stdout",
     "output_type": "stream",
     "text": [
      "Trial 72 pruned. \n"
     ]
    },
    {
     "name": "stderr",
     "output_type": "stream",
     "text": [
      "[I 2024-12-23 14:28:26,161] Trial 73 pruned. \n"
     ]
    },
    {
     "name": "stdout",
     "output_type": "stream",
     "text": [
      "Trial 73 pruned. \n"
     ]
    },
    {
     "name": "stderr",
     "output_type": "stream",
     "text": [
      "[I 2024-12-23 14:28:26,199] Trial 74 pruned. \n"
     ]
    },
    {
     "name": "stdout",
     "output_type": "stream",
     "text": [
      "Trial 74 pruned. \n"
     ]
    },
    {
     "name": "stderr",
     "output_type": "stream",
     "text": [
      "[I 2024-12-23 14:28:26,392] Trial 75 finished with value: 0.6746471273895827 and parameters: {'max_iter': 729, 'tol': 0.002359026359672967, 'warm_start': 'True', 'loss': 'epsilon_insensitive'}. Best is trial 59 with value: 8.562758588684696.\n"
     ]
    },
    {
     "name": "stdout",
     "output_type": "stream",
     "text": [
      "Trial 75 finished with value: 0.6746471273895827 and parameters: {'max_iter': 729, 'tol': 0.002359026359672967, 'warm_start': 'True', 'loss': 'epsilon_insensitive'}. Best is trial 59 with value: 8.562758588684696.\n"
     ]
    },
    {
     "name": "stderr",
     "output_type": "stream",
     "text": [
      "[I 2024-12-23 14:28:26,572] Trial 76 finished with value: 0.6338138096723653 and parameters: {'max_iter': 707, 'tol': 0.0011431324874732847, 'warm_start': 'False', 'loss': 'squared_epsilon_insensitive'}. Best is trial 59 with value: 8.562758588684696.\n"
     ]
    },
    {
     "name": "stdout",
     "output_type": "stream",
     "text": [
      "Trial 76 finished with value: 0.6338138096723653 and parameters: {'max_iter': 707, 'tol': 0.0011431324874732847, 'warm_start': 'False', 'loss': 'squared_epsilon_insensitive'}. Best is trial 59 with value: 8.562758588684696.\n"
     ]
    },
    {
     "name": "stderr",
     "output_type": "stream",
     "text": [
      "[I 2024-12-23 14:28:26,598] Trial 77 pruned. \n"
     ]
    },
    {
     "name": "stdout",
     "output_type": "stream",
     "text": [
      "Trial 77 pruned. \n"
     ]
    },
    {
     "name": "stderr",
     "output_type": "stream",
     "text": [
      "[I 2024-12-23 14:28:26,623] Trial 78 pruned. \n"
     ]
    },
    {
     "name": "stdout",
     "output_type": "stream",
     "text": [
      "Trial 78 pruned. \n"
     ]
    },
    {
     "name": "stderr",
     "output_type": "stream",
     "text": [
      "[I 2024-12-23 14:28:26,797] Trial 79 pruned. \n"
     ]
    },
    {
     "name": "stdout",
     "output_type": "stream",
     "text": [
      "Trial 79 pruned. \n"
     ]
    },
    {
     "name": "stderr",
     "output_type": "stream",
     "text": [
      "[I 2024-12-23 14:28:26,825] Trial 80 pruned. \n"
     ]
    },
    {
     "name": "stdout",
     "output_type": "stream",
     "text": [
      "Trial 80 pruned. \n"
     ]
    },
    {
     "name": "stderr",
     "output_type": "stream",
     "text": [
      "[I 2024-12-23 14:28:26,861] Trial 81 pruned. \n"
     ]
    },
    {
     "name": "stdout",
     "output_type": "stream",
     "text": [
      "Trial 81 pruned. \n"
     ]
    },
    {
     "name": "stderr",
     "output_type": "stream",
     "text": [
      "[I 2024-12-23 14:28:27,019] Trial 82 finished with value: 3.8783213460638737 and parameters: {'max_iter': 675, 'tol': 0.0021157155666882703, 'warm_start': 'True', 'loss': 'epsilon_insensitive'}. Best is trial 59 with value: 8.562758588684696.\n"
     ]
    },
    {
     "name": "stdout",
     "output_type": "stream",
     "text": [
      "Trial 82 finished with value: 3.8783213460638737 and parameters: {'max_iter': 675, 'tol': 0.0021157155666882703, 'warm_start': 'True', 'loss': 'epsilon_insensitive'}. Best is trial 59 with value: 8.562758588684696.\n"
     ]
    },
    {
     "name": "stderr",
     "output_type": "stream",
     "text": [
      "[I 2024-12-23 14:28:27,054] Trial 83 pruned. \n"
     ]
    },
    {
     "name": "stdout",
     "output_type": "stream",
     "text": [
      "Trial 83 pruned. \n"
     ]
    },
    {
     "name": "stderr",
     "output_type": "stream",
     "text": [
      "[I 2024-12-23 14:28:27,083] Trial 84 pruned. \n"
     ]
    },
    {
     "name": "stdout",
     "output_type": "stream",
     "text": [
      "Trial 84 pruned. \n"
     ]
    },
    {
     "name": "stderr",
     "output_type": "stream",
     "text": [
      "[I 2024-12-23 14:28:27,236] Trial 85 finished with value: 0.6338162565117622 and parameters: {'max_iter': 618, 'tol': 0.005258949853268539, 'warm_start': 'True', 'loss': 'epsilon_insensitive'}. Best is trial 59 with value: 8.562758588684696.\n"
     ]
    },
    {
     "name": "stdout",
     "output_type": "stream",
     "text": [
      "Trial 85 finished with value: 0.6338162565117622 and parameters: {'max_iter': 618, 'tol': 0.005258949853268539, 'warm_start': 'True', 'loss': 'epsilon_insensitive'}. Best is trial 59 with value: 8.562758588684696.\n"
     ]
    },
    {
     "name": "stderr",
     "output_type": "stream",
     "text": [
      "[I 2024-12-23 14:28:27,260] Trial 86 pruned. \n"
     ]
    },
    {
     "name": "stdout",
     "output_type": "stream",
     "text": [
      "Trial 86 pruned. \n"
     ]
    },
    {
     "name": "stderr",
     "output_type": "stream",
     "text": [
      "[I 2024-12-23 14:28:27,288] Trial 87 pruned. \n"
     ]
    },
    {
     "name": "stdout",
     "output_type": "stream",
     "text": [
      "Trial 87 pruned. \n"
     ]
    },
    {
     "name": "stderr",
     "output_type": "stream",
     "text": [
      "[I 2024-12-23 14:28:27,439] Trial 88 finished with value: 0.6002373239665372 and parameters: {'max_iter': 504, 'tol': 0.0010108788139884068, 'warm_start': 'True', 'loss': 'epsilon_insensitive'}. Best is trial 59 with value: 8.562758588684696.\n"
     ]
    },
    {
     "name": "stdout",
     "output_type": "stream",
     "text": [
      "Trial 88 finished with value: 0.6002373239665372 and parameters: {'max_iter': 504, 'tol': 0.0010108788139884068, 'warm_start': 'True', 'loss': 'epsilon_insensitive'}. Best is trial 59 with value: 8.562758588684696.\n"
     ]
    },
    {
     "name": "stderr",
     "output_type": "stream",
     "text": [
      "[I 2024-12-23 14:28:27,584] Trial 89 finished with value: 3.250609726429999 and parameters: {'max_iter': 756, 'tol': 0.0024025810254598027, 'warm_start': 'True', 'loss': 'squared_epsilon_insensitive'}. Best is trial 59 with value: 8.562758588684696.\n"
     ]
    },
    {
     "name": "stdout",
     "output_type": "stream",
     "text": [
      "Trial 89 finished with value: 3.250609726429999 and parameters: {'max_iter': 756, 'tol': 0.0024025810254598027, 'warm_start': 'True', 'loss': 'squared_epsilon_insensitive'}. Best is trial 59 with value: 8.562758588684696.\n"
     ]
    },
    {
     "name": "stderr",
     "output_type": "stream",
     "text": [
      "[I 2024-12-23 14:28:27,731] Trial 90 finished with value: 0.8133570570058459 and parameters: {'max_iter': 725, 'tol': 0.0030780900775299585, 'warm_start': 'True', 'loss': 'squared_epsilon_insensitive'}. Best is trial 59 with value: 8.562758588684696.\n"
     ]
    },
    {
     "name": "stdout",
     "output_type": "stream",
     "text": [
      "Trial 90 finished with value: 0.8133570570058459 and parameters: {'max_iter': 725, 'tol': 0.0030780900775299585, 'warm_start': 'True', 'loss': 'squared_epsilon_insensitive'}. Best is trial 59 with value: 8.562758588684696.\n"
     ]
    },
    {
     "name": "stderr",
     "output_type": "stream",
     "text": [
      "[I 2024-12-23 14:28:27,768] Trial 91 pruned. \n"
     ]
    },
    {
     "name": "stdout",
     "output_type": "stream",
     "text": [
      "Trial 91 pruned. \n"
     ]
    },
    {
     "name": "stderr",
     "output_type": "stream",
     "text": [
      "[I 2024-12-23 14:28:27,796] Trial 92 pruned. \n"
     ]
    },
    {
     "name": "stdout",
     "output_type": "stream",
     "text": [
      "Trial 92 pruned. \n"
     ]
    },
    {
     "name": "stderr",
     "output_type": "stream",
     "text": [
      "[I 2024-12-23 14:28:27,951] Trial 93 finished with value: 0.6466676781790568 and parameters: {'max_iter': 784, 'tol': 0.0021531674672510877, 'warm_start': 'True', 'loss': 'squared_epsilon_insensitive'}. Best is trial 59 with value: 8.562758588684696.\n"
     ]
    },
    {
     "name": "stdout",
     "output_type": "stream",
     "text": [
      "Trial 93 finished with value: 0.6466676781790568 and parameters: {'max_iter': 784, 'tol': 0.0021531674672510877, 'warm_start': 'True', 'loss': 'squared_epsilon_insensitive'}. Best is trial 59 with value: 8.562758588684696.\n"
     ]
    },
    {
     "name": "stderr",
     "output_type": "stream",
     "text": [
      "[I 2024-12-23 14:28:27,982] Trial 94 pruned. \n"
     ]
    },
    {
     "name": "stdout",
     "output_type": "stream",
     "text": [
      "Trial 94 pruned. \n"
     ]
    },
    {
     "name": "stderr",
     "output_type": "stream",
     "text": [
      "[I 2024-12-23 14:28:28,129] Trial 95 finished with value: 0.73811033030573 and parameters: {'max_iter': 751, 'tol': 0.002512763539511771, 'warm_start': 'True', 'loss': 'epsilon_insensitive'}. Best is trial 59 with value: 8.562758588684696.\n"
     ]
    },
    {
     "name": "stdout",
     "output_type": "stream",
     "text": [
      "Trial 95 finished with value: 0.73811033030573 and parameters: {'max_iter': 751, 'tol': 0.002512763539511771, 'warm_start': 'True', 'loss': 'epsilon_insensitive'}. Best is trial 59 with value: 8.562758588684696.\n"
     ]
    },
    {
     "name": "stderr",
     "output_type": "stream",
     "text": [
      "[I 2024-12-23 14:28:28,282] Trial 96 finished with value: 0.656151007023051 and parameters: {'max_iter': 644, 'tol': 0.0012442897453830615, 'warm_start': 'True', 'loss': 'epsilon_insensitive'}. Best is trial 59 with value: 8.562758588684696.\n"
     ]
    },
    {
     "name": "stdout",
     "output_type": "stream",
     "text": [
      "Trial 96 finished with value: 0.656151007023051 and parameters: {'max_iter': 644, 'tol': 0.0012442897453830615, 'warm_start': 'True', 'loss': 'epsilon_insensitive'}. Best is trial 59 with value: 8.562758588684696.\n"
     ]
    },
    {
     "name": "stderr",
     "output_type": "stream",
     "text": [
      "[I 2024-12-23 14:28:28,334] Trial 97 pruned. \n"
     ]
    },
    {
     "name": "stdout",
     "output_type": "stream",
     "text": [
      "Trial 97 pruned. \n"
     ]
    },
    {
     "name": "stderr",
     "output_type": "stream",
     "text": [
      "[I 2024-12-23 14:28:28,382] Trial 98 pruned. \n"
     ]
    },
    {
     "name": "stdout",
     "output_type": "stream",
     "text": [
      "Trial 98 pruned. \n"
     ]
    },
    {
     "name": "stderr",
     "output_type": "stream",
     "text": [
      "[I 2024-12-23 14:28:28,568] Trial 99 finished with value: 0.6648387501176528 and parameters: {'max_iter': 567, 'tol': 0.0030145177904395484, 'warm_start': 'True', 'loss': 'epsilon_insensitive'}. Best is trial 59 with value: 8.562758588684696.\n"
     ]
    },
    {
     "name": "stdout",
     "output_type": "stream",
     "text": [
      "Trial 99 finished with value: 0.6648387501176528 and parameters: {'max_iter': 567, 'tol': 0.0030145177904395484, 'warm_start': 'True', 'loss': 'epsilon_insensitive'}. Best is trial 59 with value: 8.562758588684696.\n"
     ]
    }
   ],
   "source": [
    "study_2.optimize(objective, n_trials=100)"
   ]
  },
  {
   "cell_type": "code",
   "execution_count": 5,
   "metadata": {},
   "outputs": [
    {
     "data": {
      "text/plain": [
       "FrozenTrial(number=54, state=TrialState.COMPLETE, values=[3.151070183893854], datetime_start=datetime.datetime(2024, 12, 23, 14, 26, 55, 601702), datetime_complete=datetime.datetime(2024, 12, 23, 14, 26, 55, 676702), params={'max_iter': 396, 'tol': 0.0025675470493296687, 'warm_start': 'False', 'loss': 'squared_epsilon_insensitive'}, user_attrs={}, system_attrs={'completed_rung_0': 1.016890472501539}, intermediate_values={0: 2.675010019783075, 1: 2.4504657805555654, 2: 0.9078359493477014, 3: 0.990403510861075, 4: 0.9183479516704453, 5: 0.8413874312087586, 6: 0.8424382749096878, 7: 1.1391115887140133, 8: 2.841712515060827, 9: 0.7434769528633206, 10: 0.7184666890783787, 11: 1.1026071647676383, 12: 0.8027946362980298, 13: 3.09015796403922, 14: 0.7529966733083874, 15: 0.7603811741906361, 16: 1.4069482461030955, 17: 1.1325025243482754, 18: 2.4995188919352693, 19: 0.7438003791404088, 20: 0.7288626965797761, 21: 0.7408894596774038, 22: 0.6800414727473544, 23: 1.8706402653474272, 24: 0.8034797686439934, 25: 1.250430490206804, 26: 1.1587721620246363, 27: 0.714360934954374, 28: 0.7604893049514726, 29: 0.6767675550004991, 30: 1.4691819974818026, 31: 1.0120176043384423, 32: 1.0315066290902064, 33: 0.7963084926290215, 34: 0.6880732886414749, 35: 1.0689447436591952, 36: 0.9132979750814195, 37: 1.048569351178609, 38: 0.7025034194137508, 39: 0.6642481474458296, 40: 0.7610658392202283, 41: 0.8531045882095789, 42: 0.7423943544283533, 43: 2.3210975805936314, 44: 0.7446822414028006, 45: 0.6548393755346316, 46: 0.6425284539863723, 47: 0.7398121142415397, 48: 0.7357795455276785, 49: 0.6723052349275095, 50: 0.727646063100489, 51: 0.701202476952624, 52: 0.6617288535318078, 53: 0.8033264420071922, 54: 0.683845834276512, 55: 3.201105487483057, 56: 0.9149271503952637, 57: 1.985840244852107, 58: 0.9041503295937013, 59: 0.6589658140125819, 60: 0.6575649451756961, 61: 0.6735459531698668, 62: 0.6712138027469369, 63: 1.183538211046738, 64: 1.1808056788932597, 65: 0.7353999938668428, 66: 0.7948919632219692, 67: 0.9315624713882749, 68: 0.6569217106798478, 69: 1.2370134226194243, 70: 0.6410963987309396, 71: 0.6256578338893397, 72: 4.67929703995716, 73: 0.6634102731829687, 74: 1.3716303424723846, 75: 0.6413771620475203, 76: 0.7252617636494608, 77: 0.7244435341269894, 78: 0.7216823125885026, 79: 0.699494561432235, 80: 0.6570814931152132, 81: 1.016890472501539, 82: 0.7397735130399814, 83: 0.9550616820219106, 84: 3.221990129389805, 85: 0.7808826292679026, 86: 0.6634773534541104, 87: 0.6268455419726415, 88: 0.8059192633092204, 89: 0.6453595577466449, 90: 0.65408271082236, 91: 0.6354876630576921, 92: 0.7675314714667807, 93: 1.0357686867255795, 94: 0.650110792844383, 95: 0.622070440745358, 96: 0.8613884518075025, 97: 1.672355178371643, 98: 4.833566284447153, 99: 3.151070183893854}, distributions={'max_iter': IntDistribution(high=1000, log=False, low=100, step=1), 'tol': FloatDistribution(high=0.01, log=False, low=0.001, step=None), 'warm_start': CategoricalDistribution(choices=('True', 'False')), 'loss': CategoricalDistribution(choices=('squared_epsilon_insensitive', 'epsilon_insensitive'))}, trial_id=54, value=None)"
      ]
     },
     "execution_count": 5,
     "metadata": {},
     "output_type": "execute_result"
    }
   ],
   "source": [
    "study_1.best_trial"
   ]
  },
  {
   "cell_type": "code",
   "execution_count": 6,
   "metadata": {},
   "outputs": [
    {
     "data": {
      "application/vnd.plotly.v1+json": {
       "config": {
        "plotlyServerURL": "https://plot.ly"
       },
       "data": [
        {
         "mode": "markers",
         "name": "Objective Value",
         "type": "scatter",
         "x": [
          0,
          1,
          2,
          3,
          8,
          10,
          30,
          54
         ],
         "y": [
          0.7944759449947338,
          0.590674025684299,
          0.6980699118259237,
          0.6857677645682233,
          3.001315709125658,
          0.6193527475147631,
          0.5968568886322827,
          3.151070183893854
         ]
        },
        {
         "mode": "lines",
         "name": "Best Value",
         "type": "scatter",
         "x": [
          0,
          1,
          2,
          3,
          4,
          5,
          6,
          7,
          8,
          9,
          10,
          11,
          12,
          13,
          14,
          15,
          16,
          17,
          18,
          19,
          20,
          21,
          22,
          23,
          24,
          25,
          26,
          27,
          28,
          29,
          30,
          31,
          32,
          33,
          34,
          35,
          36,
          37,
          38,
          39,
          40,
          41,
          42,
          43,
          44,
          45,
          46,
          47,
          48,
          49,
          50,
          51,
          52,
          53,
          54,
          55,
          56,
          57,
          58,
          59,
          60,
          61,
          62,
          63,
          64,
          65,
          66,
          67,
          68,
          69,
          70,
          71,
          72,
          73,
          74,
          75,
          76,
          77,
          78,
          79,
          80,
          81,
          82,
          83,
          84,
          85,
          86,
          87,
          88,
          89,
          90,
          91,
          92,
          93,
          94,
          95,
          96,
          97,
          98,
          99
         ],
         "y": [
          0.7944759449947338,
          0.7944759449947338,
          0.7944759449947338,
          0.7944759449947338,
          0.7944759449947338,
          0.7944759449947338,
          0.7944759449947338,
          0.7944759449947338,
          3.001315709125658,
          3.001315709125658,
          3.001315709125658,
          3.001315709125658,
          3.001315709125658,
          3.001315709125658,
          3.001315709125658,
          3.001315709125658,
          3.001315709125658,
          3.001315709125658,
          3.001315709125658,
          3.001315709125658,
          3.001315709125658,
          3.001315709125658,
          3.001315709125658,
          3.001315709125658,
          3.001315709125658,
          3.001315709125658,
          3.001315709125658,
          3.001315709125658,
          3.001315709125658,
          3.001315709125658,
          3.001315709125658,
          3.001315709125658,
          3.001315709125658,
          3.001315709125658,
          3.001315709125658,
          3.001315709125658,
          3.001315709125658,
          3.001315709125658,
          3.001315709125658,
          3.001315709125658,
          3.001315709125658,
          3.001315709125658,
          3.001315709125658,
          3.001315709125658,
          3.001315709125658,
          3.001315709125658,
          3.001315709125658,
          3.001315709125658,
          3.001315709125658,
          3.001315709125658,
          3.001315709125658,
          3.001315709125658,
          3.001315709125658,
          3.001315709125658,
          3.151070183893854,
          3.151070183893854,
          3.151070183893854,
          3.151070183893854,
          3.151070183893854,
          3.151070183893854,
          3.151070183893854,
          3.151070183893854,
          3.151070183893854,
          3.151070183893854,
          3.151070183893854,
          3.151070183893854,
          3.151070183893854,
          3.151070183893854,
          3.151070183893854,
          3.151070183893854,
          3.151070183893854,
          3.151070183893854,
          3.151070183893854,
          3.151070183893854,
          3.151070183893854,
          3.151070183893854,
          3.151070183893854,
          3.151070183893854,
          3.151070183893854,
          3.151070183893854,
          3.151070183893854,
          3.151070183893854,
          3.151070183893854,
          3.151070183893854,
          3.151070183893854,
          3.151070183893854,
          3.151070183893854,
          3.151070183893854,
          3.151070183893854,
          3.151070183893854,
          3.151070183893854,
          3.151070183893854,
          3.151070183893854,
          3.151070183893854,
          3.151070183893854,
          3.151070183893854,
          3.151070183893854,
          3.151070183893854,
          3.151070183893854,
          3.151070183893854
         ]
        },
        {
         "marker": {
          "color": "#cccccc"
         },
         "mode": "markers",
         "name": "Infeasible Trial",
         "showlegend": false,
         "type": "scatter",
         "x": [],
         "y": []
        }
       ],
       "layout": {
        "template": {
         "data": {
          "bar": [
           {
            "error_x": {
             "color": "#2a3f5f"
            },
            "error_y": {
             "color": "#2a3f5f"
            },
            "marker": {
             "line": {
              "color": "#E5ECF6",
              "width": 0.5
             },
             "pattern": {
              "fillmode": "overlay",
              "size": 10,
              "solidity": 0.2
             }
            },
            "type": "bar"
           }
          ],
          "barpolar": [
           {
            "marker": {
             "line": {
              "color": "#E5ECF6",
              "width": 0.5
             },
             "pattern": {
              "fillmode": "overlay",
              "size": 10,
              "solidity": 0.2
             }
            },
            "type": "barpolar"
           }
          ],
          "carpet": [
           {
            "aaxis": {
             "endlinecolor": "#2a3f5f",
             "gridcolor": "white",
             "linecolor": "white",
             "minorgridcolor": "white",
             "startlinecolor": "#2a3f5f"
            },
            "baxis": {
             "endlinecolor": "#2a3f5f",
             "gridcolor": "white",
             "linecolor": "white",
             "minorgridcolor": "white",
             "startlinecolor": "#2a3f5f"
            },
            "type": "carpet"
           }
          ],
          "choropleth": [
           {
            "colorbar": {
             "outlinewidth": 0,
             "ticks": ""
            },
            "type": "choropleth"
           }
          ],
          "contour": [
           {
            "colorbar": {
             "outlinewidth": 0,
             "ticks": ""
            },
            "colorscale": [
             [
              0,
              "#0d0887"
             ],
             [
              0.1111111111111111,
              "#46039f"
             ],
             [
              0.2222222222222222,
              "#7201a8"
             ],
             [
              0.3333333333333333,
              "#9c179e"
             ],
             [
              0.4444444444444444,
              "#bd3786"
             ],
             [
              0.5555555555555556,
              "#d8576b"
             ],
             [
              0.6666666666666666,
              "#ed7953"
             ],
             [
              0.7777777777777778,
              "#fb9f3a"
             ],
             [
              0.8888888888888888,
              "#fdca26"
             ],
             [
              1,
              "#f0f921"
             ]
            ],
            "type": "contour"
           }
          ],
          "contourcarpet": [
           {
            "colorbar": {
             "outlinewidth": 0,
             "ticks": ""
            },
            "type": "contourcarpet"
           }
          ],
          "heatmap": [
           {
            "colorbar": {
             "outlinewidth": 0,
             "ticks": ""
            },
            "colorscale": [
             [
              0,
              "#0d0887"
             ],
             [
              0.1111111111111111,
              "#46039f"
             ],
             [
              0.2222222222222222,
              "#7201a8"
             ],
             [
              0.3333333333333333,
              "#9c179e"
             ],
             [
              0.4444444444444444,
              "#bd3786"
             ],
             [
              0.5555555555555556,
              "#d8576b"
             ],
             [
              0.6666666666666666,
              "#ed7953"
             ],
             [
              0.7777777777777778,
              "#fb9f3a"
             ],
             [
              0.8888888888888888,
              "#fdca26"
             ],
             [
              1,
              "#f0f921"
             ]
            ],
            "type": "heatmap"
           }
          ],
          "heatmapgl": [
           {
            "colorbar": {
             "outlinewidth": 0,
             "ticks": ""
            },
            "colorscale": [
             [
              0,
              "#0d0887"
             ],
             [
              0.1111111111111111,
              "#46039f"
             ],
             [
              0.2222222222222222,
              "#7201a8"
             ],
             [
              0.3333333333333333,
              "#9c179e"
             ],
             [
              0.4444444444444444,
              "#bd3786"
             ],
             [
              0.5555555555555556,
              "#d8576b"
             ],
             [
              0.6666666666666666,
              "#ed7953"
             ],
             [
              0.7777777777777778,
              "#fb9f3a"
             ],
             [
              0.8888888888888888,
              "#fdca26"
             ],
             [
              1,
              "#f0f921"
             ]
            ],
            "type": "heatmapgl"
           }
          ],
          "histogram": [
           {
            "marker": {
             "pattern": {
              "fillmode": "overlay",
              "size": 10,
              "solidity": 0.2
             }
            },
            "type": "histogram"
           }
          ],
          "histogram2d": [
           {
            "colorbar": {
             "outlinewidth": 0,
             "ticks": ""
            },
            "colorscale": [
             [
              0,
              "#0d0887"
             ],
             [
              0.1111111111111111,
              "#46039f"
             ],
             [
              0.2222222222222222,
              "#7201a8"
             ],
             [
              0.3333333333333333,
              "#9c179e"
             ],
             [
              0.4444444444444444,
              "#bd3786"
             ],
             [
              0.5555555555555556,
              "#d8576b"
             ],
             [
              0.6666666666666666,
              "#ed7953"
             ],
             [
              0.7777777777777778,
              "#fb9f3a"
             ],
             [
              0.8888888888888888,
              "#fdca26"
             ],
             [
              1,
              "#f0f921"
             ]
            ],
            "type": "histogram2d"
           }
          ],
          "histogram2dcontour": [
           {
            "colorbar": {
             "outlinewidth": 0,
             "ticks": ""
            },
            "colorscale": [
             [
              0,
              "#0d0887"
             ],
             [
              0.1111111111111111,
              "#46039f"
             ],
             [
              0.2222222222222222,
              "#7201a8"
             ],
             [
              0.3333333333333333,
              "#9c179e"
             ],
             [
              0.4444444444444444,
              "#bd3786"
             ],
             [
              0.5555555555555556,
              "#d8576b"
             ],
             [
              0.6666666666666666,
              "#ed7953"
             ],
             [
              0.7777777777777778,
              "#fb9f3a"
             ],
             [
              0.8888888888888888,
              "#fdca26"
             ],
             [
              1,
              "#f0f921"
             ]
            ],
            "type": "histogram2dcontour"
           }
          ],
          "mesh3d": [
           {
            "colorbar": {
             "outlinewidth": 0,
             "ticks": ""
            },
            "type": "mesh3d"
           }
          ],
          "parcoords": [
           {
            "line": {
             "colorbar": {
              "outlinewidth": 0,
              "ticks": ""
             }
            },
            "type": "parcoords"
           }
          ],
          "pie": [
           {
            "automargin": true,
            "type": "pie"
           }
          ],
          "scatter": [
           {
            "fillpattern": {
             "fillmode": "overlay",
             "size": 10,
             "solidity": 0.2
            },
            "type": "scatter"
           }
          ],
          "scatter3d": [
           {
            "line": {
             "colorbar": {
              "outlinewidth": 0,
              "ticks": ""
             }
            },
            "marker": {
             "colorbar": {
              "outlinewidth": 0,
              "ticks": ""
             }
            },
            "type": "scatter3d"
           }
          ],
          "scattercarpet": [
           {
            "marker": {
             "colorbar": {
              "outlinewidth": 0,
              "ticks": ""
             }
            },
            "type": "scattercarpet"
           }
          ],
          "scattergeo": [
           {
            "marker": {
             "colorbar": {
              "outlinewidth": 0,
              "ticks": ""
             }
            },
            "type": "scattergeo"
           }
          ],
          "scattergl": [
           {
            "marker": {
             "colorbar": {
              "outlinewidth": 0,
              "ticks": ""
             }
            },
            "type": "scattergl"
           }
          ],
          "scattermapbox": [
           {
            "marker": {
             "colorbar": {
              "outlinewidth": 0,
              "ticks": ""
             }
            },
            "type": "scattermapbox"
           }
          ],
          "scatterpolar": [
           {
            "marker": {
             "colorbar": {
              "outlinewidth": 0,
              "ticks": ""
             }
            },
            "type": "scatterpolar"
           }
          ],
          "scatterpolargl": [
           {
            "marker": {
             "colorbar": {
              "outlinewidth": 0,
              "ticks": ""
             }
            },
            "type": "scatterpolargl"
           }
          ],
          "scatterternary": [
           {
            "marker": {
             "colorbar": {
              "outlinewidth": 0,
              "ticks": ""
             }
            },
            "type": "scatterternary"
           }
          ],
          "surface": [
           {
            "colorbar": {
             "outlinewidth": 0,
             "ticks": ""
            },
            "colorscale": [
             [
              0,
              "#0d0887"
             ],
             [
              0.1111111111111111,
              "#46039f"
             ],
             [
              0.2222222222222222,
              "#7201a8"
             ],
             [
              0.3333333333333333,
              "#9c179e"
             ],
             [
              0.4444444444444444,
              "#bd3786"
             ],
             [
              0.5555555555555556,
              "#d8576b"
             ],
             [
              0.6666666666666666,
              "#ed7953"
             ],
             [
              0.7777777777777778,
              "#fb9f3a"
             ],
             [
              0.8888888888888888,
              "#fdca26"
             ],
             [
              1,
              "#f0f921"
             ]
            ],
            "type": "surface"
           }
          ],
          "table": [
           {
            "cells": {
             "fill": {
              "color": "#EBF0F8"
             },
             "line": {
              "color": "white"
             }
            },
            "header": {
             "fill": {
              "color": "#C8D4E3"
             },
             "line": {
              "color": "white"
             }
            },
            "type": "table"
           }
          ]
         },
         "layout": {
          "annotationdefaults": {
           "arrowcolor": "#2a3f5f",
           "arrowhead": 0,
           "arrowwidth": 1
          },
          "autotypenumbers": "strict",
          "coloraxis": {
           "colorbar": {
            "outlinewidth": 0,
            "ticks": ""
           }
          },
          "colorscale": {
           "diverging": [
            [
             0,
             "#8e0152"
            ],
            [
             0.1,
             "#c51b7d"
            ],
            [
             0.2,
             "#de77ae"
            ],
            [
             0.3,
             "#f1b6da"
            ],
            [
             0.4,
             "#fde0ef"
            ],
            [
             0.5,
             "#f7f7f7"
            ],
            [
             0.6,
             "#e6f5d0"
            ],
            [
             0.7,
             "#b8e186"
            ],
            [
             0.8,
             "#7fbc41"
            ],
            [
             0.9,
             "#4d9221"
            ],
            [
             1,
             "#276419"
            ]
           ],
           "sequential": [
            [
             0,
             "#0d0887"
            ],
            [
             0.1111111111111111,
             "#46039f"
            ],
            [
             0.2222222222222222,
             "#7201a8"
            ],
            [
             0.3333333333333333,
             "#9c179e"
            ],
            [
             0.4444444444444444,
             "#bd3786"
            ],
            [
             0.5555555555555556,
             "#d8576b"
            ],
            [
             0.6666666666666666,
             "#ed7953"
            ],
            [
             0.7777777777777778,
             "#fb9f3a"
            ],
            [
             0.8888888888888888,
             "#fdca26"
            ],
            [
             1,
             "#f0f921"
            ]
           ],
           "sequentialminus": [
            [
             0,
             "#0d0887"
            ],
            [
             0.1111111111111111,
             "#46039f"
            ],
            [
             0.2222222222222222,
             "#7201a8"
            ],
            [
             0.3333333333333333,
             "#9c179e"
            ],
            [
             0.4444444444444444,
             "#bd3786"
            ],
            [
             0.5555555555555556,
             "#d8576b"
            ],
            [
             0.6666666666666666,
             "#ed7953"
            ],
            [
             0.7777777777777778,
             "#fb9f3a"
            ],
            [
             0.8888888888888888,
             "#fdca26"
            ],
            [
             1,
             "#f0f921"
            ]
           ]
          },
          "colorway": [
           "#636efa",
           "#EF553B",
           "#00cc96",
           "#ab63fa",
           "#FFA15A",
           "#19d3f3",
           "#FF6692",
           "#B6E880",
           "#FF97FF",
           "#FECB52"
          ],
          "font": {
           "color": "#2a3f5f"
          },
          "geo": {
           "bgcolor": "white",
           "lakecolor": "white",
           "landcolor": "#E5ECF6",
           "showlakes": true,
           "showland": true,
           "subunitcolor": "white"
          },
          "hoverlabel": {
           "align": "left"
          },
          "hovermode": "closest",
          "mapbox": {
           "style": "light"
          },
          "paper_bgcolor": "white",
          "plot_bgcolor": "#E5ECF6",
          "polar": {
           "angularaxis": {
            "gridcolor": "white",
            "linecolor": "white",
            "ticks": ""
           },
           "bgcolor": "#E5ECF6",
           "radialaxis": {
            "gridcolor": "white",
            "linecolor": "white",
            "ticks": ""
           }
          },
          "scene": {
           "xaxis": {
            "backgroundcolor": "#E5ECF6",
            "gridcolor": "white",
            "gridwidth": 2,
            "linecolor": "white",
            "showbackground": true,
            "ticks": "",
            "zerolinecolor": "white"
           },
           "yaxis": {
            "backgroundcolor": "#E5ECF6",
            "gridcolor": "white",
            "gridwidth": 2,
            "linecolor": "white",
            "showbackground": true,
            "ticks": "",
            "zerolinecolor": "white"
           },
           "zaxis": {
            "backgroundcolor": "#E5ECF6",
            "gridcolor": "white",
            "gridwidth": 2,
            "linecolor": "white",
            "showbackground": true,
            "ticks": "",
            "zerolinecolor": "white"
           }
          },
          "shapedefaults": {
           "line": {
            "color": "#2a3f5f"
           }
          },
          "ternary": {
           "aaxis": {
            "gridcolor": "white",
            "linecolor": "white",
            "ticks": ""
           },
           "baxis": {
            "gridcolor": "white",
            "linecolor": "white",
            "ticks": ""
           },
           "bgcolor": "#E5ECF6",
           "caxis": {
            "gridcolor": "white",
            "linecolor": "white",
            "ticks": ""
           }
          },
          "title": {
           "x": 0.05
          },
          "xaxis": {
           "automargin": true,
           "gridcolor": "white",
           "linecolor": "white",
           "ticks": "",
           "title": {
            "standoff": 15
           },
           "zerolinecolor": "white",
           "zerolinewidth": 2
          },
          "yaxis": {
           "automargin": true,
           "gridcolor": "white",
           "linecolor": "white",
           "ticks": "",
           "title": {
            "standoff": 15
           },
           "zerolinecolor": "white",
           "zerolinewidth": 2
          }
         }
        },
        "title": {
         "text": "Optimization History Plot"
        },
        "xaxis": {
         "title": {
          "text": "Trial"
         }
        },
        "yaxis": {
         "title": {
          "text": "Objective Value"
         }
        }
       }
      }
     },
     "metadata": {},
     "output_type": "display_data"
    }
   ],
   "source": [
    "plot_optimization_history(study_1)"
   ]
  },
  {
   "cell_type": "code",
   "execution_count": 7,
   "metadata": {},
   "outputs": [
    {
     "data": {
      "application/vnd.plotly.v1+json": {
       "config": {
        "plotlyServerURL": "https://plot.ly"
       },
       "data": [
        {
         "cliponaxis": false,
         "hovertemplate": [
          "loss (CategoricalDistribution): 0.07901261546006084<extra></extra>",
          "warm_start (CategoricalDistribution): 0.09732275595042851<extra></extra>",
          "max_iter (IntDistribution): 0.2812914258209877<extra></extra>",
          "tol (FloatDistribution): 0.542373202768523<extra></extra>"
         ],
         "name": "Objective Value",
         "orientation": "h",
         "text": [
          "0.08",
          "0.10",
          "0.28",
          "0.54"
         ],
         "textposition": "outside",
         "type": "bar",
         "x": [
          0.07901261546006084,
          0.09732275595042851,
          0.2812914258209877,
          0.542373202768523
         ],
         "y": [
          "loss",
          "warm_start",
          "max_iter",
          "tol"
         ]
        }
       ],
       "layout": {
        "template": {
         "data": {
          "bar": [
           {
            "error_x": {
             "color": "#2a3f5f"
            },
            "error_y": {
             "color": "#2a3f5f"
            },
            "marker": {
             "line": {
              "color": "#E5ECF6",
              "width": 0.5
             },
             "pattern": {
              "fillmode": "overlay",
              "size": 10,
              "solidity": 0.2
             }
            },
            "type": "bar"
           }
          ],
          "barpolar": [
           {
            "marker": {
             "line": {
              "color": "#E5ECF6",
              "width": 0.5
             },
             "pattern": {
              "fillmode": "overlay",
              "size": 10,
              "solidity": 0.2
             }
            },
            "type": "barpolar"
           }
          ],
          "carpet": [
           {
            "aaxis": {
             "endlinecolor": "#2a3f5f",
             "gridcolor": "white",
             "linecolor": "white",
             "minorgridcolor": "white",
             "startlinecolor": "#2a3f5f"
            },
            "baxis": {
             "endlinecolor": "#2a3f5f",
             "gridcolor": "white",
             "linecolor": "white",
             "minorgridcolor": "white",
             "startlinecolor": "#2a3f5f"
            },
            "type": "carpet"
           }
          ],
          "choropleth": [
           {
            "colorbar": {
             "outlinewidth": 0,
             "ticks": ""
            },
            "type": "choropleth"
           }
          ],
          "contour": [
           {
            "colorbar": {
             "outlinewidth": 0,
             "ticks": ""
            },
            "colorscale": [
             [
              0,
              "#0d0887"
             ],
             [
              0.1111111111111111,
              "#46039f"
             ],
             [
              0.2222222222222222,
              "#7201a8"
             ],
             [
              0.3333333333333333,
              "#9c179e"
             ],
             [
              0.4444444444444444,
              "#bd3786"
             ],
             [
              0.5555555555555556,
              "#d8576b"
             ],
             [
              0.6666666666666666,
              "#ed7953"
             ],
             [
              0.7777777777777778,
              "#fb9f3a"
             ],
             [
              0.8888888888888888,
              "#fdca26"
             ],
             [
              1,
              "#f0f921"
             ]
            ],
            "type": "contour"
           }
          ],
          "contourcarpet": [
           {
            "colorbar": {
             "outlinewidth": 0,
             "ticks": ""
            },
            "type": "contourcarpet"
           }
          ],
          "heatmap": [
           {
            "colorbar": {
             "outlinewidth": 0,
             "ticks": ""
            },
            "colorscale": [
             [
              0,
              "#0d0887"
             ],
             [
              0.1111111111111111,
              "#46039f"
             ],
             [
              0.2222222222222222,
              "#7201a8"
             ],
             [
              0.3333333333333333,
              "#9c179e"
             ],
             [
              0.4444444444444444,
              "#bd3786"
             ],
             [
              0.5555555555555556,
              "#d8576b"
             ],
             [
              0.6666666666666666,
              "#ed7953"
             ],
             [
              0.7777777777777778,
              "#fb9f3a"
             ],
             [
              0.8888888888888888,
              "#fdca26"
             ],
             [
              1,
              "#f0f921"
             ]
            ],
            "type": "heatmap"
           }
          ],
          "heatmapgl": [
           {
            "colorbar": {
             "outlinewidth": 0,
             "ticks": ""
            },
            "colorscale": [
             [
              0,
              "#0d0887"
             ],
             [
              0.1111111111111111,
              "#46039f"
             ],
             [
              0.2222222222222222,
              "#7201a8"
             ],
             [
              0.3333333333333333,
              "#9c179e"
             ],
             [
              0.4444444444444444,
              "#bd3786"
             ],
             [
              0.5555555555555556,
              "#d8576b"
             ],
             [
              0.6666666666666666,
              "#ed7953"
             ],
             [
              0.7777777777777778,
              "#fb9f3a"
             ],
             [
              0.8888888888888888,
              "#fdca26"
             ],
             [
              1,
              "#f0f921"
             ]
            ],
            "type": "heatmapgl"
           }
          ],
          "histogram": [
           {
            "marker": {
             "pattern": {
              "fillmode": "overlay",
              "size": 10,
              "solidity": 0.2
             }
            },
            "type": "histogram"
           }
          ],
          "histogram2d": [
           {
            "colorbar": {
             "outlinewidth": 0,
             "ticks": ""
            },
            "colorscale": [
             [
              0,
              "#0d0887"
             ],
             [
              0.1111111111111111,
              "#46039f"
             ],
             [
              0.2222222222222222,
              "#7201a8"
             ],
             [
              0.3333333333333333,
              "#9c179e"
             ],
             [
              0.4444444444444444,
              "#bd3786"
             ],
             [
              0.5555555555555556,
              "#d8576b"
             ],
             [
              0.6666666666666666,
              "#ed7953"
             ],
             [
              0.7777777777777778,
              "#fb9f3a"
             ],
             [
              0.8888888888888888,
              "#fdca26"
             ],
             [
              1,
              "#f0f921"
             ]
            ],
            "type": "histogram2d"
           }
          ],
          "histogram2dcontour": [
           {
            "colorbar": {
             "outlinewidth": 0,
             "ticks": ""
            },
            "colorscale": [
             [
              0,
              "#0d0887"
             ],
             [
              0.1111111111111111,
              "#46039f"
             ],
             [
              0.2222222222222222,
              "#7201a8"
             ],
             [
              0.3333333333333333,
              "#9c179e"
             ],
             [
              0.4444444444444444,
              "#bd3786"
             ],
             [
              0.5555555555555556,
              "#d8576b"
             ],
             [
              0.6666666666666666,
              "#ed7953"
             ],
             [
              0.7777777777777778,
              "#fb9f3a"
             ],
             [
              0.8888888888888888,
              "#fdca26"
             ],
             [
              1,
              "#f0f921"
             ]
            ],
            "type": "histogram2dcontour"
           }
          ],
          "mesh3d": [
           {
            "colorbar": {
             "outlinewidth": 0,
             "ticks": ""
            },
            "type": "mesh3d"
           }
          ],
          "parcoords": [
           {
            "line": {
             "colorbar": {
              "outlinewidth": 0,
              "ticks": ""
             }
            },
            "type": "parcoords"
           }
          ],
          "pie": [
           {
            "automargin": true,
            "type": "pie"
           }
          ],
          "scatter": [
           {
            "fillpattern": {
             "fillmode": "overlay",
             "size": 10,
             "solidity": 0.2
            },
            "type": "scatter"
           }
          ],
          "scatter3d": [
           {
            "line": {
             "colorbar": {
              "outlinewidth": 0,
              "ticks": ""
             }
            },
            "marker": {
             "colorbar": {
              "outlinewidth": 0,
              "ticks": ""
             }
            },
            "type": "scatter3d"
           }
          ],
          "scattercarpet": [
           {
            "marker": {
             "colorbar": {
              "outlinewidth": 0,
              "ticks": ""
             }
            },
            "type": "scattercarpet"
           }
          ],
          "scattergeo": [
           {
            "marker": {
             "colorbar": {
              "outlinewidth": 0,
              "ticks": ""
             }
            },
            "type": "scattergeo"
           }
          ],
          "scattergl": [
           {
            "marker": {
             "colorbar": {
              "outlinewidth": 0,
              "ticks": ""
             }
            },
            "type": "scattergl"
           }
          ],
          "scattermapbox": [
           {
            "marker": {
             "colorbar": {
              "outlinewidth": 0,
              "ticks": ""
             }
            },
            "type": "scattermapbox"
           }
          ],
          "scatterpolar": [
           {
            "marker": {
             "colorbar": {
              "outlinewidth": 0,
              "ticks": ""
             }
            },
            "type": "scatterpolar"
           }
          ],
          "scatterpolargl": [
           {
            "marker": {
             "colorbar": {
              "outlinewidth": 0,
              "ticks": ""
             }
            },
            "type": "scatterpolargl"
           }
          ],
          "scatterternary": [
           {
            "marker": {
             "colorbar": {
              "outlinewidth": 0,
              "ticks": ""
             }
            },
            "type": "scatterternary"
           }
          ],
          "surface": [
           {
            "colorbar": {
             "outlinewidth": 0,
             "ticks": ""
            },
            "colorscale": [
             [
              0,
              "#0d0887"
             ],
             [
              0.1111111111111111,
              "#46039f"
             ],
             [
              0.2222222222222222,
              "#7201a8"
             ],
             [
              0.3333333333333333,
              "#9c179e"
             ],
             [
              0.4444444444444444,
              "#bd3786"
             ],
             [
              0.5555555555555556,
              "#d8576b"
             ],
             [
              0.6666666666666666,
              "#ed7953"
             ],
             [
              0.7777777777777778,
              "#fb9f3a"
             ],
             [
              0.8888888888888888,
              "#fdca26"
             ],
             [
              1,
              "#f0f921"
             ]
            ],
            "type": "surface"
           }
          ],
          "table": [
           {
            "cells": {
             "fill": {
              "color": "#EBF0F8"
             },
             "line": {
              "color": "white"
             }
            },
            "header": {
             "fill": {
              "color": "#C8D4E3"
             },
             "line": {
              "color": "white"
             }
            },
            "type": "table"
           }
          ]
         },
         "layout": {
          "annotationdefaults": {
           "arrowcolor": "#2a3f5f",
           "arrowhead": 0,
           "arrowwidth": 1
          },
          "autotypenumbers": "strict",
          "coloraxis": {
           "colorbar": {
            "outlinewidth": 0,
            "ticks": ""
           }
          },
          "colorscale": {
           "diverging": [
            [
             0,
             "#8e0152"
            ],
            [
             0.1,
             "#c51b7d"
            ],
            [
             0.2,
             "#de77ae"
            ],
            [
             0.3,
             "#f1b6da"
            ],
            [
             0.4,
             "#fde0ef"
            ],
            [
             0.5,
             "#f7f7f7"
            ],
            [
             0.6,
             "#e6f5d0"
            ],
            [
             0.7,
             "#b8e186"
            ],
            [
             0.8,
             "#7fbc41"
            ],
            [
             0.9,
             "#4d9221"
            ],
            [
             1,
             "#276419"
            ]
           ],
           "sequential": [
            [
             0,
             "#0d0887"
            ],
            [
             0.1111111111111111,
             "#46039f"
            ],
            [
             0.2222222222222222,
             "#7201a8"
            ],
            [
             0.3333333333333333,
             "#9c179e"
            ],
            [
             0.4444444444444444,
             "#bd3786"
            ],
            [
             0.5555555555555556,
             "#d8576b"
            ],
            [
             0.6666666666666666,
             "#ed7953"
            ],
            [
             0.7777777777777778,
             "#fb9f3a"
            ],
            [
             0.8888888888888888,
             "#fdca26"
            ],
            [
             1,
             "#f0f921"
            ]
           ],
           "sequentialminus": [
            [
             0,
             "#0d0887"
            ],
            [
             0.1111111111111111,
             "#46039f"
            ],
            [
             0.2222222222222222,
             "#7201a8"
            ],
            [
             0.3333333333333333,
             "#9c179e"
            ],
            [
             0.4444444444444444,
             "#bd3786"
            ],
            [
             0.5555555555555556,
             "#d8576b"
            ],
            [
             0.6666666666666666,
             "#ed7953"
            ],
            [
             0.7777777777777778,
             "#fb9f3a"
            ],
            [
             0.8888888888888888,
             "#fdca26"
            ],
            [
             1,
             "#f0f921"
            ]
           ]
          },
          "colorway": [
           "#636efa",
           "#EF553B",
           "#00cc96",
           "#ab63fa",
           "#FFA15A",
           "#19d3f3",
           "#FF6692",
           "#B6E880",
           "#FF97FF",
           "#FECB52"
          ],
          "font": {
           "color": "#2a3f5f"
          },
          "geo": {
           "bgcolor": "white",
           "lakecolor": "white",
           "landcolor": "#E5ECF6",
           "showlakes": true,
           "showland": true,
           "subunitcolor": "white"
          },
          "hoverlabel": {
           "align": "left"
          },
          "hovermode": "closest",
          "mapbox": {
           "style": "light"
          },
          "paper_bgcolor": "white",
          "plot_bgcolor": "#E5ECF6",
          "polar": {
           "angularaxis": {
            "gridcolor": "white",
            "linecolor": "white",
            "ticks": ""
           },
           "bgcolor": "#E5ECF6",
           "radialaxis": {
            "gridcolor": "white",
            "linecolor": "white",
            "ticks": ""
           }
          },
          "scene": {
           "xaxis": {
            "backgroundcolor": "#E5ECF6",
            "gridcolor": "white",
            "gridwidth": 2,
            "linecolor": "white",
            "showbackground": true,
            "ticks": "",
            "zerolinecolor": "white"
           },
           "yaxis": {
            "backgroundcolor": "#E5ECF6",
            "gridcolor": "white",
            "gridwidth": 2,
            "linecolor": "white",
            "showbackground": true,
            "ticks": "",
            "zerolinecolor": "white"
           },
           "zaxis": {
            "backgroundcolor": "#E5ECF6",
            "gridcolor": "white",
            "gridwidth": 2,
            "linecolor": "white",
            "showbackground": true,
            "ticks": "",
            "zerolinecolor": "white"
           }
          },
          "shapedefaults": {
           "line": {
            "color": "#2a3f5f"
           }
          },
          "ternary": {
           "aaxis": {
            "gridcolor": "white",
            "linecolor": "white",
            "ticks": ""
           },
           "baxis": {
            "gridcolor": "white",
            "linecolor": "white",
            "ticks": ""
           },
           "bgcolor": "#E5ECF6",
           "caxis": {
            "gridcolor": "white",
            "linecolor": "white",
            "ticks": ""
           }
          },
          "title": {
           "x": 0.05
          },
          "xaxis": {
           "automargin": true,
           "gridcolor": "white",
           "linecolor": "white",
           "ticks": "",
           "title": {
            "standoff": 15
           },
           "zerolinecolor": "white",
           "zerolinewidth": 2
          },
          "yaxis": {
           "automargin": true,
           "gridcolor": "white",
           "linecolor": "white",
           "ticks": "",
           "title": {
            "standoff": 15
           },
           "zerolinecolor": "white",
           "zerolinewidth": 2
          }
         }
        },
        "title": {
         "text": "Hyperparameter Importances"
        },
        "xaxis": {
         "title": {
          "text": "Hyperparameter Importance"
         }
        },
        "yaxis": {
         "title": {
          "text": "Hyperparameter"
         }
        }
       }
      }
     },
     "metadata": {},
     "output_type": "display_data"
    }
   ],
   "source": [
    "plot_param_importances(study_1)"
   ]
  },
  {
   "cell_type": "code",
   "execution_count": 9,
   "metadata": {},
   "outputs": [
    {
     "data": {
      "text/plain": [
       "FrozenTrial(number=59, state=TrialState.COMPLETE, values=[8.562758588684696], datetime_start=datetime.datetime(2024, 12, 23, 14, 28, 24, 932), datetime_complete=datetime.datetime(2024, 12, 23, 14, 28, 24, 185932), params={'max_iter': 780, 'tol': 0.003149182843646439, 'warm_start': 'True', 'loss': 'epsilon_insensitive'}, user_attrs={}, system_attrs={}, intermediate_values={0: 2.1801402514208523, 1: 1.0051105374260725, 2: 0.8835180868686752, 3: 3.125539469698521, 4: 10.319523769243347, 5: 0.8687117654406583, 6: 0.8516431419889061, 7: 1.652793280190519, 8: 0.9854465044519952, 9: 3.000079644968289, 10: 0.8417074780084016, 11: 0.7296142090068303, 12: 0.7103361225785088, 13: 1.1449327351815681, 14: 4.57340879489116, 15: 0.6901425139535999, 16: 0.7155987481744408, 17: 0.7815463419453333, 18: 0.7901078933392554, 19: 0.7268785866143481, 20: 0.725927491450897, 21: 0.7679431601112711, 22: 6.116281658743147, 23: 0.6852192725907299, 24: 0.9004234922771064, 25: 0.677306768669499, 26: 0.8785924101081686, 27: 0.7189918478698557, 28: 1.346335807566679, 29: 0.8221364055418412, 30: 0.7035607710020984, 31: 0.6923221530425209, 32: 1.1449101403463173, 33: 0.6797379707973668, 34: 1.4990579477698118, 35: 1.2426756061728992, 36: 0.6971867322778875, 37: 0.6829743164457953, 38: 0.8919575095763147, 39: 0.737299177029463, 40: 0.6542392100669289, 41: 0.6822278475374088, 42: 1.0341162566859252, 43: 0.7793911482125787, 44: 4.5682871930544255, 45: 0.8078059528470022, 46: 3.022309682747936, 47: 0.9665917099266252, 48: 0.7478949830842585, 49: 0.9273547484063314, 50: 0.8087880343858946, 51: 0.7187714748639948, 52: 0.6812152742487072, 53: 0.6900756979346823, 54: 0.7148517833478983, 55: 1.6077415386128884, 56: 1.6820398856130578, 57: 0.6987972216857814, 58: 0.6485746987755502, 59: 0.6517684352303067, 60: 1.2303287098620608, 61: 0.7067063156327096, 62: 0.7093767623729818, 63: 0.8058105011158508, 64: 0.933736585152714, 65: 0.6612619679672597, 66: 0.6585406144538203, 67: 0.9043627172506468, 68: 1.1638572205410191, 69: 0.7939039964752043, 70: 0.859449799300921, 71: 0.663180495409759, 72: 0.7976286453335656, 73: 0.6639562316185347, 74: 0.7212064091377968, 75: 0.7577971790335302, 76: 0.6481055020557832, 77: 5.439250600329686, 78: 1.2221945269800347, 79: 1.2861637664583712, 80: 0.6347687345599362, 81: 0.7027451714695069, 82: 4.56135740428822, 83: 1.1656006149322145, 84: 0.7578717312511879, 85: 1.0098816396618666, 86: 0.7265649729196326, 87: 0.8993184947075604, 88: 0.6159267560458563, 89: 0.6659958931811649, 90: 0.6049881402380521, 91: 0.7971376664468562, 92: 0.6820989768401338, 93: 0.8650282201372722, 94: 0.605750346539004, 95: 0.6389795765871567, 96: 0.6411919837287644, 97: 0.6842987674586702, 98: 0.6996465956367995, 99: 8.562758588684696}, distributions={'max_iter': IntDistribution(high=1000, log=False, low=100, step=1), 'tol': FloatDistribution(high=0.01, log=False, low=0.001, step=None), 'warm_start': CategoricalDistribution(choices=('True', 'False')), 'loss': CategoricalDistribution(choices=('squared_epsilon_insensitive', 'epsilon_insensitive'))}, trial_id=59, value=None)"
      ]
     },
     "execution_count": 9,
     "metadata": {},
     "output_type": "execute_result"
    }
   ],
   "source": [
    "study_2.best_trial"
   ]
  },
  {
   "cell_type": "code",
   "execution_count": 11,
   "metadata": {},
   "outputs": [
    {
     "data": {
      "application/vnd.plotly.v1+json": {
       "config": {
        "plotlyServerURL": "https://plot.ly"
       },
       "data": [
        {
         "mode": "markers",
         "name": "Objective Value",
         "type": "scatter",
         "x": [
          0,
          4,
          7,
          15,
          18,
          20,
          25,
          30,
          31,
          34,
          36,
          37,
          39,
          41,
          44,
          45,
          48,
          51,
          53,
          54,
          55,
          56,
          58,
          59,
          60,
          61,
          63,
          64,
          65,
          66,
          68,
          70,
          71,
          75,
          76,
          82,
          85,
          88,
          89,
          90,
          93,
          95,
          96,
          99
         ],
         "y": [
          0.6389565224293663,
          0.6602292697031584,
          0.6271575437312882,
          0.7096072313358983,
          0.6287464516195275,
          0.6168114498794788,
          0.738328930827079,
          0.6749693659122246,
          0.9314111103275584,
          0.6401459341044038,
          0.864393553402043,
          0.6058708362862203,
          0.6232365921716533,
          0.8342730036634781,
          0.637726829558305,
          0.6899624232086614,
          0.7148576317662291,
          1.0349440811927504,
          0.9132284116442332,
          1.1079394417065516,
          1.0392064082321542,
          0.8253341778252333,
          0.9283640532106842,
          8.562758588684696,
          0.8842644460398225,
          0.6886748665221994,
          0.7916798647779757,
          0.9442067357684246,
          0.6590149507508314,
          0.6926911936492308,
          0.6599387294591406,
          0.6416294408530481,
          3.851244415621391,
          0.6746471273895827,
          0.6338138096723653,
          3.8783213460638737,
          0.6338162565117622,
          0.6002373239665372,
          3.250609726429999,
          0.8133570570058459,
          0.6466676781790568,
          0.73811033030573,
          0.656151007023051,
          0.6648387501176528
         ]
        },
        {
         "mode": "lines",
         "name": "Best Value",
         "type": "scatter",
         "x": [
          0,
          1,
          2,
          3,
          4,
          5,
          6,
          7,
          8,
          9,
          10,
          11,
          12,
          13,
          14,
          15,
          16,
          17,
          18,
          19,
          20,
          21,
          22,
          23,
          24,
          25,
          26,
          27,
          28,
          29,
          30,
          31,
          32,
          33,
          34,
          35,
          36,
          37,
          38,
          39,
          40,
          41,
          42,
          43,
          44,
          45,
          46,
          47,
          48,
          49,
          50,
          51,
          52,
          53,
          54,
          55,
          56,
          57,
          58,
          59,
          60,
          61,
          62,
          63,
          64,
          65,
          66,
          67,
          68,
          69,
          70,
          71,
          72,
          73,
          74,
          75,
          76,
          77,
          78,
          79,
          80,
          81,
          82,
          83,
          84,
          85,
          86,
          87,
          88,
          89,
          90,
          91,
          92,
          93,
          94,
          95,
          96,
          97,
          98,
          99
         ],
         "y": [
          0.6389565224293663,
          0.6389565224293663,
          0.6389565224293663,
          0.6389565224293663,
          0.6602292697031584,
          0.6602292697031584,
          0.6602292697031584,
          0.6602292697031584,
          0.6602292697031584,
          0.6602292697031584,
          0.6602292697031584,
          0.6602292697031584,
          0.6602292697031584,
          0.6602292697031584,
          0.6602292697031584,
          0.7096072313358983,
          0.7096072313358983,
          0.7096072313358983,
          0.7096072313358983,
          0.7096072313358983,
          0.7096072313358983,
          0.7096072313358983,
          0.7096072313358983,
          0.7096072313358983,
          0.7096072313358983,
          0.738328930827079,
          0.738328930827079,
          0.738328930827079,
          0.738328930827079,
          0.738328930827079,
          0.738328930827079,
          0.9314111103275584,
          0.9314111103275584,
          0.9314111103275584,
          0.9314111103275584,
          0.9314111103275584,
          0.9314111103275584,
          0.9314111103275584,
          0.9314111103275584,
          0.9314111103275584,
          0.9314111103275584,
          0.9314111103275584,
          0.9314111103275584,
          0.9314111103275584,
          0.9314111103275584,
          0.9314111103275584,
          0.9314111103275584,
          0.9314111103275584,
          0.9314111103275584,
          0.9314111103275584,
          0.9314111103275584,
          1.0349440811927504,
          1.0349440811927504,
          1.0349440811927504,
          1.1079394417065516,
          1.1079394417065516,
          1.1079394417065516,
          1.1079394417065516,
          1.1079394417065516,
          8.562758588684696,
          8.562758588684696,
          8.562758588684696,
          8.562758588684696,
          8.562758588684696,
          8.562758588684696,
          8.562758588684696,
          8.562758588684696,
          8.562758588684696,
          8.562758588684696,
          8.562758588684696,
          8.562758588684696,
          8.562758588684696,
          8.562758588684696,
          8.562758588684696,
          8.562758588684696,
          8.562758588684696,
          8.562758588684696,
          8.562758588684696,
          8.562758588684696,
          8.562758588684696,
          8.562758588684696,
          8.562758588684696,
          8.562758588684696,
          8.562758588684696,
          8.562758588684696,
          8.562758588684696,
          8.562758588684696,
          8.562758588684696,
          8.562758588684696,
          8.562758588684696,
          8.562758588684696,
          8.562758588684696,
          8.562758588684696,
          8.562758588684696,
          8.562758588684696,
          8.562758588684696,
          8.562758588684696,
          8.562758588684696,
          8.562758588684696,
          8.562758588684696
         ]
        },
        {
         "marker": {
          "color": "#cccccc"
         },
         "mode": "markers",
         "name": "Infeasible Trial",
         "showlegend": false,
         "type": "scatter",
         "x": [],
         "y": []
        }
       ],
       "layout": {
        "template": {
         "data": {
          "bar": [
           {
            "error_x": {
             "color": "#2a3f5f"
            },
            "error_y": {
             "color": "#2a3f5f"
            },
            "marker": {
             "line": {
              "color": "#E5ECF6",
              "width": 0.5
             },
             "pattern": {
              "fillmode": "overlay",
              "size": 10,
              "solidity": 0.2
             }
            },
            "type": "bar"
           }
          ],
          "barpolar": [
           {
            "marker": {
             "line": {
              "color": "#E5ECF6",
              "width": 0.5
             },
             "pattern": {
              "fillmode": "overlay",
              "size": 10,
              "solidity": 0.2
             }
            },
            "type": "barpolar"
           }
          ],
          "carpet": [
           {
            "aaxis": {
             "endlinecolor": "#2a3f5f",
             "gridcolor": "white",
             "linecolor": "white",
             "minorgridcolor": "white",
             "startlinecolor": "#2a3f5f"
            },
            "baxis": {
             "endlinecolor": "#2a3f5f",
             "gridcolor": "white",
             "linecolor": "white",
             "minorgridcolor": "white",
             "startlinecolor": "#2a3f5f"
            },
            "type": "carpet"
           }
          ],
          "choropleth": [
           {
            "colorbar": {
             "outlinewidth": 0,
             "ticks": ""
            },
            "type": "choropleth"
           }
          ],
          "contour": [
           {
            "colorbar": {
             "outlinewidth": 0,
             "ticks": ""
            },
            "colorscale": [
             [
              0,
              "#0d0887"
             ],
             [
              0.1111111111111111,
              "#46039f"
             ],
             [
              0.2222222222222222,
              "#7201a8"
             ],
             [
              0.3333333333333333,
              "#9c179e"
             ],
             [
              0.4444444444444444,
              "#bd3786"
             ],
             [
              0.5555555555555556,
              "#d8576b"
             ],
             [
              0.6666666666666666,
              "#ed7953"
             ],
             [
              0.7777777777777778,
              "#fb9f3a"
             ],
             [
              0.8888888888888888,
              "#fdca26"
             ],
             [
              1,
              "#f0f921"
             ]
            ],
            "type": "contour"
           }
          ],
          "contourcarpet": [
           {
            "colorbar": {
             "outlinewidth": 0,
             "ticks": ""
            },
            "type": "contourcarpet"
           }
          ],
          "heatmap": [
           {
            "colorbar": {
             "outlinewidth": 0,
             "ticks": ""
            },
            "colorscale": [
             [
              0,
              "#0d0887"
             ],
             [
              0.1111111111111111,
              "#46039f"
             ],
             [
              0.2222222222222222,
              "#7201a8"
             ],
             [
              0.3333333333333333,
              "#9c179e"
             ],
             [
              0.4444444444444444,
              "#bd3786"
             ],
             [
              0.5555555555555556,
              "#d8576b"
             ],
             [
              0.6666666666666666,
              "#ed7953"
             ],
             [
              0.7777777777777778,
              "#fb9f3a"
             ],
             [
              0.8888888888888888,
              "#fdca26"
             ],
             [
              1,
              "#f0f921"
             ]
            ],
            "type": "heatmap"
           }
          ],
          "heatmapgl": [
           {
            "colorbar": {
             "outlinewidth": 0,
             "ticks": ""
            },
            "colorscale": [
             [
              0,
              "#0d0887"
             ],
             [
              0.1111111111111111,
              "#46039f"
             ],
             [
              0.2222222222222222,
              "#7201a8"
             ],
             [
              0.3333333333333333,
              "#9c179e"
             ],
             [
              0.4444444444444444,
              "#bd3786"
             ],
             [
              0.5555555555555556,
              "#d8576b"
             ],
             [
              0.6666666666666666,
              "#ed7953"
             ],
             [
              0.7777777777777778,
              "#fb9f3a"
             ],
             [
              0.8888888888888888,
              "#fdca26"
             ],
             [
              1,
              "#f0f921"
             ]
            ],
            "type": "heatmapgl"
           }
          ],
          "histogram": [
           {
            "marker": {
             "pattern": {
              "fillmode": "overlay",
              "size": 10,
              "solidity": 0.2
             }
            },
            "type": "histogram"
           }
          ],
          "histogram2d": [
           {
            "colorbar": {
             "outlinewidth": 0,
             "ticks": ""
            },
            "colorscale": [
             [
              0,
              "#0d0887"
             ],
             [
              0.1111111111111111,
              "#46039f"
             ],
             [
              0.2222222222222222,
              "#7201a8"
             ],
             [
              0.3333333333333333,
              "#9c179e"
             ],
             [
              0.4444444444444444,
              "#bd3786"
             ],
             [
              0.5555555555555556,
              "#d8576b"
             ],
             [
              0.6666666666666666,
              "#ed7953"
             ],
             [
              0.7777777777777778,
              "#fb9f3a"
             ],
             [
              0.8888888888888888,
              "#fdca26"
             ],
             [
              1,
              "#f0f921"
             ]
            ],
            "type": "histogram2d"
           }
          ],
          "histogram2dcontour": [
           {
            "colorbar": {
             "outlinewidth": 0,
             "ticks": ""
            },
            "colorscale": [
             [
              0,
              "#0d0887"
             ],
             [
              0.1111111111111111,
              "#46039f"
             ],
             [
              0.2222222222222222,
              "#7201a8"
             ],
             [
              0.3333333333333333,
              "#9c179e"
             ],
             [
              0.4444444444444444,
              "#bd3786"
             ],
             [
              0.5555555555555556,
              "#d8576b"
             ],
             [
              0.6666666666666666,
              "#ed7953"
             ],
             [
              0.7777777777777778,
              "#fb9f3a"
             ],
             [
              0.8888888888888888,
              "#fdca26"
             ],
             [
              1,
              "#f0f921"
             ]
            ],
            "type": "histogram2dcontour"
           }
          ],
          "mesh3d": [
           {
            "colorbar": {
             "outlinewidth": 0,
             "ticks": ""
            },
            "type": "mesh3d"
           }
          ],
          "parcoords": [
           {
            "line": {
             "colorbar": {
              "outlinewidth": 0,
              "ticks": ""
             }
            },
            "type": "parcoords"
           }
          ],
          "pie": [
           {
            "automargin": true,
            "type": "pie"
           }
          ],
          "scatter": [
           {
            "fillpattern": {
             "fillmode": "overlay",
             "size": 10,
             "solidity": 0.2
            },
            "type": "scatter"
           }
          ],
          "scatter3d": [
           {
            "line": {
             "colorbar": {
              "outlinewidth": 0,
              "ticks": ""
             }
            },
            "marker": {
             "colorbar": {
              "outlinewidth": 0,
              "ticks": ""
             }
            },
            "type": "scatter3d"
           }
          ],
          "scattercarpet": [
           {
            "marker": {
             "colorbar": {
              "outlinewidth": 0,
              "ticks": ""
             }
            },
            "type": "scattercarpet"
           }
          ],
          "scattergeo": [
           {
            "marker": {
             "colorbar": {
              "outlinewidth": 0,
              "ticks": ""
             }
            },
            "type": "scattergeo"
           }
          ],
          "scattergl": [
           {
            "marker": {
             "colorbar": {
              "outlinewidth": 0,
              "ticks": ""
             }
            },
            "type": "scattergl"
           }
          ],
          "scattermapbox": [
           {
            "marker": {
             "colorbar": {
              "outlinewidth": 0,
              "ticks": ""
             }
            },
            "type": "scattermapbox"
           }
          ],
          "scatterpolar": [
           {
            "marker": {
             "colorbar": {
              "outlinewidth": 0,
              "ticks": ""
             }
            },
            "type": "scatterpolar"
           }
          ],
          "scatterpolargl": [
           {
            "marker": {
             "colorbar": {
              "outlinewidth": 0,
              "ticks": ""
             }
            },
            "type": "scatterpolargl"
           }
          ],
          "scatterternary": [
           {
            "marker": {
             "colorbar": {
              "outlinewidth": 0,
              "ticks": ""
             }
            },
            "type": "scatterternary"
           }
          ],
          "surface": [
           {
            "colorbar": {
             "outlinewidth": 0,
             "ticks": ""
            },
            "colorscale": [
             [
              0,
              "#0d0887"
             ],
             [
              0.1111111111111111,
              "#46039f"
             ],
             [
              0.2222222222222222,
              "#7201a8"
             ],
             [
              0.3333333333333333,
              "#9c179e"
             ],
             [
              0.4444444444444444,
              "#bd3786"
             ],
             [
              0.5555555555555556,
              "#d8576b"
             ],
             [
              0.6666666666666666,
              "#ed7953"
             ],
             [
              0.7777777777777778,
              "#fb9f3a"
             ],
             [
              0.8888888888888888,
              "#fdca26"
             ],
             [
              1,
              "#f0f921"
             ]
            ],
            "type": "surface"
           }
          ],
          "table": [
           {
            "cells": {
             "fill": {
              "color": "#EBF0F8"
             },
             "line": {
              "color": "white"
             }
            },
            "header": {
             "fill": {
              "color": "#C8D4E3"
             },
             "line": {
              "color": "white"
             }
            },
            "type": "table"
           }
          ]
         },
         "layout": {
          "annotationdefaults": {
           "arrowcolor": "#2a3f5f",
           "arrowhead": 0,
           "arrowwidth": 1
          },
          "autotypenumbers": "strict",
          "coloraxis": {
           "colorbar": {
            "outlinewidth": 0,
            "ticks": ""
           }
          },
          "colorscale": {
           "diverging": [
            [
             0,
             "#8e0152"
            ],
            [
             0.1,
             "#c51b7d"
            ],
            [
             0.2,
             "#de77ae"
            ],
            [
             0.3,
             "#f1b6da"
            ],
            [
             0.4,
             "#fde0ef"
            ],
            [
             0.5,
             "#f7f7f7"
            ],
            [
             0.6,
             "#e6f5d0"
            ],
            [
             0.7,
             "#b8e186"
            ],
            [
             0.8,
             "#7fbc41"
            ],
            [
             0.9,
             "#4d9221"
            ],
            [
             1,
             "#276419"
            ]
           ],
           "sequential": [
            [
             0,
             "#0d0887"
            ],
            [
             0.1111111111111111,
             "#46039f"
            ],
            [
             0.2222222222222222,
             "#7201a8"
            ],
            [
             0.3333333333333333,
             "#9c179e"
            ],
            [
             0.4444444444444444,
             "#bd3786"
            ],
            [
             0.5555555555555556,
             "#d8576b"
            ],
            [
             0.6666666666666666,
             "#ed7953"
            ],
            [
             0.7777777777777778,
             "#fb9f3a"
            ],
            [
             0.8888888888888888,
             "#fdca26"
            ],
            [
             1,
             "#f0f921"
            ]
           ],
           "sequentialminus": [
            [
             0,
             "#0d0887"
            ],
            [
             0.1111111111111111,
             "#46039f"
            ],
            [
             0.2222222222222222,
             "#7201a8"
            ],
            [
             0.3333333333333333,
             "#9c179e"
            ],
            [
             0.4444444444444444,
             "#bd3786"
            ],
            [
             0.5555555555555556,
             "#d8576b"
            ],
            [
             0.6666666666666666,
             "#ed7953"
            ],
            [
             0.7777777777777778,
             "#fb9f3a"
            ],
            [
             0.8888888888888888,
             "#fdca26"
            ],
            [
             1,
             "#f0f921"
            ]
           ]
          },
          "colorway": [
           "#636efa",
           "#EF553B",
           "#00cc96",
           "#ab63fa",
           "#FFA15A",
           "#19d3f3",
           "#FF6692",
           "#B6E880",
           "#FF97FF",
           "#FECB52"
          ],
          "font": {
           "color": "#2a3f5f"
          },
          "geo": {
           "bgcolor": "white",
           "lakecolor": "white",
           "landcolor": "#E5ECF6",
           "showlakes": true,
           "showland": true,
           "subunitcolor": "white"
          },
          "hoverlabel": {
           "align": "left"
          },
          "hovermode": "closest",
          "mapbox": {
           "style": "light"
          },
          "paper_bgcolor": "white",
          "plot_bgcolor": "#E5ECF6",
          "polar": {
           "angularaxis": {
            "gridcolor": "white",
            "linecolor": "white",
            "ticks": ""
           },
           "bgcolor": "#E5ECF6",
           "radialaxis": {
            "gridcolor": "white",
            "linecolor": "white",
            "ticks": ""
           }
          },
          "scene": {
           "xaxis": {
            "backgroundcolor": "#E5ECF6",
            "gridcolor": "white",
            "gridwidth": 2,
            "linecolor": "white",
            "showbackground": true,
            "ticks": "",
            "zerolinecolor": "white"
           },
           "yaxis": {
            "backgroundcolor": "#E5ECF6",
            "gridcolor": "white",
            "gridwidth": 2,
            "linecolor": "white",
            "showbackground": true,
            "ticks": "",
            "zerolinecolor": "white"
           },
           "zaxis": {
            "backgroundcolor": "#E5ECF6",
            "gridcolor": "white",
            "gridwidth": 2,
            "linecolor": "white",
            "showbackground": true,
            "ticks": "",
            "zerolinecolor": "white"
           }
          },
          "shapedefaults": {
           "line": {
            "color": "#2a3f5f"
           }
          },
          "ternary": {
           "aaxis": {
            "gridcolor": "white",
            "linecolor": "white",
            "ticks": ""
           },
           "baxis": {
            "gridcolor": "white",
            "linecolor": "white",
            "ticks": ""
           },
           "bgcolor": "#E5ECF6",
           "caxis": {
            "gridcolor": "white",
            "linecolor": "white",
            "ticks": ""
           }
          },
          "title": {
           "x": 0.05
          },
          "xaxis": {
           "automargin": true,
           "gridcolor": "white",
           "linecolor": "white",
           "ticks": "",
           "title": {
            "standoff": 15
           },
           "zerolinecolor": "white",
           "zerolinewidth": 2
          },
          "yaxis": {
           "automargin": true,
           "gridcolor": "white",
           "linecolor": "white",
           "ticks": "",
           "title": {
            "standoff": 15
           },
           "zerolinecolor": "white",
           "zerolinewidth": 2
          }
         }
        },
        "title": {
         "text": "Optimization History Plot"
        },
        "xaxis": {
         "title": {
          "text": "Trial"
         }
        },
        "yaxis": {
         "title": {
          "text": "Objective Value"
         }
        }
       }
      }
     },
     "metadata": {},
     "output_type": "display_data"
    }
   ],
   "source": [
    "plot_optimization_history(study_2)"
   ]
  },
  {
   "cell_type": "code",
   "execution_count": 12,
   "metadata": {},
   "outputs": [
    {
     "data": {
      "application/vnd.plotly.v1+json": {
       "config": {
        "plotlyServerURL": "https://plot.ly"
       },
       "data": [
        {
         "cliponaxis": false,
         "hovertemplate": [
          "loss (CategoricalDistribution): 0.007612240416031026<extra></extra>",
          "warm_start (CategoricalDistribution): 0.00819420638792973<extra></extra>",
          "tol (FloatDistribution): 0.3706984953511559<extra></extra>",
          "max_iter (IntDistribution): 0.6134950578448835<extra></extra>"
         ],
         "name": "Objective Value",
         "orientation": "h",
         "text": [
          "<0.01",
          "<0.01",
          "0.37",
          "0.61"
         ],
         "textposition": "outside",
         "type": "bar",
         "x": [
          0.007612240416031026,
          0.00819420638792973,
          0.3706984953511559,
          0.6134950578448835
         ],
         "y": [
          "loss",
          "warm_start",
          "tol",
          "max_iter"
         ]
        }
       ],
       "layout": {
        "template": {
         "data": {
          "bar": [
           {
            "error_x": {
             "color": "#2a3f5f"
            },
            "error_y": {
             "color": "#2a3f5f"
            },
            "marker": {
             "line": {
              "color": "#E5ECF6",
              "width": 0.5
             },
             "pattern": {
              "fillmode": "overlay",
              "size": 10,
              "solidity": 0.2
             }
            },
            "type": "bar"
           }
          ],
          "barpolar": [
           {
            "marker": {
             "line": {
              "color": "#E5ECF6",
              "width": 0.5
             },
             "pattern": {
              "fillmode": "overlay",
              "size": 10,
              "solidity": 0.2
             }
            },
            "type": "barpolar"
           }
          ],
          "carpet": [
           {
            "aaxis": {
             "endlinecolor": "#2a3f5f",
             "gridcolor": "white",
             "linecolor": "white",
             "minorgridcolor": "white",
             "startlinecolor": "#2a3f5f"
            },
            "baxis": {
             "endlinecolor": "#2a3f5f",
             "gridcolor": "white",
             "linecolor": "white",
             "minorgridcolor": "white",
             "startlinecolor": "#2a3f5f"
            },
            "type": "carpet"
           }
          ],
          "choropleth": [
           {
            "colorbar": {
             "outlinewidth": 0,
             "ticks": ""
            },
            "type": "choropleth"
           }
          ],
          "contour": [
           {
            "colorbar": {
             "outlinewidth": 0,
             "ticks": ""
            },
            "colorscale": [
             [
              0,
              "#0d0887"
             ],
             [
              0.1111111111111111,
              "#46039f"
             ],
             [
              0.2222222222222222,
              "#7201a8"
             ],
             [
              0.3333333333333333,
              "#9c179e"
             ],
             [
              0.4444444444444444,
              "#bd3786"
             ],
             [
              0.5555555555555556,
              "#d8576b"
             ],
             [
              0.6666666666666666,
              "#ed7953"
             ],
             [
              0.7777777777777778,
              "#fb9f3a"
             ],
             [
              0.8888888888888888,
              "#fdca26"
             ],
             [
              1,
              "#f0f921"
             ]
            ],
            "type": "contour"
           }
          ],
          "contourcarpet": [
           {
            "colorbar": {
             "outlinewidth": 0,
             "ticks": ""
            },
            "type": "contourcarpet"
           }
          ],
          "heatmap": [
           {
            "colorbar": {
             "outlinewidth": 0,
             "ticks": ""
            },
            "colorscale": [
             [
              0,
              "#0d0887"
             ],
             [
              0.1111111111111111,
              "#46039f"
             ],
             [
              0.2222222222222222,
              "#7201a8"
             ],
             [
              0.3333333333333333,
              "#9c179e"
             ],
             [
              0.4444444444444444,
              "#bd3786"
             ],
             [
              0.5555555555555556,
              "#d8576b"
             ],
             [
              0.6666666666666666,
              "#ed7953"
             ],
             [
              0.7777777777777778,
              "#fb9f3a"
             ],
             [
              0.8888888888888888,
              "#fdca26"
             ],
             [
              1,
              "#f0f921"
             ]
            ],
            "type": "heatmap"
           }
          ],
          "heatmapgl": [
           {
            "colorbar": {
             "outlinewidth": 0,
             "ticks": ""
            },
            "colorscale": [
             [
              0,
              "#0d0887"
             ],
             [
              0.1111111111111111,
              "#46039f"
             ],
             [
              0.2222222222222222,
              "#7201a8"
             ],
             [
              0.3333333333333333,
              "#9c179e"
             ],
             [
              0.4444444444444444,
              "#bd3786"
             ],
             [
              0.5555555555555556,
              "#d8576b"
             ],
             [
              0.6666666666666666,
              "#ed7953"
             ],
             [
              0.7777777777777778,
              "#fb9f3a"
             ],
             [
              0.8888888888888888,
              "#fdca26"
             ],
             [
              1,
              "#f0f921"
             ]
            ],
            "type": "heatmapgl"
           }
          ],
          "histogram": [
           {
            "marker": {
             "pattern": {
              "fillmode": "overlay",
              "size": 10,
              "solidity": 0.2
             }
            },
            "type": "histogram"
           }
          ],
          "histogram2d": [
           {
            "colorbar": {
             "outlinewidth": 0,
             "ticks": ""
            },
            "colorscale": [
             [
              0,
              "#0d0887"
             ],
             [
              0.1111111111111111,
              "#46039f"
             ],
             [
              0.2222222222222222,
              "#7201a8"
             ],
             [
              0.3333333333333333,
              "#9c179e"
             ],
             [
              0.4444444444444444,
              "#bd3786"
             ],
             [
              0.5555555555555556,
              "#d8576b"
             ],
             [
              0.6666666666666666,
              "#ed7953"
             ],
             [
              0.7777777777777778,
              "#fb9f3a"
             ],
             [
              0.8888888888888888,
              "#fdca26"
             ],
             [
              1,
              "#f0f921"
             ]
            ],
            "type": "histogram2d"
           }
          ],
          "histogram2dcontour": [
           {
            "colorbar": {
             "outlinewidth": 0,
             "ticks": ""
            },
            "colorscale": [
             [
              0,
              "#0d0887"
             ],
             [
              0.1111111111111111,
              "#46039f"
             ],
             [
              0.2222222222222222,
              "#7201a8"
             ],
             [
              0.3333333333333333,
              "#9c179e"
             ],
             [
              0.4444444444444444,
              "#bd3786"
             ],
             [
              0.5555555555555556,
              "#d8576b"
             ],
             [
              0.6666666666666666,
              "#ed7953"
             ],
             [
              0.7777777777777778,
              "#fb9f3a"
             ],
             [
              0.8888888888888888,
              "#fdca26"
             ],
             [
              1,
              "#f0f921"
             ]
            ],
            "type": "histogram2dcontour"
           }
          ],
          "mesh3d": [
           {
            "colorbar": {
             "outlinewidth": 0,
             "ticks": ""
            },
            "type": "mesh3d"
           }
          ],
          "parcoords": [
           {
            "line": {
             "colorbar": {
              "outlinewidth": 0,
              "ticks": ""
             }
            },
            "type": "parcoords"
           }
          ],
          "pie": [
           {
            "automargin": true,
            "type": "pie"
           }
          ],
          "scatter": [
           {
            "fillpattern": {
             "fillmode": "overlay",
             "size": 10,
             "solidity": 0.2
            },
            "type": "scatter"
           }
          ],
          "scatter3d": [
           {
            "line": {
             "colorbar": {
              "outlinewidth": 0,
              "ticks": ""
             }
            },
            "marker": {
             "colorbar": {
              "outlinewidth": 0,
              "ticks": ""
             }
            },
            "type": "scatter3d"
           }
          ],
          "scattercarpet": [
           {
            "marker": {
             "colorbar": {
              "outlinewidth": 0,
              "ticks": ""
             }
            },
            "type": "scattercarpet"
           }
          ],
          "scattergeo": [
           {
            "marker": {
             "colorbar": {
              "outlinewidth": 0,
              "ticks": ""
             }
            },
            "type": "scattergeo"
           }
          ],
          "scattergl": [
           {
            "marker": {
             "colorbar": {
              "outlinewidth": 0,
              "ticks": ""
             }
            },
            "type": "scattergl"
           }
          ],
          "scattermapbox": [
           {
            "marker": {
             "colorbar": {
              "outlinewidth": 0,
              "ticks": ""
             }
            },
            "type": "scattermapbox"
           }
          ],
          "scatterpolar": [
           {
            "marker": {
             "colorbar": {
              "outlinewidth": 0,
              "ticks": ""
             }
            },
            "type": "scatterpolar"
           }
          ],
          "scatterpolargl": [
           {
            "marker": {
             "colorbar": {
              "outlinewidth": 0,
              "ticks": ""
             }
            },
            "type": "scatterpolargl"
           }
          ],
          "scatterternary": [
           {
            "marker": {
             "colorbar": {
              "outlinewidth": 0,
              "ticks": ""
             }
            },
            "type": "scatterternary"
           }
          ],
          "surface": [
           {
            "colorbar": {
             "outlinewidth": 0,
             "ticks": ""
            },
            "colorscale": [
             [
              0,
              "#0d0887"
             ],
             [
              0.1111111111111111,
              "#46039f"
             ],
             [
              0.2222222222222222,
              "#7201a8"
             ],
             [
              0.3333333333333333,
              "#9c179e"
             ],
             [
              0.4444444444444444,
              "#bd3786"
             ],
             [
              0.5555555555555556,
              "#d8576b"
             ],
             [
              0.6666666666666666,
              "#ed7953"
             ],
             [
              0.7777777777777778,
              "#fb9f3a"
             ],
             [
              0.8888888888888888,
              "#fdca26"
             ],
             [
              1,
              "#f0f921"
             ]
            ],
            "type": "surface"
           }
          ],
          "table": [
           {
            "cells": {
             "fill": {
              "color": "#EBF0F8"
             },
             "line": {
              "color": "white"
             }
            },
            "header": {
             "fill": {
              "color": "#C8D4E3"
             },
             "line": {
              "color": "white"
             }
            },
            "type": "table"
           }
          ]
         },
         "layout": {
          "annotationdefaults": {
           "arrowcolor": "#2a3f5f",
           "arrowhead": 0,
           "arrowwidth": 1
          },
          "autotypenumbers": "strict",
          "coloraxis": {
           "colorbar": {
            "outlinewidth": 0,
            "ticks": ""
           }
          },
          "colorscale": {
           "diverging": [
            [
             0,
             "#8e0152"
            ],
            [
             0.1,
             "#c51b7d"
            ],
            [
             0.2,
             "#de77ae"
            ],
            [
             0.3,
             "#f1b6da"
            ],
            [
             0.4,
             "#fde0ef"
            ],
            [
             0.5,
             "#f7f7f7"
            ],
            [
             0.6,
             "#e6f5d0"
            ],
            [
             0.7,
             "#b8e186"
            ],
            [
             0.8,
             "#7fbc41"
            ],
            [
             0.9,
             "#4d9221"
            ],
            [
             1,
             "#276419"
            ]
           ],
           "sequential": [
            [
             0,
             "#0d0887"
            ],
            [
             0.1111111111111111,
             "#46039f"
            ],
            [
             0.2222222222222222,
             "#7201a8"
            ],
            [
             0.3333333333333333,
             "#9c179e"
            ],
            [
             0.4444444444444444,
             "#bd3786"
            ],
            [
             0.5555555555555556,
             "#d8576b"
            ],
            [
             0.6666666666666666,
             "#ed7953"
            ],
            [
             0.7777777777777778,
             "#fb9f3a"
            ],
            [
             0.8888888888888888,
             "#fdca26"
            ],
            [
             1,
             "#f0f921"
            ]
           ],
           "sequentialminus": [
            [
             0,
             "#0d0887"
            ],
            [
             0.1111111111111111,
             "#46039f"
            ],
            [
             0.2222222222222222,
             "#7201a8"
            ],
            [
             0.3333333333333333,
             "#9c179e"
            ],
            [
             0.4444444444444444,
             "#bd3786"
            ],
            [
             0.5555555555555556,
             "#d8576b"
            ],
            [
             0.6666666666666666,
             "#ed7953"
            ],
            [
             0.7777777777777778,
             "#fb9f3a"
            ],
            [
             0.8888888888888888,
             "#fdca26"
            ],
            [
             1,
             "#f0f921"
            ]
           ]
          },
          "colorway": [
           "#636efa",
           "#EF553B",
           "#00cc96",
           "#ab63fa",
           "#FFA15A",
           "#19d3f3",
           "#FF6692",
           "#B6E880",
           "#FF97FF",
           "#FECB52"
          ],
          "font": {
           "color": "#2a3f5f"
          },
          "geo": {
           "bgcolor": "white",
           "lakecolor": "white",
           "landcolor": "#E5ECF6",
           "showlakes": true,
           "showland": true,
           "subunitcolor": "white"
          },
          "hoverlabel": {
           "align": "left"
          },
          "hovermode": "closest",
          "mapbox": {
           "style": "light"
          },
          "paper_bgcolor": "white",
          "plot_bgcolor": "#E5ECF6",
          "polar": {
           "angularaxis": {
            "gridcolor": "white",
            "linecolor": "white",
            "ticks": ""
           },
           "bgcolor": "#E5ECF6",
           "radialaxis": {
            "gridcolor": "white",
            "linecolor": "white",
            "ticks": ""
           }
          },
          "scene": {
           "xaxis": {
            "backgroundcolor": "#E5ECF6",
            "gridcolor": "white",
            "gridwidth": 2,
            "linecolor": "white",
            "showbackground": true,
            "ticks": "",
            "zerolinecolor": "white"
           },
           "yaxis": {
            "backgroundcolor": "#E5ECF6",
            "gridcolor": "white",
            "gridwidth": 2,
            "linecolor": "white",
            "showbackground": true,
            "ticks": "",
            "zerolinecolor": "white"
           },
           "zaxis": {
            "backgroundcolor": "#E5ECF6",
            "gridcolor": "white",
            "gridwidth": 2,
            "linecolor": "white",
            "showbackground": true,
            "ticks": "",
            "zerolinecolor": "white"
           }
          },
          "shapedefaults": {
           "line": {
            "color": "#2a3f5f"
           }
          },
          "ternary": {
           "aaxis": {
            "gridcolor": "white",
            "linecolor": "white",
            "ticks": ""
           },
           "baxis": {
            "gridcolor": "white",
            "linecolor": "white",
            "ticks": ""
           },
           "bgcolor": "#E5ECF6",
           "caxis": {
            "gridcolor": "white",
            "linecolor": "white",
            "ticks": ""
           }
          },
          "title": {
           "x": 0.05
          },
          "xaxis": {
           "automargin": true,
           "gridcolor": "white",
           "linecolor": "white",
           "ticks": "",
           "title": {
            "standoff": 15
           },
           "zerolinecolor": "white",
           "zerolinewidth": 2
          },
          "yaxis": {
           "automargin": true,
           "gridcolor": "white",
           "linecolor": "white",
           "ticks": "",
           "title": {
            "standoff": 15
           },
           "zerolinecolor": "white",
           "zerolinewidth": 2
          }
         }
        },
        "title": {
         "text": "Hyperparameter Importances"
        },
        "xaxis": {
         "title": {
          "text": "Hyperparameter Importance"
         }
        },
        "yaxis": {
         "title": {
          "text": "Hyperparameter"
         }
        }
       }
      }
     },
     "metadata": {},
     "output_type": "display_data"
    }
   ],
   "source": [
    "plot_param_importances(study_2)"
   ]
  },
  {
   "cell_type": "code",
   "execution_count": 22,
   "metadata": {},
   "outputs": [],
   "source": [
    "import sklearn.naive_bayes\n",
    "\n",
    "\n",
    "def objective(trial):\n",
    "    classes = list(set(cancer.target))\n",
    "    train_x, valid_x, train_y, valid_y = sklearn.model_selection.train_test_split(\n",
    "        cancer.data, cancer.target, test_size=0.25, random_state=0\n",
    "    )\n",
    "\n",
    "    alpha = trial.suggest_loguniform(\"alpha\", 1e-4, 1e4)\n",
    "    force_alpha = trial.suggest_categorical(\"force_alpha\", [1, 0])\n",
    "    fit_prior = trial.suggest_categorical(\"fit_prior\", [1, 0])\n",
    "    reg = sklearn.naive_bayes.MultinomialNB(alpha=alpha, force_alpha=force_alpha, fit_prior=fit_prior)\n",
    "\n",
    "    #reg.fit(train_x, train_y)\n",
    "    for step in range(100):\n",
    "        reg.partial_fit(train_x, train_y,classes=classes)\n",
    "\n",
    "        # Report intermediate objective value.\n",
    "        intermediate_value = 1 - reg.score(valid_x, valid_y)\n",
    "        trial.report(intermediate_value, step)\n",
    "\n",
    "        # Handle pruning based on the intermediate value.\n",
    "        if trial.should_prune():\n",
    "            raise optuna.TrialPruned()\n",
    "    #pred_y = reg.predict(valid_x)\n",
    "    #accuracy = accuracy_score(valid_y, pred_y)\n",
    "    return 1 - reg.score(valid_x, valid_y)"
   ]
  },
  {
   "cell_type": "code",
   "execution_count": 23,
   "metadata": {},
   "outputs": [
    {
     "name": "stderr",
     "output_type": "stream",
     "text": [
      "[I 2024-12-23 14:34:09,472] A new study created in memory with name: no-name-178a7edb-a651-4af1-802a-bbc183acc5c5\n"
     ]
    },
    {
     "name": "stdout",
     "output_type": "stream",
     "text": [
      "A new study created in memory with name: no-name-178a7edb-a651-4af1-802a-bbc183acc5c5\n",
      "A new study created in memory with name: no-name-178a7edb-a651-4af1-802a-bbc183acc5c5\n",
      "A new study created in memory with name: no-name-178a7edb-a651-4af1-802a-bbc183acc5c5\n",
      "A new study created in memory with name: no-name-178a7edb-a651-4af1-802a-bbc183acc5c5\n"
     ]
    },
    {
     "name": "stderr",
     "output_type": "stream",
     "text": [
      "[I 2024-12-23 14:34:09,477] A new study created in memory with name: no-name-7d634f88-3d17-4723-a952-a79988956bf8\n"
     ]
    },
    {
     "name": "stdout",
     "output_type": "stream",
     "text": [
      "A new study created in memory with name: no-name-7d634f88-3d17-4723-a952-a79988956bf8\n",
      "A new study created in memory with name: no-name-7d634f88-3d17-4723-a952-a79988956bf8\n",
      "A new study created in memory with name: no-name-7d634f88-3d17-4723-a952-a79988956bf8\n",
      "A new study created in memory with name: no-name-7d634f88-3d17-4723-a952-a79988956bf8\n"
     ]
    },
    {
     "name": "stderr",
     "output_type": "stream",
     "text": [
      "C:\\Users\\ivanm\\AppData\\Local\\Temp\\ipykernel_5188\\4256399241.py:10: FutureWarning:\n",
      "\n",
      "suggest_loguniform has been deprecated in v3.0.0. This feature will be removed in v6.0.0. See https://github.com/optuna/optuna/releases/tag/v3.0.0. Use suggest_float(..., log=True) instead.\n",
      "\n",
      "c:\\Users\\ivanm\\AppData\\Local\\Programs\\Python\\Python39\\lib\\site-packages\\sklearn\\utils\\_param_validation.py:558: FutureWarning:\n",
      "\n",
      "Passing an int for a boolean parameter is deprecated in version 1.2 and won't be supported anymore in version 1.4.\n",
      "\n",
      "[I 2024-12-23 14:34:09,597] Trial 0 finished with value: 0.09790209790209792 and parameters: {'alpha': 0.017071282038163386, 'force_alpha': 0, 'fit_prior': 0}. Best is trial 0 with value: 0.09790209790209792.\n"
     ]
    },
    {
     "name": "stdout",
     "output_type": "stream",
     "text": [
      "Trial 0 finished with value: 0.09790209790209792 and parameters: {'alpha': 0.017071282038163386, 'force_alpha': 0, 'fit_prior': 0}. Best is trial 0 with value: 0.09790209790209792.\n",
      "Trial 0 finished with value: 0.09790209790209792 and parameters: {'alpha': 0.017071282038163386, 'force_alpha': 0, 'fit_prior': 0}. Best is trial 0 with value: 0.09790209790209792.\n",
      "Trial 0 finished with value: 0.09790209790209792 and parameters: {'alpha': 0.017071282038163386, 'force_alpha': 0, 'fit_prior': 0}. Best is trial 0 with value: 0.09790209790209792.\n",
      "Trial 0 finished with value: 0.09790209790209792 and parameters: {'alpha': 0.017071282038163386, 'force_alpha': 0, 'fit_prior': 0}. Best is trial 0 with value: 0.09790209790209792.\n"
     ]
    },
    {
     "name": "stderr",
     "output_type": "stream",
     "text": [
      "C:\\Users\\ivanm\\AppData\\Local\\Temp\\ipykernel_5188\\4256399241.py:10: FutureWarning:\n",
      "\n",
      "suggest_loguniform has been deprecated in v3.0.0. This feature will be removed in v6.0.0. See https://github.com/optuna/optuna/releases/tag/v3.0.0. Use suggest_float(..., log=True) instead.\n",
      "\n",
      "c:\\Users\\ivanm\\AppData\\Local\\Programs\\Python\\Python39\\lib\\site-packages\\sklearn\\utils\\_param_validation.py:558: FutureWarning:\n",
      "\n",
      "Passing an int for a boolean parameter is deprecated in version 1.2 and won't be supported anymore in version 1.4.\n",
      "\n",
      "[I 2024-12-23 14:34:09,698] Trial 1 finished with value: 0.09790209790209792 and parameters: {'alpha': 1.9812961471306607, 'force_alpha': 1, 'fit_prior': 1}. Best is trial 0 with value: 0.09790209790209792.\n"
     ]
    },
    {
     "name": "stdout",
     "output_type": "stream",
     "text": [
      "Trial 1 finished with value: 0.09790209790209792 and parameters: {'alpha': 1.9812961471306607, 'force_alpha': 1, 'fit_prior': 1}. Best is trial 0 with value: 0.09790209790209792.\n",
      "Trial 1 finished with value: 0.09790209790209792 and parameters: {'alpha': 1.9812961471306607, 'force_alpha': 1, 'fit_prior': 1}. Best is trial 0 with value: 0.09790209790209792.\n",
      "Trial 1 finished with value: 0.09790209790209792 and parameters: {'alpha': 1.9812961471306607, 'force_alpha': 1, 'fit_prior': 1}. Best is trial 0 with value: 0.09790209790209792.\n",
      "Trial 1 finished with value: 0.09790209790209792 and parameters: {'alpha': 1.9812961471306607, 'force_alpha': 1, 'fit_prior': 1}. Best is trial 0 with value: 0.09790209790209792.\n"
     ]
    },
    {
     "name": "stderr",
     "output_type": "stream",
     "text": [
      "C:\\Users\\ivanm\\AppData\\Local\\Temp\\ipykernel_5188\\4256399241.py:10: FutureWarning:\n",
      "\n",
      "suggest_loguniform has been deprecated in v3.0.0. This feature will be removed in v6.0.0. See https://github.com/optuna/optuna/releases/tag/v3.0.0. Use suggest_float(..., log=True) instead.\n",
      "\n",
      "c:\\Users\\ivanm\\AppData\\Local\\Programs\\Python\\Python39\\lib\\site-packages\\sklearn\\utils\\_param_validation.py:558: FutureWarning:\n",
      "\n",
      "Passing an int for a boolean parameter is deprecated in version 1.2 and won't be supported anymore in version 1.4.\n",
      "\n",
      "[I 2024-12-23 14:34:09,828] Trial 2 finished with value: 0.09790209790209792 and parameters: {'alpha': 114.61829709950209, 'force_alpha': 0, 'fit_prior': 1}. Best is trial 0 with value: 0.09790209790209792.\n"
     ]
    },
    {
     "name": "stdout",
     "output_type": "stream",
     "text": [
      "Trial 2 finished with value: 0.09790209790209792 and parameters: {'alpha': 114.61829709950209, 'force_alpha': 0, 'fit_prior': 1}. Best is trial 0 with value: 0.09790209790209792.\n",
      "Trial 2 finished with value: 0.09790209790209792 and parameters: {'alpha': 114.61829709950209, 'force_alpha': 0, 'fit_prior': 1}. Best is trial 0 with value: 0.09790209790209792.\n",
      "Trial 2 finished with value: 0.09790209790209792 and parameters: {'alpha': 114.61829709950209, 'force_alpha': 0, 'fit_prior': 1}. Best is trial 0 with value: 0.09790209790209792.\n",
      "Trial 2 finished with value: 0.09790209790209792 and parameters: {'alpha': 114.61829709950209, 'force_alpha': 0, 'fit_prior': 1}. Best is trial 0 with value: 0.09790209790209792.\n"
     ]
    },
    {
     "name": "stderr",
     "output_type": "stream",
     "text": [
      "C:\\Users\\ivanm\\AppData\\Local\\Temp\\ipykernel_5188\\4256399241.py:10: FutureWarning:\n",
      "\n",
      "suggest_loguniform has been deprecated in v3.0.0. This feature will be removed in v6.0.0. See https://github.com/optuna/optuna/releases/tag/v3.0.0. Use suggest_float(..., log=True) instead.\n",
      "\n",
      "c:\\Users\\ivanm\\AppData\\Local\\Programs\\Python\\Python39\\lib\\site-packages\\sklearn\\utils\\_param_validation.py:558: FutureWarning:\n",
      "\n",
      "Passing an int for a boolean parameter is deprecated in version 1.2 and won't be supported anymore in version 1.4.\n",
      "\n",
      "[I 2024-12-23 14:34:09,929] Trial 3 finished with value: 0.09790209790209792 and parameters: {'alpha': 111.53640626743952, 'force_alpha': 1, 'fit_prior': 0}. Best is trial 0 with value: 0.09790209790209792.\n"
     ]
    },
    {
     "name": "stdout",
     "output_type": "stream",
     "text": [
      "Trial 3 finished with value: 0.09790209790209792 and parameters: {'alpha': 111.53640626743952, 'force_alpha': 1, 'fit_prior': 0}. Best is trial 0 with value: 0.09790209790209792.\n",
      "Trial 3 finished with value: 0.09790209790209792 and parameters: {'alpha': 111.53640626743952, 'force_alpha': 1, 'fit_prior': 0}. Best is trial 0 with value: 0.09790209790209792.\n",
      "Trial 3 finished with value: 0.09790209790209792 and parameters: {'alpha': 111.53640626743952, 'force_alpha': 1, 'fit_prior': 0}. Best is trial 0 with value: 0.09790209790209792.\n",
      "Trial 3 finished with value: 0.09790209790209792 and parameters: {'alpha': 111.53640626743952, 'force_alpha': 1, 'fit_prior': 0}. Best is trial 0 with value: 0.09790209790209792.\n"
     ]
    },
    {
     "name": "stderr",
     "output_type": "stream",
     "text": [
      "C:\\Users\\ivanm\\AppData\\Local\\Temp\\ipykernel_5188\\4256399241.py:10: FutureWarning:\n",
      "\n",
      "suggest_loguniform has been deprecated in v3.0.0. This feature will be removed in v6.0.0. See https://github.com/optuna/optuna/releases/tag/v3.0.0. Use suggest_float(..., log=True) instead.\n",
      "\n",
      "c:\\Users\\ivanm\\AppData\\Local\\Programs\\Python\\Python39\\lib\\site-packages\\sklearn\\utils\\_param_validation.py:558: FutureWarning:\n",
      "\n",
      "Passing an int for a boolean parameter is deprecated in version 1.2 and won't be supported anymore in version 1.4.\n",
      "\n",
      "[I 2024-12-23 14:34:10,028] Trial 4 finished with value: 0.09790209790209792 and parameters: {'alpha': 0.000289226850918605, 'force_alpha': 1, 'fit_prior': 0}. Best is trial 0 with value: 0.09790209790209792.\n"
     ]
    },
    {
     "name": "stdout",
     "output_type": "stream",
     "text": [
      "Trial 4 finished with value: 0.09790209790209792 and parameters: {'alpha': 0.000289226850918605, 'force_alpha': 1, 'fit_prior': 0}. Best is trial 0 with value: 0.09790209790209792.\n",
      "Trial 4 finished with value: 0.09790209790209792 and parameters: {'alpha': 0.000289226850918605, 'force_alpha': 1, 'fit_prior': 0}. Best is trial 0 with value: 0.09790209790209792.\n",
      "Trial 4 finished with value: 0.09790209790209792 and parameters: {'alpha': 0.000289226850918605, 'force_alpha': 1, 'fit_prior': 0}. Best is trial 0 with value: 0.09790209790209792.\n",
      "Trial 4 finished with value: 0.09790209790209792 and parameters: {'alpha': 0.000289226850918605, 'force_alpha': 1, 'fit_prior': 0}. Best is trial 0 with value: 0.09790209790209792.\n"
     ]
    },
    {
     "name": "stderr",
     "output_type": "stream",
     "text": [
      "C:\\Users\\ivanm\\AppData\\Local\\Temp\\ipykernel_5188\\4256399241.py:10: FutureWarning:\n",
      "\n",
      "suggest_loguniform has been deprecated in v3.0.0. This feature will be removed in v6.0.0. See https://github.com/optuna/optuna/releases/tag/v3.0.0. Use suggest_float(..., log=True) instead.\n",
      "\n",
      "c:\\Users\\ivanm\\AppData\\Local\\Programs\\Python\\Python39\\lib\\site-packages\\sklearn\\utils\\_param_validation.py:558: FutureWarning:\n",
      "\n",
      "Passing an int for a boolean parameter is deprecated in version 1.2 and won't be supported anymore in version 1.4.\n",
      "\n",
      "[I 2024-12-23 14:34:10,150] Trial 5 finished with value: 0.09790209790209792 and parameters: {'alpha': 0.0006945691212574149, 'force_alpha': 0, 'fit_prior': 1}. Best is trial 0 with value: 0.09790209790209792.\n"
     ]
    },
    {
     "name": "stdout",
     "output_type": "stream",
     "text": [
      "Trial 5 finished with value: 0.09790209790209792 and parameters: {'alpha': 0.0006945691212574149, 'force_alpha': 0, 'fit_prior': 1}. Best is trial 0 with value: 0.09790209790209792.\n",
      "Trial 5 finished with value: 0.09790209790209792 and parameters: {'alpha': 0.0006945691212574149, 'force_alpha': 0, 'fit_prior': 1}. Best is trial 0 with value: 0.09790209790209792.\n",
      "Trial 5 finished with value: 0.09790209790209792 and parameters: {'alpha': 0.0006945691212574149, 'force_alpha': 0, 'fit_prior': 1}. Best is trial 0 with value: 0.09790209790209792.\n",
      "Trial 5 finished with value: 0.09790209790209792 and parameters: {'alpha': 0.0006945691212574149, 'force_alpha': 0, 'fit_prior': 1}. Best is trial 0 with value: 0.09790209790209792.\n"
     ]
    },
    {
     "name": "stderr",
     "output_type": "stream",
     "text": [
      "C:\\Users\\ivanm\\AppData\\Local\\Temp\\ipykernel_5188\\4256399241.py:10: FutureWarning:\n",
      "\n",
      "suggest_loguniform has been deprecated in v3.0.0. This feature will be removed in v6.0.0. See https://github.com/optuna/optuna/releases/tag/v3.0.0. Use suggest_float(..., log=True) instead.\n",
      "\n",
      "c:\\Users\\ivanm\\AppData\\Local\\Programs\\Python\\Python39\\lib\\site-packages\\sklearn\\utils\\_param_validation.py:558: FutureWarning:\n",
      "\n",
      "Passing an int for a boolean parameter is deprecated in version 1.2 and won't be supported anymore in version 1.4.\n",
      "\n",
      "[I 2024-12-23 14:34:10,283] Trial 6 finished with value: 0.09790209790209792 and parameters: {'alpha': 1836.7419728619388, 'force_alpha': 0, 'fit_prior': 1}. Best is trial 0 with value: 0.09790209790209792.\n"
     ]
    },
    {
     "name": "stdout",
     "output_type": "stream",
     "text": [
      "Trial 6 finished with value: 0.09790209790209792 and parameters: {'alpha': 1836.7419728619388, 'force_alpha': 0, 'fit_prior': 1}. Best is trial 0 with value: 0.09790209790209792.\n",
      "Trial 6 finished with value: 0.09790209790209792 and parameters: {'alpha': 1836.7419728619388, 'force_alpha': 0, 'fit_prior': 1}. Best is trial 0 with value: 0.09790209790209792.\n",
      "Trial 6 finished with value: 0.09790209790209792 and parameters: {'alpha': 1836.7419728619388, 'force_alpha': 0, 'fit_prior': 1}. Best is trial 0 with value: 0.09790209790209792.\n",
      "Trial 6 finished with value: 0.09790209790209792 and parameters: {'alpha': 1836.7419728619388, 'force_alpha': 0, 'fit_prior': 1}. Best is trial 0 with value: 0.09790209790209792.\n"
     ]
    },
    {
     "name": "stderr",
     "output_type": "stream",
     "text": [
      "C:\\Users\\ivanm\\AppData\\Local\\Temp\\ipykernel_5188\\4256399241.py:10: FutureWarning:\n",
      "\n",
      "suggest_loguniform has been deprecated in v3.0.0. This feature will be removed in v6.0.0. See https://github.com/optuna/optuna/releases/tag/v3.0.0. Use suggest_float(..., log=True) instead.\n",
      "\n",
      "c:\\Users\\ivanm\\AppData\\Local\\Programs\\Python\\Python39\\lib\\site-packages\\sklearn\\utils\\_param_validation.py:558: FutureWarning:\n",
      "\n",
      "Passing an int for a boolean parameter is deprecated in version 1.2 and won't be supported anymore in version 1.4.\n",
      "\n",
      "[I 2024-12-23 14:34:10,401] Trial 7 finished with value: 0.09790209790209792 and parameters: {'alpha': 45.64904869795427, 'force_alpha': 0, 'fit_prior': 0}. Best is trial 0 with value: 0.09790209790209792.\n"
     ]
    },
    {
     "name": "stdout",
     "output_type": "stream",
     "text": [
      "Trial 7 finished with value: 0.09790209790209792 and parameters: {'alpha': 45.64904869795427, 'force_alpha': 0, 'fit_prior': 0}. Best is trial 0 with value: 0.09790209790209792.\n",
      "Trial 7 finished with value: 0.09790209790209792 and parameters: {'alpha': 45.64904869795427, 'force_alpha': 0, 'fit_prior': 0}. Best is trial 0 with value: 0.09790209790209792.\n",
      "Trial 7 finished with value: 0.09790209790209792 and parameters: {'alpha': 45.64904869795427, 'force_alpha': 0, 'fit_prior': 0}. Best is trial 0 with value: 0.09790209790209792.\n",
      "Trial 7 finished with value: 0.09790209790209792 and parameters: {'alpha': 45.64904869795427, 'force_alpha': 0, 'fit_prior': 0}. Best is trial 0 with value: 0.09790209790209792.\n"
     ]
    },
    {
     "name": "stderr",
     "output_type": "stream",
     "text": [
      "C:\\Users\\ivanm\\AppData\\Local\\Temp\\ipykernel_5188\\4256399241.py:10: FutureWarning:\n",
      "\n",
      "suggest_loguniform has been deprecated in v3.0.0. This feature will be removed in v6.0.0. See https://github.com/optuna/optuna/releases/tag/v3.0.0. Use suggest_float(..., log=True) instead.\n",
      "\n",
      "c:\\Users\\ivanm\\AppData\\Local\\Programs\\Python\\Python39\\lib\\site-packages\\sklearn\\utils\\_param_validation.py:558: FutureWarning:\n",
      "\n",
      "Passing an int for a boolean parameter is deprecated in version 1.2 and won't be supported anymore in version 1.4.\n",
      "\n",
      "[I 2024-12-23 14:34:10,524] Trial 8 finished with value: 0.09790209790209792 and parameters: {'alpha': 1981.929504221733, 'force_alpha': 0, 'fit_prior': 1}. Best is trial 0 with value: 0.09790209790209792.\n"
     ]
    },
    {
     "name": "stdout",
     "output_type": "stream",
     "text": [
      "Trial 8 finished with value: 0.09790209790209792 and parameters: {'alpha': 1981.929504221733, 'force_alpha': 0, 'fit_prior': 1}. Best is trial 0 with value: 0.09790209790209792.\n",
      "Trial 8 finished with value: 0.09790209790209792 and parameters: {'alpha': 1981.929504221733, 'force_alpha': 0, 'fit_prior': 1}. Best is trial 0 with value: 0.09790209790209792.\n",
      "Trial 8 finished with value: 0.09790209790209792 and parameters: {'alpha': 1981.929504221733, 'force_alpha': 0, 'fit_prior': 1}. Best is trial 0 with value: 0.09790209790209792.\n",
      "Trial 8 finished with value: 0.09790209790209792 and parameters: {'alpha': 1981.929504221733, 'force_alpha': 0, 'fit_prior': 1}. Best is trial 0 with value: 0.09790209790209792.\n"
     ]
    },
    {
     "name": "stderr",
     "output_type": "stream",
     "text": [
      "C:\\Users\\ivanm\\AppData\\Local\\Temp\\ipykernel_5188\\4256399241.py:10: FutureWarning:\n",
      "\n",
      "suggest_loguniform has been deprecated in v3.0.0. This feature will be removed in v6.0.0. See https://github.com/optuna/optuna/releases/tag/v3.0.0. Use suggest_float(..., log=True) instead.\n",
      "\n",
      "c:\\Users\\ivanm\\AppData\\Local\\Programs\\Python\\Python39\\lib\\site-packages\\sklearn\\utils\\_param_validation.py:558: FutureWarning:\n",
      "\n",
      "Passing an int for a boolean parameter is deprecated in version 1.2 and won't be supported anymore in version 1.4.\n",
      "\n",
      "[I 2024-12-23 14:34:10,660] Trial 9 finished with value: 0.09790209790209792 and parameters: {'alpha': 464.3464061956712, 'force_alpha': 0, 'fit_prior': 1}. Best is trial 0 with value: 0.09790209790209792.\n"
     ]
    },
    {
     "name": "stdout",
     "output_type": "stream",
     "text": [
      "Trial 9 finished with value: 0.09790209790209792 and parameters: {'alpha': 464.3464061956712, 'force_alpha': 0, 'fit_prior': 1}. Best is trial 0 with value: 0.09790209790209792.\n",
      "Trial 9 finished with value: 0.09790209790209792 and parameters: {'alpha': 464.3464061956712, 'force_alpha': 0, 'fit_prior': 1}. Best is trial 0 with value: 0.09790209790209792.\n",
      "Trial 9 finished with value: 0.09790209790209792 and parameters: {'alpha': 464.3464061956712, 'force_alpha': 0, 'fit_prior': 1}. Best is trial 0 with value: 0.09790209790209792.\n",
      "Trial 9 finished with value: 0.09790209790209792 and parameters: {'alpha': 464.3464061956712, 'force_alpha': 0, 'fit_prior': 1}. Best is trial 0 with value: 0.09790209790209792.\n"
     ]
    },
    {
     "name": "stderr",
     "output_type": "stream",
     "text": [
      "C:\\Users\\ivanm\\AppData\\Local\\Temp\\ipykernel_5188\\4256399241.py:10: FutureWarning:\n",
      "\n",
      "suggest_loguniform has been deprecated in v3.0.0. This feature will be removed in v6.0.0. See https://github.com/optuna/optuna/releases/tag/v3.0.0. Use suggest_float(..., log=True) instead.\n",
      "\n",
      "c:\\Users\\ivanm\\AppData\\Local\\Programs\\Python\\Python39\\lib\\site-packages\\sklearn\\utils\\_param_validation.py:558: FutureWarning:\n",
      "\n",
      "Passing an int for a boolean parameter is deprecated in version 1.2 and won't be supported anymore in version 1.4.\n",
      "\n",
      "[I 2024-12-23 14:34:10,667] Trial 10 pruned. \n"
     ]
    },
    {
     "name": "stdout",
     "output_type": "stream",
     "text": [
      "Trial 10 pruned. \n",
      "Trial 10 pruned. \n",
      "Trial 10 pruned. \n",
      "Trial 10 pruned. \n"
     ]
    },
    {
     "name": "stderr",
     "output_type": "stream",
     "text": [
      "C:\\Users\\ivanm\\AppData\\Local\\Temp\\ipykernel_5188\\4256399241.py:10: FutureWarning:\n",
      "\n",
      "suggest_loguniform has been deprecated in v3.0.0. This feature will be removed in v6.0.0. See https://github.com/optuna/optuna/releases/tag/v3.0.0. Use suggest_float(..., log=True) instead.\n",
      "\n",
      "c:\\Users\\ivanm\\AppData\\Local\\Programs\\Python\\Python39\\lib\\site-packages\\sklearn\\utils\\_param_validation.py:558: FutureWarning:\n",
      "\n",
      "Passing an int for a boolean parameter is deprecated in version 1.2 and won't be supported anymore in version 1.4.\n",
      "\n",
      "[I 2024-12-23 14:34:10,677] Trial 11 pruned. \n"
     ]
    },
    {
     "name": "stdout",
     "output_type": "stream",
     "text": [
      "Trial 11 pruned. \n",
      "Trial 11 pruned. \n",
      "Trial 11 pruned. \n",
      "Trial 11 pruned. \n"
     ]
    },
    {
     "name": "stderr",
     "output_type": "stream",
     "text": [
      "C:\\Users\\ivanm\\AppData\\Local\\Temp\\ipykernel_5188\\4256399241.py:10: FutureWarning:\n",
      "\n",
      "suggest_loguniform has been deprecated in v3.0.0. This feature will be removed in v6.0.0. See https://github.com/optuna/optuna/releases/tag/v3.0.0. Use suggest_float(..., log=True) instead.\n",
      "\n",
      "c:\\Users\\ivanm\\AppData\\Local\\Programs\\Python\\Python39\\lib\\site-packages\\sklearn\\utils\\_param_validation.py:558: FutureWarning:\n",
      "\n",
      "Passing an int for a boolean parameter is deprecated in version 1.2 and won't be supported anymore in version 1.4.\n",
      "\n",
      "[I 2024-12-23 14:34:10,687] Trial 12 pruned. \n"
     ]
    },
    {
     "name": "stdout",
     "output_type": "stream",
     "text": [
      "Trial 12 pruned. \n",
      "Trial 12 pruned. \n",
      "Trial 12 pruned. \n",
      "Trial 12 pruned. \n"
     ]
    },
    {
     "name": "stderr",
     "output_type": "stream",
     "text": [
      "C:\\Users\\ivanm\\AppData\\Local\\Temp\\ipykernel_5188\\4256399241.py:10: FutureWarning:\n",
      "\n",
      "suggest_loguniform has been deprecated in v3.0.0. This feature will be removed in v6.0.0. See https://github.com/optuna/optuna/releases/tag/v3.0.0. Use suggest_float(..., log=True) instead.\n",
      "\n",
      "c:\\Users\\ivanm\\AppData\\Local\\Programs\\Python\\Python39\\lib\\site-packages\\sklearn\\utils\\_param_validation.py:558: FutureWarning:\n",
      "\n",
      "Passing an int for a boolean parameter is deprecated in version 1.2 and won't be supported anymore in version 1.4.\n",
      "\n",
      "[I 2024-12-23 14:34:10,830] Trial 13 finished with value: 0.1048951048951049 and parameters: {'alpha': 3509.1000162774753, 'force_alpha': 0, 'fit_prior': 1}. Best is trial 13 with value: 0.1048951048951049.\n"
     ]
    },
    {
     "name": "stdout",
     "output_type": "stream",
     "text": [
      "Trial 13 finished with value: 0.1048951048951049 and parameters: {'alpha': 3509.1000162774753, 'force_alpha': 0, 'fit_prior': 1}. Best is trial 13 with value: 0.1048951048951049.\n",
      "Trial 13 finished with value: 0.1048951048951049 and parameters: {'alpha': 3509.1000162774753, 'force_alpha': 0, 'fit_prior': 1}. Best is trial 13 with value: 0.1048951048951049.\n",
      "Trial 13 finished with value: 0.1048951048951049 and parameters: {'alpha': 3509.1000162774753, 'force_alpha': 0, 'fit_prior': 1}. Best is trial 13 with value: 0.1048951048951049.\n",
      "Trial 13 finished with value: 0.1048951048951049 and parameters: {'alpha': 3509.1000162774753, 'force_alpha': 0, 'fit_prior': 1}. Best is trial 13 with value: 0.1048951048951049.\n"
     ]
    },
    {
     "name": "stderr",
     "output_type": "stream",
     "text": [
      "C:\\Users\\ivanm\\AppData\\Local\\Temp\\ipykernel_5188\\4256399241.py:10: FutureWarning:\n",
      "\n",
      "suggest_loguniform has been deprecated in v3.0.0. This feature will be removed in v6.0.0. See https://github.com/optuna/optuna/releases/tag/v3.0.0. Use suggest_float(..., log=True) instead.\n",
      "\n",
      "c:\\Users\\ivanm\\AppData\\Local\\Programs\\Python\\Python39\\lib\\site-packages\\sklearn\\utils\\_param_validation.py:558: FutureWarning:\n",
      "\n",
      "Passing an int for a boolean parameter is deprecated in version 1.2 and won't be supported anymore in version 1.4.\n",
      "\n",
      "[I 2024-12-23 14:34:10,837] Trial 14 pruned. \n"
     ]
    },
    {
     "name": "stdout",
     "output_type": "stream",
     "text": [
      "Trial 14 pruned. \n",
      "Trial 14 pruned. \n",
      "Trial 14 pruned. \n",
      "Trial 14 pruned. \n"
     ]
    },
    {
     "name": "stderr",
     "output_type": "stream",
     "text": [
      "C:\\Users\\ivanm\\AppData\\Local\\Temp\\ipykernel_5188\\4256399241.py:10: FutureWarning:\n",
      "\n",
      "suggest_loguniform has been deprecated in v3.0.0. This feature will be removed in v6.0.0. See https://github.com/optuna/optuna/releases/tag/v3.0.0. Use suggest_float(..., log=True) instead.\n",
      "\n",
      "c:\\Users\\ivanm\\AppData\\Local\\Programs\\Python\\Python39\\lib\\site-packages\\sklearn\\utils\\_param_validation.py:558: FutureWarning:\n",
      "\n",
      "Passing an int for a boolean parameter is deprecated in version 1.2 and won't be supported anymore in version 1.4.\n",
      "\n",
      "[I 2024-12-23 14:34:10,844] Trial 15 pruned. \n"
     ]
    },
    {
     "name": "stdout",
     "output_type": "stream",
     "text": [
      "Trial 15 pruned. \n",
      "Trial 15 pruned. \n",
      "Trial 15 pruned. \n",
      "Trial 15 pruned. \n"
     ]
    },
    {
     "name": "stderr",
     "output_type": "stream",
     "text": [
      "C:\\Users\\ivanm\\AppData\\Local\\Temp\\ipykernel_5188\\4256399241.py:10: FutureWarning:\n",
      "\n",
      "suggest_loguniform has been deprecated in v3.0.0. This feature will be removed in v6.0.0. See https://github.com/optuna/optuna/releases/tag/v3.0.0. Use suggest_float(..., log=True) instead.\n",
      "\n",
      "c:\\Users\\ivanm\\AppData\\Local\\Programs\\Python\\Python39\\lib\\site-packages\\sklearn\\utils\\_param_validation.py:558: FutureWarning:\n",
      "\n",
      "Passing an int for a boolean parameter is deprecated in version 1.2 and won't be supported anymore in version 1.4.\n",
      "\n",
      "[I 2024-12-23 14:34:10,851] Trial 16 pruned. \n"
     ]
    },
    {
     "name": "stdout",
     "output_type": "stream",
     "text": [
      "Trial 16 pruned. \n",
      "Trial 16 pruned. \n",
      "Trial 16 pruned. \n",
      "Trial 16 pruned. \n"
     ]
    },
    {
     "name": "stderr",
     "output_type": "stream",
     "text": [
      "C:\\Users\\ivanm\\AppData\\Local\\Temp\\ipykernel_5188\\4256399241.py:10: FutureWarning:\n",
      "\n",
      "suggest_loguniform has been deprecated in v3.0.0. This feature will be removed in v6.0.0. See https://github.com/optuna/optuna/releases/tag/v3.0.0. Use suggest_float(..., log=True) instead.\n",
      "\n",
      "c:\\Users\\ivanm\\AppData\\Local\\Programs\\Python\\Python39\\lib\\site-packages\\sklearn\\utils\\_param_validation.py:558: FutureWarning:\n",
      "\n",
      "Passing an int for a boolean parameter is deprecated in version 1.2 and won't be supported anymore in version 1.4.\n",
      "\n",
      "[I 2024-12-23 14:34:10,857] Trial 17 pruned. \n"
     ]
    },
    {
     "name": "stdout",
     "output_type": "stream",
     "text": [
      "Trial 17 pruned. \n",
      "Trial 17 pruned. \n",
      "Trial 17 pruned. \n",
      "Trial 17 pruned. \n"
     ]
    },
    {
     "name": "stderr",
     "output_type": "stream",
     "text": [
      "C:\\Users\\ivanm\\AppData\\Local\\Temp\\ipykernel_5188\\4256399241.py:10: FutureWarning:\n",
      "\n",
      "suggest_loguniform has been deprecated in v3.0.0. This feature will be removed in v6.0.0. See https://github.com/optuna/optuna/releases/tag/v3.0.0. Use suggest_float(..., log=True) instead.\n",
      "\n",
      "c:\\Users\\ivanm\\AppData\\Local\\Programs\\Python\\Python39\\lib\\site-packages\\sklearn\\utils\\_param_validation.py:558: FutureWarning:\n",
      "\n",
      "Passing an int for a boolean parameter is deprecated in version 1.2 and won't be supported anymore in version 1.4.\n",
      "\n",
      "[I 2024-12-23 14:34:10,865] Trial 18 pruned. \n"
     ]
    },
    {
     "name": "stdout",
     "output_type": "stream",
     "text": [
      "Trial 18 pruned. \n",
      "Trial 18 pruned. \n",
      "Trial 18 pruned. \n",
      "Trial 18 pruned. \n"
     ]
    },
    {
     "name": "stderr",
     "output_type": "stream",
     "text": [
      "C:\\Users\\ivanm\\AppData\\Local\\Temp\\ipykernel_5188\\4256399241.py:10: FutureWarning:\n",
      "\n",
      "suggest_loguniform has been deprecated in v3.0.0. This feature will be removed in v6.0.0. See https://github.com/optuna/optuna/releases/tag/v3.0.0. Use suggest_float(..., log=True) instead.\n",
      "\n",
      "c:\\Users\\ivanm\\AppData\\Local\\Programs\\Python\\Python39\\lib\\site-packages\\sklearn\\utils\\_param_validation.py:558: FutureWarning:\n",
      "\n",
      "Passing an int for a boolean parameter is deprecated in version 1.2 and won't be supported anymore in version 1.4.\n",
      "\n",
      "[I 2024-12-23 14:34:10,872] Trial 19 pruned. \n"
     ]
    },
    {
     "name": "stdout",
     "output_type": "stream",
     "text": [
      "Trial 19 pruned. \n",
      "Trial 19 pruned. \n",
      "Trial 19 pruned. \n",
      "Trial 19 pruned. \n"
     ]
    },
    {
     "name": "stderr",
     "output_type": "stream",
     "text": [
      "C:\\Users\\ivanm\\AppData\\Local\\Temp\\ipykernel_5188\\4256399241.py:10: FutureWarning:\n",
      "\n",
      "suggest_loguniform has been deprecated in v3.0.0. This feature will be removed in v6.0.0. See https://github.com/optuna/optuna/releases/tag/v3.0.0. Use suggest_float(..., log=True) instead.\n",
      "\n",
      "c:\\Users\\ivanm\\AppData\\Local\\Programs\\Python\\Python39\\lib\\site-packages\\sklearn\\utils\\_param_validation.py:558: FutureWarning:\n",
      "\n",
      "Passing an int for a boolean parameter is deprecated in version 1.2 and won't be supported anymore in version 1.4.\n",
      "\n",
      "[I 2024-12-23 14:34:10,879] Trial 20 pruned. \n"
     ]
    },
    {
     "name": "stdout",
     "output_type": "stream",
     "text": [
      "Trial 20 pruned. \n",
      "Trial 20 pruned. \n",
      "Trial 20 pruned. \n",
      "Trial 20 pruned. \n"
     ]
    },
    {
     "name": "stderr",
     "output_type": "stream",
     "text": [
      "C:\\Users\\ivanm\\AppData\\Local\\Temp\\ipykernel_5188\\4256399241.py:10: FutureWarning:\n",
      "\n",
      "suggest_loguniform has been deprecated in v3.0.0. This feature will be removed in v6.0.0. See https://github.com/optuna/optuna/releases/tag/v3.0.0. Use suggest_float(..., log=True) instead.\n",
      "\n",
      "c:\\Users\\ivanm\\AppData\\Local\\Programs\\Python\\Python39\\lib\\site-packages\\sklearn\\utils\\_param_validation.py:558: FutureWarning:\n",
      "\n",
      "Passing an int for a boolean parameter is deprecated in version 1.2 and won't be supported anymore in version 1.4.\n",
      "\n",
      "[I 2024-12-23 14:34:10,886] Trial 21 pruned. \n"
     ]
    },
    {
     "name": "stdout",
     "output_type": "stream",
     "text": [
      "Trial 21 pruned. \n",
      "Trial 21 pruned. \n",
      "Trial 21 pruned. \n",
      "Trial 21 pruned. \n"
     ]
    },
    {
     "name": "stderr",
     "output_type": "stream",
     "text": [
      "C:\\Users\\ivanm\\AppData\\Local\\Temp\\ipykernel_5188\\4256399241.py:10: FutureWarning:\n",
      "\n",
      "suggest_loguniform has been deprecated in v3.0.0. This feature will be removed in v6.0.0. See https://github.com/optuna/optuna/releases/tag/v3.0.0. Use suggest_float(..., log=True) instead.\n",
      "\n",
      "c:\\Users\\ivanm\\AppData\\Local\\Programs\\Python\\Python39\\lib\\site-packages\\sklearn\\utils\\_param_validation.py:558: FutureWarning:\n",
      "\n",
      "Passing an int for a boolean parameter is deprecated in version 1.2 and won't be supported anymore in version 1.4.\n",
      "\n",
      "[I 2024-12-23 14:34:11,003] Trial 22 finished with value: 0.09790209790209792 and parameters: {'alpha': 610.497378883704, 'force_alpha': 0, 'fit_prior': 1}. Best is trial 13 with value: 0.1048951048951049.\n"
     ]
    },
    {
     "name": "stdout",
     "output_type": "stream",
     "text": [
      "Trial 22 finished with value: 0.09790209790209792 and parameters: {'alpha': 610.497378883704, 'force_alpha': 0, 'fit_prior': 1}. Best is trial 13 with value: 0.1048951048951049.\n",
      "Trial 22 finished with value: 0.09790209790209792 and parameters: {'alpha': 610.497378883704, 'force_alpha': 0, 'fit_prior': 1}. Best is trial 13 with value: 0.1048951048951049.\n",
      "Trial 22 finished with value: 0.09790209790209792 and parameters: {'alpha': 610.497378883704, 'force_alpha': 0, 'fit_prior': 1}. Best is trial 13 with value: 0.1048951048951049.\n",
      "Trial 22 finished with value: 0.09790209790209792 and parameters: {'alpha': 610.497378883704, 'force_alpha': 0, 'fit_prior': 1}. Best is trial 13 with value: 0.1048951048951049.\n"
     ]
    },
    {
     "name": "stderr",
     "output_type": "stream",
     "text": [
      "C:\\Users\\ivanm\\AppData\\Local\\Temp\\ipykernel_5188\\4256399241.py:10: FutureWarning:\n",
      "\n",
      "suggest_loguniform has been deprecated in v3.0.0. This feature will be removed in v6.0.0. See https://github.com/optuna/optuna/releases/tag/v3.0.0. Use suggest_float(..., log=True) instead.\n",
      "\n",
      "c:\\Users\\ivanm\\AppData\\Local\\Programs\\Python\\Python39\\lib\\site-packages\\sklearn\\utils\\_param_validation.py:558: FutureWarning:\n",
      "\n",
      "Passing an int for a boolean parameter is deprecated in version 1.2 and won't be supported anymore in version 1.4.\n",
      "\n",
      "[I 2024-12-23 14:34:11,010] Trial 23 pruned. \n"
     ]
    },
    {
     "name": "stdout",
     "output_type": "stream",
     "text": [
      "Trial 23 pruned. \n",
      "Trial 23 pruned. \n",
      "Trial 23 pruned. \n",
      "Trial 23 pruned. \n"
     ]
    },
    {
     "name": "stderr",
     "output_type": "stream",
     "text": [
      "C:\\Users\\ivanm\\AppData\\Local\\Temp\\ipykernel_5188\\4256399241.py:10: FutureWarning:\n",
      "\n",
      "suggest_loguniform has been deprecated in v3.0.0. This feature will be removed in v6.0.0. See https://github.com/optuna/optuna/releases/tag/v3.0.0. Use suggest_float(..., log=True) instead.\n",
      "\n",
      "c:\\Users\\ivanm\\AppData\\Local\\Programs\\Python\\Python39\\lib\\site-packages\\sklearn\\utils\\_param_validation.py:558: FutureWarning:\n",
      "\n",
      "Passing an int for a boolean parameter is deprecated in version 1.2 and won't be supported anymore in version 1.4.\n",
      "\n",
      "[I 2024-12-23 14:34:11,127] Trial 24 finished with value: 0.1048951048951049 and parameters: {'alpha': 5837.663000657667, 'force_alpha': 0, 'fit_prior': 0}. Best is trial 13 with value: 0.1048951048951049.\n"
     ]
    },
    {
     "name": "stdout",
     "output_type": "stream",
     "text": [
      "Trial 24 finished with value: 0.1048951048951049 and parameters: {'alpha': 5837.663000657667, 'force_alpha': 0, 'fit_prior': 0}. Best is trial 13 with value: 0.1048951048951049.\n",
      "Trial 24 finished with value: 0.1048951048951049 and parameters: {'alpha': 5837.663000657667, 'force_alpha': 0, 'fit_prior': 0}. Best is trial 13 with value: 0.1048951048951049.\n",
      "Trial 24 finished with value: 0.1048951048951049 and parameters: {'alpha': 5837.663000657667, 'force_alpha': 0, 'fit_prior': 0}. Best is trial 13 with value: 0.1048951048951049.\n",
      "Trial 24 finished with value: 0.1048951048951049 and parameters: {'alpha': 5837.663000657667, 'force_alpha': 0, 'fit_prior': 0}. Best is trial 13 with value: 0.1048951048951049.\n"
     ]
    },
    {
     "name": "stderr",
     "output_type": "stream",
     "text": [
      "C:\\Users\\ivanm\\AppData\\Local\\Temp\\ipykernel_5188\\4256399241.py:10: FutureWarning:\n",
      "\n",
      "suggest_loguniform has been deprecated in v3.0.0. This feature will be removed in v6.0.0. See https://github.com/optuna/optuna/releases/tag/v3.0.0. Use suggest_float(..., log=True) instead.\n",
      "\n",
      "c:\\Users\\ivanm\\AppData\\Local\\Programs\\Python\\Python39\\lib\\site-packages\\sklearn\\utils\\_param_validation.py:558: FutureWarning:\n",
      "\n",
      "Passing an int for a boolean parameter is deprecated in version 1.2 and won't be supported anymore in version 1.4.\n",
      "\n",
      "[I 2024-12-23 14:34:11,260] Trial 25 finished with value: 0.09790209790209792 and parameters: {'alpha': 33.74408324721121, 'force_alpha': 1, 'fit_prior': 0}. Best is trial 13 with value: 0.1048951048951049.\n"
     ]
    },
    {
     "name": "stdout",
     "output_type": "stream",
     "text": [
      "Trial 25 finished with value: 0.09790209790209792 and parameters: {'alpha': 33.74408324721121, 'force_alpha': 1, 'fit_prior': 0}. Best is trial 13 with value: 0.1048951048951049.\n",
      "Trial 25 finished with value: 0.09790209790209792 and parameters: {'alpha': 33.74408324721121, 'force_alpha': 1, 'fit_prior': 0}. Best is trial 13 with value: 0.1048951048951049.\n",
      "Trial 25 finished with value: 0.09790209790209792 and parameters: {'alpha': 33.74408324721121, 'force_alpha': 1, 'fit_prior': 0}. Best is trial 13 with value: 0.1048951048951049.\n",
      "Trial 25 finished with value: 0.09790209790209792 and parameters: {'alpha': 33.74408324721121, 'force_alpha': 1, 'fit_prior': 0}. Best is trial 13 with value: 0.1048951048951049.\n"
     ]
    },
    {
     "name": "stderr",
     "output_type": "stream",
     "text": [
      "C:\\Users\\ivanm\\AppData\\Local\\Temp\\ipykernel_5188\\4256399241.py:10: FutureWarning:\n",
      "\n",
      "suggest_loguniform has been deprecated in v3.0.0. This feature will be removed in v6.0.0. See https://github.com/optuna/optuna/releases/tag/v3.0.0. Use suggest_float(..., log=True) instead.\n",
      "\n",
      "c:\\Users\\ivanm\\AppData\\Local\\Programs\\Python\\Python39\\lib\\site-packages\\sklearn\\utils\\_param_validation.py:558: FutureWarning:\n",
      "\n",
      "Passing an int for a boolean parameter is deprecated in version 1.2 and won't be supported anymore in version 1.4.\n",
      "\n",
      "[I 2024-12-23 14:34:11,268] Trial 26 pruned. \n"
     ]
    },
    {
     "name": "stdout",
     "output_type": "stream",
     "text": [
      "Trial 26 pruned. \n",
      "Trial 26 pruned. \n",
      "Trial 26 pruned. \n",
      "Trial 26 pruned. \n"
     ]
    },
    {
     "name": "stderr",
     "output_type": "stream",
     "text": [
      "C:\\Users\\ivanm\\AppData\\Local\\Temp\\ipykernel_5188\\4256399241.py:10: FutureWarning:\n",
      "\n",
      "suggest_loguniform has been deprecated in v3.0.0. This feature will be removed in v6.0.0. See https://github.com/optuna/optuna/releases/tag/v3.0.0. Use suggest_float(..., log=True) instead.\n",
      "\n",
      "c:\\Users\\ivanm\\AppData\\Local\\Programs\\Python\\Python39\\lib\\site-packages\\sklearn\\utils\\_param_validation.py:558: FutureWarning:\n",
      "\n",
      "Passing an int for a boolean parameter is deprecated in version 1.2 and won't be supported anymore in version 1.4.\n",
      "\n",
      "[I 2024-12-23 14:34:11,275] Trial 27 pruned. \n"
     ]
    },
    {
     "name": "stdout",
     "output_type": "stream",
     "text": [
      "Trial 27 pruned. \n",
      "Trial 27 pruned. \n",
      "Trial 27 pruned. \n",
      "Trial 27 pruned. \n"
     ]
    },
    {
     "name": "stderr",
     "output_type": "stream",
     "text": [
      "C:\\Users\\ivanm\\AppData\\Local\\Temp\\ipykernel_5188\\4256399241.py:10: FutureWarning:\n",
      "\n",
      "suggest_loguniform has been deprecated in v3.0.0. This feature will be removed in v6.0.0. See https://github.com/optuna/optuna/releases/tag/v3.0.0. Use suggest_float(..., log=True) instead.\n",
      "\n",
      "c:\\Users\\ivanm\\AppData\\Local\\Programs\\Python\\Python39\\lib\\site-packages\\sklearn\\utils\\_param_validation.py:558: FutureWarning:\n",
      "\n",
      "Passing an int for a boolean parameter is deprecated in version 1.2 and won't be supported anymore in version 1.4.\n",
      "\n",
      "[I 2024-12-23 14:34:11,282] Trial 28 pruned. \n"
     ]
    },
    {
     "name": "stdout",
     "output_type": "stream",
     "text": [
      "Trial 28 pruned. \n",
      "Trial 28 pruned. \n",
      "Trial 28 pruned. \n",
      "Trial 28 pruned. \n"
     ]
    },
    {
     "name": "stderr",
     "output_type": "stream",
     "text": [
      "C:\\Users\\ivanm\\AppData\\Local\\Temp\\ipykernel_5188\\4256399241.py:10: FutureWarning:\n",
      "\n",
      "suggest_loguniform has been deprecated in v3.0.0. This feature will be removed in v6.0.0. See https://github.com/optuna/optuna/releases/tag/v3.0.0. Use suggest_float(..., log=True) instead.\n",
      "\n",
      "c:\\Users\\ivanm\\AppData\\Local\\Programs\\Python\\Python39\\lib\\site-packages\\sklearn\\utils\\_param_validation.py:558: FutureWarning:\n",
      "\n",
      "Passing an int for a boolean parameter is deprecated in version 1.2 and won't be supported anymore in version 1.4.\n",
      "\n",
      "[I 2024-12-23 14:34:11,289] Trial 29 pruned. \n"
     ]
    },
    {
     "name": "stdout",
     "output_type": "stream",
     "text": [
      "Trial 29 pruned. \n",
      "Trial 29 pruned. \n",
      "Trial 29 pruned. \n",
      "Trial 29 pruned. \n"
     ]
    },
    {
     "name": "stderr",
     "output_type": "stream",
     "text": [
      "C:\\Users\\ivanm\\AppData\\Local\\Temp\\ipykernel_5188\\4256399241.py:10: FutureWarning:\n",
      "\n",
      "suggest_loguniform has been deprecated in v3.0.0. This feature will be removed in v6.0.0. See https://github.com/optuna/optuna/releases/tag/v3.0.0. Use suggest_float(..., log=True) instead.\n",
      "\n",
      "c:\\Users\\ivanm\\AppData\\Local\\Programs\\Python\\Python39\\lib\\site-packages\\sklearn\\utils\\_param_validation.py:558: FutureWarning:\n",
      "\n",
      "Passing an int for a boolean parameter is deprecated in version 1.2 and won't be supported anymore in version 1.4.\n",
      "\n",
      "[I 2024-12-23 14:34:11,296] Trial 30 pruned. \n"
     ]
    },
    {
     "name": "stdout",
     "output_type": "stream",
     "text": [
      "Trial 30 pruned. \n",
      "Trial 30 pruned. \n",
      "Trial 30 pruned. \n",
      "Trial 30 pruned. \n"
     ]
    },
    {
     "name": "stderr",
     "output_type": "stream",
     "text": [
      "C:\\Users\\ivanm\\AppData\\Local\\Temp\\ipykernel_5188\\4256399241.py:10: FutureWarning:\n",
      "\n",
      "suggest_loguniform has been deprecated in v3.0.0. This feature will be removed in v6.0.0. See https://github.com/optuna/optuna/releases/tag/v3.0.0. Use suggest_float(..., log=True) instead.\n",
      "\n",
      "c:\\Users\\ivanm\\AppData\\Local\\Programs\\Python\\Python39\\lib\\site-packages\\sklearn\\utils\\_param_validation.py:558: FutureWarning:\n",
      "\n",
      "Passing an int for a boolean parameter is deprecated in version 1.2 and won't be supported anymore in version 1.4.\n",
      "\n",
      "[I 2024-12-23 14:34:11,434] Trial 31 finished with value: 0.09790209790209792 and parameters: {'alpha': 1634.4834410010103, 'force_alpha': 0, 'fit_prior': 0}. Best is trial 13 with value: 0.1048951048951049.\n"
     ]
    },
    {
     "name": "stdout",
     "output_type": "stream",
     "text": [
      "Trial 31 finished with value: 0.09790209790209792 and parameters: {'alpha': 1634.4834410010103, 'force_alpha': 0, 'fit_prior': 0}. Best is trial 13 with value: 0.1048951048951049.\n",
      "Trial 31 finished with value: 0.09790209790209792 and parameters: {'alpha': 1634.4834410010103, 'force_alpha': 0, 'fit_prior': 0}. Best is trial 13 with value: 0.1048951048951049.\n",
      "Trial 31 finished with value: 0.09790209790209792 and parameters: {'alpha': 1634.4834410010103, 'force_alpha': 0, 'fit_prior': 0}. Best is trial 13 with value: 0.1048951048951049.\n",
      "Trial 31 finished with value: 0.09790209790209792 and parameters: {'alpha': 1634.4834410010103, 'force_alpha': 0, 'fit_prior': 0}. Best is trial 13 with value: 0.1048951048951049.\n"
     ]
    },
    {
     "name": "stderr",
     "output_type": "stream",
     "text": [
      "C:\\Users\\ivanm\\AppData\\Local\\Temp\\ipykernel_5188\\4256399241.py:10: FutureWarning:\n",
      "\n",
      "suggest_loguniform has been deprecated in v3.0.0. This feature will be removed in v6.0.0. See https://github.com/optuna/optuna/releases/tag/v3.0.0. Use suggest_float(..., log=True) instead.\n",
      "\n",
      "c:\\Users\\ivanm\\AppData\\Local\\Programs\\Python\\Python39\\lib\\site-packages\\sklearn\\utils\\_param_validation.py:558: FutureWarning:\n",
      "\n",
      "Passing an int for a boolean parameter is deprecated in version 1.2 and won't be supported anymore in version 1.4.\n",
      "\n",
      "[I 2024-12-23 14:34:11,443] Trial 32 pruned. \n"
     ]
    },
    {
     "name": "stdout",
     "output_type": "stream",
     "text": [
      "Trial 32 pruned. \n",
      "Trial 32 pruned. \n",
      "Trial 32 pruned. \n",
      "Trial 32 pruned. \n"
     ]
    },
    {
     "name": "stderr",
     "output_type": "stream",
     "text": [
      "C:\\Users\\ivanm\\AppData\\Local\\Temp\\ipykernel_5188\\4256399241.py:10: FutureWarning:\n",
      "\n",
      "suggest_loguniform has been deprecated in v3.0.0. This feature will be removed in v6.0.0. See https://github.com/optuna/optuna/releases/tag/v3.0.0. Use suggest_float(..., log=True) instead.\n",
      "\n",
      "c:\\Users\\ivanm\\AppData\\Local\\Programs\\Python\\Python39\\lib\\site-packages\\sklearn\\utils\\_param_validation.py:558: FutureWarning:\n",
      "\n",
      "Passing an int for a boolean parameter is deprecated in version 1.2 and won't be supported anymore in version 1.4.\n",
      "\n",
      "[I 2024-12-23 14:34:11,451] Trial 33 pruned. \n"
     ]
    },
    {
     "name": "stdout",
     "output_type": "stream",
     "text": [
      "Trial 33 pruned. \n",
      "Trial 33 pruned. \n",
      "Trial 33 pruned. \n",
      "Trial 33 pruned. \n"
     ]
    },
    {
     "name": "stderr",
     "output_type": "stream",
     "text": [
      "C:\\Users\\ivanm\\AppData\\Local\\Temp\\ipykernel_5188\\4256399241.py:10: FutureWarning:\n",
      "\n",
      "suggest_loguniform has been deprecated in v3.0.0. This feature will be removed in v6.0.0. See https://github.com/optuna/optuna/releases/tag/v3.0.0. Use suggest_float(..., log=True) instead.\n",
      "\n",
      "c:\\Users\\ivanm\\AppData\\Local\\Programs\\Python\\Python39\\lib\\site-packages\\sklearn\\utils\\_param_validation.py:558: FutureWarning:\n",
      "\n",
      "Passing an int for a boolean parameter is deprecated in version 1.2 and won't be supported anymore in version 1.4.\n",
      "\n",
      "[I 2024-12-23 14:34:11,459] Trial 34 pruned. \n"
     ]
    },
    {
     "name": "stdout",
     "output_type": "stream",
     "text": [
      "Trial 34 pruned. \n",
      "Trial 34 pruned. \n",
      "Trial 34 pruned. \n",
      "Trial 34 pruned. \n"
     ]
    },
    {
     "name": "stderr",
     "output_type": "stream",
     "text": [
      "C:\\Users\\ivanm\\AppData\\Local\\Temp\\ipykernel_5188\\4256399241.py:10: FutureWarning:\n",
      "\n",
      "suggest_loguniform has been deprecated in v3.0.0. This feature will be removed in v6.0.0. See https://github.com/optuna/optuna/releases/tag/v3.0.0. Use suggest_float(..., log=True) instead.\n",
      "\n",
      "c:\\Users\\ivanm\\AppData\\Local\\Programs\\Python\\Python39\\lib\\site-packages\\sklearn\\utils\\_param_validation.py:558: FutureWarning:\n",
      "\n",
      "Passing an int for a boolean parameter is deprecated in version 1.2 and won't be supported anymore in version 1.4.\n",
      "\n",
      "[I 2024-12-23 14:34:11,466] Trial 35 pruned. \n"
     ]
    },
    {
     "name": "stdout",
     "output_type": "stream",
     "text": [
      "Trial 35 pruned. \n",
      "Trial 35 pruned. \n",
      "Trial 35 pruned. \n",
      "Trial 35 pruned. \n"
     ]
    },
    {
     "name": "stderr",
     "output_type": "stream",
     "text": [
      "C:\\Users\\ivanm\\AppData\\Local\\Temp\\ipykernel_5188\\4256399241.py:10: FutureWarning:\n",
      "\n",
      "suggest_loguniform has been deprecated in v3.0.0. This feature will be removed in v6.0.0. See https://github.com/optuna/optuna/releases/tag/v3.0.0. Use suggest_float(..., log=True) instead.\n",
      "\n",
      "c:\\Users\\ivanm\\AppData\\Local\\Programs\\Python\\Python39\\lib\\site-packages\\sklearn\\utils\\_param_validation.py:558: FutureWarning:\n",
      "\n",
      "Passing an int for a boolean parameter is deprecated in version 1.2 and won't be supported anymore in version 1.4.\n",
      "\n",
      "[I 2024-12-23 14:34:11,474] Trial 36 pruned. \n"
     ]
    },
    {
     "name": "stdout",
     "output_type": "stream",
     "text": [
      "Trial 36 pruned. \n",
      "Trial 36 pruned. \n",
      "Trial 36 pruned. \n",
      "Trial 36 pruned. \n"
     ]
    },
    {
     "name": "stderr",
     "output_type": "stream",
     "text": [
      "C:\\Users\\ivanm\\AppData\\Local\\Temp\\ipykernel_5188\\4256399241.py:10: FutureWarning:\n",
      "\n",
      "suggest_loguniform has been deprecated in v3.0.0. This feature will be removed in v6.0.0. See https://github.com/optuna/optuna/releases/tag/v3.0.0. Use suggest_float(..., log=True) instead.\n",
      "\n",
      "c:\\Users\\ivanm\\AppData\\Local\\Programs\\Python\\Python39\\lib\\site-packages\\sklearn\\utils\\_param_validation.py:558: FutureWarning:\n",
      "\n",
      "Passing an int for a boolean parameter is deprecated in version 1.2 and won't be supported anymore in version 1.4.\n",
      "\n",
      "[I 2024-12-23 14:34:11,483] Trial 37 pruned. \n"
     ]
    },
    {
     "name": "stdout",
     "output_type": "stream",
     "text": [
      "Trial 37 pruned. \n",
      "Trial 37 pruned. \n",
      "Trial 37 pruned. \n",
      "Trial 37 pruned. \n"
     ]
    },
    {
     "name": "stderr",
     "output_type": "stream",
     "text": [
      "C:\\Users\\ivanm\\AppData\\Local\\Temp\\ipykernel_5188\\4256399241.py:10: FutureWarning:\n",
      "\n",
      "suggest_loguniform has been deprecated in v3.0.0. This feature will be removed in v6.0.0. See https://github.com/optuna/optuna/releases/tag/v3.0.0. Use suggest_float(..., log=True) instead.\n",
      "\n",
      "c:\\Users\\ivanm\\AppData\\Local\\Programs\\Python\\Python39\\lib\\site-packages\\sklearn\\utils\\_param_validation.py:558: FutureWarning:\n",
      "\n",
      "Passing an int for a boolean parameter is deprecated in version 1.2 and won't be supported anymore in version 1.4.\n",
      "\n",
      "[I 2024-12-23 14:34:11,493] Trial 38 pruned. \n"
     ]
    },
    {
     "name": "stdout",
     "output_type": "stream",
     "text": [
      "Trial 38 pruned. \n",
      "Trial 38 pruned. \n",
      "Trial 38 pruned. \n",
      "Trial 38 pruned. \n"
     ]
    },
    {
     "name": "stderr",
     "output_type": "stream",
     "text": [
      "C:\\Users\\ivanm\\AppData\\Local\\Temp\\ipykernel_5188\\4256399241.py:10: FutureWarning:\n",
      "\n",
      "suggest_loguniform has been deprecated in v3.0.0. This feature will be removed in v6.0.0. See https://github.com/optuna/optuna/releases/tag/v3.0.0. Use suggest_float(..., log=True) instead.\n",
      "\n",
      "c:\\Users\\ivanm\\AppData\\Local\\Programs\\Python\\Python39\\lib\\site-packages\\sklearn\\utils\\_param_validation.py:558: FutureWarning:\n",
      "\n",
      "Passing an int for a boolean parameter is deprecated in version 1.2 and won't be supported anymore in version 1.4.\n",
      "\n",
      "[I 2024-12-23 14:34:11,621] Trial 39 finished with value: 0.1048951048951049 and parameters: {'alpha': 5124.217046687073, 'force_alpha': 0, 'fit_prior': 0}. Best is trial 13 with value: 0.1048951048951049.\n"
     ]
    },
    {
     "name": "stdout",
     "output_type": "stream",
     "text": [
      "Trial 39 finished with value: 0.1048951048951049 and parameters: {'alpha': 5124.217046687073, 'force_alpha': 0, 'fit_prior': 0}. Best is trial 13 with value: 0.1048951048951049.\n",
      "Trial 39 finished with value: 0.1048951048951049 and parameters: {'alpha': 5124.217046687073, 'force_alpha': 0, 'fit_prior': 0}. Best is trial 13 with value: 0.1048951048951049.\n",
      "Trial 39 finished with value: 0.1048951048951049 and parameters: {'alpha': 5124.217046687073, 'force_alpha': 0, 'fit_prior': 0}. Best is trial 13 with value: 0.1048951048951049.\n",
      "Trial 39 finished with value: 0.1048951048951049 and parameters: {'alpha': 5124.217046687073, 'force_alpha': 0, 'fit_prior': 0}. Best is trial 13 with value: 0.1048951048951049.\n"
     ]
    },
    {
     "name": "stderr",
     "output_type": "stream",
     "text": [
      "C:\\Users\\ivanm\\AppData\\Local\\Temp\\ipykernel_5188\\4256399241.py:10: FutureWarning:\n",
      "\n",
      "suggest_loguniform has been deprecated in v3.0.0. This feature will be removed in v6.0.0. See https://github.com/optuna/optuna/releases/tag/v3.0.0. Use suggest_float(..., log=True) instead.\n",
      "\n",
      "c:\\Users\\ivanm\\AppData\\Local\\Programs\\Python\\Python39\\lib\\site-packages\\sklearn\\utils\\_param_validation.py:558: FutureWarning:\n",
      "\n",
      "Passing an int for a boolean parameter is deprecated in version 1.2 and won't be supported anymore in version 1.4.\n",
      "\n",
      "[I 2024-12-23 14:34:11,628] Trial 40 pruned. \n"
     ]
    },
    {
     "name": "stdout",
     "output_type": "stream",
     "text": [
      "Trial 40 pruned. \n",
      "Trial 40 pruned. \n",
      "Trial 40 pruned. \n",
      "Trial 40 pruned. \n"
     ]
    },
    {
     "name": "stderr",
     "output_type": "stream",
     "text": [
      "C:\\Users\\ivanm\\AppData\\Local\\Temp\\ipykernel_5188\\4256399241.py:10: FutureWarning:\n",
      "\n",
      "suggest_loguniform has been deprecated in v3.0.0. This feature will be removed in v6.0.0. See https://github.com/optuna/optuna/releases/tag/v3.0.0. Use suggest_float(..., log=True) instead.\n",
      "\n",
      "c:\\Users\\ivanm\\AppData\\Local\\Programs\\Python\\Python39\\lib\\site-packages\\sklearn\\utils\\_param_validation.py:558: FutureWarning:\n",
      "\n",
      "Passing an int for a boolean parameter is deprecated in version 1.2 and won't be supported anymore in version 1.4.\n",
      "\n",
      "[I 2024-12-23 14:34:11,635] Trial 41 pruned. \n"
     ]
    },
    {
     "name": "stdout",
     "output_type": "stream",
     "text": [
      "Trial 41 pruned. \n",
      "Trial 41 pruned. \n",
      "Trial 41 pruned. \n",
      "Trial 41 pruned. \n"
     ]
    },
    {
     "name": "stderr",
     "output_type": "stream",
     "text": [
      "C:\\Users\\ivanm\\AppData\\Local\\Temp\\ipykernel_5188\\4256399241.py:10: FutureWarning:\n",
      "\n",
      "suggest_loguniform has been deprecated in v3.0.0. This feature will be removed in v6.0.0. See https://github.com/optuna/optuna/releases/tag/v3.0.0. Use suggest_float(..., log=True) instead.\n",
      "\n",
      "c:\\Users\\ivanm\\AppData\\Local\\Programs\\Python\\Python39\\lib\\site-packages\\sklearn\\utils\\_param_validation.py:558: FutureWarning:\n",
      "\n",
      "Passing an int for a boolean parameter is deprecated in version 1.2 and won't be supported anymore in version 1.4.\n",
      "\n",
      "[I 2024-12-23 14:34:11,642] Trial 42 pruned. \n"
     ]
    },
    {
     "name": "stdout",
     "output_type": "stream",
     "text": [
      "Trial 42 pruned. \n",
      "Trial 42 pruned. \n",
      "Trial 42 pruned. \n",
      "Trial 42 pruned. \n"
     ]
    },
    {
     "name": "stderr",
     "output_type": "stream",
     "text": [
      "C:\\Users\\ivanm\\AppData\\Local\\Temp\\ipykernel_5188\\4256399241.py:10: FutureWarning:\n",
      "\n",
      "suggest_loguniform has been deprecated in v3.0.0. This feature will be removed in v6.0.0. See https://github.com/optuna/optuna/releases/tag/v3.0.0. Use suggest_float(..., log=True) instead.\n",
      "\n",
      "c:\\Users\\ivanm\\AppData\\Local\\Programs\\Python\\Python39\\lib\\site-packages\\sklearn\\utils\\_param_validation.py:558: FutureWarning:\n",
      "\n",
      "Passing an int for a boolean parameter is deprecated in version 1.2 and won't be supported anymore in version 1.4.\n",
      "\n",
      "[I 2024-12-23 14:34:11,649] Trial 43 pruned. \n"
     ]
    },
    {
     "name": "stdout",
     "output_type": "stream",
     "text": [
      "Trial 43 pruned. \n",
      "Trial 43 pruned. \n",
      "Trial 43 pruned. \n",
      "Trial 43 pruned. \n"
     ]
    },
    {
     "name": "stderr",
     "output_type": "stream",
     "text": [
      "C:\\Users\\ivanm\\AppData\\Local\\Temp\\ipykernel_5188\\4256399241.py:10: FutureWarning:\n",
      "\n",
      "suggest_loguniform has been deprecated in v3.0.0. This feature will be removed in v6.0.0. See https://github.com/optuna/optuna/releases/tag/v3.0.0. Use suggest_float(..., log=True) instead.\n",
      "\n",
      "c:\\Users\\ivanm\\AppData\\Local\\Programs\\Python\\Python39\\lib\\site-packages\\sklearn\\utils\\_param_validation.py:558: FutureWarning:\n",
      "\n",
      "Passing an int for a boolean parameter is deprecated in version 1.2 and won't be supported anymore in version 1.4.\n",
      "\n",
      "[I 2024-12-23 14:34:11,655] Trial 44 pruned. \n"
     ]
    },
    {
     "name": "stdout",
     "output_type": "stream",
     "text": [
      "Trial 44 pruned. \n",
      "Trial 44 pruned. \n",
      "Trial 44 pruned. \n",
      "Trial 44 pruned. \n"
     ]
    },
    {
     "name": "stderr",
     "output_type": "stream",
     "text": [
      "C:\\Users\\ivanm\\AppData\\Local\\Temp\\ipykernel_5188\\4256399241.py:10: FutureWarning:\n",
      "\n",
      "suggest_loguniform has been deprecated in v3.0.0. This feature will be removed in v6.0.0. See https://github.com/optuna/optuna/releases/tag/v3.0.0. Use suggest_float(..., log=True) instead.\n",
      "\n",
      "c:\\Users\\ivanm\\AppData\\Local\\Programs\\Python\\Python39\\lib\\site-packages\\sklearn\\utils\\_param_validation.py:558: FutureWarning:\n",
      "\n",
      "Passing an int for a boolean parameter is deprecated in version 1.2 and won't be supported anymore in version 1.4.\n",
      "\n",
      "[I 2024-12-23 14:34:11,773] Trial 45 finished with value: 0.09790209790209792 and parameters: {'alpha': 629.7225227628421, 'force_alpha': 1, 'fit_prior': 0}. Best is trial 13 with value: 0.1048951048951049.\n"
     ]
    },
    {
     "name": "stdout",
     "output_type": "stream",
     "text": [
      "Trial 45 finished with value: 0.09790209790209792 and parameters: {'alpha': 629.7225227628421, 'force_alpha': 1, 'fit_prior': 0}. Best is trial 13 with value: 0.1048951048951049.\n",
      "Trial 45 finished with value: 0.09790209790209792 and parameters: {'alpha': 629.7225227628421, 'force_alpha': 1, 'fit_prior': 0}. Best is trial 13 with value: 0.1048951048951049.\n",
      "Trial 45 finished with value: 0.09790209790209792 and parameters: {'alpha': 629.7225227628421, 'force_alpha': 1, 'fit_prior': 0}. Best is trial 13 with value: 0.1048951048951049.\n",
      "Trial 45 finished with value: 0.09790209790209792 and parameters: {'alpha': 629.7225227628421, 'force_alpha': 1, 'fit_prior': 0}. Best is trial 13 with value: 0.1048951048951049.\n"
     ]
    },
    {
     "name": "stderr",
     "output_type": "stream",
     "text": [
      "C:\\Users\\ivanm\\AppData\\Local\\Temp\\ipykernel_5188\\4256399241.py:10: FutureWarning:\n",
      "\n",
      "suggest_loguniform has been deprecated in v3.0.0. This feature will be removed in v6.0.0. See https://github.com/optuna/optuna/releases/tag/v3.0.0. Use suggest_float(..., log=True) instead.\n",
      "\n",
      "c:\\Users\\ivanm\\AppData\\Local\\Programs\\Python\\Python39\\lib\\site-packages\\sklearn\\utils\\_param_validation.py:558: FutureWarning:\n",
      "\n",
      "Passing an int for a boolean parameter is deprecated in version 1.2 and won't be supported anymore in version 1.4.\n",
      "\n",
      "[I 2024-12-23 14:34:11,780] Trial 46 pruned. \n"
     ]
    },
    {
     "name": "stdout",
     "output_type": "stream",
     "text": [
      "Trial 46 pruned. \n",
      "Trial 46 pruned. \n",
      "Trial 46 pruned. \n",
      "Trial 46 pruned. \n"
     ]
    },
    {
     "name": "stderr",
     "output_type": "stream",
     "text": [
      "C:\\Users\\ivanm\\AppData\\Local\\Temp\\ipykernel_5188\\4256399241.py:10: FutureWarning:\n",
      "\n",
      "suggest_loguniform has been deprecated in v3.0.0. This feature will be removed in v6.0.0. See https://github.com/optuna/optuna/releases/tag/v3.0.0. Use suggest_float(..., log=True) instead.\n",
      "\n",
      "c:\\Users\\ivanm\\AppData\\Local\\Programs\\Python\\Python39\\lib\\site-packages\\sklearn\\utils\\_param_validation.py:558: FutureWarning:\n",
      "\n",
      "Passing an int for a boolean parameter is deprecated in version 1.2 and won't be supported anymore in version 1.4.\n",
      "\n",
      "[I 2024-12-23 14:34:11,787] Trial 47 pruned. \n"
     ]
    },
    {
     "name": "stdout",
     "output_type": "stream",
     "text": [
      "Trial 47 pruned. \n",
      "Trial 47 pruned. \n",
      "Trial 47 pruned. \n",
      "Trial 47 pruned. \n"
     ]
    },
    {
     "name": "stderr",
     "output_type": "stream",
     "text": [
      "C:\\Users\\ivanm\\AppData\\Local\\Temp\\ipykernel_5188\\4256399241.py:10: FutureWarning:\n",
      "\n",
      "suggest_loguniform has been deprecated in v3.0.0. This feature will be removed in v6.0.0. See https://github.com/optuna/optuna/releases/tag/v3.0.0. Use suggest_float(..., log=True) instead.\n",
      "\n",
      "c:\\Users\\ivanm\\AppData\\Local\\Programs\\Python\\Python39\\lib\\site-packages\\sklearn\\utils\\_param_validation.py:558: FutureWarning:\n",
      "\n",
      "Passing an int for a boolean parameter is deprecated in version 1.2 and won't be supported anymore in version 1.4.\n",
      "\n",
      "[I 2024-12-23 14:34:11,794] Trial 48 pruned. \n"
     ]
    },
    {
     "name": "stdout",
     "output_type": "stream",
     "text": [
      "Trial 48 pruned. \n",
      "Trial 48 pruned. \n",
      "Trial 48 pruned. \n",
      "Trial 48 pruned. \n"
     ]
    },
    {
     "name": "stderr",
     "output_type": "stream",
     "text": [
      "C:\\Users\\ivanm\\AppData\\Local\\Temp\\ipykernel_5188\\4256399241.py:10: FutureWarning:\n",
      "\n",
      "suggest_loguniform has been deprecated in v3.0.0. This feature will be removed in v6.0.0. See https://github.com/optuna/optuna/releases/tag/v3.0.0. Use suggest_float(..., log=True) instead.\n",
      "\n",
      "c:\\Users\\ivanm\\AppData\\Local\\Programs\\Python\\Python39\\lib\\site-packages\\sklearn\\utils\\_param_validation.py:558: FutureWarning:\n",
      "\n",
      "Passing an int for a boolean parameter is deprecated in version 1.2 and won't be supported anymore in version 1.4.\n",
      "\n",
      "[I 2024-12-23 14:34:11,801] Trial 49 pruned. \n"
     ]
    },
    {
     "name": "stdout",
     "output_type": "stream",
     "text": [
      "Trial 49 pruned. \n",
      "Trial 49 pruned. \n",
      "Trial 49 pruned. \n",
      "Trial 49 pruned. \n"
     ]
    },
    {
     "name": "stderr",
     "output_type": "stream",
     "text": [
      "C:\\Users\\ivanm\\AppData\\Local\\Temp\\ipykernel_5188\\4256399241.py:10: FutureWarning:\n",
      "\n",
      "suggest_loguniform has been deprecated in v3.0.0. This feature will be removed in v6.0.0. See https://github.com/optuna/optuna/releases/tag/v3.0.0. Use suggest_float(..., log=True) instead.\n",
      "\n",
      "c:\\Users\\ivanm\\AppData\\Local\\Programs\\Python\\Python39\\lib\\site-packages\\sklearn\\utils\\_param_validation.py:558: FutureWarning:\n",
      "\n",
      "Passing an int for a boolean parameter is deprecated in version 1.2 and won't be supported anymore in version 1.4.\n",
      "\n",
      "[I 2024-12-23 14:34:11,808] Trial 50 pruned. \n"
     ]
    },
    {
     "name": "stdout",
     "output_type": "stream",
     "text": [
      "Trial 50 pruned. \n",
      "Trial 50 pruned. \n",
      "Trial 50 pruned. \n",
      "Trial 50 pruned. \n"
     ]
    },
    {
     "name": "stderr",
     "output_type": "stream",
     "text": [
      "C:\\Users\\ivanm\\AppData\\Local\\Temp\\ipykernel_5188\\4256399241.py:10: FutureWarning:\n",
      "\n",
      "suggest_loguniform has been deprecated in v3.0.0. This feature will be removed in v6.0.0. See https://github.com/optuna/optuna/releases/tag/v3.0.0. Use suggest_float(..., log=True) instead.\n",
      "\n",
      "c:\\Users\\ivanm\\AppData\\Local\\Programs\\Python\\Python39\\lib\\site-packages\\sklearn\\utils\\_param_validation.py:558: FutureWarning:\n",
      "\n",
      "Passing an int for a boolean parameter is deprecated in version 1.2 and won't be supported anymore in version 1.4.\n",
      "\n",
      "[I 2024-12-23 14:34:11,814] Trial 51 pruned. \n"
     ]
    },
    {
     "name": "stdout",
     "output_type": "stream",
     "text": [
      "Trial 51 pruned. \n",
      "Trial 51 pruned. \n",
      "Trial 51 pruned. \n",
      "Trial 51 pruned. \n"
     ]
    },
    {
     "name": "stderr",
     "output_type": "stream",
     "text": [
      "C:\\Users\\ivanm\\AppData\\Local\\Temp\\ipykernel_5188\\4256399241.py:10: FutureWarning:\n",
      "\n",
      "suggest_loguniform has been deprecated in v3.0.0. This feature will be removed in v6.0.0. See https://github.com/optuna/optuna/releases/tag/v3.0.0. Use suggest_float(..., log=True) instead.\n",
      "\n",
      "c:\\Users\\ivanm\\AppData\\Local\\Programs\\Python\\Python39\\lib\\site-packages\\sklearn\\utils\\_param_validation.py:558: FutureWarning:\n",
      "\n",
      "Passing an int for a boolean parameter is deprecated in version 1.2 and won't be supported anymore in version 1.4.\n",
      "\n",
      "[I 2024-12-23 14:34:11,821] Trial 52 pruned. \n"
     ]
    },
    {
     "name": "stdout",
     "output_type": "stream",
     "text": [
      "Trial 52 pruned. \n",
      "Trial 52 pruned. \n",
      "Trial 52 pruned. \n",
      "Trial 52 pruned. \n"
     ]
    },
    {
     "name": "stderr",
     "output_type": "stream",
     "text": [
      "C:\\Users\\ivanm\\AppData\\Local\\Temp\\ipykernel_5188\\4256399241.py:10: FutureWarning:\n",
      "\n",
      "suggest_loguniform has been deprecated in v3.0.0. This feature will be removed in v6.0.0. See https://github.com/optuna/optuna/releases/tag/v3.0.0. Use suggest_float(..., log=True) instead.\n",
      "\n",
      "c:\\Users\\ivanm\\AppData\\Local\\Programs\\Python\\Python39\\lib\\site-packages\\sklearn\\utils\\_param_validation.py:558: FutureWarning:\n",
      "\n",
      "Passing an int for a boolean parameter is deprecated in version 1.2 and won't be supported anymore in version 1.4.\n",
      "\n",
      "[I 2024-12-23 14:34:11,827] Trial 53 pruned. \n"
     ]
    },
    {
     "name": "stdout",
     "output_type": "stream",
     "text": [
      "Trial 53 pruned. \n",
      "Trial 53 pruned. \n",
      "Trial 53 pruned. \n",
      "Trial 53 pruned. \n"
     ]
    },
    {
     "name": "stderr",
     "output_type": "stream",
     "text": [
      "C:\\Users\\ivanm\\AppData\\Local\\Temp\\ipykernel_5188\\4256399241.py:10: FutureWarning:\n",
      "\n",
      "suggest_loguniform has been deprecated in v3.0.0. This feature will be removed in v6.0.0. See https://github.com/optuna/optuna/releases/tag/v3.0.0. Use suggest_float(..., log=True) instead.\n",
      "\n",
      "c:\\Users\\ivanm\\AppData\\Local\\Programs\\Python\\Python39\\lib\\site-packages\\sklearn\\utils\\_param_validation.py:558: FutureWarning:\n",
      "\n",
      "Passing an int for a boolean parameter is deprecated in version 1.2 and won't be supported anymore in version 1.4.\n",
      "\n",
      "[I 2024-12-23 14:34:11,835] Trial 54 pruned. \n"
     ]
    },
    {
     "name": "stdout",
     "output_type": "stream",
     "text": [
      "Trial 54 pruned. \n",
      "Trial 54 pruned. \n",
      "Trial 54 pruned. \n",
      "Trial 54 pruned. \n"
     ]
    },
    {
     "name": "stderr",
     "output_type": "stream",
     "text": [
      "C:\\Users\\ivanm\\AppData\\Local\\Temp\\ipykernel_5188\\4256399241.py:10: FutureWarning:\n",
      "\n",
      "suggest_loguniform has been deprecated in v3.0.0. This feature will be removed in v6.0.0. See https://github.com/optuna/optuna/releases/tag/v3.0.0. Use suggest_float(..., log=True) instead.\n",
      "\n",
      "c:\\Users\\ivanm\\AppData\\Local\\Programs\\Python\\Python39\\lib\\site-packages\\sklearn\\utils\\_param_validation.py:558: FutureWarning:\n",
      "\n",
      "Passing an int for a boolean parameter is deprecated in version 1.2 and won't be supported anymore in version 1.4.\n",
      "\n",
      "[I 2024-12-23 14:34:11,842] Trial 55 pruned. \n"
     ]
    },
    {
     "name": "stdout",
     "output_type": "stream",
     "text": [
      "Trial 55 pruned. \n",
      "Trial 55 pruned. \n",
      "Trial 55 pruned. \n",
      "Trial 55 pruned. \n"
     ]
    },
    {
     "name": "stderr",
     "output_type": "stream",
     "text": [
      "C:\\Users\\ivanm\\AppData\\Local\\Temp\\ipykernel_5188\\4256399241.py:10: FutureWarning:\n",
      "\n",
      "suggest_loguniform has been deprecated in v3.0.0. This feature will be removed in v6.0.0. See https://github.com/optuna/optuna/releases/tag/v3.0.0. Use suggest_float(..., log=True) instead.\n",
      "\n",
      "c:\\Users\\ivanm\\AppData\\Local\\Programs\\Python\\Python39\\lib\\site-packages\\sklearn\\utils\\_param_validation.py:558: FutureWarning:\n",
      "\n",
      "Passing an int for a boolean parameter is deprecated in version 1.2 and won't be supported anymore in version 1.4.\n",
      "\n",
      "[I 2024-12-23 14:34:11,850] Trial 56 pruned. \n"
     ]
    },
    {
     "name": "stdout",
     "output_type": "stream",
     "text": [
      "Trial 56 pruned. \n",
      "Trial 56 pruned. \n",
      "Trial 56 pruned. \n",
      "Trial 56 pruned. \n"
     ]
    },
    {
     "name": "stderr",
     "output_type": "stream",
     "text": [
      "C:\\Users\\ivanm\\AppData\\Local\\Temp\\ipykernel_5188\\4256399241.py:10: FutureWarning:\n",
      "\n",
      "suggest_loguniform has been deprecated in v3.0.0. This feature will be removed in v6.0.0. See https://github.com/optuna/optuna/releases/tag/v3.0.0. Use suggest_float(..., log=True) instead.\n",
      "\n",
      "c:\\Users\\ivanm\\AppData\\Local\\Programs\\Python\\Python39\\lib\\site-packages\\sklearn\\utils\\_param_validation.py:558: FutureWarning:\n",
      "\n",
      "Passing an int for a boolean parameter is deprecated in version 1.2 and won't be supported anymore in version 1.4.\n",
      "\n",
      "[I 2024-12-23 14:34:11,857] Trial 57 pruned. \n"
     ]
    },
    {
     "name": "stdout",
     "output_type": "stream",
     "text": [
      "Trial 57 pruned. \n",
      "Trial 57 pruned. \n",
      "Trial 57 pruned. \n",
      "Trial 57 pruned. \n"
     ]
    },
    {
     "name": "stderr",
     "output_type": "stream",
     "text": [
      "C:\\Users\\ivanm\\AppData\\Local\\Temp\\ipykernel_5188\\4256399241.py:10: FutureWarning:\n",
      "\n",
      "suggest_loguniform has been deprecated in v3.0.0. This feature will be removed in v6.0.0. See https://github.com/optuna/optuna/releases/tag/v3.0.0. Use suggest_float(..., log=True) instead.\n",
      "\n",
      "c:\\Users\\ivanm\\AppData\\Local\\Programs\\Python\\Python39\\lib\\site-packages\\sklearn\\utils\\_param_validation.py:558: FutureWarning:\n",
      "\n",
      "Passing an int for a boolean parameter is deprecated in version 1.2 and won't be supported anymore in version 1.4.\n",
      "\n",
      "[I 2024-12-23 14:34:11,864] Trial 58 pruned. \n"
     ]
    },
    {
     "name": "stdout",
     "output_type": "stream",
     "text": [
      "Trial 58 pruned. \n",
      "Trial 58 pruned. \n",
      "Trial 58 pruned. \n",
      "Trial 58 pruned. \n"
     ]
    },
    {
     "name": "stderr",
     "output_type": "stream",
     "text": [
      "C:\\Users\\ivanm\\AppData\\Local\\Temp\\ipykernel_5188\\4256399241.py:10: FutureWarning:\n",
      "\n",
      "suggest_loguniform has been deprecated in v3.0.0. This feature will be removed in v6.0.0. See https://github.com/optuna/optuna/releases/tag/v3.0.0. Use suggest_float(..., log=True) instead.\n",
      "\n",
      "c:\\Users\\ivanm\\AppData\\Local\\Programs\\Python\\Python39\\lib\\site-packages\\sklearn\\utils\\_param_validation.py:558: FutureWarning:\n",
      "\n",
      "Passing an int for a boolean parameter is deprecated in version 1.2 and won't be supported anymore in version 1.4.\n",
      "\n",
      "[I 2024-12-23 14:34:12,007] Trial 59 finished with value: 0.1048951048951049 and parameters: {'alpha': 4104.628712250632, 'force_alpha': 1, 'fit_prior': 1}. Best is trial 13 with value: 0.1048951048951049.\n"
     ]
    },
    {
     "name": "stdout",
     "output_type": "stream",
     "text": [
      "Trial 59 finished with value: 0.1048951048951049 and parameters: {'alpha': 4104.628712250632, 'force_alpha': 1, 'fit_prior': 1}. Best is trial 13 with value: 0.1048951048951049.\n",
      "Trial 59 finished with value: 0.1048951048951049 and parameters: {'alpha': 4104.628712250632, 'force_alpha': 1, 'fit_prior': 1}. Best is trial 13 with value: 0.1048951048951049.\n",
      "Trial 59 finished with value: 0.1048951048951049 and parameters: {'alpha': 4104.628712250632, 'force_alpha': 1, 'fit_prior': 1}. Best is trial 13 with value: 0.1048951048951049.\n",
      "Trial 59 finished with value: 0.1048951048951049 and parameters: {'alpha': 4104.628712250632, 'force_alpha': 1, 'fit_prior': 1}. Best is trial 13 with value: 0.1048951048951049.\n"
     ]
    },
    {
     "name": "stderr",
     "output_type": "stream",
     "text": [
      "C:\\Users\\ivanm\\AppData\\Local\\Temp\\ipykernel_5188\\4256399241.py:10: FutureWarning:\n",
      "\n",
      "suggest_loguniform has been deprecated in v3.0.0. This feature will be removed in v6.0.0. See https://github.com/optuna/optuna/releases/tag/v3.0.0. Use suggest_float(..., log=True) instead.\n",
      "\n",
      "c:\\Users\\ivanm\\AppData\\Local\\Programs\\Python\\Python39\\lib\\site-packages\\sklearn\\utils\\_param_validation.py:558: FutureWarning:\n",
      "\n",
      "Passing an int for a boolean parameter is deprecated in version 1.2 and won't be supported anymore in version 1.4.\n",
      "\n",
      "[I 2024-12-23 14:34:12,014] Trial 60 pruned. \n"
     ]
    },
    {
     "name": "stdout",
     "output_type": "stream",
     "text": [
      "Trial 60 pruned. \n",
      "Trial 60 pruned. \n",
      "Trial 60 pruned. \n",
      "Trial 60 pruned. \n"
     ]
    },
    {
     "name": "stderr",
     "output_type": "stream",
     "text": [
      "C:\\Users\\ivanm\\AppData\\Local\\Temp\\ipykernel_5188\\4256399241.py:10: FutureWarning:\n",
      "\n",
      "suggest_loguniform has been deprecated in v3.0.0. This feature will be removed in v6.0.0. See https://github.com/optuna/optuna/releases/tag/v3.0.0. Use suggest_float(..., log=True) instead.\n",
      "\n",
      "c:\\Users\\ivanm\\AppData\\Local\\Programs\\Python\\Python39\\lib\\site-packages\\sklearn\\utils\\_param_validation.py:558: FutureWarning:\n",
      "\n",
      "Passing an int for a boolean parameter is deprecated in version 1.2 and won't be supported anymore in version 1.4.\n",
      "\n",
      "[I 2024-12-23 14:34:12,023] Trial 61 pruned. \n"
     ]
    },
    {
     "name": "stdout",
     "output_type": "stream",
     "text": [
      "Trial 61 pruned. \n",
      "Trial 61 pruned. \n",
      "Trial 61 pruned. \n",
      "Trial 61 pruned. \n"
     ]
    },
    {
     "name": "stderr",
     "output_type": "stream",
     "text": [
      "C:\\Users\\ivanm\\AppData\\Local\\Temp\\ipykernel_5188\\4256399241.py:10: FutureWarning:\n",
      "\n",
      "suggest_loguniform has been deprecated in v3.0.0. This feature will be removed in v6.0.0. See https://github.com/optuna/optuna/releases/tag/v3.0.0. Use suggest_float(..., log=True) instead.\n",
      "\n",
      "c:\\Users\\ivanm\\AppData\\Local\\Programs\\Python\\Python39\\lib\\site-packages\\sklearn\\utils\\_param_validation.py:558: FutureWarning:\n",
      "\n",
      "Passing an int for a boolean parameter is deprecated in version 1.2 and won't be supported anymore in version 1.4.\n",
      "\n",
      "[I 2024-12-23 14:34:12,030] Trial 62 pruned. \n"
     ]
    },
    {
     "name": "stdout",
     "output_type": "stream",
     "text": [
      "Trial 62 pruned. \n",
      "Trial 62 pruned. \n",
      "Trial 62 pruned. \n",
      "Trial 62 pruned. \n"
     ]
    },
    {
     "name": "stderr",
     "output_type": "stream",
     "text": [
      "C:\\Users\\ivanm\\AppData\\Local\\Temp\\ipykernel_5188\\4256399241.py:10: FutureWarning:\n",
      "\n",
      "suggest_loguniform has been deprecated in v3.0.0. This feature will be removed in v6.0.0. See https://github.com/optuna/optuna/releases/tag/v3.0.0. Use suggest_float(..., log=True) instead.\n",
      "\n",
      "c:\\Users\\ivanm\\AppData\\Local\\Programs\\Python\\Python39\\lib\\site-packages\\sklearn\\utils\\_param_validation.py:558: FutureWarning:\n",
      "\n",
      "Passing an int for a boolean parameter is deprecated in version 1.2 and won't be supported anymore in version 1.4.\n",
      "\n",
      "[I 2024-12-23 14:34:12,041] Trial 63 pruned. \n"
     ]
    },
    {
     "name": "stdout",
     "output_type": "stream",
     "text": [
      "Trial 63 pruned. \n",
      "Trial 63 pruned. \n",
      "Trial 63 pruned. \n",
      "Trial 63 pruned. \n"
     ]
    },
    {
     "name": "stderr",
     "output_type": "stream",
     "text": [
      "C:\\Users\\ivanm\\AppData\\Local\\Temp\\ipykernel_5188\\4256399241.py:10: FutureWarning:\n",
      "\n",
      "suggest_loguniform has been deprecated in v3.0.0. This feature will be removed in v6.0.0. See https://github.com/optuna/optuna/releases/tag/v3.0.0. Use suggest_float(..., log=True) instead.\n",
      "\n",
      "c:\\Users\\ivanm\\AppData\\Local\\Programs\\Python\\Python39\\lib\\site-packages\\sklearn\\utils\\_param_validation.py:558: FutureWarning:\n",
      "\n",
      "Passing an int for a boolean parameter is deprecated in version 1.2 and won't be supported anymore in version 1.4.\n",
      "\n",
      "[I 2024-12-23 14:34:12,052] Trial 64 pruned. \n"
     ]
    },
    {
     "name": "stdout",
     "output_type": "stream",
     "text": [
      "Trial 64 pruned. \n",
      "Trial 64 pruned. \n",
      "Trial 64 pruned. \n",
      "Trial 64 pruned. \n"
     ]
    },
    {
     "name": "stderr",
     "output_type": "stream",
     "text": [
      "C:\\Users\\ivanm\\AppData\\Local\\Temp\\ipykernel_5188\\4256399241.py:10: FutureWarning:\n",
      "\n",
      "suggest_loguniform has been deprecated in v3.0.0. This feature will be removed in v6.0.0. See https://github.com/optuna/optuna/releases/tag/v3.0.0. Use suggest_float(..., log=True) instead.\n",
      "\n",
      "c:\\Users\\ivanm\\AppData\\Local\\Programs\\Python\\Python39\\lib\\site-packages\\sklearn\\utils\\_param_validation.py:558: FutureWarning:\n",
      "\n",
      "Passing an int for a boolean parameter is deprecated in version 1.2 and won't be supported anymore in version 1.4.\n",
      "\n",
      "[I 2024-12-23 14:34:12,069] Trial 65 pruned. \n"
     ]
    },
    {
     "name": "stdout",
     "output_type": "stream",
     "text": [
      "Trial 65 pruned. \n",
      "Trial 65 pruned. \n",
      "Trial 65 pruned. \n",
      "Trial 65 pruned. \n"
     ]
    },
    {
     "name": "stderr",
     "output_type": "stream",
     "text": [
      "C:\\Users\\ivanm\\AppData\\Local\\Temp\\ipykernel_5188\\4256399241.py:10: FutureWarning:\n",
      "\n",
      "suggest_loguniform has been deprecated in v3.0.0. This feature will be removed in v6.0.0. See https://github.com/optuna/optuna/releases/tag/v3.0.0. Use suggest_float(..., log=True) instead.\n",
      "\n",
      "c:\\Users\\ivanm\\AppData\\Local\\Programs\\Python\\Python39\\lib\\site-packages\\sklearn\\utils\\_param_validation.py:558: FutureWarning:\n",
      "\n",
      "Passing an int for a boolean parameter is deprecated in version 1.2 and won't be supported anymore in version 1.4.\n",
      "\n",
      "[I 2024-12-23 14:34:12,080] Trial 66 pruned. \n"
     ]
    },
    {
     "name": "stdout",
     "output_type": "stream",
     "text": [
      "Trial 66 pruned. \n",
      "Trial 66 pruned. \n",
      "Trial 66 pruned. \n",
      "Trial 66 pruned. \n"
     ]
    },
    {
     "name": "stderr",
     "output_type": "stream",
     "text": [
      "C:\\Users\\ivanm\\AppData\\Local\\Temp\\ipykernel_5188\\4256399241.py:10: FutureWarning:\n",
      "\n",
      "suggest_loguniform has been deprecated in v3.0.0. This feature will be removed in v6.0.0. See https://github.com/optuna/optuna/releases/tag/v3.0.0. Use suggest_float(..., log=True) instead.\n",
      "\n",
      "c:\\Users\\ivanm\\AppData\\Local\\Programs\\Python\\Python39\\lib\\site-packages\\sklearn\\utils\\_param_validation.py:558: FutureWarning:\n",
      "\n",
      "Passing an int for a boolean parameter is deprecated in version 1.2 and won't be supported anymore in version 1.4.\n",
      "\n",
      "[I 2024-12-23 14:34:12,088] Trial 67 pruned. \n"
     ]
    },
    {
     "name": "stdout",
     "output_type": "stream",
     "text": [
      "Trial 67 pruned. \n",
      "Trial 67 pruned. \n",
      "Trial 67 pruned. \n",
      "Trial 67 pruned. \n"
     ]
    },
    {
     "name": "stderr",
     "output_type": "stream",
     "text": [
      "C:\\Users\\ivanm\\AppData\\Local\\Temp\\ipykernel_5188\\4256399241.py:10: FutureWarning:\n",
      "\n",
      "suggest_loguniform has been deprecated in v3.0.0. This feature will be removed in v6.0.0. See https://github.com/optuna/optuna/releases/tag/v3.0.0. Use suggest_float(..., log=True) instead.\n",
      "\n",
      "c:\\Users\\ivanm\\AppData\\Local\\Programs\\Python\\Python39\\lib\\site-packages\\sklearn\\utils\\_param_validation.py:558: FutureWarning:\n",
      "\n",
      "Passing an int for a boolean parameter is deprecated in version 1.2 and won't be supported anymore in version 1.4.\n",
      "\n",
      "[I 2024-12-23 14:34:12,098] Trial 68 pruned. \n"
     ]
    },
    {
     "name": "stdout",
     "output_type": "stream",
     "text": [
      "Trial 68 pruned. \n",
      "Trial 68 pruned. \n",
      "Trial 68 pruned. \n",
      "Trial 68 pruned. \n"
     ]
    },
    {
     "name": "stderr",
     "output_type": "stream",
     "text": [
      "C:\\Users\\ivanm\\AppData\\Local\\Temp\\ipykernel_5188\\4256399241.py:10: FutureWarning:\n",
      "\n",
      "suggest_loguniform has been deprecated in v3.0.0. This feature will be removed in v6.0.0. See https://github.com/optuna/optuna/releases/tag/v3.0.0. Use suggest_float(..., log=True) instead.\n",
      "\n",
      "c:\\Users\\ivanm\\AppData\\Local\\Programs\\Python\\Python39\\lib\\site-packages\\sklearn\\utils\\_param_validation.py:558: FutureWarning:\n",
      "\n",
      "Passing an int for a boolean parameter is deprecated in version 1.2 and won't be supported anymore in version 1.4.\n",
      "\n",
      "[I 2024-12-23 14:34:12,237] Trial 69 finished with value: 0.09790209790209792 and parameters: {'alpha': 659.936136420881, 'force_alpha': 0, 'fit_prior': 1}. Best is trial 13 with value: 0.1048951048951049.\n"
     ]
    },
    {
     "name": "stdout",
     "output_type": "stream",
     "text": [
      "Trial 69 finished with value: 0.09790209790209792 and parameters: {'alpha': 659.936136420881, 'force_alpha': 0, 'fit_prior': 1}. Best is trial 13 with value: 0.1048951048951049.\n",
      "Trial 69 finished with value: 0.09790209790209792 and parameters: {'alpha': 659.936136420881, 'force_alpha': 0, 'fit_prior': 1}. Best is trial 13 with value: 0.1048951048951049.\n",
      "Trial 69 finished with value: 0.09790209790209792 and parameters: {'alpha': 659.936136420881, 'force_alpha': 0, 'fit_prior': 1}. Best is trial 13 with value: 0.1048951048951049.\n",
      "Trial 69 finished with value: 0.09790209790209792 and parameters: {'alpha': 659.936136420881, 'force_alpha': 0, 'fit_prior': 1}. Best is trial 13 with value: 0.1048951048951049.\n"
     ]
    },
    {
     "name": "stderr",
     "output_type": "stream",
     "text": [
      "C:\\Users\\ivanm\\AppData\\Local\\Temp\\ipykernel_5188\\4256399241.py:10: FutureWarning:\n",
      "\n",
      "suggest_loguniform has been deprecated in v3.0.0. This feature will be removed in v6.0.0. See https://github.com/optuna/optuna/releases/tag/v3.0.0. Use suggest_float(..., log=True) instead.\n",
      "\n",
      "c:\\Users\\ivanm\\AppData\\Local\\Programs\\Python\\Python39\\lib\\site-packages\\sklearn\\utils\\_param_validation.py:558: FutureWarning:\n",
      "\n",
      "Passing an int for a boolean parameter is deprecated in version 1.2 and won't be supported anymore in version 1.4.\n",
      "\n",
      "[I 2024-12-23 14:34:12,244] Trial 70 pruned. \n"
     ]
    },
    {
     "name": "stdout",
     "output_type": "stream",
     "text": [
      "Trial 70 pruned. \n",
      "Trial 70 pruned. \n",
      "Trial 70 pruned. \n",
      "Trial 70 pruned. \n"
     ]
    },
    {
     "name": "stderr",
     "output_type": "stream",
     "text": [
      "C:\\Users\\ivanm\\AppData\\Local\\Temp\\ipykernel_5188\\4256399241.py:10: FutureWarning:\n",
      "\n",
      "suggest_loguniform has been deprecated in v3.0.0. This feature will be removed in v6.0.0. See https://github.com/optuna/optuna/releases/tag/v3.0.0. Use suggest_float(..., log=True) instead.\n",
      "\n",
      "c:\\Users\\ivanm\\AppData\\Local\\Programs\\Python\\Python39\\lib\\site-packages\\sklearn\\utils\\_param_validation.py:558: FutureWarning:\n",
      "\n",
      "Passing an int for a boolean parameter is deprecated in version 1.2 and won't be supported anymore in version 1.4.\n",
      "\n",
      "[I 2024-12-23 14:34:12,251] Trial 71 pruned. \n"
     ]
    },
    {
     "name": "stdout",
     "output_type": "stream",
     "text": [
      "Trial 71 pruned. \n",
      "Trial 71 pruned. \n",
      "Trial 71 pruned. \n",
      "Trial 71 pruned. \n"
     ]
    },
    {
     "name": "stderr",
     "output_type": "stream",
     "text": [
      "C:\\Users\\ivanm\\AppData\\Local\\Temp\\ipykernel_5188\\4256399241.py:10: FutureWarning:\n",
      "\n",
      "suggest_loguniform has been deprecated in v3.0.0. This feature will be removed in v6.0.0. See https://github.com/optuna/optuna/releases/tag/v3.0.0. Use suggest_float(..., log=True) instead.\n",
      "\n",
      "c:\\Users\\ivanm\\AppData\\Local\\Programs\\Python\\Python39\\lib\\site-packages\\sklearn\\utils\\_param_validation.py:558: FutureWarning:\n",
      "\n",
      "Passing an int for a boolean parameter is deprecated in version 1.2 and won't be supported anymore in version 1.4.\n",
      "\n",
      "[I 2024-12-23 14:34:12,258] Trial 72 pruned. \n"
     ]
    },
    {
     "name": "stdout",
     "output_type": "stream",
     "text": [
      "Trial 72 pruned. \n",
      "Trial 72 pruned. \n",
      "Trial 72 pruned. \n",
      "Trial 72 pruned. \n"
     ]
    },
    {
     "name": "stderr",
     "output_type": "stream",
     "text": [
      "C:\\Users\\ivanm\\AppData\\Local\\Temp\\ipykernel_5188\\4256399241.py:10: FutureWarning:\n",
      "\n",
      "suggest_loguniform has been deprecated in v3.0.0. This feature will be removed in v6.0.0. See https://github.com/optuna/optuna/releases/tag/v3.0.0. Use suggest_float(..., log=True) instead.\n",
      "\n",
      "c:\\Users\\ivanm\\AppData\\Local\\Programs\\Python\\Python39\\lib\\site-packages\\sklearn\\utils\\_param_validation.py:558: FutureWarning:\n",
      "\n",
      "Passing an int for a boolean parameter is deprecated in version 1.2 and won't be supported anymore in version 1.4.\n",
      "\n",
      "[I 2024-12-23 14:34:12,264] Trial 73 pruned. \n"
     ]
    },
    {
     "name": "stdout",
     "output_type": "stream",
     "text": [
      "Trial 73 pruned. \n",
      "Trial 73 pruned. \n",
      "Trial 73 pruned. \n",
      "Trial 73 pruned. \n"
     ]
    },
    {
     "name": "stderr",
     "output_type": "stream",
     "text": [
      "C:\\Users\\ivanm\\AppData\\Local\\Temp\\ipykernel_5188\\4256399241.py:10: FutureWarning:\n",
      "\n",
      "suggest_loguniform has been deprecated in v3.0.0. This feature will be removed in v6.0.0. See https://github.com/optuna/optuna/releases/tag/v3.0.0. Use suggest_float(..., log=True) instead.\n",
      "\n",
      "c:\\Users\\ivanm\\AppData\\Local\\Programs\\Python\\Python39\\lib\\site-packages\\sklearn\\utils\\_param_validation.py:558: FutureWarning:\n",
      "\n",
      "Passing an int for a boolean parameter is deprecated in version 1.2 and won't be supported anymore in version 1.4.\n",
      "\n",
      "[I 2024-12-23 14:34:12,273] Trial 74 pruned. \n"
     ]
    },
    {
     "name": "stdout",
     "output_type": "stream",
     "text": [
      "Trial 74 pruned. \n",
      "Trial 74 pruned. \n",
      "Trial 74 pruned. \n",
      "Trial 74 pruned. \n"
     ]
    },
    {
     "name": "stderr",
     "output_type": "stream",
     "text": [
      "C:\\Users\\ivanm\\AppData\\Local\\Temp\\ipykernel_5188\\4256399241.py:10: FutureWarning:\n",
      "\n",
      "suggest_loguniform has been deprecated in v3.0.0. This feature will be removed in v6.0.0. See https://github.com/optuna/optuna/releases/tag/v3.0.0. Use suggest_float(..., log=True) instead.\n",
      "\n",
      "c:\\Users\\ivanm\\AppData\\Local\\Programs\\Python\\Python39\\lib\\site-packages\\sklearn\\utils\\_param_validation.py:558: FutureWarning:\n",
      "\n",
      "Passing an int for a boolean parameter is deprecated in version 1.2 and won't be supported anymore in version 1.4.\n",
      "\n",
      "[I 2024-12-23 14:34:12,280] Trial 75 pruned. \n"
     ]
    },
    {
     "name": "stdout",
     "output_type": "stream",
     "text": [
      "Trial 75 pruned. \n",
      "Trial 75 pruned. \n",
      "Trial 75 pruned. \n",
      "Trial 75 pruned. \n"
     ]
    },
    {
     "name": "stderr",
     "output_type": "stream",
     "text": [
      "C:\\Users\\ivanm\\AppData\\Local\\Temp\\ipykernel_5188\\4256399241.py:10: FutureWarning:\n",
      "\n",
      "suggest_loguniform has been deprecated in v3.0.0. This feature will be removed in v6.0.0. See https://github.com/optuna/optuna/releases/tag/v3.0.0. Use suggest_float(..., log=True) instead.\n",
      "\n",
      "c:\\Users\\ivanm\\AppData\\Local\\Programs\\Python\\Python39\\lib\\site-packages\\sklearn\\utils\\_param_validation.py:558: FutureWarning:\n",
      "\n",
      "Passing an int for a boolean parameter is deprecated in version 1.2 and won't be supported anymore in version 1.4.\n",
      "\n",
      "[I 2024-12-23 14:34:12,394] Trial 76 finished with value: 0.09790209790209792 and parameters: {'alpha': 798.0271948914707, 'force_alpha': 0, 'fit_prior': 0}. Best is trial 13 with value: 0.1048951048951049.\n"
     ]
    },
    {
     "name": "stdout",
     "output_type": "stream",
     "text": [
      "Trial 76 finished with value: 0.09790209790209792 and parameters: {'alpha': 798.0271948914707, 'force_alpha': 0, 'fit_prior': 0}. Best is trial 13 with value: 0.1048951048951049.\n",
      "Trial 76 finished with value: 0.09790209790209792 and parameters: {'alpha': 798.0271948914707, 'force_alpha': 0, 'fit_prior': 0}. Best is trial 13 with value: 0.1048951048951049.\n",
      "Trial 76 finished with value: 0.09790209790209792 and parameters: {'alpha': 798.0271948914707, 'force_alpha': 0, 'fit_prior': 0}. Best is trial 13 with value: 0.1048951048951049.\n",
      "Trial 76 finished with value: 0.09790209790209792 and parameters: {'alpha': 798.0271948914707, 'force_alpha': 0, 'fit_prior': 0}. Best is trial 13 with value: 0.1048951048951049.\n"
     ]
    },
    {
     "name": "stderr",
     "output_type": "stream",
     "text": [
      "C:\\Users\\ivanm\\AppData\\Local\\Temp\\ipykernel_5188\\4256399241.py:10: FutureWarning:\n",
      "\n",
      "suggest_loguniform has been deprecated in v3.0.0. This feature will be removed in v6.0.0. See https://github.com/optuna/optuna/releases/tag/v3.0.0. Use suggest_float(..., log=True) instead.\n",
      "\n",
      "c:\\Users\\ivanm\\AppData\\Local\\Programs\\Python\\Python39\\lib\\site-packages\\sklearn\\utils\\_param_validation.py:558: FutureWarning:\n",
      "\n",
      "Passing an int for a boolean parameter is deprecated in version 1.2 and won't be supported anymore in version 1.4.\n",
      "\n",
      "[I 2024-12-23 14:34:12,402] Trial 77 pruned. \n"
     ]
    },
    {
     "name": "stdout",
     "output_type": "stream",
     "text": [
      "Trial 77 pruned. \n",
      "Trial 77 pruned. \n",
      "Trial 77 pruned. \n",
      "Trial 77 pruned. \n"
     ]
    },
    {
     "name": "stderr",
     "output_type": "stream",
     "text": [
      "C:\\Users\\ivanm\\AppData\\Local\\Temp\\ipykernel_5188\\4256399241.py:10: FutureWarning:\n",
      "\n",
      "suggest_loguniform has been deprecated in v3.0.0. This feature will be removed in v6.0.0. See https://github.com/optuna/optuna/releases/tag/v3.0.0. Use suggest_float(..., log=True) instead.\n",
      "\n",
      "c:\\Users\\ivanm\\AppData\\Local\\Programs\\Python\\Python39\\lib\\site-packages\\sklearn\\utils\\_param_validation.py:558: FutureWarning:\n",
      "\n",
      "Passing an int for a boolean parameter is deprecated in version 1.2 and won't be supported anymore in version 1.4.\n",
      "\n",
      "[I 2024-12-23 14:34:12,409] Trial 78 pruned. \n"
     ]
    },
    {
     "name": "stdout",
     "output_type": "stream",
     "text": [
      "Trial 78 pruned. \n",
      "Trial 78 pruned. \n",
      "Trial 78 pruned. \n",
      "Trial 78 pruned. \n"
     ]
    },
    {
     "name": "stderr",
     "output_type": "stream",
     "text": [
      "C:\\Users\\ivanm\\AppData\\Local\\Temp\\ipykernel_5188\\4256399241.py:10: FutureWarning:\n",
      "\n",
      "suggest_loguniform has been deprecated in v3.0.0. This feature will be removed in v6.0.0. See https://github.com/optuna/optuna/releases/tag/v3.0.0. Use suggest_float(..., log=True) instead.\n",
      "\n",
      "c:\\Users\\ivanm\\AppData\\Local\\Programs\\Python\\Python39\\lib\\site-packages\\sklearn\\utils\\_param_validation.py:558: FutureWarning:\n",
      "\n",
      "Passing an int for a boolean parameter is deprecated in version 1.2 and won't be supported anymore in version 1.4.\n",
      "\n",
      "[I 2024-12-23 14:34:12,416] Trial 79 pruned. \n"
     ]
    },
    {
     "name": "stdout",
     "output_type": "stream",
     "text": [
      "Trial 79 pruned. \n",
      "Trial 79 pruned. \n",
      "Trial 79 pruned. \n",
      "Trial 79 pruned. \n"
     ]
    },
    {
     "name": "stderr",
     "output_type": "stream",
     "text": [
      "C:\\Users\\ivanm\\AppData\\Local\\Temp\\ipykernel_5188\\4256399241.py:10: FutureWarning:\n",
      "\n",
      "suggest_loguniform has been deprecated in v3.0.0. This feature will be removed in v6.0.0. See https://github.com/optuna/optuna/releases/tag/v3.0.0. Use suggest_float(..., log=True) instead.\n",
      "\n",
      "c:\\Users\\ivanm\\AppData\\Local\\Programs\\Python\\Python39\\lib\\site-packages\\sklearn\\utils\\_param_validation.py:558: FutureWarning:\n",
      "\n",
      "Passing an int for a boolean parameter is deprecated in version 1.2 and won't be supported anymore in version 1.4.\n",
      "\n",
      "[I 2024-12-23 14:34:12,424] Trial 80 pruned. \n"
     ]
    },
    {
     "name": "stdout",
     "output_type": "stream",
     "text": [
      "Trial 80 pruned. \n",
      "Trial 80 pruned. \n",
      "Trial 80 pruned. \n",
      "Trial 80 pruned. \n"
     ]
    },
    {
     "name": "stderr",
     "output_type": "stream",
     "text": [
      "C:\\Users\\ivanm\\AppData\\Local\\Temp\\ipykernel_5188\\4256399241.py:10: FutureWarning:\n",
      "\n",
      "suggest_loguniform has been deprecated in v3.0.0. This feature will be removed in v6.0.0. See https://github.com/optuna/optuna/releases/tag/v3.0.0. Use suggest_float(..., log=True) instead.\n",
      "\n",
      "c:\\Users\\ivanm\\AppData\\Local\\Programs\\Python\\Python39\\lib\\site-packages\\sklearn\\utils\\_param_validation.py:558: FutureWarning:\n",
      "\n",
      "Passing an int for a boolean parameter is deprecated in version 1.2 and won't be supported anymore in version 1.4.\n",
      "\n",
      "[I 2024-12-23 14:34:12,430] Trial 81 pruned. \n"
     ]
    },
    {
     "name": "stdout",
     "output_type": "stream",
     "text": [
      "Trial 81 pruned. \n",
      "Trial 81 pruned. \n",
      "Trial 81 pruned. \n",
      "Trial 81 pruned. \n"
     ]
    },
    {
     "name": "stderr",
     "output_type": "stream",
     "text": [
      "C:\\Users\\ivanm\\AppData\\Local\\Temp\\ipykernel_5188\\4256399241.py:10: FutureWarning:\n",
      "\n",
      "suggest_loguniform has been deprecated in v3.0.0. This feature will be removed in v6.0.0. See https://github.com/optuna/optuna/releases/tag/v3.0.0. Use suggest_float(..., log=True) instead.\n",
      "\n",
      "c:\\Users\\ivanm\\AppData\\Local\\Programs\\Python\\Python39\\lib\\site-packages\\sklearn\\utils\\_param_validation.py:558: FutureWarning:\n",
      "\n",
      "Passing an int for a boolean parameter is deprecated in version 1.2 and won't be supported anymore in version 1.4.\n",
      "\n",
      "[I 2024-12-23 14:34:12,437] Trial 82 pruned. \n"
     ]
    },
    {
     "name": "stdout",
     "output_type": "stream",
     "text": [
      "Trial 82 pruned. \n",
      "Trial 82 pruned. \n",
      "Trial 82 pruned. \n",
      "Trial 82 pruned. \n"
     ]
    },
    {
     "name": "stderr",
     "output_type": "stream",
     "text": [
      "C:\\Users\\ivanm\\AppData\\Local\\Temp\\ipykernel_5188\\4256399241.py:10: FutureWarning:\n",
      "\n",
      "suggest_loguniform has been deprecated in v3.0.0. This feature will be removed in v6.0.0. See https://github.com/optuna/optuna/releases/tag/v3.0.0. Use suggest_float(..., log=True) instead.\n",
      "\n",
      "c:\\Users\\ivanm\\AppData\\Local\\Programs\\Python\\Python39\\lib\\site-packages\\sklearn\\utils\\_param_validation.py:558: FutureWarning:\n",
      "\n",
      "Passing an int for a boolean parameter is deprecated in version 1.2 and won't be supported anymore in version 1.4.\n",
      "\n",
      "[I 2024-12-23 14:34:12,553] Trial 83 finished with value: 0.09790209790209792 and parameters: {'alpha': 650.5955457170392, 'force_alpha': 0, 'fit_prior': 1}. Best is trial 13 with value: 0.1048951048951049.\n"
     ]
    },
    {
     "name": "stdout",
     "output_type": "stream",
     "text": [
      "Trial 83 finished with value: 0.09790209790209792 and parameters: {'alpha': 650.5955457170392, 'force_alpha': 0, 'fit_prior': 1}. Best is trial 13 with value: 0.1048951048951049.\n",
      "Trial 83 finished with value: 0.09790209790209792 and parameters: {'alpha': 650.5955457170392, 'force_alpha': 0, 'fit_prior': 1}. Best is trial 13 with value: 0.1048951048951049.\n",
      "Trial 83 finished with value: 0.09790209790209792 and parameters: {'alpha': 650.5955457170392, 'force_alpha': 0, 'fit_prior': 1}. Best is trial 13 with value: 0.1048951048951049.\n",
      "Trial 83 finished with value: 0.09790209790209792 and parameters: {'alpha': 650.5955457170392, 'force_alpha': 0, 'fit_prior': 1}. Best is trial 13 with value: 0.1048951048951049.\n"
     ]
    },
    {
     "name": "stderr",
     "output_type": "stream",
     "text": [
      "C:\\Users\\ivanm\\AppData\\Local\\Temp\\ipykernel_5188\\4256399241.py:10: FutureWarning:\n",
      "\n",
      "suggest_loguniform has been deprecated in v3.0.0. This feature will be removed in v6.0.0. See https://github.com/optuna/optuna/releases/tag/v3.0.0. Use suggest_float(..., log=True) instead.\n",
      "\n",
      "c:\\Users\\ivanm\\AppData\\Local\\Programs\\Python\\Python39\\lib\\site-packages\\sklearn\\utils\\_param_validation.py:558: FutureWarning:\n",
      "\n",
      "Passing an int for a boolean parameter is deprecated in version 1.2 and won't be supported anymore in version 1.4.\n",
      "\n",
      "[I 2024-12-23 14:34:12,560] Trial 84 pruned. \n"
     ]
    },
    {
     "name": "stdout",
     "output_type": "stream",
     "text": [
      "Trial 84 pruned. \n",
      "Trial 84 pruned. \n",
      "Trial 84 pruned. \n",
      "Trial 84 pruned. \n"
     ]
    },
    {
     "name": "stderr",
     "output_type": "stream",
     "text": [
      "C:\\Users\\ivanm\\AppData\\Local\\Temp\\ipykernel_5188\\4256399241.py:10: FutureWarning:\n",
      "\n",
      "suggest_loguniform has been deprecated in v3.0.0. This feature will be removed in v6.0.0. See https://github.com/optuna/optuna/releases/tag/v3.0.0. Use suggest_float(..., log=True) instead.\n",
      "\n",
      "c:\\Users\\ivanm\\AppData\\Local\\Programs\\Python\\Python39\\lib\\site-packages\\sklearn\\utils\\_param_validation.py:558: FutureWarning:\n",
      "\n",
      "Passing an int for a boolean parameter is deprecated in version 1.2 and won't be supported anymore in version 1.4.\n",
      "\n",
      "[I 2024-12-23 14:34:12,567] Trial 85 pruned. \n"
     ]
    },
    {
     "name": "stdout",
     "output_type": "stream",
     "text": [
      "Trial 85 pruned. \n",
      "Trial 85 pruned. \n",
      "Trial 85 pruned. \n",
      "Trial 85 pruned. \n"
     ]
    },
    {
     "name": "stderr",
     "output_type": "stream",
     "text": [
      "C:\\Users\\ivanm\\AppData\\Local\\Temp\\ipykernel_5188\\4256399241.py:10: FutureWarning:\n",
      "\n",
      "suggest_loguniform has been deprecated in v3.0.0. This feature will be removed in v6.0.0. See https://github.com/optuna/optuna/releases/tag/v3.0.0. Use suggest_float(..., log=True) instead.\n",
      "\n",
      "c:\\Users\\ivanm\\AppData\\Local\\Programs\\Python\\Python39\\lib\\site-packages\\sklearn\\utils\\_param_validation.py:558: FutureWarning:\n",
      "\n",
      "Passing an int for a boolean parameter is deprecated in version 1.2 and won't be supported anymore in version 1.4.\n",
      "\n",
      "[I 2024-12-23 14:34:12,684] Trial 86 finished with value: 0.11188811188811187 and parameters: {'alpha': 7993.499786300333, 'force_alpha': 1, 'fit_prior': 1}. Best is trial 86 with value: 0.11188811188811187.\n"
     ]
    },
    {
     "name": "stdout",
     "output_type": "stream",
     "text": [
      "Trial 86 finished with value: 0.11188811188811187 and parameters: {'alpha': 7993.499786300333, 'force_alpha': 1, 'fit_prior': 1}. Best is trial 86 with value: 0.11188811188811187.\n",
      "Trial 86 finished with value: 0.11188811188811187 and parameters: {'alpha': 7993.499786300333, 'force_alpha': 1, 'fit_prior': 1}. Best is trial 86 with value: 0.11188811188811187.\n",
      "Trial 86 finished with value: 0.11188811188811187 and parameters: {'alpha': 7993.499786300333, 'force_alpha': 1, 'fit_prior': 1}. Best is trial 86 with value: 0.11188811188811187.\n",
      "Trial 86 finished with value: 0.11188811188811187 and parameters: {'alpha': 7993.499786300333, 'force_alpha': 1, 'fit_prior': 1}. Best is trial 86 with value: 0.11188811188811187.\n"
     ]
    },
    {
     "name": "stderr",
     "output_type": "stream",
     "text": [
      "C:\\Users\\ivanm\\AppData\\Local\\Temp\\ipykernel_5188\\4256399241.py:10: FutureWarning:\n",
      "\n",
      "suggest_loguniform has been deprecated in v3.0.0. This feature will be removed in v6.0.0. See https://github.com/optuna/optuna/releases/tag/v3.0.0. Use suggest_float(..., log=True) instead.\n",
      "\n",
      "c:\\Users\\ivanm\\AppData\\Local\\Programs\\Python\\Python39\\lib\\site-packages\\sklearn\\utils\\_param_validation.py:558: FutureWarning:\n",
      "\n",
      "Passing an int for a boolean parameter is deprecated in version 1.2 and won't be supported anymore in version 1.4.\n",
      "\n",
      "[I 2024-12-23 14:34:12,691] Trial 87 pruned. \n"
     ]
    },
    {
     "name": "stdout",
     "output_type": "stream",
     "text": [
      "Trial 87 pruned. \n",
      "Trial 87 pruned. \n",
      "Trial 87 pruned. \n",
      "Trial 87 pruned. \n"
     ]
    },
    {
     "name": "stderr",
     "output_type": "stream",
     "text": [
      "C:\\Users\\ivanm\\AppData\\Local\\Temp\\ipykernel_5188\\4256399241.py:10: FutureWarning:\n",
      "\n",
      "suggest_loguniform has been deprecated in v3.0.0. This feature will be removed in v6.0.0. See https://github.com/optuna/optuna/releases/tag/v3.0.0. Use suggest_float(..., log=True) instead.\n",
      "\n",
      "c:\\Users\\ivanm\\AppData\\Local\\Programs\\Python\\Python39\\lib\\site-packages\\sklearn\\utils\\_param_validation.py:558: FutureWarning:\n",
      "\n",
      "Passing an int for a boolean parameter is deprecated in version 1.2 and won't be supported anymore in version 1.4.\n",
      "\n",
      "[I 2024-12-23 14:34:12,698] Trial 88 pruned. \n"
     ]
    },
    {
     "name": "stdout",
     "output_type": "stream",
     "text": [
      "Trial 88 pruned. \n",
      "Trial 88 pruned. \n",
      "Trial 88 pruned. \n",
      "Trial 88 pruned. \n"
     ]
    },
    {
     "name": "stderr",
     "output_type": "stream",
     "text": [
      "C:\\Users\\ivanm\\AppData\\Local\\Temp\\ipykernel_5188\\4256399241.py:10: FutureWarning:\n",
      "\n",
      "suggest_loguniform has been deprecated in v3.0.0. This feature will be removed in v6.0.0. See https://github.com/optuna/optuna/releases/tag/v3.0.0. Use suggest_float(..., log=True) instead.\n",
      "\n",
      "c:\\Users\\ivanm\\AppData\\Local\\Programs\\Python\\Python39\\lib\\site-packages\\sklearn\\utils\\_param_validation.py:558: FutureWarning:\n",
      "\n",
      "Passing an int for a boolean parameter is deprecated in version 1.2 and won't be supported anymore in version 1.4.\n",
      "\n",
      "[I 2024-12-23 14:34:12,846] Trial 89 finished with value: 0.09790209790209792 and parameters: {'alpha': 1866.657277486244, 'force_alpha': 0, 'fit_prior': 1}. Best is trial 86 with value: 0.11188811188811187.\n"
     ]
    },
    {
     "name": "stdout",
     "output_type": "stream",
     "text": [
      "Trial 89 finished with value: 0.09790209790209792 and parameters: {'alpha': 1866.657277486244, 'force_alpha': 0, 'fit_prior': 1}. Best is trial 86 with value: 0.11188811188811187.\n",
      "Trial 89 finished with value: 0.09790209790209792 and parameters: {'alpha': 1866.657277486244, 'force_alpha': 0, 'fit_prior': 1}. Best is trial 86 with value: 0.11188811188811187.\n",
      "Trial 89 finished with value: 0.09790209790209792 and parameters: {'alpha': 1866.657277486244, 'force_alpha': 0, 'fit_prior': 1}. Best is trial 86 with value: 0.11188811188811187.\n",
      "Trial 89 finished with value: 0.09790209790209792 and parameters: {'alpha': 1866.657277486244, 'force_alpha': 0, 'fit_prior': 1}. Best is trial 86 with value: 0.11188811188811187.\n"
     ]
    },
    {
     "name": "stderr",
     "output_type": "stream",
     "text": [
      "C:\\Users\\ivanm\\AppData\\Local\\Temp\\ipykernel_5188\\4256399241.py:10: FutureWarning:\n",
      "\n",
      "suggest_loguniform has been deprecated in v3.0.0. This feature will be removed in v6.0.0. See https://github.com/optuna/optuna/releases/tag/v3.0.0. Use suggest_float(..., log=True) instead.\n",
      "\n",
      "c:\\Users\\ivanm\\AppData\\Local\\Programs\\Python\\Python39\\lib\\site-packages\\sklearn\\utils\\_param_validation.py:558: FutureWarning:\n",
      "\n",
      "Passing an int for a boolean parameter is deprecated in version 1.2 and won't be supported anymore in version 1.4.\n",
      "\n",
      "[I 2024-12-23 14:34:12,853] Trial 90 pruned. \n"
     ]
    },
    {
     "name": "stdout",
     "output_type": "stream",
     "text": [
      "Trial 90 pruned. \n",
      "Trial 90 pruned. \n",
      "Trial 90 pruned. \n",
      "Trial 90 pruned. \n"
     ]
    },
    {
     "name": "stderr",
     "output_type": "stream",
     "text": [
      "C:\\Users\\ivanm\\AppData\\Local\\Temp\\ipykernel_5188\\4256399241.py:10: FutureWarning:\n",
      "\n",
      "suggest_loguniform has been deprecated in v3.0.0. This feature will be removed in v6.0.0. See https://github.com/optuna/optuna/releases/tag/v3.0.0. Use suggest_float(..., log=True) instead.\n",
      "\n",
      "c:\\Users\\ivanm\\AppData\\Local\\Programs\\Python\\Python39\\lib\\site-packages\\sklearn\\utils\\_param_validation.py:558: FutureWarning:\n",
      "\n",
      "Passing an int for a boolean parameter is deprecated in version 1.2 and won't be supported anymore in version 1.4.\n",
      "\n",
      "[I 2024-12-23 14:34:12,860] Trial 91 pruned. \n"
     ]
    },
    {
     "name": "stdout",
     "output_type": "stream",
     "text": [
      "Trial 91 pruned. \n",
      "Trial 91 pruned. \n",
      "Trial 91 pruned. \n",
      "Trial 91 pruned. \n"
     ]
    },
    {
     "name": "stderr",
     "output_type": "stream",
     "text": [
      "C:\\Users\\ivanm\\AppData\\Local\\Temp\\ipykernel_5188\\4256399241.py:10: FutureWarning:\n",
      "\n",
      "suggest_loguniform has been deprecated in v3.0.0. This feature will be removed in v6.0.0. See https://github.com/optuna/optuna/releases/tag/v3.0.0. Use suggest_float(..., log=True) instead.\n",
      "\n",
      "c:\\Users\\ivanm\\AppData\\Local\\Programs\\Python\\Python39\\lib\\site-packages\\sklearn\\utils\\_param_validation.py:558: FutureWarning:\n",
      "\n",
      "Passing an int for a boolean parameter is deprecated in version 1.2 and won't be supported anymore in version 1.4.\n",
      "\n",
      "[I 2024-12-23 14:34:12,867] Trial 92 pruned. \n"
     ]
    },
    {
     "name": "stdout",
     "output_type": "stream",
     "text": [
      "Trial 92 pruned. \n",
      "Trial 92 pruned. \n",
      "Trial 92 pruned. \n",
      "Trial 92 pruned. \n"
     ]
    },
    {
     "name": "stderr",
     "output_type": "stream",
     "text": [
      "C:\\Users\\ivanm\\AppData\\Local\\Temp\\ipykernel_5188\\4256399241.py:10: FutureWarning:\n",
      "\n",
      "suggest_loguniform has been deprecated in v3.0.0. This feature will be removed in v6.0.0. See https://github.com/optuna/optuna/releases/tag/v3.0.0. Use suggest_float(..., log=True) instead.\n",
      "\n",
      "c:\\Users\\ivanm\\AppData\\Local\\Programs\\Python\\Python39\\lib\\site-packages\\sklearn\\utils\\_param_validation.py:558: FutureWarning:\n",
      "\n",
      "Passing an int for a boolean parameter is deprecated in version 1.2 and won't be supported anymore in version 1.4.\n",
      "\n",
      "[I 2024-12-23 14:34:12,874] Trial 93 pruned. \n"
     ]
    },
    {
     "name": "stdout",
     "output_type": "stream",
     "text": [
      "Trial 93 pruned. \n",
      "Trial 93 pruned. \n",
      "Trial 93 pruned. \n",
      "Trial 93 pruned. \n"
     ]
    },
    {
     "name": "stderr",
     "output_type": "stream",
     "text": [
      "C:\\Users\\ivanm\\AppData\\Local\\Temp\\ipykernel_5188\\4256399241.py:10: FutureWarning:\n",
      "\n",
      "suggest_loguniform has been deprecated in v3.0.0. This feature will be removed in v6.0.0. See https://github.com/optuna/optuna/releases/tag/v3.0.0. Use suggest_float(..., log=True) instead.\n",
      "\n",
      "c:\\Users\\ivanm\\AppData\\Local\\Programs\\Python\\Python39\\lib\\site-packages\\sklearn\\utils\\_param_validation.py:558: FutureWarning:\n",
      "\n",
      "Passing an int for a boolean parameter is deprecated in version 1.2 and won't be supported anymore in version 1.4.\n",
      "\n",
      "[I 2024-12-23 14:34:12,881] Trial 94 pruned. \n"
     ]
    },
    {
     "name": "stdout",
     "output_type": "stream",
     "text": [
      "Trial 94 pruned. \n",
      "Trial 94 pruned. \n",
      "Trial 94 pruned. \n",
      "Trial 94 pruned. \n"
     ]
    },
    {
     "name": "stderr",
     "output_type": "stream",
     "text": [
      "C:\\Users\\ivanm\\AppData\\Local\\Temp\\ipykernel_5188\\4256399241.py:10: FutureWarning:\n",
      "\n",
      "suggest_loguniform has been deprecated in v3.0.0. This feature will be removed in v6.0.0. See https://github.com/optuna/optuna/releases/tag/v3.0.0. Use suggest_float(..., log=True) instead.\n",
      "\n",
      "c:\\Users\\ivanm\\AppData\\Local\\Programs\\Python\\Python39\\lib\\site-packages\\sklearn\\utils\\_param_validation.py:558: FutureWarning:\n",
      "\n",
      "Passing an int for a boolean parameter is deprecated in version 1.2 and won't be supported anymore in version 1.4.\n",
      "\n",
      "[I 2024-12-23 14:34:12,889] Trial 95 pruned. \n"
     ]
    },
    {
     "name": "stdout",
     "output_type": "stream",
     "text": [
      "Trial 95 pruned. \n",
      "Trial 95 pruned. \n",
      "Trial 95 pruned. \n",
      "Trial 95 pruned. \n"
     ]
    },
    {
     "name": "stderr",
     "output_type": "stream",
     "text": [
      "C:\\Users\\ivanm\\AppData\\Local\\Temp\\ipykernel_5188\\4256399241.py:10: FutureWarning:\n",
      "\n",
      "suggest_loguniform has been deprecated in v3.0.0. This feature will be removed in v6.0.0. See https://github.com/optuna/optuna/releases/tag/v3.0.0. Use suggest_float(..., log=True) instead.\n",
      "\n",
      "c:\\Users\\ivanm\\AppData\\Local\\Programs\\Python\\Python39\\lib\\site-packages\\sklearn\\utils\\_param_validation.py:558: FutureWarning:\n",
      "\n",
      "Passing an int for a boolean parameter is deprecated in version 1.2 and won't be supported anymore in version 1.4.\n",
      "\n",
      "[I 2024-12-23 14:34:12,895] Trial 96 pruned. \n"
     ]
    },
    {
     "name": "stdout",
     "output_type": "stream",
     "text": [
      "Trial 96 pruned. \n",
      "Trial 96 pruned. \n",
      "Trial 96 pruned. \n",
      "Trial 96 pruned. \n"
     ]
    },
    {
     "name": "stderr",
     "output_type": "stream",
     "text": [
      "C:\\Users\\ivanm\\AppData\\Local\\Temp\\ipykernel_5188\\4256399241.py:10: FutureWarning:\n",
      "\n",
      "suggest_loguniform has been deprecated in v3.0.0. This feature will be removed in v6.0.0. See https://github.com/optuna/optuna/releases/tag/v3.0.0. Use suggest_float(..., log=True) instead.\n",
      "\n",
      "c:\\Users\\ivanm\\AppData\\Local\\Programs\\Python\\Python39\\lib\\site-packages\\sklearn\\utils\\_param_validation.py:558: FutureWarning:\n",
      "\n",
      "Passing an int for a boolean parameter is deprecated in version 1.2 and won't be supported anymore in version 1.4.\n",
      "\n",
      "[I 2024-12-23 14:34:12,902] Trial 97 pruned. \n"
     ]
    },
    {
     "name": "stdout",
     "output_type": "stream",
     "text": [
      "Trial 97 pruned. \n",
      "Trial 97 pruned. \n",
      "Trial 97 pruned. \n",
      "Trial 97 pruned. \n"
     ]
    },
    {
     "name": "stderr",
     "output_type": "stream",
     "text": [
      "C:\\Users\\ivanm\\AppData\\Local\\Temp\\ipykernel_5188\\4256399241.py:10: FutureWarning:\n",
      "\n",
      "suggest_loguniform has been deprecated in v3.0.0. This feature will be removed in v6.0.0. See https://github.com/optuna/optuna/releases/tag/v3.0.0. Use suggest_float(..., log=True) instead.\n",
      "\n",
      "c:\\Users\\ivanm\\AppData\\Local\\Programs\\Python\\Python39\\lib\\site-packages\\sklearn\\utils\\_param_validation.py:558: FutureWarning:\n",
      "\n",
      "Passing an int for a boolean parameter is deprecated in version 1.2 and won't be supported anymore in version 1.4.\n",
      "\n",
      "[I 2024-12-23 14:34:12,908] Trial 98 pruned. \n"
     ]
    },
    {
     "name": "stdout",
     "output_type": "stream",
     "text": [
      "Trial 98 pruned. \n",
      "Trial 98 pruned. \n",
      "Trial 98 pruned. \n",
      "Trial 98 pruned. \n"
     ]
    },
    {
     "name": "stderr",
     "output_type": "stream",
     "text": [
      "C:\\Users\\ivanm\\AppData\\Local\\Temp\\ipykernel_5188\\4256399241.py:10: FutureWarning:\n",
      "\n",
      "suggest_loguniform has been deprecated in v3.0.0. This feature will be removed in v6.0.0. See https://github.com/optuna/optuna/releases/tag/v3.0.0. Use suggest_float(..., log=True) instead.\n",
      "\n",
      "c:\\Users\\ivanm\\AppData\\Local\\Programs\\Python\\Python39\\lib\\site-packages\\sklearn\\utils\\_param_validation.py:558: FutureWarning:\n",
      "\n",
      "Passing an int for a boolean parameter is deprecated in version 1.2 and won't be supported anymore in version 1.4.\n",
      "\n",
      "[I 2024-12-23 14:34:13,022] Trial 99 finished with value: 0.1048951048951049 and parameters: {'alpha': 5420.8181747032295, 'force_alpha': 1, 'fit_prior': 0}. Best is trial 86 with value: 0.11188811188811187.\n"
     ]
    },
    {
     "name": "stdout",
     "output_type": "stream",
     "text": [
      "Trial 99 finished with value: 0.1048951048951049 and parameters: {'alpha': 5420.8181747032295, 'force_alpha': 1, 'fit_prior': 0}. Best is trial 86 with value: 0.11188811188811187.\n",
      "Trial 99 finished with value: 0.1048951048951049 and parameters: {'alpha': 5420.8181747032295, 'force_alpha': 1, 'fit_prior': 0}. Best is trial 86 with value: 0.11188811188811187.\n",
      "Trial 99 finished with value: 0.1048951048951049 and parameters: {'alpha': 5420.8181747032295, 'force_alpha': 1, 'fit_prior': 0}. Best is trial 86 with value: 0.11188811188811187.\n",
      "Trial 99 finished with value: 0.1048951048951049 and parameters: {'alpha': 5420.8181747032295, 'force_alpha': 1, 'fit_prior': 0}. Best is trial 86 with value: 0.11188811188811187.\n"
     ]
    }
   ],
   "source": [
    "# Add stream handler of stdout to show the messages\n",
    "optuna.logging.get_logger(\"optuna\").addHandler(logging.StreamHandler(sys.stdout))\n",
    "study_1 = optuna.create_study(sampler=optuna.samplers.RandomSampler(), pruner=optuna.pruners.MedianPruner(), direction='maximize')\n",
    "\n",
    "study_2 = optuna.create_study(sampler=optuna.samplers.RandomSampler(), pruner=optuna.pruners.HyperbandPruner(), direction='maximize')\n",
    "\n",
    "study_1.optimize(objective, n_trials=100)"
   ]
  },
  {
   "cell_type": "code",
   "execution_count": 24,
   "metadata": {},
   "outputs": [
    {
     "data": {
      "text/plain": [
       "FrozenTrial(number=86, state=TrialState.COMPLETE, values=[0.11188811188811187], datetime_start=datetime.datetime(2024, 12, 23, 14, 34, 12, 570332), datetime_complete=datetime.datetime(2024, 12, 23, 14, 34, 12, 684346), params={'alpha': 7993.499786300333, 'force_alpha': 1, 'fit_prior': 1}, user_attrs={}, system_attrs={}, intermediate_values={0: 0.6293706293706294, 1: 0.6223776223776224, 2: 0.5804195804195804, 3: 0.4755244755244755, 4: 0.4405594405594405, 5: 0.35664335664335667, 6: 0.29370629370629375, 7: 0.23776223776223782, 8: 0.21678321678321677, 9: 0.18881118881118886, 10: 0.18881118881118886, 11: 0.16083916083916083, 12: 0.15384615384615385, 13: 0.1398601398601399, 14: 0.13286713286713292, 15: 0.13286713286713292, 16: 0.11888111888111885, 17: 0.1048951048951049, 18: 0.1048951048951049, 19: 0.09790209790209792, 20: 0.09090909090909094, 21: 0.09090909090909094, 22: 0.09090909090909094, 23: 0.08391608391608396, 24: 0.08391608391608396, 25: 0.08391608391608396, 26: 0.09090909090909094, 27: 0.09090909090909094, 28: 0.09090909090909094, 29: 0.09090909090909094, 30: 0.09790209790209792, 31: 0.09790209790209792, 32: 0.09790209790209792, 33: 0.09790209790209792, 34: 0.09790209790209792, 35: 0.09790209790209792, 36: 0.09790209790209792, 37: 0.09790209790209792, 38: 0.09790209790209792, 39: 0.09790209790209792, 40: 0.09790209790209792, 41: 0.09790209790209792, 42: 0.1048951048951049, 43: 0.1048951048951049, 44: 0.1048951048951049, 45: 0.1048951048951049, 46: 0.1048951048951049, 47: 0.1048951048951049, 48: 0.1048951048951049, 49: 0.1048951048951049, 50: 0.1048951048951049, 51: 0.1048951048951049, 52: 0.1048951048951049, 53: 0.1048951048951049, 54: 0.1048951048951049, 55: 0.1048951048951049, 56: 0.1048951048951049, 57: 0.1048951048951049, 58: 0.1048951048951049, 59: 0.1048951048951049, 60: 0.1048951048951049, 61: 0.09790209790209792, 62: 0.1048951048951049, 63: 0.1048951048951049, 64: 0.11188811188811187, 65: 0.11188811188811187, 66: 0.11188811188811187, 67: 0.11188811188811187, 68: 0.11188811188811187, 69: 0.11188811188811187, 70: 0.11188811188811187, 71: 0.1048951048951049, 72: 0.1048951048951049, 73: 0.1048951048951049, 74: 0.1048951048951049, 75: 0.1048951048951049, 76: 0.1048951048951049, 77: 0.1048951048951049, 78: 0.1048951048951049, 79: 0.1048951048951049, 80: 0.1048951048951049, 81: 0.1048951048951049, 82: 0.1048951048951049, 83: 0.1048951048951049, 84: 0.1048951048951049, 85: 0.1048951048951049, 86: 0.1048951048951049, 87: 0.1048951048951049, 88: 0.1048951048951049, 89: 0.1048951048951049, 90: 0.1048951048951049, 91: 0.1048951048951049, 92: 0.1048951048951049, 93: 0.1048951048951049, 94: 0.1048951048951049, 95: 0.11188811188811187, 96: 0.11188811188811187, 97: 0.11188811188811187, 98: 0.11188811188811187, 99: 0.11188811188811187}, distributions={'alpha': FloatDistribution(high=10000.0, log=True, low=0.0001, step=None), 'force_alpha': CategoricalDistribution(choices=(1, 0)), 'fit_prior': CategoricalDistribution(choices=(1, 0))}, trial_id=86, value=None)"
      ]
     },
     "execution_count": 24,
     "metadata": {},
     "output_type": "execute_result"
    }
   ],
   "source": [
    "study_1.best_trial"
   ]
  },
  {
   "cell_type": "code",
   "execution_count": 25,
   "metadata": {},
   "outputs": [
    {
     "data": {
      "application/vnd.plotly.v1+json": {
       "config": {
        "plotlyServerURL": "https://plot.ly"
       },
       "data": [
        {
         "mode": "markers",
         "name": "Objective Value",
         "type": "scatter",
         "x": [
          0,
          1,
          2,
          3,
          4,
          5,
          6,
          7,
          8,
          9,
          13,
          22,
          24,
          25,
          31,
          39,
          45,
          59,
          69,
          76,
          83,
          86,
          89,
          99
         ],
         "y": [
          0.09790209790209792,
          0.09790209790209792,
          0.09790209790209792,
          0.09790209790209792,
          0.09790209790209792,
          0.09790209790209792,
          0.09790209790209792,
          0.09790209790209792,
          0.09790209790209792,
          0.09790209790209792,
          0.1048951048951049,
          0.09790209790209792,
          0.1048951048951049,
          0.09790209790209792,
          0.09790209790209792,
          0.1048951048951049,
          0.09790209790209792,
          0.1048951048951049,
          0.09790209790209792,
          0.09790209790209792,
          0.09790209790209792,
          0.11188811188811187,
          0.09790209790209792,
          0.1048951048951049
         ]
        },
        {
         "mode": "lines",
         "name": "Best Value",
         "type": "scatter",
         "x": [
          0,
          1,
          2,
          3,
          4,
          5,
          6,
          7,
          8,
          9,
          10,
          11,
          12,
          13,
          14,
          15,
          16,
          17,
          18,
          19,
          20,
          21,
          22,
          23,
          24,
          25,
          26,
          27,
          28,
          29,
          30,
          31,
          32,
          33,
          34,
          35,
          36,
          37,
          38,
          39,
          40,
          41,
          42,
          43,
          44,
          45,
          46,
          47,
          48,
          49,
          50,
          51,
          52,
          53,
          54,
          55,
          56,
          57,
          58,
          59,
          60,
          61,
          62,
          63,
          64,
          65,
          66,
          67,
          68,
          69,
          70,
          71,
          72,
          73,
          74,
          75,
          76,
          77,
          78,
          79,
          80,
          81,
          82,
          83,
          84,
          85,
          86,
          87,
          88,
          89,
          90,
          91,
          92,
          93,
          94,
          95,
          96,
          97,
          98,
          99
         ],
         "y": [
          0.09790209790209792,
          0.09790209790209792,
          0.09790209790209792,
          0.09790209790209792,
          0.09790209790209792,
          0.09790209790209792,
          0.09790209790209792,
          0.09790209790209792,
          0.09790209790209792,
          0.09790209790209792,
          0.09790209790209792,
          0.09790209790209792,
          0.09790209790209792,
          0.1048951048951049,
          0.1048951048951049,
          0.1048951048951049,
          0.1048951048951049,
          0.1048951048951049,
          0.1048951048951049,
          0.1048951048951049,
          0.1048951048951049,
          0.1048951048951049,
          0.1048951048951049,
          0.1048951048951049,
          0.1048951048951049,
          0.1048951048951049,
          0.1048951048951049,
          0.1048951048951049,
          0.1048951048951049,
          0.1048951048951049,
          0.1048951048951049,
          0.1048951048951049,
          0.1048951048951049,
          0.1048951048951049,
          0.1048951048951049,
          0.1048951048951049,
          0.1048951048951049,
          0.1048951048951049,
          0.1048951048951049,
          0.1048951048951049,
          0.1048951048951049,
          0.1048951048951049,
          0.1048951048951049,
          0.1048951048951049,
          0.1048951048951049,
          0.1048951048951049,
          0.1048951048951049,
          0.1048951048951049,
          0.1048951048951049,
          0.1048951048951049,
          0.1048951048951049,
          0.1048951048951049,
          0.1048951048951049,
          0.1048951048951049,
          0.1048951048951049,
          0.1048951048951049,
          0.1048951048951049,
          0.1048951048951049,
          0.1048951048951049,
          0.1048951048951049,
          0.1048951048951049,
          0.1048951048951049,
          0.1048951048951049,
          0.1048951048951049,
          0.1048951048951049,
          0.1048951048951049,
          0.1048951048951049,
          0.1048951048951049,
          0.1048951048951049,
          0.1048951048951049,
          0.1048951048951049,
          0.1048951048951049,
          0.1048951048951049,
          0.1048951048951049,
          0.1048951048951049,
          0.1048951048951049,
          0.1048951048951049,
          0.1048951048951049,
          0.1048951048951049,
          0.1048951048951049,
          0.1048951048951049,
          0.1048951048951049,
          0.1048951048951049,
          0.1048951048951049,
          0.1048951048951049,
          0.1048951048951049,
          0.11188811188811187,
          0.11188811188811187,
          0.11188811188811187,
          0.11188811188811187,
          0.11188811188811187,
          0.11188811188811187,
          0.11188811188811187,
          0.11188811188811187,
          0.11188811188811187,
          0.11188811188811187,
          0.11188811188811187,
          0.11188811188811187,
          0.11188811188811187,
          0.11188811188811187
         ]
        },
        {
         "marker": {
          "color": "#cccccc"
         },
         "mode": "markers",
         "name": "Infeasible Trial",
         "showlegend": false,
         "type": "scatter",
         "x": [],
         "y": []
        }
       ],
       "layout": {
        "template": {
         "data": {
          "bar": [
           {
            "error_x": {
             "color": "#2a3f5f"
            },
            "error_y": {
             "color": "#2a3f5f"
            },
            "marker": {
             "line": {
              "color": "#E5ECF6",
              "width": 0.5
             },
             "pattern": {
              "fillmode": "overlay",
              "size": 10,
              "solidity": 0.2
             }
            },
            "type": "bar"
           }
          ],
          "barpolar": [
           {
            "marker": {
             "line": {
              "color": "#E5ECF6",
              "width": 0.5
             },
             "pattern": {
              "fillmode": "overlay",
              "size": 10,
              "solidity": 0.2
             }
            },
            "type": "barpolar"
           }
          ],
          "carpet": [
           {
            "aaxis": {
             "endlinecolor": "#2a3f5f",
             "gridcolor": "white",
             "linecolor": "white",
             "minorgridcolor": "white",
             "startlinecolor": "#2a3f5f"
            },
            "baxis": {
             "endlinecolor": "#2a3f5f",
             "gridcolor": "white",
             "linecolor": "white",
             "minorgridcolor": "white",
             "startlinecolor": "#2a3f5f"
            },
            "type": "carpet"
           }
          ],
          "choropleth": [
           {
            "colorbar": {
             "outlinewidth": 0,
             "ticks": ""
            },
            "type": "choropleth"
           }
          ],
          "contour": [
           {
            "colorbar": {
             "outlinewidth": 0,
             "ticks": ""
            },
            "colorscale": [
             [
              0,
              "#0d0887"
             ],
             [
              0.1111111111111111,
              "#46039f"
             ],
             [
              0.2222222222222222,
              "#7201a8"
             ],
             [
              0.3333333333333333,
              "#9c179e"
             ],
             [
              0.4444444444444444,
              "#bd3786"
             ],
             [
              0.5555555555555556,
              "#d8576b"
             ],
             [
              0.6666666666666666,
              "#ed7953"
             ],
             [
              0.7777777777777778,
              "#fb9f3a"
             ],
             [
              0.8888888888888888,
              "#fdca26"
             ],
             [
              1,
              "#f0f921"
             ]
            ],
            "type": "contour"
           }
          ],
          "contourcarpet": [
           {
            "colorbar": {
             "outlinewidth": 0,
             "ticks": ""
            },
            "type": "contourcarpet"
           }
          ],
          "heatmap": [
           {
            "colorbar": {
             "outlinewidth": 0,
             "ticks": ""
            },
            "colorscale": [
             [
              0,
              "#0d0887"
             ],
             [
              0.1111111111111111,
              "#46039f"
             ],
             [
              0.2222222222222222,
              "#7201a8"
             ],
             [
              0.3333333333333333,
              "#9c179e"
             ],
             [
              0.4444444444444444,
              "#bd3786"
             ],
             [
              0.5555555555555556,
              "#d8576b"
             ],
             [
              0.6666666666666666,
              "#ed7953"
             ],
             [
              0.7777777777777778,
              "#fb9f3a"
             ],
             [
              0.8888888888888888,
              "#fdca26"
             ],
             [
              1,
              "#f0f921"
             ]
            ],
            "type": "heatmap"
           }
          ],
          "heatmapgl": [
           {
            "colorbar": {
             "outlinewidth": 0,
             "ticks": ""
            },
            "colorscale": [
             [
              0,
              "#0d0887"
             ],
             [
              0.1111111111111111,
              "#46039f"
             ],
             [
              0.2222222222222222,
              "#7201a8"
             ],
             [
              0.3333333333333333,
              "#9c179e"
             ],
             [
              0.4444444444444444,
              "#bd3786"
             ],
             [
              0.5555555555555556,
              "#d8576b"
             ],
             [
              0.6666666666666666,
              "#ed7953"
             ],
             [
              0.7777777777777778,
              "#fb9f3a"
             ],
             [
              0.8888888888888888,
              "#fdca26"
             ],
             [
              1,
              "#f0f921"
             ]
            ],
            "type": "heatmapgl"
           }
          ],
          "histogram": [
           {
            "marker": {
             "pattern": {
              "fillmode": "overlay",
              "size": 10,
              "solidity": 0.2
             }
            },
            "type": "histogram"
           }
          ],
          "histogram2d": [
           {
            "colorbar": {
             "outlinewidth": 0,
             "ticks": ""
            },
            "colorscale": [
             [
              0,
              "#0d0887"
             ],
             [
              0.1111111111111111,
              "#46039f"
             ],
             [
              0.2222222222222222,
              "#7201a8"
             ],
             [
              0.3333333333333333,
              "#9c179e"
             ],
             [
              0.4444444444444444,
              "#bd3786"
             ],
             [
              0.5555555555555556,
              "#d8576b"
             ],
             [
              0.6666666666666666,
              "#ed7953"
             ],
             [
              0.7777777777777778,
              "#fb9f3a"
             ],
             [
              0.8888888888888888,
              "#fdca26"
             ],
             [
              1,
              "#f0f921"
             ]
            ],
            "type": "histogram2d"
           }
          ],
          "histogram2dcontour": [
           {
            "colorbar": {
             "outlinewidth": 0,
             "ticks": ""
            },
            "colorscale": [
             [
              0,
              "#0d0887"
             ],
             [
              0.1111111111111111,
              "#46039f"
             ],
             [
              0.2222222222222222,
              "#7201a8"
             ],
             [
              0.3333333333333333,
              "#9c179e"
             ],
             [
              0.4444444444444444,
              "#bd3786"
             ],
             [
              0.5555555555555556,
              "#d8576b"
             ],
             [
              0.6666666666666666,
              "#ed7953"
             ],
             [
              0.7777777777777778,
              "#fb9f3a"
             ],
             [
              0.8888888888888888,
              "#fdca26"
             ],
             [
              1,
              "#f0f921"
             ]
            ],
            "type": "histogram2dcontour"
           }
          ],
          "mesh3d": [
           {
            "colorbar": {
             "outlinewidth": 0,
             "ticks": ""
            },
            "type": "mesh3d"
           }
          ],
          "parcoords": [
           {
            "line": {
             "colorbar": {
              "outlinewidth": 0,
              "ticks": ""
             }
            },
            "type": "parcoords"
           }
          ],
          "pie": [
           {
            "automargin": true,
            "type": "pie"
           }
          ],
          "scatter": [
           {
            "fillpattern": {
             "fillmode": "overlay",
             "size": 10,
             "solidity": 0.2
            },
            "type": "scatter"
           }
          ],
          "scatter3d": [
           {
            "line": {
             "colorbar": {
              "outlinewidth": 0,
              "ticks": ""
             }
            },
            "marker": {
             "colorbar": {
              "outlinewidth": 0,
              "ticks": ""
             }
            },
            "type": "scatter3d"
           }
          ],
          "scattercarpet": [
           {
            "marker": {
             "colorbar": {
              "outlinewidth": 0,
              "ticks": ""
             }
            },
            "type": "scattercarpet"
           }
          ],
          "scattergeo": [
           {
            "marker": {
             "colorbar": {
              "outlinewidth": 0,
              "ticks": ""
             }
            },
            "type": "scattergeo"
           }
          ],
          "scattergl": [
           {
            "marker": {
             "colorbar": {
              "outlinewidth": 0,
              "ticks": ""
             }
            },
            "type": "scattergl"
           }
          ],
          "scattermapbox": [
           {
            "marker": {
             "colorbar": {
              "outlinewidth": 0,
              "ticks": ""
             }
            },
            "type": "scattermapbox"
           }
          ],
          "scatterpolar": [
           {
            "marker": {
             "colorbar": {
              "outlinewidth": 0,
              "ticks": ""
             }
            },
            "type": "scatterpolar"
           }
          ],
          "scatterpolargl": [
           {
            "marker": {
             "colorbar": {
              "outlinewidth": 0,
              "ticks": ""
             }
            },
            "type": "scatterpolargl"
           }
          ],
          "scatterternary": [
           {
            "marker": {
             "colorbar": {
              "outlinewidth": 0,
              "ticks": ""
             }
            },
            "type": "scatterternary"
           }
          ],
          "surface": [
           {
            "colorbar": {
             "outlinewidth": 0,
             "ticks": ""
            },
            "colorscale": [
             [
              0,
              "#0d0887"
             ],
             [
              0.1111111111111111,
              "#46039f"
             ],
             [
              0.2222222222222222,
              "#7201a8"
             ],
             [
              0.3333333333333333,
              "#9c179e"
             ],
             [
              0.4444444444444444,
              "#bd3786"
             ],
             [
              0.5555555555555556,
              "#d8576b"
             ],
             [
              0.6666666666666666,
              "#ed7953"
             ],
             [
              0.7777777777777778,
              "#fb9f3a"
             ],
             [
              0.8888888888888888,
              "#fdca26"
             ],
             [
              1,
              "#f0f921"
             ]
            ],
            "type": "surface"
           }
          ],
          "table": [
           {
            "cells": {
             "fill": {
              "color": "#EBF0F8"
             },
             "line": {
              "color": "white"
             }
            },
            "header": {
             "fill": {
              "color": "#C8D4E3"
             },
             "line": {
              "color": "white"
             }
            },
            "type": "table"
           }
          ]
         },
         "layout": {
          "annotationdefaults": {
           "arrowcolor": "#2a3f5f",
           "arrowhead": 0,
           "arrowwidth": 1
          },
          "autotypenumbers": "strict",
          "coloraxis": {
           "colorbar": {
            "outlinewidth": 0,
            "ticks": ""
           }
          },
          "colorscale": {
           "diverging": [
            [
             0,
             "#8e0152"
            ],
            [
             0.1,
             "#c51b7d"
            ],
            [
             0.2,
             "#de77ae"
            ],
            [
             0.3,
             "#f1b6da"
            ],
            [
             0.4,
             "#fde0ef"
            ],
            [
             0.5,
             "#f7f7f7"
            ],
            [
             0.6,
             "#e6f5d0"
            ],
            [
             0.7,
             "#b8e186"
            ],
            [
             0.8,
             "#7fbc41"
            ],
            [
             0.9,
             "#4d9221"
            ],
            [
             1,
             "#276419"
            ]
           ],
           "sequential": [
            [
             0,
             "#0d0887"
            ],
            [
             0.1111111111111111,
             "#46039f"
            ],
            [
             0.2222222222222222,
             "#7201a8"
            ],
            [
             0.3333333333333333,
             "#9c179e"
            ],
            [
             0.4444444444444444,
             "#bd3786"
            ],
            [
             0.5555555555555556,
             "#d8576b"
            ],
            [
             0.6666666666666666,
             "#ed7953"
            ],
            [
             0.7777777777777778,
             "#fb9f3a"
            ],
            [
             0.8888888888888888,
             "#fdca26"
            ],
            [
             1,
             "#f0f921"
            ]
           ],
           "sequentialminus": [
            [
             0,
             "#0d0887"
            ],
            [
             0.1111111111111111,
             "#46039f"
            ],
            [
             0.2222222222222222,
             "#7201a8"
            ],
            [
             0.3333333333333333,
             "#9c179e"
            ],
            [
             0.4444444444444444,
             "#bd3786"
            ],
            [
             0.5555555555555556,
             "#d8576b"
            ],
            [
             0.6666666666666666,
             "#ed7953"
            ],
            [
             0.7777777777777778,
             "#fb9f3a"
            ],
            [
             0.8888888888888888,
             "#fdca26"
            ],
            [
             1,
             "#f0f921"
            ]
           ]
          },
          "colorway": [
           "#636efa",
           "#EF553B",
           "#00cc96",
           "#ab63fa",
           "#FFA15A",
           "#19d3f3",
           "#FF6692",
           "#B6E880",
           "#FF97FF",
           "#FECB52"
          ],
          "font": {
           "color": "#2a3f5f"
          },
          "geo": {
           "bgcolor": "white",
           "lakecolor": "white",
           "landcolor": "#E5ECF6",
           "showlakes": true,
           "showland": true,
           "subunitcolor": "white"
          },
          "hoverlabel": {
           "align": "left"
          },
          "hovermode": "closest",
          "mapbox": {
           "style": "light"
          },
          "paper_bgcolor": "white",
          "plot_bgcolor": "#E5ECF6",
          "polar": {
           "angularaxis": {
            "gridcolor": "white",
            "linecolor": "white",
            "ticks": ""
           },
           "bgcolor": "#E5ECF6",
           "radialaxis": {
            "gridcolor": "white",
            "linecolor": "white",
            "ticks": ""
           }
          },
          "scene": {
           "xaxis": {
            "backgroundcolor": "#E5ECF6",
            "gridcolor": "white",
            "gridwidth": 2,
            "linecolor": "white",
            "showbackground": true,
            "ticks": "",
            "zerolinecolor": "white"
           },
           "yaxis": {
            "backgroundcolor": "#E5ECF6",
            "gridcolor": "white",
            "gridwidth": 2,
            "linecolor": "white",
            "showbackground": true,
            "ticks": "",
            "zerolinecolor": "white"
           },
           "zaxis": {
            "backgroundcolor": "#E5ECF6",
            "gridcolor": "white",
            "gridwidth": 2,
            "linecolor": "white",
            "showbackground": true,
            "ticks": "",
            "zerolinecolor": "white"
           }
          },
          "shapedefaults": {
           "line": {
            "color": "#2a3f5f"
           }
          },
          "ternary": {
           "aaxis": {
            "gridcolor": "white",
            "linecolor": "white",
            "ticks": ""
           },
           "baxis": {
            "gridcolor": "white",
            "linecolor": "white",
            "ticks": ""
           },
           "bgcolor": "#E5ECF6",
           "caxis": {
            "gridcolor": "white",
            "linecolor": "white",
            "ticks": ""
           }
          },
          "title": {
           "x": 0.05
          },
          "xaxis": {
           "automargin": true,
           "gridcolor": "white",
           "linecolor": "white",
           "ticks": "",
           "title": {
            "standoff": 15
           },
           "zerolinecolor": "white",
           "zerolinewidth": 2
          },
          "yaxis": {
           "automargin": true,
           "gridcolor": "white",
           "linecolor": "white",
           "ticks": "",
           "title": {
            "standoff": 15
           },
           "zerolinecolor": "white",
           "zerolinewidth": 2
          }
         }
        },
        "title": {
         "text": "Optimization History Plot"
        },
        "xaxis": {
         "title": {
          "text": "Trial"
         }
        },
        "yaxis": {
         "title": {
          "text": "Objective Value"
         }
        }
       }
      }
     },
     "metadata": {},
     "output_type": "display_data"
    }
   ],
   "source": [
    "plot_optimization_history(study_1)"
   ]
  },
  {
   "cell_type": "code",
   "execution_count": 26,
   "metadata": {},
   "outputs": [
    {
     "data": {
      "application/vnd.plotly.v1+json": {
       "config": {
        "plotlyServerURL": "https://plot.ly"
       },
       "data": [
        {
         "cliponaxis": false,
         "hovertemplate": [
          "fit_prior (CategoricalDistribution): 0.004823509505866903<extra></extra>",
          "force_alpha (CategoricalDistribution): 0.0077004881977337175<extra></extra>",
          "alpha (FloatDistribution): 0.9874760022963993<extra></extra>"
         ],
         "name": "Objective Value",
         "orientation": "h",
         "text": [
          "<0.01",
          "<0.01",
          "0.99"
         ],
         "textposition": "outside",
         "type": "bar",
         "x": [
          0.004823509505866903,
          0.0077004881977337175,
          0.9874760022963993
         ],
         "y": [
          "fit_prior",
          "force_alpha",
          "alpha"
         ]
        }
       ],
       "layout": {
        "template": {
         "data": {
          "bar": [
           {
            "error_x": {
             "color": "#2a3f5f"
            },
            "error_y": {
             "color": "#2a3f5f"
            },
            "marker": {
             "line": {
              "color": "#E5ECF6",
              "width": 0.5
             },
             "pattern": {
              "fillmode": "overlay",
              "size": 10,
              "solidity": 0.2
             }
            },
            "type": "bar"
           }
          ],
          "barpolar": [
           {
            "marker": {
             "line": {
              "color": "#E5ECF6",
              "width": 0.5
             },
             "pattern": {
              "fillmode": "overlay",
              "size": 10,
              "solidity": 0.2
             }
            },
            "type": "barpolar"
           }
          ],
          "carpet": [
           {
            "aaxis": {
             "endlinecolor": "#2a3f5f",
             "gridcolor": "white",
             "linecolor": "white",
             "minorgridcolor": "white",
             "startlinecolor": "#2a3f5f"
            },
            "baxis": {
             "endlinecolor": "#2a3f5f",
             "gridcolor": "white",
             "linecolor": "white",
             "minorgridcolor": "white",
             "startlinecolor": "#2a3f5f"
            },
            "type": "carpet"
           }
          ],
          "choropleth": [
           {
            "colorbar": {
             "outlinewidth": 0,
             "ticks": ""
            },
            "type": "choropleth"
           }
          ],
          "contour": [
           {
            "colorbar": {
             "outlinewidth": 0,
             "ticks": ""
            },
            "colorscale": [
             [
              0,
              "#0d0887"
             ],
             [
              0.1111111111111111,
              "#46039f"
             ],
             [
              0.2222222222222222,
              "#7201a8"
             ],
             [
              0.3333333333333333,
              "#9c179e"
             ],
             [
              0.4444444444444444,
              "#bd3786"
             ],
             [
              0.5555555555555556,
              "#d8576b"
             ],
             [
              0.6666666666666666,
              "#ed7953"
             ],
             [
              0.7777777777777778,
              "#fb9f3a"
             ],
             [
              0.8888888888888888,
              "#fdca26"
             ],
             [
              1,
              "#f0f921"
             ]
            ],
            "type": "contour"
           }
          ],
          "contourcarpet": [
           {
            "colorbar": {
             "outlinewidth": 0,
             "ticks": ""
            },
            "type": "contourcarpet"
           }
          ],
          "heatmap": [
           {
            "colorbar": {
             "outlinewidth": 0,
             "ticks": ""
            },
            "colorscale": [
             [
              0,
              "#0d0887"
             ],
             [
              0.1111111111111111,
              "#46039f"
             ],
             [
              0.2222222222222222,
              "#7201a8"
             ],
             [
              0.3333333333333333,
              "#9c179e"
             ],
             [
              0.4444444444444444,
              "#bd3786"
             ],
             [
              0.5555555555555556,
              "#d8576b"
             ],
             [
              0.6666666666666666,
              "#ed7953"
             ],
             [
              0.7777777777777778,
              "#fb9f3a"
             ],
             [
              0.8888888888888888,
              "#fdca26"
             ],
             [
              1,
              "#f0f921"
             ]
            ],
            "type": "heatmap"
           }
          ],
          "heatmapgl": [
           {
            "colorbar": {
             "outlinewidth": 0,
             "ticks": ""
            },
            "colorscale": [
             [
              0,
              "#0d0887"
             ],
             [
              0.1111111111111111,
              "#46039f"
             ],
             [
              0.2222222222222222,
              "#7201a8"
             ],
             [
              0.3333333333333333,
              "#9c179e"
             ],
             [
              0.4444444444444444,
              "#bd3786"
             ],
             [
              0.5555555555555556,
              "#d8576b"
             ],
             [
              0.6666666666666666,
              "#ed7953"
             ],
             [
              0.7777777777777778,
              "#fb9f3a"
             ],
             [
              0.8888888888888888,
              "#fdca26"
             ],
             [
              1,
              "#f0f921"
             ]
            ],
            "type": "heatmapgl"
           }
          ],
          "histogram": [
           {
            "marker": {
             "pattern": {
              "fillmode": "overlay",
              "size": 10,
              "solidity": 0.2
             }
            },
            "type": "histogram"
           }
          ],
          "histogram2d": [
           {
            "colorbar": {
             "outlinewidth": 0,
             "ticks": ""
            },
            "colorscale": [
             [
              0,
              "#0d0887"
             ],
             [
              0.1111111111111111,
              "#46039f"
             ],
             [
              0.2222222222222222,
              "#7201a8"
             ],
             [
              0.3333333333333333,
              "#9c179e"
             ],
             [
              0.4444444444444444,
              "#bd3786"
             ],
             [
              0.5555555555555556,
              "#d8576b"
             ],
             [
              0.6666666666666666,
              "#ed7953"
             ],
             [
              0.7777777777777778,
              "#fb9f3a"
             ],
             [
              0.8888888888888888,
              "#fdca26"
             ],
             [
              1,
              "#f0f921"
             ]
            ],
            "type": "histogram2d"
           }
          ],
          "histogram2dcontour": [
           {
            "colorbar": {
             "outlinewidth": 0,
             "ticks": ""
            },
            "colorscale": [
             [
              0,
              "#0d0887"
             ],
             [
              0.1111111111111111,
              "#46039f"
             ],
             [
              0.2222222222222222,
              "#7201a8"
             ],
             [
              0.3333333333333333,
              "#9c179e"
             ],
             [
              0.4444444444444444,
              "#bd3786"
             ],
             [
              0.5555555555555556,
              "#d8576b"
             ],
             [
              0.6666666666666666,
              "#ed7953"
             ],
             [
              0.7777777777777778,
              "#fb9f3a"
             ],
             [
              0.8888888888888888,
              "#fdca26"
             ],
             [
              1,
              "#f0f921"
             ]
            ],
            "type": "histogram2dcontour"
           }
          ],
          "mesh3d": [
           {
            "colorbar": {
             "outlinewidth": 0,
             "ticks": ""
            },
            "type": "mesh3d"
           }
          ],
          "parcoords": [
           {
            "line": {
             "colorbar": {
              "outlinewidth": 0,
              "ticks": ""
             }
            },
            "type": "parcoords"
           }
          ],
          "pie": [
           {
            "automargin": true,
            "type": "pie"
           }
          ],
          "scatter": [
           {
            "fillpattern": {
             "fillmode": "overlay",
             "size": 10,
             "solidity": 0.2
            },
            "type": "scatter"
           }
          ],
          "scatter3d": [
           {
            "line": {
             "colorbar": {
              "outlinewidth": 0,
              "ticks": ""
             }
            },
            "marker": {
             "colorbar": {
              "outlinewidth": 0,
              "ticks": ""
             }
            },
            "type": "scatter3d"
           }
          ],
          "scattercarpet": [
           {
            "marker": {
             "colorbar": {
              "outlinewidth": 0,
              "ticks": ""
             }
            },
            "type": "scattercarpet"
           }
          ],
          "scattergeo": [
           {
            "marker": {
             "colorbar": {
              "outlinewidth": 0,
              "ticks": ""
             }
            },
            "type": "scattergeo"
           }
          ],
          "scattergl": [
           {
            "marker": {
             "colorbar": {
              "outlinewidth": 0,
              "ticks": ""
             }
            },
            "type": "scattergl"
           }
          ],
          "scattermapbox": [
           {
            "marker": {
             "colorbar": {
              "outlinewidth": 0,
              "ticks": ""
             }
            },
            "type": "scattermapbox"
           }
          ],
          "scatterpolar": [
           {
            "marker": {
             "colorbar": {
              "outlinewidth": 0,
              "ticks": ""
             }
            },
            "type": "scatterpolar"
           }
          ],
          "scatterpolargl": [
           {
            "marker": {
             "colorbar": {
              "outlinewidth": 0,
              "ticks": ""
             }
            },
            "type": "scatterpolargl"
           }
          ],
          "scatterternary": [
           {
            "marker": {
             "colorbar": {
              "outlinewidth": 0,
              "ticks": ""
             }
            },
            "type": "scatterternary"
           }
          ],
          "surface": [
           {
            "colorbar": {
             "outlinewidth": 0,
             "ticks": ""
            },
            "colorscale": [
             [
              0,
              "#0d0887"
             ],
             [
              0.1111111111111111,
              "#46039f"
             ],
             [
              0.2222222222222222,
              "#7201a8"
             ],
             [
              0.3333333333333333,
              "#9c179e"
             ],
             [
              0.4444444444444444,
              "#bd3786"
             ],
             [
              0.5555555555555556,
              "#d8576b"
             ],
             [
              0.6666666666666666,
              "#ed7953"
             ],
             [
              0.7777777777777778,
              "#fb9f3a"
             ],
             [
              0.8888888888888888,
              "#fdca26"
             ],
             [
              1,
              "#f0f921"
             ]
            ],
            "type": "surface"
           }
          ],
          "table": [
           {
            "cells": {
             "fill": {
              "color": "#EBF0F8"
             },
             "line": {
              "color": "white"
             }
            },
            "header": {
             "fill": {
              "color": "#C8D4E3"
             },
             "line": {
              "color": "white"
             }
            },
            "type": "table"
           }
          ]
         },
         "layout": {
          "annotationdefaults": {
           "arrowcolor": "#2a3f5f",
           "arrowhead": 0,
           "arrowwidth": 1
          },
          "autotypenumbers": "strict",
          "coloraxis": {
           "colorbar": {
            "outlinewidth": 0,
            "ticks": ""
           }
          },
          "colorscale": {
           "diverging": [
            [
             0,
             "#8e0152"
            ],
            [
             0.1,
             "#c51b7d"
            ],
            [
             0.2,
             "#de77ae"
            ],
            [
             0.3,
             "#f1b6da"
            ],
            [
             0.4,
             "#fde0ef"
            ],
            [
             0.5,
             "#f7f7f7"
            ],
            [
             0.6,
             "#e6f5d0"
            ],
            [
             0.7,
             "#b8e186"
            ],
            [
             0.8,
             "#7fbc41"
            ],
            [
             0.9,
             "#4d9221"
            ],
            [
             1,
             "#276419"
            ]
           ],
           "sequential": [
            [
             0,
             "#0d0887"
            ],
            [
             0.1111111111111111,
             "#46039f"
            ],
            [
             0.2222222222222222,
             "#7201a8"
            ],
            [
             0.3333333333333333,
             "#9c179e"
            ],
            [
             0.4444444444444444,
             "#bd3786"
            ],
            [
             0.5555555555555556,
             "#d8576b"
            ],
            [
             0.6666666666666666,
             "#ed7953"
            ],
            [
             0.7777777777777778,
             "#fb9f3a"
            ],
            [
             0.8888888888888888,
             "#fdca26"
            ],
            [
             1,
             "#f0f921"
            ]
           ],
           "sequentialminus": [
            [
             0,
             "#0d0887"
            ],
            [
             0.1111111111111111,
             "#46039f"
            ],
            [
             0.2222222222222222,
             "#7201a8"
            ],
            [
             0.3333333333333333,
             "#9c179e"
            ],
            [
             0.4444444444444444,
             "#bd3786"
            ],
            [
             0.5555555555555556,
             "#d8576b"
            ],
            [
             0.6666666666666666,
             "#ed7953"
            ],
            [
             0.7777777777777778,
             "#fb9f3a"
            ],
            [
             0.8888888888888888,
             "#fdca26"
            ],
            [
             1,
             "#f0f921"
            ]
           ]
          },
          "colorway": [
           "#636efa",
           "#EF553B",
           "#00cc96",
           "#ab63fa",
           "#FFA15A",
           "#19d3f3",
           "#FF6692",
           "#B6E880",
           "#FF97FF",
           "#FECB52"
          ],
          "font": {
           "color": "#2a3f5f"
          },
          "geo": {
           "bgcolor": "white",
           "lakecolor": "white",
           "landcolor": "#E5ECF6",
           "showlakes": true,
           "showland": true,
           "subunitcolor": "white"
          },
          "hoverlabel": {
           "align": "left"
          },
          "hovermode": "closest",
          "mapbox": {
           "style": "light"
          },
          "paper_bgcolor": "white",
          "plot_bgcolor": "#E5ECF6",
          "polar": {
           "angularaxis": {
            "gridcolor": "white",
            "linecolor": "white",
            "ticks": ""
           },
           "bgcolor": "#E5ECF6",
           "radialaxis": {
            "gridcolor": "white",
            "linecolor": "white",
            "ticks": ""
           }
          },
          "scene": {
           "xaxis": {
            "backgroundcolor": "#E5ECF6",
            "gridcolor": "white",
            "gridwidth": 2,
            "linecolor": "white",
            "showbackground": true,
            "ticks": "",
            "zerolinecolor": "white"
           },
           "yaxis": {
            "backgroundcolor": "#E5ECF6",
            "gridcolor": "white",
            "gridwidth": 2,
            "linecolor": "white",
            "showbackground": true,
            "ticks": "",
            "zerolinecolor": "white"
           },
           "zaxis": {
            "backgroundcolor": "#E5ECF6",
            "gridcolor": "white",
            "gridwidth": 2,
            "linecolor": "white",
            "showbackground": true,
            "ticks": "",
            "zerolinecolor": "white"
           }
          },
          "shapedefaults": {
           "line": {
            "color": "#2a3f5f"
           }
          },
          "ternary": {
           "aaxis": {
            "gridcolor": "white",
            "linecolor": "white",
            "ticks": ""
           },
           "baxis": {
            "gridcolor": "white",
            "linecolor": "white",
            "ticks": ""
           },
           "bgcolor": "#E5ECF6",
           "caxis": {
            "gridcolor": "white",
            "linecolor": "white",
            "ticks": ""
           }
          },
          "title": {
           "x": 0.05
          },
          "xaxis": {
           "automargin": true,
           "gridcolor": "white",
           "linecolor": "white",
           "ticks": "",
           "title": {
            "standoff": 15
           },
           "zerolinecolor": "white",
           "zerolinewidth": 2
          },
          "yaxis": {
           "automargin": true,
           "gridcolor": "white",
           "linecolor": "white",
           "ticks": "",
           "title": {
            "standoff": 15
           },
           "zerolinecolor": "white",
           "zerolinewidth": 2
          }
         }
        },
        "title": {
         "text": "Hyperparameter Importances"
        },
        "xaxis": {
         "title": {
          "text": "Hyperparameter Importance"
         }
        },
        "yaxis": {
         "title": {
          "text": "Hyperparameter"
         }
        }
       }
      }
     },
     "metadata": {},
     "output_type": "display_data"
    }
   ],
   "source": [
    "plot_param_importances(study_1)"
   ]
  },
  {
   "cell_type": "code",
   "execution_count": 33,
   "metadata": {},
   "outputs": [
    {
     "name": "stderr",
     "output_type": "stream",
     "text": [
      "C:\\Users\\ivanm\\AppData\\Local\\Temp\\ipykernel_5188\\4256399241.py:10: FutureWarning:\n",
      "\n",
      "suggest_loguniform has been deprecated in v3.0.0. This feature will be removed in v6.0.0. See https://github.com/optuna/optuna/releases/tag/v3.0.0. Use suggest_float(..., log=True) instead.\n",
      "\n",
      "c:\\Users\\ivanm\\AppData\\Local\\Programs\\Python\\Python39\\lib\\site-packages\\sklearn\\utils\\_param_validation.py:558: FutureWarning:\n",
      "\n",
      "Passing an int for a boolean parameter is deprecated in version 1.2 and won't be supported anymore in version 1.4.\n",
      "\n",
      "[I 2024-12-23 14:35:44,456] Trial 208 finished with value: 0.09790209790209792 and parameters: {'alpha': 0.2465977923527739, 'force_alpha': 1, 'fit_prior': 0}. Best is trial 5 with value: 0.11188811188811187.\n"
     ]
    },
    {
     "name": "stdout",
     "output_type": "stream",
     "text": [
      "Trial 208 finished with value: 0.09790209790209792 and parameters: {'alpha': 0.2465977923527739, 'force_alpha': 1, 'fit_prior': 0}. Best is trial 5 with value: 0.11188811188811187.\n",
      "Trial 208 finished with value: 0.09790209790209792 and parameters: {'alpha': 0.2465977923527739, 'force_alpha': 1, 'fit_prior': 0}. Best is trial 5 with value: 0.11188811188811187.\n",
      "Trial 208 finished with value: 0.09790209790209792 and parameters: {'alpha': 0.2465977923527739, 'force_alpha': 1, 'fit_prior': 0}. Best is trial 5 with value: 0.11188811188811187.\n",
      "Trial 208 finished with value: 0.09790209790209792 and parameters: {'alpha': 0.2465977923527739, 'force_alpha': 1, 'fit_prior': 0}. Best is trial 5 with value: 0.11188811188811187.\n"
     ]
    },
    {
     "name": "stderr",
     "output_type": "stream",
     "text": [
      "C:\\Users\\ivanm\\AppData\\Local\\Temp\\ipykernel_5188\\4256399241.py:10: FutureWarning:\n",
      "\n",
      "suggest_loguniform has been deprecated in v3.0.0. This feature will be removed in v6.0.0. See https://github.com/optuna/optuna/releases/tag/v3.0.0. Use suggest_float(..., log=True) instead.\n",
      "\n",
      "c:\\Users\\ivanm\\AppData\\Local\\Programs\\Python\\Python39\\lib\\site-packages\\sklearn\\utils\\_param_validation.py:558: FutureWarning:\n",
      "\n",
      "Passing an int for a boolean parameter is deprecated in version 1.2 and won't be supported anymore in version 1.4.\n",
      "\n",
      "[I 2024-12-23 14:35:44,574] Trial 209 finished with value: 0.09790209790209792 and parameters: {'alpha': 4.859769777120059, 'force_alpha': 1, 'fit_prior': 0}. Best is trial 5 with value: 0.11188811188811187.\n"
     ]
    },
    {
     "name": "stdout",
     "output_type": "stream",
     "text": [
      "Trial 209 finished with value: 0.09790209790209792 and parameters: {'alpha': 4.859769777120059, 'force_alpha': 1, 'fit_prior': 0}. Best is trial 5 with value: 0.11188811188811187.\n",
      "Trial 209 finished with value: 0.09790209790209792 and parameters: {'alpha': 4.859769777120059, 'force_alpha': 1, 'fit_prior': 0}. Best is trial 5 with value: 0.11188811188811187.\n",
      "Trial 209 finished with value: 0.09790209790209792 and parameters: {'alpha': 4.859769777120059, 'force_alpha': 1, 'fit_prior': 0}. Best is trial 5 with value: 0.11188811188811187.\n",
      "Trial 209 finished with value: 0.09790209790209792 and parameters: {'alpha': 4.859769777120059, 'force_alpha': 1, 'fit_prior': 0}. Best is trial 5 with value: 0.11188811188811187.\n"
     ]
    },
    {
     "name": "stderr",
     "output_type": "stream",
     "text": [
      "C:\\Users\\ivanm\\AppData\\Local\\Temp\\ipykernel_5188\\4256399241.py:10: FutureWarning:\n",
      "\n",
      "suggest_loguniform has been deprecated in v3.0.0. This feature will be removed in v6.0.0. See https://github.com/optuna/optuna/releases/tag/v3.0.0. Use suggest_float(..., log=True) instead.\n",
      "\n",
      "c:\\Users\\ivanm\\AppData\\Local\\Programs\\Python\\Python39\\lib\\site-packages\\sklearn\\utils\\_param_validation.py:558: FutureWarning:\n",
      "\n",
      "Passing an int for a boolean parameter is deprecated in version 1.2 and won't be supported anymore in version 1.4.\n",
      "\n",
      "[I 2024-12-23 14:35:44,682] Trial 210 finished with value: 0.09790209790209792 and parameters: {'alpha': 28.89818408747908, 'force_alpha': 1, 'fit_prior': 0}. Best is trial 5 with value: 0.11188811188811187.\n"
     ]
    },
    {
     "name": "stdout",
     "output_type": "stream",
     "text": [
      "Trial 210 finished with value: 0.09790209790209792 and parameters: {'alpha': 28.89818408747908, 'force_alpha': 1, 'fit_prior': 0}. Best is trial 5 with value: 0.11188811188811187.\n",
      "Trial 210 finished with value: 0.09790209790209792 and parameters: {'alpha': 28.89818408747908, 'force_alpha': 1, 'fit_prior': 0}. Best is trial 5 with value: 0.11188811188811187.\n",
      "Trial 210 finished with value: 0.09790209790209792 and parameters: {'alpha': 28.89818408747908, 'force_alpha': 1, 'fit_prior': 0}. Best is trial 5 with value: 0.11188811188811187.\n",
      "Trial 210 finished with value: 0.09790209790209792 and parameters: {'alpha': 28.89818408747908, 'force_alpha': 1, 'fit_prior': 0}. Best is trial 5 with value: 0.11188811188811187.\n"
     ]
    },
    {
     "name": "stderr",
     "output_type": "stream",
     "text": [
      "C:\\Users\\ivanm\\AppData\\Local\\Temp\\ipykernel_5188\\4256399241.py:10: FutureWarning:\n",
      "\n",
      "suggest_loguniform has been deprecated in v3.0.0. This feature will be removed in v6.0.0. See https://github.com/optuna/optuna/releases/tag/v3.0.0. Use suggest_float(..., log=True) instead.\n",
      "\n",
      "c:\\Users\\ivanm\\AppData\\Local\\Programs\\Python\\Python39\\lib\\site-packages\\sklearn\\utils\\_param_validation.py:558: FutureWarning:\n",
      "\n",
      "Passing an int for a boolean parameter is deprecated in version 1.2 and won't be supported anymore in version 1.4.\n",
      "\n",
      "[I 2024-12-23 14:35:44,788] Trial 211 finished with value: 0.09790209790209792 and parameters: {'alpha': 1519.363771716902, 'force_alpha': 1, 'fit_prior': 1}. Best is trial 5 with value: 0.11188811188811187.\n"
     ]
    },
    {
     "name": "stdout",
     "output_type": "stream",
     "text": [
      "Trial 211 finished with value: 0.09790209790209792 and parameters: {'alpha': 1519.363771716902, 'force_alpha': 1, 'fit_prior': 1}. Best is trial 5 with value: 0.11188811188811187.\n",
      "Trial 211 finished with value: 0.09790209790209792 and parameters: {'alpha': 1519.363771716902, 'force_alpha': 1, 'fit_prior': 1}. Best is trial 5 with value: 0.11188811188811187.\n",
      "Trial 211 finished with value: 0.09790209790209792 and parameters: {'alpha': 1519.363771716902, 'force_alpha': 1, 'fit_prior': 1}. Best is trial 5 with value: 0.11188811188811187.\n",
      "Trial 211 finished with value: 0.09790209790209792 and parameters: {'alpha': 1519.363771716902, 'force_alpha': 1, 'fit_prior': 1}. Best is trial 5 with value: 0.11188811188811187.\n"
     ]
    },
    {
     "name": "stderr",
     "output_type": "stream",
     "text": [
      "C:\\Users\\ivanm\\AppData\\Local\\Temp\\ipykernel_5188\\4256399241.py:10: FutureWarning:\n",
      "\n",
      "suggest_loguniform has been deprecated in v3.0.0. This feature will be removed in v6.0.0. See https://github.com/optuna/optuna/releases/tag/v3.0.0. Use suggest_float(..., log=True) instead.\n",
      "\n",
      "c:\\Users\\ivanm\\AppData\\Local\\Programs\\Python\\Python39\\lib\\site-packages\\sklearn\\utils\\_param_validation.py:558: FutureWarning:\n",
      "\n",
      "Passing an int for a boolean parameter is deprecated in version 1.2 and won't be supported anymore in version 1.4.\n",
      "\n",
      "[I 2024-12-23 14:35:44,899] Trial 212 finished with value: 0.09790209790209792 and parameters: {'alpha': 17.689731642471685, 'force_alpha': 1, 'fit_prior': 1}. Best is trial 5 with value: 0.11188811188811187.\n"
     ]
    },
    {
     "name": "stdout",
     "output_type": "stream",
     "text": [
      "Trial 212 finished with value: 0.09790209790209792 and parameters: {'alpha': 17.689731642471685, 'force_alpha': 1, 'fit_prior': 1}. Best is trial 5 with value: 0.11188811188811187.\n",
      "Trial 212 finished with value: 0.09790209790209792 and parameters: {'alpha': 17.689731642471685, 'force_alpha': 1, 'fit_prior': 1}. Best is trial 5 with value: 0.11188811188811187.\n",
      "Trial 212 finished with value: 0.09790209790209792 and parameters: {'alpha': 17.689731642471685, 'force_alpha': 1, 'fit_prior': 1}. Best is trial 5 with value: 0.11188811188811187.\n",
      "Trial 212 finished with value: 0.09790209790209792 and parameters: {'alpha': 17.689731642471685, 'force_alpha': 1, 'fit_prior': 1}. Best is trial 5 with value: 0.11188811188811187.\n"
     ]
    },
    {
     "name": "stderr",
     "output_type": "stream",
     "text": [
      "C:\\Users\\ivanm\\AppData\\Local\\Temp\\ipykernel_5188\\4256399241.py:10: FutureWarning:\n",
      "\n",
      "suggest_loguniform has been deprecated in v3.0.0. This feature will be removed in v6.0.0. See https://github.com/optuna/optuna/releases/tag/v3.0.0. Use suggest_float(..., log=True) instead.\n",
      "\n",
      "c:\\Users\\ivanm\\AppData\\Local\\Programs\\Python\\Python39\\lib\\site-packages\\sklearn\\utils\\_param_validation.py:558: FutureWarning:\n",
      "\n",
      "Passing an int for a boolean parameter is deprecated in version 1.2 and won't be supported anymore in version 1.4.\n",
      "\n",
      "[I 2024-12-23 14:35:45,010] Trial 213 finished with value: 0.09790209790209792 and parameters: {'alpha': 0.00025406471077154245, 'force_alpha': 0, 'fit_prior': 0}. Best is trial 5 with value: 0.11188811188811187.\n"
     ]
    },
    {
     "name": "stdout",
     "output_type": "stream",
     "text": [
      "Trial 213 finished with value: 0.09790209790209792 and parameters: {'alpha': 0.00025406471077154245, 'force_alpha': 0, 'fit_prior': 0}. Best is trial 5 with value: 0.11188811188811187.\n",
      "Trial 213 finished with value: 0.09790209790209792 and parameters: {'alpha': 0.00025406471077154245, 'force_alpha': 0, 'fit_prior': 0}. Best is trial 5 with value: 0.11188811188811187.\n",
      "Trial 213 finished with value: 0.09790209790209792 and parameters: {'alpha': 0.00025406471077154245, 'force_alpha': 0, 'fit_prior': 0}. Best is trial 5 with value: 0.11188811188811187.\n",
      "Trial 213 finished with value: 0.09790209790209792 and parameters: {'alpha': 0.00025406471077154245, 'force_alpha': 0, 'fit_prior': 0}. Best is trial 5 with value: 0.11188811188811187.\n"
     ]
    },
    {
     "name": "stderr",
     "output_type": "stream",
     "text": [
      "C:\\Users\\ivanm\\AppData\\Local\\Temp\\ipykernel_5188\\4256399241.py:10: FutureWarning:\n",
      "\n",
      "suggest_loguniform has been deprecated in v3.0.0. This feature will be removed in v6.0.0. See https://github.com/optuna/optuna/releases/tag/v3.0.0. Use suggest_float(..., log=True) instead.\n",
      "\n",
      "c:\\Users\\ivanm\\AppData\\Local\\Programs\\Python\\Python39\\lib\\site-packages\\sklearn\\utils\\_param_validation.py:558: FutureWarning:\n",
      "\n",
      "Passing an int for a boolean parameter is deprecated in version 1.2 and won't be supported anymore in version 1.4.\n",
      "\n",
      "[I 2024-12-23 14:35:45,021] Trial 214 pruned. \n"
     ]
    },
    {
     "name": "stdout",
     "output_type": "stream",
     "text": [
      "Trial 214 pruned. \n",
      "Trial 214 pruned. \n",
      "Trial 214 pruned. \n",
      "Trial 214 pruned. \n"
     ]
    },
    {
     "name": "stderr",
     "output_type": "stream",
     "text": [
      "C:\\Users\\ivanm\\AppData\\Local\\Temp\\ipykernel_5188\\4256399241.py:10: FutureWarning:\n",
      "\n",
      "suggest_loguniform has been deprecated in v3.0.0. This feature will be removed in v6.0.0. See https://github.com/optuna/optuna/releases/tag/v3.0.0. Use suggest_float(..., log=True) instead.\n",
      "\n",
      "c:\\Users\\ivanm\\AppData\\Local\\Programs\\Python\\Python39\\lib\\site-packages\\sklearn\\utils\\_param_validation.py:558: FutureWarning:\n",
      "\n",
      "Passing an int for a boolean parameter is deprecated in version 1.2 and won't be supported anymore in version 1.4.\n",
      "\n",
      "[I 2024-12-23 14:35:45,133] Trial 215 finished with value: 0.09790209790209792 and parameters: {'alpha': 3.3874758345898193, 'force_alpha': 1, 'fit_prior': 1}. Best is trial 5 with value: 0.11188811188811187.\n"
     ]
    },
    {
     "name": "stdout",
     "output_type": "stream",
     "text": [
      "Trial 215 finished with value: 0.09790209790209792 and parameters: {'alpha': 3.3874758345898193, 'force_alpha': 1, 'fit_prior': 1}. Best is trial 5 with value: 0.11188811188811187.\n",
      "Trial 215 finished with value: 0.09790209790209792 and parameters: {'alpha': 3.3874758345898193, 'force_alpha': 1, 'fit_prior': 1}. Best is trial 5 with value: 0.11188811188811187.\n",
      "Trial 215 finished with value: 0.09790209790209792 and parameters: {'alpha': 3.3874758345898193, 'force_alpha': 1, 'fit_prior': 1}. Best is trial 5 with value: 0.11188811188811187.\n",
      "Trial 215 finished with value: 0.09790209790209792 and parameters: {'alpha': 3.3874758345898193, 'force_alpha': 1, 'fit_prior': 1}. Best is trial 5 with value: 0.11188811188811187.\n"
     ]
    },
    {
     "name": "stderr",
     "output_type": "stream",
     "text": [
      "C:\\Users\\ivanm\\AppData\\Local\\Temp\\ipykernel_5188\\4256399241.py:10: FutureWarning:\n",
      "\n",
      "suggest_loguniform has been deprecated in v3.0.0. This feature will be removed in v6.0.0. See https://github.com/optuna/optuna/releases/tag/v3.0.0. Use suggest_float(..., log=True) instead.\n",
      "\n",
      "c:\\Users\\ivanm\\AppData\\Local\\Programs\\Python\\Python39\\lib\\site-packages\\sklearn\\utils\\_param_validation.py:558: FutureWarning:\n",
      "\n",
      "Passing an int for a boolean parameter is deprecated in version 1.2 and won't be supported anymore in version 1.4.\n",
      "\n",
      "[I 2024-12-23 14:35:45,241] Trial 216 finished with value: 0.09790209790209792 and parameters: {'alpha': 0.6108610144893853, 'force_alpha': 1, 'fit_prior': 0}. Best is trial 5 with value: 0.11188811188811187.\n"
     ]
    },
    {
     "name": "stdout",
     "output_type": "stream",
     "text": [
      "Trial 216 finished with value: 0.09790209790209792 and parameters: {'alpha': 0.6108610144893853, 'force_alpha': 1, 'fit_prior': 0}. Best is trial 5 with value: 0.11188811188811187.\n",
      "Trial 216 finished with value: 0.09790209790209792 and parameters: {'alpha': 0.6108610144893853, 'force_alpha': 1, 'fit_prior': 0}. Best is trial 5 with value: 0.11188811188811187.\n",
      "Trial 216 finished with value: 0.09790209790209792 and parameters: {'alpha': 0.6108610144893853, 'force_alpha': 1, 'fit_prior': 0}. Best is trial 5 with value: 0.11188811188811187.\n",
      "Trial 216 finished with value: 0.09790209790209792 and parameters: {'alpha': 0.6108610144893853, 'force_alpha': 1, 'fit_prior': 0}. Best is trial 5 with value: 0.11188811188811187.\n"
     ]
    },
    {
     "name": "stderr",
     "output_type": "stream",
     "text": [
      "C:\\Users\\ivanm\\AppData\\Local\\Temp\\ipykernel_5188\\4256399241.py:10: FutureWarning:\n",
      "\n",
      "suggest_loguniform has been deprecated in v3.0.0. This feature will be removed in v6.0.0. See https://github.com/optuna/optuna/releases/tag/v3.0.0. Use suggest_float(..., log=True) instead.\n",
      "\n",
      "c:\\Users\\ivanm\\AppData\\Local\\Programs\\Python\\Python39\\lib\\site-packages\\sklearn\\utils\\_param_validation.py:558: FutureWarning:\n",
      "\n",
      "Passing an int for a boolean parameter is deprecated in version 1.2 and won't be supported anymore in version 1.4.\n",
      "\n",
      "[I 2024-12-23 14:35:45,354] Trial 217 finished with value: 0.09790209790209792 and parameters: {'alpha': 0.7013368601831581, 'force_alpha': 1, 'fit_prior': 0}. Best is trial 5 with value: 0.11188811188811187.\n"
     ]
    },
    {
     "name": "stdout",
     "output_type": "stream",
     "text": [
      "Trial 217 finished with value: 0.09790209790209792 and parameters: {'alpha': 0.7013368601831581, 'force_alpha': 1, 'fit_prior': 0}. Best is trial 5 with value: 0.11188811188811187.\n",
      "Trial 217 finished with value: 0.09790209790209792 and parameters: {'alpha': 0.7013368601831581, 'force_alpha': 1, 'fit_prior': 0}. Best is trial 5 with value: 0.11188811188811187.\n",
      "Trial 217 finished with value: 0.09790209790209792 and parameters: {'alpha': 0.7013368601831581, 'force_alpha': 1, 'fit_prior': 0}. Best is trial 5 with value: 0.11188811188811187.\n",
      "Trial 217 finished with value: 0.09790209790209792 and parameters: {'alpha': 0.7013368601831581, 'force_alpha': 1, 'fit_prior': 0}. Best is trial 5 with value: 0.11188811188811187.\n"
     ]
    },
    {
     "name": "stderr",
     "output_type": "stream",
     "text": [
      "C:\\Users\\ivanm\\AppData\\Local\\Temp\\ipykernel_5188\\4256399241.py:10: FutureWarning:\n",
      "\n",
      "suggest_loguniform has been deprecated in v3.0.0. This feature will be removed in v6.0.0. See https://github.com/optuna/optuna/releases/tag/v3.0.0. Use suggest_float(..., log=True) instead.\n",
      "\n",
      "c:\\Users\\ivanm\\AppData\\Local\\Programs\\Python\\Python39\\lib\\site-packages\\sklearn\\utils\\_param_validation.py:558: FutureWarning:\n",
      "\n",
      "Passing an int for a boolean parameter is deprecated in version 1.2 and won't be supported anymore in version 1.4.\n",
      "\n",
      "[I 2024-12-23 14:35:45,466] Trial 218 finished with value: 0.09790209790209792 and parameters: {'alpha': 3.2385220215392345, 'force_alpha': 0, 'fit_prior': 0}. Best is trial 5 with value: 0.11188811188811187.\n"
     ]
    },
    {
     "name": "stdout",
     "output_type": "stream",
     "text": [
      "Trial 218 finished with value: 0.09790209790209792 and parameters: {'alpha': 3.2385220215392345, 'force_alpha': 0, 'fit_prior': 0}. Best is trial 5 with value: 0.11188811188811187.\n",
      "Trial 218 finished with value: 0.09790209790209792 and parameters: {'alpha': 3.2385220215392345, 'force_alpha': 0, 'fit_prior': 0}. Best is trial 5 with value: 0.11188811188811187.\n",
      "Trial 218 finished with value: 0.09790209790209792 and parameters: {'alpha': 3.2385220215392345, 'force_alpha': 0, 'fit_prior': 0}. Best is trial 5 with value: 0.11188811188811187.\n",
      "Trial 218 finished with value: 0.09790209790209792 and parameters: {'alpha': 3.2385220215392345, 'force_alpha': 0, 'fit_prior': 0}. Best is trial 5 with value: 0.11188811188811187.\n"
     ]
    },
    {
     "name": "stderr",
     "output_type": "stream",
     "text": [
      "C:\\Users\\ivanm\\AppData\\Local\\Temp\\ipykernel_5188\\4256399241.py:10: FutureWarning:\n",
      "\n",
      "suggest_loguniform has been deprecated in v3.0.0. This feature will be removed in v6.0.0. See https://github.com/optuna/optuna/releases/tag/v3.0.0. Use suggest_float(..., log=True) instead.\n",
      "\n",
      "c:\\Users\\ivanm\\AppData\\Local\\Programs\\Python\\Python39\\lib\\site-packages\\sklearn\\utils\\_param_validation.py:558: FutureWarning:\n",
      "\n",
      "Passing an int for a boolean parameter is deprecated in version 1.2 and won't be supported anymore in version 1.4.\n",
      "\n",
      "[I 2024-12-23 14:35:45,574] Trial 219 finished with value: 0.09790209790209792 and parameters: {'alpha': 0.011183681343819824, 'force_alpha': 1, 'fit_prior': 0}. Best is trial 5 with value: 0.11188811188811187.\n"
     ]
    },
    {
     "name": "stdout",
     "output_type": "stream",
     "text": [
      "Trial 219 finished with value: 0.09790209790209792 and parameters: {'alpha': 0.011183681343819824, 'force_alpha': 1, 'fit_prior': 0}. Best is trial 5 with value: 0.11188811188811187.\n",
      "Trial 219 finished with value: 0.09790209790209792 and parameters: {'alpha': 0.011183681343819824, 'force_alpha': 1, 'fit_prior': 0}. Best is trial 5 with value: 0.11188811188811187.\n",
      "Trial 219 finished with value: 0.09790209790209792 and parameters: {'alpha': 0.011183681343819824, 'force_alpha': 1, 'fit_prior': 0}. Best is trial 5 with value: 0.11188811188811187.\n",
      "Trial 219 finished with value: 0.09790209790209792 and parameters: {'alpha': 0.011183681343819824, 'force_alpha': 1, 'fit_prior': 0}. Best is trial 5 with value: 0.11188811188811187.\n"
     ]
    },
    {
     "name": "stderr",
     "output_type": "stream",
     "text": [
      "C:\\Users\\ivanm\\AppData\\Local\\Temp\\ipykernel_5188\\4256399241.py:10: FutureWarning:\n",
      "\n",
      "suggest_loguniform has been deprecated in v3.0.0. This feature will be removed in v6.0.0. See https://github.com/optuna/optuna/releases/tag/v3.0.0. Use suggest_float(..., log=True) instead.\n",
      "\n",
      "c:\\Users\\ivanm\\AppData\\Local\\Programs\\Python\\Python39\\lib\\site-packages\\sklearn\\utils\\_param_validation.py:558: FutureWarning:\n",
      "\n",
      "Passing an int for a boolean parameter is deprecated in version 1.2 and won't be supported anymore in version 1.4.\n",
      "\n",
      "[I 2024-12-23 14:35:45,679] Trial 220 finished with value: 0.09790209790209792 and parameters: {'alpha': 0.13314966191555602, 'force_alpha': 0, 'fit_prior': 1}. Best is trial 5 with value: 0.11188811188811187.\n"
     ]
    },
    {
     "name": "stdout",
     "output_type": "stream",
     "text": [
      "Trial 220 finished with value: 0.09790209790209792 and parameters: {'alpha': 0.13314966191555602, 'force_alpha': 0, 'fit_prior': 1}. Best is trial 5 with value: 0.11188811188811187.\n",
      "Trial 220 finished with value: 0.09790209790209792 and parameters: {'alpha': 0.13314966191555602, 'force_alpha': 0, 'fit_prior': 1}. Best is trial 5 with value: 0.11188811188811187.\n",
      "Trial 220 finished with value: 0.09790209790209792 and parameters: {'alpha': 0.13314966191555602, 'force_alpha': 0, 'fit_prior': 1}. Best is trial 5 with value: 0.11188811188811187.\n",
      "Trial 220 finished with value: 0.09790209790209792 and parameters: {'alpha': 0.13314966191555602, 'force_alpha': 0, 'fit_prior': 1}. Best is trial 5 with value: 0.11188811188811187.\n"
     ]
    },
    {
     "name": "stderr",
     "output_type": "stream",
     "text": [
      "C:\\Users\\ivanm\\AppData\\Local\\Temp\\ipykernel_5188\\4256399241.py:10: FutureWarning:\n",
      "\n",
      "suggest_loguniform has been deprecated in v3.0.0. This feature will be removed in v6.0.0. See https://github.com/optuna/optuna/releases/tag/v3.0.0. Use suggest_float(..., log=True) instead.\n",
      "\n",
      "c:\\Users\\ivanm\\AppData\\Local\\Programs\\Python\\Python39\\lib\\site-packages\\sklearn\\utils\\_param_validation.py:558: FutureWarning:\n",
      "\n",
      "Passing an int for a boolean parameter is deprecated in version 1.2 and won't be supported anymore in version 1.4.\n",
      "\n",
      "[I 2024-12-23 14:35:45,715] Trial 221 pruned. \n"
     ]
    },
    {
     "name": "stdout",
     "output_type": "stream",
     "text": [
      "Trial 221 pruned. \n",
      "Trial 221 pruned. \n",
      "Trial 221 pruned. \n",
      "Trial 221 pruned. \n"
     ]
    },
    {
     "name": "stderr",
     "output_type": "stream",
     "text": [
      "C:\\Users\\ivanm\\AppData\\Local\\Temp\\ipykernel_5188\\4256399241.py:10: FutureWarning:\n",
      "\n",
      "suggest_loguniform has been deprecated in v3.0.0. This feature will be removed in v6.0.0. See https://github.com/optuna/optuna/releases/tag/v3.0.0. Use suggest_float(..., log=True) instead.\n",
      "\n",
      "c:\\Users\\ivanm\\AppData\\Local\\Programs\\Python\\Python39\\lib\\site-packages\\sklearn\\utils\\_param_validation.py:558: FutureWarning:\n",
      "\n",
      "Passing an int for a boolean parameter is deprecated in version 1.2 and won't be supported anymore in version 1.4.\n",
      "\n",
      "[I 2024-12-23 14:35:45,844] Trial 222 finished with value: 0.09790209790209792 and parameters: {'alpha': 1298.5969258805371, 'force_alpha': 0, 'fit_prior': 0}. Best is trial 5 with value: 0.11188811188811187.\n"
     ]
    },
    {
     "name": "stdout",
     "output_type": "stream",
     "text": [
      "Trial 222 finished with value: 0.09790209790209792 and parameters: {'alpha': 1298.5969258805371, 'force_alpha': 0, 'fit_prior': 0}. Best is trial 5 with value: 0.11188811188811187.\n",
      "Trial 222 finished with value: 0.09790209790209792 and parameters: {'alpha': 1298.5969258805371, 'force_alpha': 0, 'fit_prior': 0}. Best is trial 5 with value: 0.11188811188811187.\n",
      "Trial 222 finished with value: 0.09790209790209792 and parameters: {'alpha': 1298.5969258805371, 'force_alpha': 0, 'fit_prior': 0}. Best is trial 5 with value: 0.11188811188811187.\n",
      "Trial 222 finished with value: 0.09790209790209792 and parameters: {'alpha': 1298.5969258805371, 'force_alpha': 0, 'fit_prior': 0}. Best is trial 5 with value: 0.11188811188811187.\n"
     ]
    },
    {
     "name": "stderr",
     "output_type": "stream",
     "text": [
      "C:\\Users\\ivanm\\AppData\\Local\\Temp\\ipykernel_5188\\4256399241.py:10: FutureWarning:\n",
      "\n",
      "suggest_loguniform has been deprecated in v3.0.0. This feature will be removed in v6.0.0. See https://github.com/optuna/optuna/releases/tag/v3.0.0. Use suggest_float(..., log=True) instead.\n",
      "\n",
      "c:\\Users\\ivanm\\AppData\\Local\\Programs\\Python\\Python39\\lib\\site-packages\\sklearn\\utils\\_param_validation.py:558: FutureWarning:\n",
      "\n",
      "Passing an int for a boolean parameter is deprecated in version 1.2 and won't be supported anymore in version 1.4.\n",
      "\n",
      "[I 2024-12-23 14:35:45,953] Trial 223 finished with value: 0.09790209790209792 and parameters: {'alpha': 0.023247489552047647, 'force_alpha': 0, 'fit_prior': 0}. Best is trial 5 with value: 0.11188811188811187.\n"
     ]
    },
    {
     "name": "stdout",
     "output_type": "stream",
     "text": [
      "Trial 223 finished with value: 0.09790209790209792 and parameters: {'alpha': 0.023247489552047647, 'force_alpha': 0, 'fit_prior': 0}. Best is trial 5 with value: 0.11188811188811187.\n",
      "Trial 223 finished with value: 0.09790209790209792 and parameters: {'alpha': 0.023247489552047647, 'force_alpha': 0, 'fit_prior': 0}. Best is trial 5 with value: 0.11188811188811187.\n",
      "Trial 223 finished with value: 0.09790209790209792 and parameters: {'alpha': 0.023247489552047647, 'force_alpha': 0, 'fit_prior': 0}. Best is trial 5 with value: 0.11188811188811187.\n",
      "Trial 223 finished with value: 0.09790209790209792 and parameters: {'alpha': 0.023247489552047647, 'force_alpha': 0, 'fit_prior': 0}. Best is trial 5 with value: 0.11188811188811187.\n"
     ]
    },
    {
     "name": "stderr",
     "output_type": "stream",
     "text": [
      "C:\\Users\\ivanm\\AppData\\Local\\Temp\\ipykernel_5188\\4256399241.py:10: FutureWarning:\n",
      "\n",
      "suggest_loguniform has been deprecated in v3.0.0. This feature will be removed in v6.0.0. See https://github.com/optuna/optuna/releases/tag/v3.0.0. Use suggest_float(..., log=True) instead.\n",
      "\n",
      "c:\\Users\\ivanm\\AppData\\Local\\Programs\\Python\\Python39\\lib\\site-packages\\sklearn\\utils\\_param_validation.py:558: FutureWarning:\n",
      "\n",
      "Passing an int for a boolean parameter is deprecated in version 1.2 and won't be supported anymore in version 1.4.\n",
      "\n",
      "[I 2024-12-23 14:35:46,060] Trial 224 finished with value: 0.09790209790209792 and parameters: {'alpha': 844.3499471628056, 'force_alpha': 0, 'fit_prior': 0}. Best is trial 5 with value: 0.11188811188811187.\n"
     ]
    },
    {
     "name": "stdout",
     "output_type": "stream",
     "text": [
      "Trial 224 finished with value: 0.09790209790209792 and parameters: {'alpha': 844.3499471628056, 'force_alpha': 0, 'fit_prior': 0}. Best is trial 5 with value: 0.11188811188811187.\n",
      "Trial 224 finished with value: 0.09790209790209792 and parameters: {'alpha': 844.3499471628056, 'force_alpha': 0, 'fit_prior': 0}. Best is trial 5 with value: 0.11188811188811187.\n",
      "Trial 224 finished with value: 0.09790209790209792 and parameters: {'alpha': 844.3499471628056, 'force_alpha': 0, 'fit_prior': 0}. Best is trial 5 with value: 0.11188811188811187.\n",
      "Trial 224 finished with value: 0.09790209790209792 and parameters: {'alpha': 844.3499471628056, 'force_alpha': 0, 'fit_prior': 0}. Best is trial 5 with value: 0.11188811188811187.\n"
     ]
    },
    {
     "name": "stderr",
     "output_type": "stream",
     "text": [
      "C:\\Users\\ivanm\\AppData\\Local\\Temp\\ipykernel_5188\\4256399241.py:10: FutureWarning:\n",
      "\n",
      "suggest_loguniform has been deprecated in v3.0.0. This feature will be removed in v6.0.0. See https://github.com/optuna/optuna/releases/tag/v3.0.0. Use suggest_float(..., log=True) instead.\n",
      "\n",
      "c:\\Users\\ivanm\\AppData\\Local\\Programs\\Python\\Python39\\lib\\site-packages\\sklearn\\utils\\_param_validation.py:558: FutureWarning:\n",
      "\n",
      "Passing an int for a boolean parameter is deprecated in version 1.2 and won't be supported anymore in version 1.4.\n",
      "\n",
      "[I 2024-12-23 14:35:46,176] Trial 225 finished with value: 0.09790209790209792 and parameters: {'alpha': 0.0009368482513802947, 'force_alpha': 1, 'fit_prior': 1}. Best is trial 5 with value: 0.11188811188811187.\n"
     ]
    },
    {
     "name": "stdout",
     "output_type": "stream",
     "text": [
      "Trial 225 finished with value: 0.09790209790209792 and parameters: {'alpha': 0.0009368482513802947, 'force_alpha': 1, 'fit_prior': 1}. Best is trial 5 with value: 0.11188811188811187.\n",
      "Trial 225 finished with value: 0.09790209790209792 and parameters: {'alpha': 0.0009368482513802947, 'force_alpha': 1, 'fit_prior': 1}. Best is trial 5 with value: 0.11188811188811187.\n",
      "Trial 225 finished with value: 0.09790209790209792 and parameters: {'alpha': 0.0009368482513802947, 'force_alpha': 1, 'fit_prior': 1}. Best is trial 5 with value: 0.11188811188811187.\n",
      "Trial 225 finished with value: 0.09790209790209792 and parameters: {'alpha': 0.0009368482513802947, 'force_alpha': 1, 'fit_prior': 1}. Best is trial 5 with value: 0.11188811188811187.\n"
     ]
    },
    {
     "name": "stderr",
     "output_type": "stream",
     "text": [
      "C:\\Users\\ivanm\\AppData\\Local\\Temp\\ipykernel_5188\\4256399241.py:10: FutureWarning:\n",
      "\n",
      "suggest_loguniform has been deprecated in v3.0.0. This feature will be removed in v6.0.0. See https://github.com/optuna/optuna/releases/tag/v3.0.0. Use suggest_float(..., log=True) instead.\n",
      "\n",
      "c:\\Users\\ivanm\\AppData\\Local\\Programs\\Python\\Python39\\lib\\site-packages\\sklearn\\utils\\_param_validation.py:558: FutureWarning:\n",
      "\n",
      "Passing an int for a boolean parameter is deprecated in version 1.2 and won't be supported anymore in version 1.4.\n",
      "\n",
      "[I 2024-12-23 14:35:46,289] Trial 226 finished with value: 0.09790209790209792 and parameters: {'alpha': 145.21441948450268, 'force_alpha': 0, 'fit_prior': 1}. Best is trial 5 with value: 0.11188811188811187.\n"
     ]
    },
    {
     "name": "stdout",
     "output_type": "stream",
     "text": [
      "Trial 226 finished with value: 0.09790209790209792 and parameters: {'alpha': 145.21441948450268, 'force_alpha': 0, 'fit_prior': 1}. Best is trial 5 with value: 0.11188811188811187.\n",
      "Trial 226 finished with value: 0.09790209790209792 and parameters: {'alpha': 145.21441948450268, 'force_alpha': 0, 'fit_prior': 1}. Best is trial 5 with value: 0.11188811188811187.\n",
      "Trial 226 finished with value: 0.09790209790209792 and parameters: {'alpha': 145.21441948450268, 'force_alpha': 0, 'fit_prior': 1}. Best is trial 5 with value: 0.11188811188811187.\n",
      "Trial 226 finished with value: 0.09790209790209792 and parameters: {'alpha': 145.21441948450268, 'force_alpha': 0, 'fit_prior': 1}. Best is trial 5 with value: 0.11188811188811187.\n"
     ]
    },
    {
     "name": "stderr",
     "output_type": "stream",
     "text": [
      "C:\\Users\\ivanm\\AppData\\Local\\Temp\\ipykernel_5188\\4256399241.py:10: FutureWarning:\n",
      "\n",
      "suggest_loguniform has been deprecated in v3.0.0. This feature will be removed in v6.0.0. See https://github.com/optuna/optuna/releases/tag/v3.0.0. Use suggest_float(..., log=True) instead.\n",
      "\n",
      "c:\\Users\\ivanm\\AppData\\Local\\Programs\\Python\\Python39\\lib\\site-packages\\sklearn\\utils\\_param_validation.py:558: FutureWarning:\n",
      "\n",
      "Passing an int for a boolean parameter is deprecated in version 1.2 and won't be supported anymore in version 1.4.\n",
      "\n",
      "[I 2024-12-23 14:35:46,325] Trial 227 pruned. \n"
     ]
    },
    {
     "name": "stdout",
     "output_type": "stream",
     "text": [
      "Trial 227 pruned. \n",
      "Trial 227 pruned. \n",
      "Trial 227 pruned. \n",
      "Trial 227 pruned. \n"
     ]
    },
    {
     "name": "stderr",
     "output_type": "stream",
     "text": [
      "C:\\Users\\ivanm\\AppData\\Local\\Temp\\ipykernel_5188\\4256399241.py:10: FutureWarning:\n",
      "\n",
      "suggest_loguniform has been deprecated in v3.0.0. This feature will be removed in v6.0.0. See https://github.com/optuna/optuna/releases/tag/v3.0.0. Use suggest_float(..., log=True) instead.\n",
      "\n",
      "c:\\Users\\ivanm\\AppData\\Local\\Programs\\Python\\Python39\\lib\\site-packages\\sklearn\\utils\\_param_validation.py:558: FutureWarning:\n",
      "\n",
      "Passing an int for a boolean parameter is deprecated in version 1.2 and won't be supported anymore in version 1.4.\n",
      "\n",
      "[I 2024-12-23 14:35:46,434] Trial 228 finished with value: 0.09790209790209792 and parameters: {'alpha': 2.56133782670634, 'force_alpha': 1, 'fit_prior': 1}. Best is trial 5 with value: 0.11188811188811187.\n"
     ]
    },
    {
     "name": "stdout",
     "output_type": "stream",
     "text": [
      "Trial 228 finished with value: 0.09790209790209792 and parameters: {'alpha': 2.56133782670634, 'force_alpha': 1, 'fit_prior': 1}. Best is trial 5 with value: 0.11188811188811187.\n",
      "Trial 228 finished with value: 0.09790209790209792 and parameters: {'alpha': 2.56133782670634, 'force_alpha': 1, 'fit_prior': 1}. Best is trial 5 with value: 0.11188811188811187.\n",
      "Trial 228 finished with value: 0.09790209790209792 and parameters: {'alpha': 2.56133782670634, 'force_alpha': 1, 'fit_prior': 1}. Best is trial 5 with value: 0.11188811188811187.\n",
      "Trial 228 finished with value: 0.09790209790209792 and parameters: {'alpha': 2.56133782670634, 'force_alpha': 1, 'fit_prior': 1}. Best is trial 5 with value: 0.11188811188811187.\n"
     ]
    },
    {
     "name": "stderr",
     "output_type": "stream",
     "text": [
      "C:\\Users\\ivanm\\AppData\\Local\\Temp\\ipykernel_5188\\4256399241.py:10: FutureWarning:\n",
      "\n",
      "suggest_loguniform has been deprecated in v3.0.0. This feature will be removed in v6.0.0. See https://github.com/optuna/optuna/releases/tag/v3.0.0. Use suggest_float(..., log=True) instead.\n",
      "\n",
      "c:\\Users\\ivanm\\AppData\\Local\\Programs\\Python\\Python39\\lib\\site-packages\\sklearn\\utils\\_param_validation.py:558: FutureWarning:\n",
      "\n",
      "Passing an int for a boolean parameter is deprecated in version 1.2 and won't be supported anymore in version 1.4.\n",
      "\n",
      "[I 2024-12-23 14:35:46,546] Trial 229 finished with value: 0.09790209790209792 and parameters: {'alpha': 11.618656746402841, 'force_alpha': 1, 'fit_prior': 0}. Best is trial 5 with value: 0.11188811188811187.\n"
     ]
    },
    {
     "name": "stdout",
     "output_type": "stream",
     "text": [
      "Trial 229 finished with value: 0.09790209790209792 and parameters: {'alpha': 11.618656746402841, 'force_alpha': 1, 'fit_prior': 0}. Best is trial 5 with value: 0.11188811188811187.\n",
      "Trial 229 finished with value: 0.09790209790209792 and parameters: {'alpha': 11.618656746402841, 'force_alpha': 1, 'fit_prior': 0}. Best is trial 5 with value: 0.11188811188811187.\n",
      "Trial 229 finished with value: 0.09790209790209792 and parameters: {'alpha': 11.618656746402841, 'force_alpha': 1, 'fit_prior': 0}. Best is trial 5 with value: 0.11188811188811187.\n",
      "Trial 229 finished with value: 0.09790209790209792 and parameters: {'alpha': 11.618656746402841, 'force_alpha': 1, 'fit_prior': 0}. Best is trial 5 with value: 0.11188811188811187.\n"
     ]
    },
    {
     "name": "stderr",
     "output_type": "stream",
     "text": [
      "C:\\Users\\ivanm\\AppData\\Local\\Temp\\ipykernel_5188\\4256399241.py:10: FutureWarning:\n",
      "\n",
      "suggest_loguniform has been deprecated in v3.0.0. This feature will be removed in v6.0.0. See https://github.com/optuna/optuna/releases/tag/v3.0.0. Use suggest_float(..., log=True) instead.\n",
      "\n",
      "c:\\Users\\ivanm\\AppData\\Local\\Programs\\Python\\Python39\\lib\\site-packages\\sklearn\\utils\\_param_validation.py:558: FutureWarning:\n",
      "\n",
      "Passing an int for a boolean parameter is deprecated in version 1.2 and won't be supported anymore in version 1.4.\n",
      "\n",
      "[I 2024-12-23 14:35:46,654] Trial 230 finished with value: 0.09790209790209792 and parameters: {'alpha': 0.0027542134642737476, 'force_alpha': 0, 'fit_prior': 0}. Best is trial 5 with value: 0.11188811188811187.\n"
     ]
    },
    {
     "name": "stdout",
     "output_type": "stream",
     "text": [
      "Trial 230 finished with value: 0.09790209790209792 and parameters: {'alpha': 0.0027542134642737476, 'force_alpha': 0, 'fit_prior': 0}. Best is trial 5 with value: 0.11188811188811187.\n",
      "Trial 230 finished with value: 0.09790209790209792 and parameters: {'alpha': 0.0027542134642737476, 'force_alpha': 0, 'fit_prior': 0}. Best is trial 5 with value: 0.11188811188811187.\n",
      "Trial 230 finished with value: 0.09790209790209792 and parameters: {'alpha': 0.0027542134642737476, 'force_alpha': 0, 'fit_prior': 0}. Best is trial 5 with value: 0.11188811188811187.\n",
      "Trial 230 finished with value: 0.09790209790209792 and parameters: {'alpha': 0.0027542134642737476, 'force_alpha': 0, 'fit_prior': 0}. Best is trial 5 with value: 0.11188811188811187.\n"
     ]
    },
    {
     "name": "stderr",
     "output_type": "stream",
     "text": [
      "C:\\Users\\ivanm\\AppData\\Local\\Temp\\ipykernel_5188\\4256399241.py:10: FutureWarning:\n",
      "\n",
      "suggest_loguniform has been deprecated in v3.0.0. This feature will be removed in v6.0.0. See https://github.com/optuna/optuna/releases/tag/v3.0.0. Use suggest_float(..., log=True) instead.\n",
      "\n",
      "c:\\Users\\ivanm\\AppData\\Local\\Programs\\Python\\Python39\\lib\\site-packages\\sklearn\\utils\\_param_validation.py:558: FutureWarning:\n",
      "\n",
      "Passing an int for a boolean parameter is deprecated in version 1.2 and won't be supported anymore in version 1.4.\n",
      "\n",
      "[I 2024-12-23 14:35:46,765] Trial 231 finished with value: 0.09790209790209792 and parameters: {'alpha': 1.1679905559871462, 'force_alpha': 1, 'fit_prior': 1}. Best is trial 5 with value: 0.11188811188811187.\n"
     ]
    },
    {
     "name": "stdout",
     "output_type": "stream",
     "text": [
      "Trial 231 finished with value: 0.09790209790209792 and parameters: {'alpha': 1.1679905559871462, 'force_alpha': 1, 'fit_prior': 1}. Best is trial 5 with value: 0.11188811188811187.\n",
      "Trial 231 finished with value: 0.09790209790209792 and parameters: {'alpha': 1.1679905559871462, 'force_alpha': 1, 'fit_prior': 1}. Best is trial 5 with value: 0.11188811188811187.\n",
      "Trial 231 finished with value: 0.09790209790209792 and parameters: {'alpha': 1.1679905559871462, 'force_alpha': 1, 'fit_prior': 1}. Best is trial 5 with value: 0.11188811188811187.\n",
      "Trial 231 finished with value: 0.09790209790209792 and parameters: {'alpha': 1.1679905559871462, 'force_alpha': 1, 'fit_prior': 1}. Best is trial 5 with value: 0.11188811188811187.\n"
     ]
    },
    {
     "name": "stderr",
     "output_type": "stream",
     "text": [
      "C:\\Users\\ivanm\\AppData\\Local\\Temp\\ipykernel_5188\\4256399241.py:10: FutureWarning:\n",
      "\n",
      "suggest_loguniform has been deprecated in v3.0.0. This feature will be removed in v6.0.0. See https://github.com/optuna/optuna/releases/tag/v3.0.0. Use suggest_float(..., log=True) instead.\n",
      "\n",
      "c:\\Users\\ivanm\\AppData\\Local\\Programs\\Python\\Python39\\lib\\site-packages\\sklearn\\utils\\_param_validation.py:558: FutureWarning:\n",
      "\n",
      "Passing an int for a boolean parameter is deprecated in version 1.2 and won't be supported anymore in version 1.4.\n",
      "\n",
      "[I 2024-12-23 14:35:46,875] Trial 232 finished with value: 0.09790209790209792 and parameters: {'alpha': 0.1407535442017994, 'force_alpha': 0, 'fit_prior': 1}. Best is trial 5 with value: 0.11188811188811187.\n"
     ]
    },
    {
     "name": "stdout",
     "output_type": "stream",
     "text": [
      "Trial 232 finished with value: 0.09790209790209792 and parameters: {'alpha': 0.1407535442017994, 'force_alpha': 0, 'fit_prior': 1}. Best is trial 5 with value: 0.11188811188811187.\n",
      "Trial 232 finished with value: 0.09790209790209792 and parameters: {'alpha': 0.1407535442017994, 'force_alpha': 0, 'fit_prior': 1}. Best is trial 5 with value: 0.11188811188811187.\n",
      "Trial 232 finished with value: 0.09790209790209792 and parameters: {'alpha': 0.1407535442017994, 'force_alpha': 0, 'fit_prior': 1}. Best is trial 5 with value: 0.11188811188811187.\n",
      "Trial 232 finished with value: 0.09790209790209792 and parameters: {'alpha': 0.1407535442017994, 'force_alpha': 0, 'fit_prior': 1}. Best is trial 5 with value: 0.11188811188811187.\n"
     ]
    },
    {
     "name": "stderr",
     "output_type": "stream",
     "text": [
      "C:\\Users\\ivanm\\AppData\\Local\\Temp\\ipykernel_5188\\4256399241.py:10: FutureWarning:\n",
      "\n",
      "suggest_loguniform has been deprecated in v3.0.0. This feature will be removed in v6.0.0. See https://github.com/optuna/optuna/releases/tag/v3.0.0. Use suggest_float(..., log=True) instead.\n",
      "\n",
      "c:\\Users\\ivanm\\AppData\\Local\\Programs\\Python\\Python39\\lib\\site-packages\\sklearn\\utils\\_param_validation.py:558: FutureWarning:\n",
      "\n",
      "Passing an int for a boolean parameter is deprecated in version 1.2 and won't be supported anymore in version 1.4.\n",
      "\n",
      "[I 2024-12-23 14:35:46,984] Trial 233 finished with value: 0.09790209790209792 and parameters: {'alpha': 0.0001200700330396445, 'force_alpha': 1, 'fit_prior': 0}. Best is trial 5 with value: 0.11188811188811187.\n"
     ]
    },
    {
     "name": "stdout",
     "output_type": "stream",
     "text": [
      "Trial 233 finished with value: 0.09790209790209792 and parameters: {'alpha': 0.0001200700330396445, 'force_alpha': 1, 'fit_prior': 0}. Best is trial 5 with value: 0.11188811188811187.\n",
      "Trial 233 finished with value: 0.09790209790209792 and parameters: {'alpha': 0.0001200700330396445, 'force_alpha': 1, 'fit_prior': 0}. Best is trial 5 with value: 0.11188811188811187.\n",
      "Trial 233 finished with value: 0.09790209790209792 and parameters: {'alpha': 0.0001200700330396445, 'force_alpha': 1, 'fit_prior': 0}. Best is trial 5 with value: 0.11188811188811187.\n",
      "Trial 233 finished with value: 0.09790209790209792 and parameters: {'alpha': 0.0001200700330396445, 'force_alpha': 1, 'fit_prior': 0}. Best is trial 5 with value: 0.11188811188811187.\n"
     ]
    },
    {
     "name": "stderr",
     "output_type": "stream",
     "text": [
      "C:\\Users\\ivanm\\AppData\\Local\\Temp\\ipykernel_5188\\4256399241.py:10: FutureWarning:\n",
      "\n",
      "suggest_loguniform has been deprecated in v3.0.0. This feature will be removed in v6.0.0. See https://github.com/optuna/optuna/releases/tag/v3.0.0. Use suggest_float(..., log=True) instead.\n",
      "\n",
      "c:\\Users\\ivanm\\AppData\\Local\\Programs\\Python\\Python39\\lib\\site-packages\\sklearn\\utils\\_param_validation.py:558: FutureWarning:\n",
      "\n",
      "Passing an int for a boolean parameter is deprecated in version 1.2 and won't be supported anymore in version 1.4.\n",
      "\n",
      "[I 2024-12-23 14:35:47,091] Trial 234 finished with value: 0.09790209790209792 and parameters: {'alpha': 10.068608179496476, 'force_alpha': 0, 'fit_prior': 0}. Best is trial 5 with value: 0.11188811188811187.\n"
     ]
    },
    {
     "name": "stdout",
     "output_type": "stream",
     "text": [
      "Trial 234 finished with value: 0.09790209790209792 and parameters: {'alpha': 10.068608179496476, 'force_alpha': 0, 'fit_prior': 0}. Best is trial 5 with value: 0.11188811188811187.\n",
      "Trial 234 finished with value: 0.09790209790209792 and parameters: {'alpha': 10.068608179496476, 'force_alpha': 0, 'fit_prior': 0}. Best is trial 5 with value: 0.11188811188811187.\n",
      "Trial 234 finished with value: 0.09790209790209792 and parameters: {'alpha': 10.068608179496476, 'force_alpha': 0, 'fit_prior': 0}. Best is trial 5 with value: 0.11188811188811187.\n",
      "Trial 234 finished with value: 0.09790209790209792 and parameters: {'alpha': 10.068608179496476, 'force_alpha': 0, 'fit_prior': 0}. Best is trial 5 with value: 0.11188811188811187.\n"
     ]
    },
    {
     "name": "stderr",
     "output_type": "stream",
     "text": [
      "C:\\Users\\ivanm\\AppData\\Local\\Temp\\ipykernel_5188\\4256399241.py:10: FutureWarning:\n",
      "\n",
      "suggest_loguniform has been deprecated in v3.0.0. This feature will be removed in v6.0.0. See https://github.com/optuna/optuna/releases/tag/v3.0.0. Use suggest_float(..., log=True) instead.\n",
      "\n",
      "c:\\Users\\ivanm\\AppData\\Local\\Programs\\Python\\Python39\\lib\\site-packages\\sklearn\\utils\\_param_validation.py:558: FutureWarning:\n",
      "\n",
      "Passing an int for a boolean parameter is deprecated in version 1.2 and won't be supported anymore in version 1.4.\n",
      "\n",
      "[I 2024-12-23 14:35:47,202] Trial 235 finished with value: 0.09790209790209792 and parameters: {'alpha': 24.190696743957716, 'force_alpha': 1, 'fit_prior': 1}. Best is trial 5 with value: 0.11188811188811187.\n"
     ]
    },
    {
     "name": "stdout",
     "output_type": "stream",
     "text": [
      "Trial 235 finished with value: 0.09790209790209792 and parameters: {'alpha': 24.190696743957716, 'force_alpha': 1, 'fit_prior': 1}. Best is trial 5 with value: 0.11188811188811187.\n",
      "Trial 235 finished with value: 0.09790209790209792 and parameters: {'alpha': 24.190696743957716, 'force_alpha': 1, 'fit_prior': 1}. Best is trial 5 with value: 0.11188811188811187.\n",
      "Trial 235 finished with value: 0.09790209790209792 and parameters: {'alpha': 24.190696743957716, 'force_alpha': 1, 'fit_prior': 1}. Best is trial 5 with value: 0.11188811188811187.\n",
      "Trial 235 finished with value: 0.09790209790209792 and parameters: {'alpha': 24.190696743957716, 'force_alpha': 1, 'fit_prior': 1}. Best is trial 5 with value: 0.11188811188811187.\n"
     ]
    },
    {
     "name": "stderr",
     "output_type": "stream",
     "text": [
      "C:\\Users\\ivanm\\AppData\\Local\\Temp\\ipykernel_5188\\4256399241.py:10: FutureWarning:\n",
      "\n",
      "suggest_loguniform has been deprecated in v3.0.0. This feature will be removed in v6.0.0. See https://github.com/optuna/optuna/releases/tag/v3.0.0. Use suggest_float(..., log=True) instead.\n",
      "\n",
      "c:\\Users\\ivanm\\AppData\\Local\\Programs\\Python\\Python39\\lib\\site-packages\\sklearn\\utils\\_param_validation.py:558: FutureWarning:\n",
      "\n",
      "Passing an int for a boolean parameter is deprecated in version 1.2 and won't be supported anymore in version 1.4.\n",
      "\n",
      "[I 2024-12-23 14:35:47,218] Trial 236 pruned. \n"
     ]
    },
    {
     "name": "stdout",
     "output_type": "stream",
     "text": [
      "Trial 236 pruned. \n",
      "Trial 236 pruned. \n",
      "Trial 236 pruned. \n",
      "Trial 236 pruned. \n"
     ]
    },
    {
     "name": "stderr",
     "output_type": "stream",
     "text": [
      "C:\\Users\\ivanm\\AppData\\Local\\Temp\\ipykernel_5188\\4256399241.py:10: FutureWarning:\n",
      "\n",
      "suggest_loguniform has been deprecated in v3.0.0. This feature will be removed in v6.0.0. See https://github.com/optuna/optuna/releases/tag/v3.0.0. Use suggest_float(..., log=True) instead.\n",
      "\n",
      "c:\\Users\\ivanm\\AppData\\Local\\Programs\\Python\\Python39\\lib\\site-packages\\sklearn\\utils\\_param_validation.py:558: FutureWarning:\n",
      "\n",
      "Passing an int for a boolean parameter is deprecated in version 1.2 and won't be supported anymore in version 1.4.\n",
      "\n",
      "[I 2024-12-23 14:35:47,324] Trial 237 finished with value: 0.09790209790209792 and parameters: {'alpha': 1.4962606853223563, 'force_alpha': 0, 'fit_prior': 0}. Best is trial 5 with value: 0.11188811188811187.\n"
     ]
    },
    {
     "name": "stdout",
     "output_type": "stream",
     "text": [
      "Trial 237 finished with value: 0.09790209790209792 and parameters: {'alpha': 1.4962606853223563, 'force_alpha': 0, 'fit_prior': 0}. Best is trial 5 with value: 0.11188811188811187.\n",
      "Trial 237 finished with value: 0.09790209790209792 and parameters: {'alpha': 1.4962606853223563, 'force_alpha': 0, 'fit_prior': 0}. Best is trial 5 with value: 0.11188811188811187.\n",
      "Trial 237 finished with value: 0.09790209790209792 and parameters: {'alpha': 1.4962606853223563, 'force_alpha': 0, 'fit_prior': 0}. Best is trial 5 with value: 0.11188811188811187.\n",
      "Trial 237 finished with value: 0.09790209790209792 and parameters: {'alpha': 1.4962606853223563, 'force_alpha': 0, 'fit_prior': 0}. Best is trial 5 with value: 0.11188811188811187.\n"
     ]
    },
    {
     "name": "stderr",
     "output_type": "stream",
     "text": [
      "C:\\Users\\ivanm\\AppData\\Local\\Temp\\ipykernel_5188\\4256399241.py:10: FutureWarning:\n",
      "\n",
      "suggest_loguniform has been deprecated in v3.0.0. This feature will be removed in v6.0.0. See https://github.com/optuna/optuna/releases/tag/v3.0.0. Use suggest_float(..., log=True) instead.\n",
      "\n",
      "c:\\Users\\ivanm\\AppData\\Local\\Programs\\Python\\Python39\\lib\\site-packages\\sklearn\\utils\\_param_validation.py:558: FutureWarning:\n",
      "\n",
      "Passing an int for a boolean parameter is deprecated in version 1.2 and won't be supported anymore in version 1.4.\n",
      "\n",
      "[I 2024-12-23 14:35:47,432] Trial 238 finished with value: 0.09790209790209792 and parameters: {'alpha': 0.03474370296174434, 'force_alpha': 0, 'fit_prior': 0}. Best is trial 5 with value: 0.11188811188811187.\n"
     ]
    },
    {
     "name": "stdout",
     "output_type": "stream",
     "text": [
      "Trial 238 finished with value: 0.09790209790209792 and parameters: {'alpha': 0.03474370296174434, 'force_alpha': 0, 'fit_prior': 0}. Best is trial 5 with value: 0.11188811188811187.\n",
      "Trial 238 finished with value: 0.09790209790209792 and parameters: {'alpha': 0.03474370296174434, 'force_alpha': 0, 'fit_prior': 0}. Best is trial 5 with value: 0.11188811188811187.\n",
      "Trial 238 finished with value: 0.09790209790209792 and parameters: {'alpha': 0.03474370296174434, 'force_alpha': 0, 'fit_prior': 0}. Best is trial 5 with value: 0.11188811188811187.\n",
      "Trial 238 finished with value: 0.09790209790209792 and parameters: {'alpha': 0.03474370296174434, 'force_alpha': 0, 'fit_prior': 0}. Best is trial 5 with value: 0.11188811188811187.\n"
     ]
    },
    {
     "name": "stderr",
     "output_type": "stream",
     "text": [
      "C:\\Users\\ivanm\\AppData\\Local\\Temp\\ipykernel_5188\\4256399241.py:10: FutureWarning:\n",
      "\n",
      "suggest_loguniform has been deprecated in v3.0.0. This feature will be removed in v6.0.0. See https://github.com/optuna/optuna/releases/tag/v3.0.0. Use suggest_float(..., log=True) instead.\n",
      "\n",
      "c:\\Users\\ivanm\\AppData\\Local\\Programs\\Python\\Python39\\lib\\site-packages\\sklearn\\utils\\_param_validation.py:558: FutureWarning:\n",
      "\n",
      "Passing an int for a boolean parameter is deprecated in version 1.2 and won't be supported anymore in version 1.4.\n",
      "\n",
      "[I 2024-12-23 14:35:47,538] Trial 239 finished with value: 0.09790209790209792 and parameters: {'alpha': 0.00013835091923881286, 'force_alpha': 1, 'fit_prior': 0}. Best is trial 5 with value: 0.11188811188811187.\n"
     ]
    },
    {
     "name": "stdout",
     "output_type": "stream",
     "text": [
      "Trial 239 finished with value: 0.09790209790209792 and parameters: {'alpha': 0.00013835091923881286, 'force_alpha': 1, 'fit_prior': 0}. Best is trial 5 with value: 0.11188811188811187.\n",
      "Trial 239 finished with value: 0.09790209790209792 and parameters: {'alpha': 0.00013835091923881286, 'force_alpha': 1, 'fit_prior': 0}. Best is trial 5 with value: 0.11188811188811187.\n",
      "Trial 239 finished with value: 0.09790209790209792 and parameters: {'alpha': 0.00013835091923881286, 'force_alpha': 1, 'fit_prior': 0}. Best is trial 5 with value: 0.11188811188811187.\n",
      "Trial 239 finished with value: 0.09790209790209792 and parameters: {'alpha': 0.00013835091923881286, 'force_alpha': 1, 'fit_prior': 0}. Best is trial 5 with value: 0.11188811188811187.\n"
     ]
    },
    {
     "name": "stderr",
     "output_type": "stream",
     "text": [
      "C:\\Users\\ivanm\\AppData\\Local\\Temp\\ipykernel_5188\\4256399241.py:10: FutureWarning:\n",
      "\n",
      "suggest_loguniform has been deprecated in v3.0.0. This feature will be removed in v6.0.0. See https://github.com/optuna/optuna/releases/tag/v3.0.0. Use suggest_float(..., log=True) instead.\n",
      "\n",
      "c:\\Users\\ivanm\\AppData\\Local\\Programs\\Python\\Python39\\lib\\site-packages\\sklearn\\utils\\_param_validation.py:558: FutureWarning:\n",
      "\n",
      "Passing an int for a boolean parameter is deprecated in version 1.2 and won't be supported anymore in version 1.4.\n",
      "\n",
      "[I 2024-12-23 14:35:47,666] Trial 240 finished with value: 0.09790209790209792 and parameters: {'alpha': 142.67447081260715, 'force_alpha': 0, 'fit_prior': 0}. Best is trial 5 with value: 0.11188811188811187.\n"
     ]
    },
    {
     "name": "stdout",
     "output_type": "stream",
     "text": [
      "Trial 240 finished with value: 0.09790209790209792 and parameters: {'alpha': 142.67447081260715, 'force_alpha': 0, 'fit_prior': 0}. Best is trial 5 with value: 0.11188811188811187.\n",
      "Trial 240 finished with value: 0.09790209790209792 and parameters: {'alpha': 142.67447081260715, 'force_alpha': 0, 'fit_prior': 0}. Best is trial 5 with value: 0.11188811188811187.\n",
      "Trial 240 finished with value: 0.09790209790209792 and parameters: {'alpha': 142.67447081260715, 'force_alpha': 0, 'fit_prior': 0}. Best is trial 5 with value: 0.11188811188811187.\n",
      "Trial 240 finished with value: 0.09790209790209792 and parameters: {'alpha': 142.67447081260715, 'force_alpha': 0, 'fit_prior': 0}. Best is trial 5 with value: 0.11188811188811187.\n"
     ]
    },
    {
     "name": "stderr",
     "output_type": "stream",
     "text": [
      "C:\\Users\\ivanm\\AppData\\Local\\Temp\\ipykernel_5188\\4256399241.py:10: FutureWarning:\n",
      "\n",
      "suggest_loguniform has been deprecated in v3.0.0. This feature will be removed in v6.0.0. See https://github.com/optuna/optuna/releases/tag/v3.0.0. Use suggest_float(..., log=True) instead.\n",
      "\n",
      "c:\\Users\\ivanm\\AppData\\Local\\Programs\\Python\\Python39\\lib\\site-packages\\sklearn\\utils\\_param_validation.py:558: FutureWarning:\n",
      "\n",
      "Passing an int for a boolean parameter is deprecated in version 1.2 and won't be supported anymore in version 1.4.\n",
      "\n",
      "[I 2024-12-23 14:35:47,773] Trial 241 finished with value: 0.09790209790209792 and parameters: {'alpha': 0.21077871612311186, 'force_alpha': 1, 'fit_prior': 1}. Best is trial 5 with value: 0.11188811188811187.\n"
     ]
    },
    {
     "name": "stdout",
     "output_type": "stream",
     "text": [
      "Trial 241 finished with value: 0.09790209790209792 and parameters: {'alpha': 0.21077871612311186, 'force_alpha': 1, 'fit_prior': 1}. Best is trial 5 with value: 0.11188811188811187.\n",
      "Trial 241 finished with value: 0.09790209790209792 and parameters: {'alpha': 0.21077871612311186, 'force_alpha': 1, 'fit_prior': 1}. Best is trial 5 with value: 0.11188811188811187.\n",
      "Trial 241 finished with value: 0.09790209790209792 and parameters: {'alpha': 0.21077871612311186, 'force_alpha': 1, 'fit_prior': 1}. Best is trial 5 with value: 0.11188811188811187.\n",
      "Trial 241 finished with value: 0.09790209790209792 and parameters: {'alpha': 0.21077871612311186, 'force_alpha': 1, 'fit_prior': 1}. Best is trial 5 with value: 0.11188811188811187.\n"
     ]
    },
    {
     "name": "stderr",
     "output_type": "stream",
     "text": [
      "C:\\Users\\ivanm\\AppData\\Local\\Temp\\ipykernel_5188\\4256399241.py:10: FutureWarning:\n",
      "\n",
      "suggest_loguniform has been deprecated in v3.0.0. This feature will be removed in v6.0.0. See https://github.com/optuna/optuna/releases/tag/v3.0.0. Use suggest_float(..., log=True) instead.\n",
      "\n",
      "c:\\Users\\ivanm\\AppData\\Local\\Programs\\Python\\Python39\\lib\\site-packages\\sklearn\\utils\\_param_validation.py:558: FutureWarning:\n",
      "\n",
      "Passing an int for a boolean parameter is deprecated in version 1.2 and won't be supported anymore in version 1.4.\n",
      "\n",
      "[I 2024-12-23 14:35:47,880] Trial 242 finished with value: 0.09790209790209792 and parameters: {'alpha': 0.5474265834896013, 'force_alpha': 0, 'fit_prior': 1}. Best is trial 5 with value: 0.11188811188811187.\n"
     ]
    },
    {
     "name": "stdout",
     "output_type": "stream",
     "text": [
      "Trial 242 finished with value: 0.09790209790209792 and parameters: {'alpha': 0.5474265834896013, 'force_alpha': 0, 'fit_prior': 1}. Best is trial 5 with value: 0.11188811188811187.\n",
      "Trial 242 finished with value: 0.09790209790209792 and parameters: {'alpha': 0.5474265834896013, 'force_alpha': 0, 'fit_prior': 1}. Best is trial 5 with value: 0.11188811188811187.\n",
      "Trial 242 finished with value: 0.09790209790209792 and parameters: {'alpha': 0.5474265834896013, 'force_alpha': 0, 'fit_prior': 1}. Best is trial 5 with value: 0.11188811188811187.\n",
      "Trial 242 finished with value: 0.09790209790209792 and parameters: {'alpha': 0.5474265834896013, 'force_alpha': 0, 'fit_prior': 1}. Best is trial 5 with value: 0.11188811188811187.\n"
     ]
    },
    {
     "name": "stderr",
     "output_type": "stream",
     "text": [
      "C:\\Users\\ivanm\\AppData\\Local\\Temp\\ipykernel_5188\\4256399241.py:10: FutureWarning:\n",
      "\n",
      "suggest_loguniform has been deprecated in v3.0.0. This feature will be removed in v6.0.0. See https://github.com/optuna/optuna/releases/tag/v3.0.0. Use suggest_float(..., log=True) instead.\n",
      "\n",
      "c:\\Users\\ivanm\\AppData\\Local\\Programs\\Python\\Python39\\lib\\site-packages\\sklearn\\utils\\_param_validation.py:558: FutureWarning:\n",
      "\n",
      "Passing an int for a boolean parameter is deprecated in version 1.2 and won't be supported anymore in version 1.4.\n",
      "\n",
      "[I 2024-12-23 14:35:47,987] Trial 243 finished with value: 0.09790209790209792 and parameters: {'alpha': 0.010283119082581635, 'force_alpha': 1, 'fit_prior': 0}. Best is trial 5 with value: 0.11188811188811187.\n"
     ]
    },
    {
     "name": "stdout",
     "output_type": "stream",
     "text": [
      "Trial 243 finished with value: 0.09790209790209792 and parameters: {'alpha': 0.010283119082581635, 'force_alpha': 1, 'fit_prior': 0}. Best is trial 5 with value: 0.11188811188811187.\n",
      "Trial 243 finished with value: 0.09790209790209792 and parameters: {'alpha': 0.010283119082581635, 'force_alpha': 1, 'fit_prior': 0}. Best is trial 5 with value: 0.11188811188811187.\n",
      "Trial 243 finished with value: 0.09790209790209792 and parameters: {'alpha': 0.010283119082581635, 'force_alpha': 1, 'fit_prior': 0}. Best is trial 5 with value: 0.11188811188811187.\n",
      "Trial 243 finished with value: 0.09790209790209792 and parameters: {'alpha': 0.010283119082581635, 'force_alpha': 1, 'fit_prior': 0}. Best is trial 5 with value: 0.11188811188811187.\n"
     ]
    },
    {
     "name": "stderr",
     "output_type": "stream",
     "text": [
      "C:\\Users\\ivanm\\AppData\\Local\\Temp\\ipykernel_5188\\4256399241.py:10: FutureWarning:\n",
      "\n",
      "suggest_loguniform has been deprecated in v3.0.0. This feature will be removed in v6.0.0. See https://github.com/optuna/optuna/releases/tag/v3.0.0. Use suggest_float(..., log=True) instead.\n",
      "\n",
      "c:\\Users\\ivanm\\AppData\\Local\\Programs\\Python\\Python39\\lib\\site-packages\\sklearn\\utils\\_param_validation.py:558: FutureWarning:\n",
      "\n",
      "Passing an int for a boolean parameter is deprecated in version 1.2 and won't be supported anymore in version 1.4.\n",
      "\n",
      "[I 2024-12-23 14:35:48,093] Trial 244 finished with value: 0.09790209790209792 and parameters: {'alpha': 616.0917829234659, 'force_alpha': 0, 'fit_prior': 0}. Best is trial 5 with value: 0.11188811188811187.\n"
     ]
    },
    {
     "name": "stdout",
     "output_type": "stream",
     "text": [
      "Trial 244 finished with value: 0.09790209790209792 and parameters: {'alpha': 616.0917829234659, 'force_alpha': 0, 'fit_prior': 0}. Best is trial 5 with value: 0.11188811188811187.\n",
      "Trial 244 finished with value: 0.09790209790209792 and parameters: {'alpha': 616.0917829234659, 'force_alpha': 0, 'fit_prior': 0}. Best is trial 5 with value: 0.11188811188811187.\n",
      "Trial 244 finished with value: 0.09790209790209792 and parameters: {'alpha': 616.0917829234659, 'force_alpha': 0, 'fit_prior': 0}. Best is trial 5 with value: 0.11188811188811187.\n",
      "Trial 244 finished with value: 0.09790209790209792 and parameters: {'alpha': 616.0917829234659, 'force_alpha': 0, 'fit_prior': 0}. Best is trial 5 with value: 0.11188811188811187.\n"
     ]
    },
    {
     "name": "stderr",
     "output_type": "stream",
     "text": [
      "C:\\Users\\ivanm\\AppData\\Local\\Temp\\ipykernel_5188\\4256399241.py:10: FutureWarning:\n",
      "\n",
      "suggest_loguniform has been deprecated in v3.0.0. This feature will be removed in v6.0.0. See https://github.com/optuna/optuna/releases/tag/v3.0.0. Use suggest_float(..., log=True) instead.\n",
      "\n",
      "c:\\Users\\ivanm\\AppData\\Local\\Programs\\Python\\Python39\\lib\\site-packages\\sklearn\\utils\\_param_validation.py:558: FutureWarning:\n",
      "\n",
      "Passing an int for a boolean parameter is deprecated in version 1.2 and won't be supported anymore in version 1.4.\n",
      "\n",
      "[I 2024-12-23 14:35:48,207] Trial 245 finished with value: 0.09790209790209792 and parameters: {'alpha': 0.6600127688412382, 'force_alpha': 0, 'fit_prior': 1}. Best is trial 5 with value: 0.11188811188811187.\n"
     ]
    },
    {
     "name": "stdout",
     "output_type": "stream",
     "text": [
      "Trial 245 finished with value: 0.09790209790209792 and parameters: {'alpha': 0.6600127688412382, 'force_alpha': 0, 'fit_prior': 1}. Best is trial 5 with value: 0.11188811188811187.\n",
      "Trial 245 finished with value: 0.09790209790209792 and parameters: {'alpha': 0.6600127688412382, 'force_alpha': 0, 'fit_prior': 1}. Best is trial 5 with value: 0.11188811188811187.\n",
      "Trial 245 finished with value: 0.09790209790209792 and parameters: {'alpha': 0.6600127688412382, 'force_alpha': 0, 'fit_prior': 1}. Best is trial 5 with value: 0.11188811188811187.\n",
      "Trial 245 finished with value: 0.09790209790209792 and parameters: {'alpha': 0.6600127688412382, 'force_alpha': 0, 'fit_prior': 1}. Best is trial 5 with value: 0.11188811188811187.\n"
     ]
    },
    {
     "name": "stderr",
     "output_type": "stream",
     "text": [
      "C:\\Users\\ivanm\\AppData\\Local\\Temp\\ipykernel_5188\\4256399241.py:10: FutureWarning:\n",
      "\n",
      "suggest_loguniform has been deprecated in v3.0.0. This feature will be removed in v6.0.0. See https://github.com/optuna/optuna/releases/tag/v3.0.0. Use suggest_float(..., log=True) instead.\n",
      "\n",
      "c:\\Users\\ivanm\\AppData\\Local\\Programs\\Python\\Python39\\lib\\site-packages\\sklearn\\utils\\_param_validation.py:558: FutureWarning:\n",
      "\n",
      "Passing an int for a boolean parameter is deprecated in version 1.2 and won't be supported anymore in version 1.4.\n",
      "\n",
      "[I 2024-12-23 14:35:48,315] Trial 246 finished with value: 0.09790209790209792 and parameters: {'alpha': 0.554234540682833, 'force_alpha': 0, 'fit_prior': 0}. Best is trial 5 with value: 0.11188811188811187.\n"
     ]
    },
    {
     "name": "stdout",
     "output_type": "stream",
     "text": [
      "Trial 246 finished with value: 0.09790209790209792 and parameters: {'alpha': 0.554234540682833, 'force_alpha': 0, 'fit_prior': 0}. Best is trial 5 with value: 0.11188811188811187.\n",
      "Trial 246 finished with value: 0.09790209790209792 and parameters: {'alpha': 0.554234540682833, 'force_alpha': 0, 'fit_prior': 0}. Best is trial 5 with value: 0.11188811188811187.\n",
      "Trial 246 finished with value: 0.09790209790209792 and parameters: {'alpha': 0.554234540682833, 'force_alpha': 0, 'fit_prior': 0}. Best is trial 5 with value: 0.11188811188811187.\n",
      "Trial 246 finished with value: 0.09790209790209792 and parameters: {'alpha': 0.554234540682833, 'force_alpha': 0, 'fit_prior': 0}. Best is trial 5 with value: 0.11188811188811187.\n"
     ]
    },
    {
     "name": "stderr",
     "output_type": "stream",
     "text": [
      "C:\\Users\\ivanm\\AppData\\Local\\Temp\\ipykernel_5188\\4256399241.py:10: FutureWarning:\n",
      "\n",
      "suggest_loguniform has been deprecated in v3.0.0. This feature will be removed in v6.0.0. See https://github.com/optuna/optuna/releases/tag/v3.0.0. Use suggest_float(..., log=True) instead.\n",
      "\n",
      "c:\\Users\\ivanm\\AppData\\Local\\Programs\\Python\\Python39\\lib\\site-packages\\sklearn\\utils\\_param_validation.py:558: FutureWarning:\n",
      "\n",
      "Passing an int for a boolean parameter is deprecated in version 1.2 and won't be supported anymore in version 1.4.\n",
      "\n",
      "[I 2024-12-23 14:35:48,422] Trial 247 finished with value: 0.09790209790209792 and parameters: {'alpha': 0.004319007609834264, 'force_alpha': 1, 'fit_prior': 1}. Best is trial 5 with value: 0.11188811188811187.\n"
     ]
    },
    {
     "name": "stdout",
     "output_type": "stream",
     "text": [
      "Trial 247 finished with value: 0.09790209790209792 and parameters: {'alpha': 0.004319007609834264, 'force_alpha': 1, 'fit_prior': 1}. Best is trial 5 with value: 0.11188811188811187.\n",
      "Trial 247 finished with value: 0.09790209790209792 and parameters: {'alpha': 0.004319007609834264, 'force_alpha': 1, 'fit_prior': 1}. Best is trial 5 with value: 0.11188811188811187.\n",
      "Trial 247 finished with value: 0.09790209790209792 and parameters: {'alpha': 0.004319007609834264, 'force_alpha': 1, 'fit_prior': 1}. Best is trial 5 with value: 0.11188811188811187.\n",
      "Trial 247 finished with value: 0.09790209790209792 and parameters: {'alpha': 0.004319007609834264, 'force_alpha': 1, 'fit_prior': 1}. Best is trial 5 with value: 0.11188811188811187.\n"
     ]
    },
    {
     "name": "stderr",
     "output_type": "stream",
     "text": [
      "C:\\Users\\ivanm\\AppData\\Local\\Temp\\ipykernel_5188\\4256399241.py:10: FutureWarning:\n",
      "\n",
      "suggest_loguniform has been deprecated in v3.0.0. This feature will be removed in v6.0.0. See https://github.com/optuna/optuna/releases/tag/v3.0.0. Use suggest_float(..., log=True) instead.\n",
      "\n",
      "c:\\Users\\ivanm\\AppData\\Local\\Programs\\Python\\Python39\\lib\\site-packages\\sklearn\\utils\\_param_validation.py:558: FutureWarning:\n",
      "\n",
      "Passing an int for a boolean parameter is deprecated in version 1.2 and won't be supported anymore in version 1.4.\n",
      "\n",
      "[I 2024-12-23 14:35:48,457] Trial 248 pruned. \n"
     ]
    },
    {
     "name": "stdout",
     "output_type": "stream",
     "text": [
      "Trial 248 pruned. \n",
      "Trial 248 pruned. \n",
      "Trial 248 pruned. \n",
      "Trial 248 pruned. \n"
     ]
    },
    {
     "name": "stderr",
     "output_type": "stream",
     "text": [
      "C:\\Users\\ivanm\\AppData\\Local\\Temp\\ipykernel_5188\\4256399241.py:10: FutureWarning:\n",
      "\n",
      "suggest_loguniform has been deprecated in v3.0.0. This feature will be removed in v6.0.0. See https://github.com/optuna/optuna/releases/tag/v3.0.0. Use suggest_float(..., log=True) instead.\n",
      "\n",
      "c:\\Users\\ivanm\\AppData\\Local\\Programs\\Python\\Python39\\lib\\site-packages\\sklearn\\utils\\_param_validation.py:558: FutureWarning:\n",
      "\n",
      "Passing an int for a boolean parameter is deprecated in version 1.2 and won't be supported anymore in version 1.4.\n",
      "\n",
      "[I 2024-12-23 14:35:48,566] Trial 249 finished with value: 0.09790209790209792 and parameters: {'alpha': 0.0002807781763243697, 'force_alpha': 1, 'fit_prior': 1}. Best is trial 5 with value: 0.11188811188811187.\n"
     ]
    },
    {
     "name": "stdout",
     "output_type": "stream",
     "text": [
      "Trial 249 finished with value: 0.09790209790209792 and parameters: {'alpha': 0.0002807781763243697, 'force_alpha': 1, 'fit_prior': 1}. Best is trial 5 with value: 0.11188811188811187.\n",
      "Trial 249 finished with value: 0.09790209790209792 and parameters: {'alpha': 0.0002807781763243697, 'force_alpha': 1, 'fit_prior': 1}. Best is trial 5 with value: 0.11188811188811187.\n",
      "Trial 249 finished with value: 0.09790209790209792 and parameters: {'alpha': 0.0002807781763243697, 'force_alpha': 1, 'fit_prior': 1}. Best is trial 5 with value: 0.11188811188811187.\n",
      "Trial 249 finished with value: 0.09790209790209792 and parameters: {'alpha': 0.0002807781763243697, 'force_alpha': 1, 'fit_prior': 1}. Best is trial 5 with value: 0.11188811188811187.\n"
     ]
    },
    {
     "name": "stderr",
     "output_type": "stream",
     "text": [
      "C:\\Users\\ivanm\\AppData\\Local\\Temp\\ipykernel_5188\\4256399241.py:10: FutureWarning:\n",
      "\n",
      "suggest_loguniform has been deprecated in v3.0.0. This feature will be removed in v6.0.0. See https://github.com/optuna/optuna/releases/tag/v3.0.0. Use suggest_float(..., log=True) instead.\n",
      "\n",
      "c:\\Users\\ivanm\\AppData\\Local\\Programs\\Python\\Python39\\lib\\site-packages\\sklearn\\utils\\_param_validation.py:558: FutureWarning:\n",
      "\n",
      "Passing an int for a boolean parameter is deprecated in version 1.2 and won't be supported anymore in version 1.4.\n",
      "\n",
      "[I 2024-12-23 14:35:48,677] Trial 250 finished with value: 0.09790209790209792 and parameters: {'alpha': 0.0001537579668767742, 'force_alpha': 0, 'fit_prior': 1}. Best is trial 5 with value: 0.11188811188811187.\n"
     ]
    },
    {
     "name": "stdout",
     "output_type": "stream",
     "text": [
      "Trial 250 finished with value: 0.09790209790209792 and parameters: {'alpha': 0.0001537579668767742, 'force_alpha': 0, 'fit_prior': 1}. Best is trial 5 with value: 0.11188811188811187.\n",
      "Trial 250 finished with value: 0.09790209790209792 and parameters: {'alpha': 0.0001537579668767742, 'force_alpha': 0, 'fit_prior': 1}. Best is trial 5 with value: 0.11188811188811187.\n",
      "Trial 250 finished with value: 0.09790209790209792 and parameters: {'alpha': 0.0001537579668767742, 'force_alpha': 0, 'fit_prior': 1}. Best is trial 5 with value: 0.11188811188811187.\n",
      "Trial 250 finished with value: 0.09790209790209792 and parameters: {'alpha': 0.0001537579668767742, 'force_alpha': 0, 'fit_prior': 1}. Best is trial 5 with value: 0.11188811188811187.\n"
     ]
    },
    {
     "name": "stderr",
     "output_type": "stream",
     "text": [
      "C:\\Users\\ivanm\\AppData\\Local\\Temp\\ipykernel_5188\\4256399241.py:10: FutureWarning:\n",
      "\n",
      "suggest_loguniform has been deprecated in v3.0.0. This feature will be removed in v6.0.0. See https://github.com/optuna/optuna/releases/tag/v3.0.0. Use suggest_float(..., log=True) instead.\n",
      "\n",
      "c:\\Users\\ivanm\\AppData\\Local\\Programs\\Python\\Python39\\lib\\site-packages\\sklearn\\utils\\_param_validation.py:558: FutureWarning:\n",
      "\n",
      "Passing an int for a boolean parameter is deprecated in version 1.2 and won't be supported anymore in version 1.4.\n",
      "\n",
      "[I 2024-12-23 14:35:48,783] Trial 251 finished with value: 0.09790209790209792 and parameters: {'alpha': 0.0489343828888102, 'force_alpha': 1, 'fit_prior': 1}. Best is trial 5 with value: 0.11188811188811187.\n"
     ]
    },
    {
     "name": "stdout",
     "output_type": "stream",
     "text": [
      "Trial 251 finished with value: 0.09790209790209792 and parameters: {'alpha': 0.0489343828888102, 'force_alpha': 1, 'fit_prior': 1}. Best is trial 5 with value: 0.11188811188811187.\n",
      "Trial 251 finished with value: 0.09790209790209792 and parameters: {'alpha': 0.0489343828888102, 'force_alpha': 1, 'fit_prior': 1}. Best is trial 5 with value: 0.11188811188811187.\n",
      "Trial 251 finished with value: 0.09790209790209792 and parameters: {'alpha': 0.0489343828888102, 'force_alpha': 1, 'fit_prior': 1}. Best is trial 5 with value: 0.11188811188811187.\n",
      "Trial 251 finished with value: 0.09790209790209792 and parameters: {'alpha': 0.0489343828888102, 'force_alpha': 1, 'fit_prior': 1}. Best is trial 5 with value: 0.11188811188811187.\n"
     ]
    },
    {
     "name": "stderr",
     "output_type": "stream",
     "text": [
      "C:\\Users\\ivanm\\AppData\\Local\\Temp\\ipykernel_5188\\4256399241.py:10: FutureWarning:\n",
      "\n",
      "suggest_loguniform has been deprecated in v3.0.0. This feature will be removed in v6.0.0. See https://github.com/optuna/optuna/releases/tag/v3.0.0. Use suggest_float(..., log=True) instead.\n",
      "\n",
      "c:\\Users\\ivanm\\AppData\\Local\\Programs\\Python\\Python39\\lib\\site-packages\\sklearn\\utils\\_param_validation.py:558: FutureWarning:\n",
      "\n",
      "Passing an int for a boolean parameter is deprecated in version 1.2 and won't be supported anymore in version 1.4.\n",
      "\n",
      "[I 2024-12-23 14:35:48,893] Trial 252 finished with value: 0.09790209790209792 and parameters: {'alpha': 0.0007728333886635712, 'force_alpha': 1, 'fit_prior': 1}. Best is trial 5 with value: 0.11188811188811187.\n"
     ]
    },
    {
     "name": "stdout",
     "output_type": "stream",
     "text": [
      "Trial 252 finished with value: 0.09790209790209792 and parameters: {'alpha': 0.0007728333886635712, 'force_alpha': 1, 'fit_prior': 1}. Best is trial 5 with value: 0.11188811188811187.\n",
      "Trial 252 finished with value: 0.09790209790209792 and parameters: {'alpha': 0.0007728333886635712, 'force_alpha': 1, 'fit_prior': 1}. Best is trial 5 with value: 0.11188811188811187.\n",
      "Trial 252 finished with value: 0.09790209790209792 and parameters: {'alpha': 0.0007728333886635712, 'force_alpha': 1, 'fit_prior': 1}. Best is trial 5 with value: 0.11188811188811187.\n",
      "Trial 252 finished with value: 0.09790209790209792 and parameters: {'alpha': 0.0007728333886635712, 'force_alpha': 1, 'fit_prior': 1}. Best is trial 5 with value: 0.11188811188811187.\n"
     ]
    },
    {
     "name": "stderr",
     "output_type": "stream",
     "text": [
      "C:\\Users\\ivanm\\AppData\\Local\\Temp\\ipykernel_5188\\4256399241.py:10: FutureWarning:\n",
      "\n",
      "suggest_loguniform has been deprecated in v3.0.0. This feature will be removed in v6.0.0. See https://github.com/optuna/optuna/releases/tag/v3.0.0. Use suggest_float(..., log=True) instead.\n",
      "\n",
      "c:\\Users\\ivanm\\AppData\\Local\\Programs\\Python\\Python39\\lib\\site-packages\\sklearn\\utils\\_param_validation.py:558: FutureWarning:\n",
      "\n",
      "Passing an int for a boolean parameter is deprecated in version 1.2 and won't be supported anymore in version 1.4.\n",
      "\n",
      "[I 2024-12-23 14:35:49,000] Trial 253 finished with value: 0.09790209790209792 and parameters: {'alpha': 2.942781315387838, 'force_alpha': 0, 'fit_prior': 1}. Best is trial 5 with value: 0.11188811188811187.\n"
     ]
    },
    {
     "name": "stdout",
     "output_type": "stream",
     "text": [
      "Trial 253 finished with value: 0.09790209790209792 and parameters: {'alpha': 2.942781315387838, 'force_alpha': 0, 'fit_prior': 1}. Best is trial 5 with value: 0.11188811188811187.\n",
      "Trial 253 finished with value: 0.09790209790209792 and parameters: {'alpha': 2.942781315387838, 'force_alpha': 0, 'fit_prior': 1}. Best is trial 5 with value: 0.11188811188811187.\n",
      "Trial 253 finished with value: 0.09790209790209792 and parameters: {'alpha': 2.942781315387838, 'force_alpha': 0, 'fit_prior': 1}. Best is trial 5 with value: 0.11188811188811187.\n",
      "Trial 253 finished with value: 0.09790209790209792 and parameters: {'alpha': 2.942781315387838, 'force_alpha': 0, 'fit_prior': 1}. Best is trial 5 with value: 0.11188811188811187.\n"
     ]
    },
    {
     "name": "stderr",
     "output_type": "stream",
     "text": [
      "C:\\Users\\ivanm\\AppData\\Local\\Temp\\ipykernel_5188\\4256399241.py:10: FutureWarning:\n",
      "\n",
      "suggest_loguniform has been deprecated in v3.0.0. This feature will be removed in v6.0.0. See https://github.com/optuna/optuna/releases/tag/v3.0.0. Use suggest_float(..., log=True) instead.\n",
      "\n",
      "c:\\Users\\ivanm\\AppData\\Local\\Programs\\Python\\Python39\\lib\\site-packages\\sklearn\\utils\\_param_validation.py:558: FutureWarning:\n",
      "\n",
      "Passing an int for a boolean parameter is deprecated in version 1.2 and won't be supported anymore in version 1.4.\n",
      "\n",
      "[I 2024-12-23 14:35:49,110] Trial 254 finished with value: 0.09790209790209792 and parameters: {'alpha': 1.06332800725847, 'force_alpha': 0, 'fit_prior': 1}. Best is trial 5 with value: 0.11188811188811187.\n"
     ]
    },
    {
     "name": "stdout",
     "output_type": "stream",
     "text": [
      "Trial 254 finished with value: 0.09790209790209792 and parameters: {'alpha': 1.06332800725847, 'force_alpha': 0, 'fit_prior': 1}. Best is trial 5 with value: 0.11188811188811187.\n",
      "Trial 254 finished with value: 0.09790209790209792 and parameters: {'alpha': 1.06332800725847, 'force_alpha': 0, 'fit_prior': 1}. Best is trial 5 with value: 0.11188811188811187.\n",
      "Trial 254 finished with value: 0.09790209790209792 and parameters: {'alpha': 1.06332800725847, 'force_alpha': 0, 'fit_prior': 1}. Best is trial 5 with value: 0.11188811188811187.\n",
      "Trial 254 finished with value: 0.09790209790209792 and parameters: {'alpha': 1.06332800725847, 'force_alpha': 0, 'fit_prior': 1}. Best is trial 5 with value: 0.11188811188811187.\n"
     ]
    },
    {
     "name": "stderr",
     "output_type": "stream",
     "text": [
      "C:\\Users\\ivanm\\AppData\\Local\\Temp\\ipykernel_5188\\4256399241.py:10: FutureWarning:\n",
      "\n",
      "suggest_loguniform has been deprecated in v3.0.0. This feature will be removed in v6.0.0. See https://github.com/optuna/optuna/releases/tag/v3.0.0. Use suggest_float(..., log=True) instead.\n",
      "\n",
      "c:\\Users\\ivanm\\AppData\\Local\\Programs\\Python\\Python39\\lib\\site-packages\\sklearn\\utils\\_param_validation.py:558: FutureWarning:\n",
      "\n",
      "Passing an int for a boolean parameter is deprecated in version 1.2 and won't be supported anymore in version 1.4.\n",
      "\n",
      "[I 2024-12-23 14:35:49,220] Trial 255 finished with value: 0.09790209790209792 and parameters: {'alpha': 18.982984237958764, 'force_alpha': 1, 'fit_prior': 0}. Best is trial 5 with value: 0.11188811188811187.\n"
     ]
    },
    {
     "name": "stdout",
     "output_type": "stream",
     "text": [
      "Trial 255 finished with value: 0.09790209790209792 and parameters: {'alpha': 18.982984237958764, 'force_alpha': 1, 'fit_prior': 0}. Best is trial 5 with value: 0.11188811188811187.\n",
      "Trial 255 finished with value: 0.09790209790209792 and parameters: {'alpha': 18.982984237958764, 'force_alpha': 1, 'fit_prior': 0}. Best is trial 5 with value: 0.11188811188811187.\n",
      "Trial 255 finished with value: 0.09790209790209792 and parameters: {'alpha': 18.982984237958764, 'force_alpha': 1, 'fit_prior': 0}. Best is trial 5 with value: 0.11188811188811187.\n",
      "Trial 255 finished with value: 0.09790209790209792 and parameters: {'alpha': 18.982984237958764, 'force_alpha': 1, 'fit_prior': 0}. Best is trial 5 with value: 0.11188811188811187.\n"
     ]
    },
    {
     "name": "stderr",
     "output_type": "stream",
     "text": [
      "C:\\Users\\ivanm\\AppData\\Local\\Temp\\ipykernel_5188\\4256399241.py:10: FutureWarning:\n",
      "\n",
      "suggest_loguniform has been deprecated in v3.0.0. This feature will be removed in v6.0.0. See https://github.com/optuna/optuna/releases/tag/v3.0.0. Use suggest_float(..., log=True) instead.\n",
      "\n",
      "c:\\Users\\ivanm\\AppData\\Local\\Programs\\Python\\Python39\\lib\\site-packages\\sklearn\\utils\\_param_validation.py:558: FutureWarning:\n",
      "\n",
      "Passing an int for a boolean parameter is deprecated in version 1.2 and won't be supported anymore in version 1.4.\n",
      "\n",
      "[I 2024-12-23 14:35:49,326] Trial 256 finished with value: 0.09790209790209792 and parameters: {'alpha': 235.53842126305037, 'force_alpha': 1, 'fit_prior': 1}. Best is trial 5 with value: 0.11188811188811187.\n"
     ]
    },
    {
     "name": "stdout",
     "output_type": "stream",
     "text": [
      "Trial 256 finished with value: 0.09790209790209792 and parameters: {'alpha': 235.53842126305037, 'force_alpha': 1, 'fit_prior': 1}. Best is trial 5 with value: 0.11188811188811187.\n",
      "Trial 256 finished with value: 0.09790209790209792 and parameters: {'alpha': 235.53842126305037, 'force_alpha': 1, 'fit_prior': 1}. Best is trial 5 with value: 0.11188811188811187.\n",
      "Trial 256 finished with value: 0.09790209790209792 and parameters: {'alpha': 235.53842126305037, 'force_alpha': 1, 'fit_prior': 1}. Best is trial 5 with value: 0.11188811188811187.\n",
      "Trial 256 finished with value: 0.09790209790209792 and parameters: {'alpha': 235.53842126305037, 'force_alpha': 1, 'fit_prior': 1}. Best is trial 5 with value: 0.11188811188811187.\n"
     ]
    },
    {
     "name": "stderr",
     "output_type": "stream",
     "text": [
      "C:\\Users\\ivanm\\AppData\\Local\\Temp\\ipykernel_5188\\4256399241.py:10: FutureWarning:\n",
      "\n",
      "suggest_loguniform has been deprecated in v3.0.0. This feature will be removed in v6.0.0. See https://github.com/optuna/optuna/releases/tag/v3.0.0. Use suggest_float(..., log=True) instead.\n",
      "\n",
      "c:\\Users\\ivanm\\AppData\\Local\\Programs\\Python\\Python39\\lib\\site-packages\\sklearn\\utils\\_param_validation.py:558: FutureWarning:\n",
      "\n",
      "Passing an int for a boolean parameter is deprecated in version 1.2 and won't be supported anymore in version 1.4.\n",
      "\n",
      "[I 2024-12-23 14:35:49,434] Trial 257 finished with value: 0.09790209790209792 and parameters: {'alpha': 0.007200048140138456, 'force_alpha': 1, 'fit_prior': 1}. Best is trial 5 with value: 0.11188811188811187.\n"
     ]
    },
    {
     "name": "stdout",
     "output_type": "stream",
     "text": [
      "Trial 257 finished with value: 0.09790209790209792 and parameters: {'alpha': 0.007200048140138456, 'force_alpha': 1, 'fit_prior': 1}. Best is trial 5 with value: 0.11188811188811187.\n",
      "Trial 257 finished with value: 0.09790209790209792 and parameters: {'alpha': 0.007200048140138456, 'force_alpha': 1, 'fit_prior': 1}. Best is trial 5 with value: 0.11188811188811187.\n",
      "Trial 257 finished with value: 0.09790209790209792 and parameters: {'alpha': 0.007200048140138456, 'force_alpha': 1, 'fit_prior': 1}. Best is trial 5 with value: 0.11188811188811187.\n",
      "Trial 257 finished with value: 0.09790209790209792 and parameters: {'alpha': 0.007200048140138456, 'force_alpha': 1, 'fit_prior': 1}. Best is trial 5 with value: 0.11188811188811187.\n"
     ]
    },
    {
     "name": "stderr",
     "output_type": "stream",
     "text": [
      "C:\\Users\\ivanm\\AppData\\Local\\Temp\\ipykernel_5188\\4256399241.py:10: FutureWarning:\n",
      "\n",
      "suggest_loguniform has been deprecated in v3.0.0. This feature will be removed in v6.0.0. See https://github.com/optuna/optuna/releases/tag/v3.0.0. Use suggest_float(..., log=True) instead.\n",
      "\n",
      "c:\\Users\\ivanm\\AppData\\Local\\Programs\\Python\\Python39\\lib\\site-packages\\sklearn\\utils\\_param_validation.py:558: FutureWarning:\n",
      "\n",
      "Passing an int for a boolean parameter is deprecated in version 1.2 and won't be supported anymore in version 1.4.\n",
      "\n",
      "[I 2024-12-23 14:35:49,540] Trial 258 finished with value: 0.09790209790209792 and parameters: {'alpha': 0.015597823407231285, 'force_alpha': 1, 'fit_prior': 1}. Best is trial 5 with value: 0.11188811188811187.\n"
     ]
    },
    {
     "name": "stdout",
     "output_type": "stream",
     "text": [
      "Trial 258 finished with value: 0.09790209790209792 and parameters: {'alpha': 0.015597823407231285, 'force_alpha': 1, 'fit_prior': 1}. Best is trial 5 with value: 0.11188811188811187.\n",
      "Trial 258 finished with value: 0.09790209790209792 and parameters: {'alpha': 0.015597823407231285, 'force_alpha': 1, 'fit_prior': 1}. Best is trial 5 with value: 0.11188811188811187.\n",
      "Trial 258 finished with value: 0.09790209790209792 and parameters: {'alpha': 0.015597823407231285, 'force_alpha': 1, 'fit_prior': 1}. Best is trial 5 with value: 0.11188811188811187.\n",
      "Trial 258 finished with value: 0.09790209790209792 and parameters: {'alpha': 0.015597823407231285, 'force_alpha': 1, 'fit_prior': 1}. Best is trial 5 with value: 0.11188811188811187.\n"
     ]
    },
    {
     "name": "stderr",
     "output_type": "stream",
     "text": [
      "C:\\Users\\ivanm\\AppData\\Local\\Temp\\ipykernel_5188\\4256399241.py:10: FutureWarning:\n",
      "\n",
      "suggest_loguniform has been deprecated in v3.0.0. This feature will be removed in v6.0.0. See https://github.com/optuna/optuna/releases/tag/v3.0.0. Use suggest_float(..., log=True) instead.\n",
      "\n",
      "c:\\Users\\ivanm\\AppData\\Local\\Programs\\Python\\Python39\\lib\\site-packages\\sklearn\\utils\\_param_validation.py:558: FutureWarning:\n",
      "\n",
      "Passing an int for a boolean parameter is deprecated in version 1.2 and won't be supported anymore in version 1.4.\n",
      "\n",
      "[I 2024-12-23 14:35:49,674] Trial 259 finished with value: 0.09790209790209792 and parameters: {'alpha': 0.009005643034641046, 'force_alpha': 0, 'fit_prior': 1}. Best is trial 5 with value: 0.11188811188811187.\n"
     ]
    },
    {
     "name": "stdout",
     "output_type": "stream",
     "text": [
      "Trial 259 finished with value: 0.09790209790209792 and parameters: {'alpha': 0.009005643034641046, 'force_alpha': 0, 'fit_prior': 1}. Best is trial 5 with value: 0.11188811188811187.\n",
      "Trial 259 finished with value: 0.09790209790209792 and parameters: {'alpha': 0.009005643034641046, 'force_alpha': 0, 'fit_prior': 1}. Best is trial 5 with value: 0.11188811188811187.\n",
      "Trial 259 finished with value: 0.09790209790209792 and parameters: {'alpha': 0.009005643034641046, 'force_alpha': 0, 'fit_prior': 1}. Best is trial 5 with value: 0.11188811188811187.\n",
      "Trial 259 finished with value: 0.09790209790209792 and parameters: {'alpha': 0.009005643034641046, 'force_alpha': 0, 'fit_prior': 1}. Best is trial 5 with value: 0.11188811188811187.\n"
     ]
    },
    {
     "name": "stderr",
     "output_type": "stream",
     "text": [
      "C:\\Users\\ivanm\\AppData\\Local\\Temp\\ipykernel_5188\\4256399241.py:10: FutureWarning:\n",
      "\n",
      "suggest_loguniform has been deprecated in v3.0.0. This feature will be removed in v6.0.0. See https://github.com/optuna/optuna/releases/tag/v3.0.0. Use suggest_float(..., log=True) instead.\n",
      "\n",
      "c:\\Users\\ivanm\\AppData\\Local\\Programs\\Python\\Python39\\lib\\site-packages\\sklearn\\utils\\_param_validation.py:558: FutureWarning:\n",
      "\n",
      "Passing an int for a boolean parameter is deprecated in version 1.2 and won't be supported anymore in version 1.4.\n",
      "\n",
      "[I 2024-12-23 14:35:49,782] Trial 260 finished with value: 0.09790209790209792 and parameters: {'alpha': 8.650100723693603, 'force_alpha': 0, 'fit_prior': 0}. Best is trial 5 with value: 0.11188811188811187.\n"
     ]
    },
    {
     "name": "stdout",
     "output_type": "stream",
     "text": [
      "Trial 260 finished with value: 0.09790209790209792 and parameters: {'alpha': 8.650100723693603, 'force_alpha': 0, 'fit_prior': 0}. Best is trial 5 with value: 0.11188811188811187.\n",
      "Trial 260 finished with value: 0.09790209790209792 and parameters: {'alpha': 8.650100723693603, 'force_alpha': 0, 'fit_prior': 0}. Best is trial 5 with value: 0.11188811188811187.\n",
      "Trial 260 finished with value: 0.09790209790209792 and parameters: {'alpha': 8.650100723693603, 'force_alpha': 0, 'fit_prior': 0}. Best is trial 5 with value: 0.11188811188811187.\n",
      "Trial 260 finished with value: 0.09790209790209792 and parameters: {'alpha': 8.650100723693603, 'force_alpha': 0, 'fit_prior': 0}. Best is trial 5 with value: 0.11188811188811187.\n"
     ]
    },
    {
     "name": "stderr",
     "output_type": "stream",
     "text": [
      "C:\\Users\\ivanm\\AppData\\Local\\Temp\\ipykernel_5188\\4256399241.py:10: FutureWarning:\n",
      "\n",
      "suggest_loguniform has been deprecated in v3.0.0. This feature will be removed in v6.0.0. See https://github.com/optuna/optuna/releases/tag/v3.0.0. Use suggest_float(..., log=True) instead.\n",
      "\n",
      "c:\\Users\\ivanm\\AppData\\Local\\Programs\\Python\\Python39\\lib\\site-packages\\sklearn\\utils\\_param_validation.py:558: FutureWarning:\n",
      "\n",
      "Passing an int for a boolean parameter is deprecated in version 1.2 and won't be supported anymore in version 1.4.\n",
      "\n",
      "[I 2024-12-23 14:35:49,890] Trial 261 finished with value: 0.09790209790209792 and parameters: {'alpha': 0.000409898312733809, 'force_alpha': 1, 'fit_prior': 0}. Best is trial 5 with value: 0.11188811188811187.\n"
     ]
    },
    {
     "name": "stdout",
     "output_type": "stream",
     "text": [
      "Trial 261 finished with value: 0.09790209790209792 and parameters: {'alpha': 0.000409898312733809, 'force_alpha': 1, 'fit_prior': 0}. Best is trial 5 with value: 0.11188811188811187.\n",
      "Trial 261 finished with value: 0.09790209790209792 and parameters: {'alpha': 0.000409898312733809, 'force_alpha': 1, 'fit_prior': 0}. Best is trial 5 with value: 0.11188811188811187.\n",
      "Trial 261 finished with value: 0.09790209790209792 and parameters: {'alpha': 0.000409898312733809, 'force_alpha': 1, 'fit_prior': 0}. Best is trial 5 with value: 0.11188811188811187.\n",
      "Trial 261 finished with value: 0.09790209790209792 and parameters: {'alpha': 0.000409898312733809, 'force_alpha': 1, 'fit_prior': 0}. Best is trial 5 with value: 0.11188811188811187.\n"
     ]
    },
    {
     "name": "stderr",
     "output_type": "stream",
     "text": [
      "C:\\Users\\ivanm\\AppData\\Local\\Temp\\ipykernel_5188\\4256399241.py:10: FutureWarning:\n",
      "\n",
      "suggest_loguniform has been deprecated in v3.0.0. This feature will be removed in v6.0.0. See https://github.com/optuna/optuna/releases/tag/v3.0.0. Use suggest_float(..., log=True) instead.\n",
      "\n",
      "c:\\Users\\ivanm\\AppData\\Local\\Programs\\Python\\Python39\\lib\\site-packages\\sklearn\\utils\\_param_validation.py:558: FutureWarning:\n",
      "\n",
      "Passing an int for a boolean parameter is deprecated in version 1.2 and won't be supported anymore in version 1.4.\n",
      "\n",
      "[I 2024-12-23 14:35:50,000] Trial 262 finished with value: 0.09790209790209792 and parameters: {'alpha': 739.2920753004754, 'force_alpha': 0, 'fit_prior': 0}. Best is trial 5 with value: 0.11188811188811187.\n"
     ]
    },
    {
     "name": "stdout",
     "output_type": "stream",
     "text": [
      "Trial 262 finished with value: 0.09790209790209792 and parameters: {'alpha': 739.2920753004754, 'force_alpha': 0, 'fit_prior': 0}. Best is trial 5 with value: 0.11188811188811187.\n",
      "Trial 262 finished with value: 0.09790209790209792 and parameters: {'alpha': 739.2920753004754, 'force_alpha': 0, 'fit_prior': 0}. Best is trial 5 with value: 0.11188811188811187.\n",
      "Trial 262 finished with value: 0.09790209790209792 and parameters: {'alpha': 739.2920753004754, 'force_alpha': 0, 'fit_prior': 0}. Best is trial 5 with value: 0.11188811188811187.\n",
      "Trial 262 finished with value: 0.09790209790209792 and parameters: {'alpha': 739.2920753004754, 'force_alpha': 0, 'fit_prior': 0}. Best is trial 5 with value: 0.11188811188811187.\n"
     ]
    },
    {
     "name": "stderr",
     "output_type": "stream",
     "text": [
      "C:\\Users\\ivanm\\AppData\\Local\\Temp\\ipykernel_5188\\4256399241.py:10: FutureWarning:\n",
      "\n",
      "suggest_loguniform has been deprecated in v3.0.0. This feature will be removed in v6.0.0. See https://github.com/optuna/optuna/releases/tag/v3.0.0. Use suggest_float(..., log=True) instead.\n",
      "\n",
      "c:\\Users\\ivanm\\AppData\\Local\\Programs\\Python\\Python39\\lib\\site-packages\\sklearn\\utils\\_param_validation.py:558: FutureWarning:\n",
      "\n",
      "Passing an int for a boolean parameter is deprecated in version 1.2 and won't be supported anymore in version 1.4.\n",
      "\n",
      "[I 2024-12-23 14:35:50,112] Trial 263 finished with value: 0.09790209790209792 and parameters: {'alpha': 0.12229931351309067, 'force_alpha': 0, 'fit_prior': 1}. Best is trial 5 with value: 0.11188811188811187.\n"
     ]
    },
    {
     "name": "stdout",
     "output_type": "stream",
     "text": [
      "Trial 263 finished with value: 0.09790209790209792 and parameters: {'alpha': 0.12229931351309067, 'force_alpha': 0, 'fit_prior': 1}. Best is trial 5 with value: 0.11188811188811187.\n",
      "Trial 263 finished with value: 0.09790209790209792 and parameters: {'alpha': 0.12229931351309067, 'force_alpha': 0, 'fit_prior': 1}. Best is trial 5 with value: 0.11188811188811187.\n",
      "Trial 263 finished with value: 0.09790209790209792 and parameters: {'alpha': 0.12229931351309067, 'force_alpha': 0, 'fit_prior': 1}. Best is trial 5 with value: 0.11188811188811187.\n",
      "Trial 263 finished with value: 0.09790209790209792 and parameters: {'alpha': 0.12229931351309067, 'force_alpha': 0, 'fit_prior': 1}. Best is trial 5 with value: 0.11188811188811187.\n"
     ]
    },
    {
     "name": "stderr",
     "output_type": "stream",
     "text": [
      "C:\\Users\\ivanm\\AppData\\Local\\Temp\\ipykernel_5188\\4256399241.py:10: FutureWarning:\n",
      "\n",
      "suggest_loguniform has been deprecated in v3.0.0. This feature will be removed in v6.0.0. See https://github.com/optuna/optuna/releases/tag/v3.0.0. Use suggest_float(..., log=True) instead.\n",
      "\n",
      "c:\\Users\\ivanm\\AppData\\Local\\Programs\\Python\\Python39\\lib\\site-packages\\sklearn\\utils\\_param_validation.py:558: FutureWarning:\n",
      "\n",
      "Passing an int for a boolean parameter is deprecated in version 1.2 and won't be supported anymore in version 1.4.\n",
      "\n",
      "[I 2024-12-23 14:35:50,223] Trial 264 finished with value: 0.09790209790209792 and parameters: {'alpha': 3.035575234959937, 'force_alpha': 0, 'fit_prior': 1}. Best is trial 5 with value: 0.11188811188811187.\n"
     ]
    },
    {
     "name": "stdout",
     "output_type": "stream",
     "text": [
      "Trial 264 finished with value: 0.09790209790209792 and parameters: {'alpha': 3.035575234959937, 'force_alpha': 0, 'fit_prior': 1}. Best is trial 5 with value: 0.11188811188811187.\n",
      "Trial 264 finished with value: 0.09790209790209792 and parameters: {'alpha': 3.035575234959937, 'force_alpha': 0, 'fit_prior': 1}. Best is trial 5 with value: 0.11188811188811187.\n",
      "Trial 264 finished with value: 0.09790209790209792 and parameters: {'alpha': 3.035575234959937, 'force_alpha': 0, 'fit_prior': 1}. Best is trial 5 with value: 0.11188811188811187.\n",
      "Trial 264 finished with value: 0.09790209790209792 and parameters: {'alpha': 3.035575234959937, 'force_alpha': 0, 'fit_prior': 1}. Best is trial 5 with value: 0.11188811188811187.\n"
     ]
    },
    {
     "name": "stderr",
     "output_type": "stream",
     "text": [
      "C:\\Users\\ivanm\\AppData\\Local\\Temp\\ipykernel_5188\\4256399241.py:10: FutureWarning:\n",
      "\n",
      "suggest_loguniform has been deprecated in v3.0.0. This feature will be removed in v6.0.0. See https://github.com/optuna/optuna/releases/tag/v3.0.0. Use suggest_float(..., log=True) instead.\n",
      "\n",
      "c:\\Users\\ivanm\\AppData\\Local\\Programs\\Python\\Python39\\lib\\site-packages\\sklearn\\utils\\_param_validation.py:558: FutureWarning:\n",
      "\n",
      "Passing an int for a boolean parameter is deprecated in version 1.2 and won't be supported anymore in version 1.4.\n",
      "\n",
      "[I 2024-12-23 14:35:50,332] Trial 265 finished with value: 0.09790209790209792 and parameters: {'alpha': 0.05215054565703313, 'force_alpha': 0, 'fit_prior': 1}. Best is trial 5 with value: 0.11188811188811187.\n"
     ]
    },
    {
     "name": "stdout",
     "output_type": "stream",
     "text": [
      "Trial 265 finished with value: 0.09790209790209792 and parameters: {'alpha': 0.05215054565703313, 'force_alpha': 0, 'fit_prior': 1}. Best is trial 5 with value: 0.11188811188811187.\n",
      "Trial 265 finished with value: 0.09790209790209792 and parameters: {'alpha': 0.05215054565703313, 'force_alpha': 0, 'fit_prior': 1}. Best is trial 5 with value: 0.11188811188811187.\n",
      "Trial 265 finished with value: 0.09790209790209792 and parameters: {'alpha': 0.05215054565703313, 'force_alpha': 0, 'fit_prior': 1}. Best is trial 5 with value: 0.11188811188811187.\n",
      "Trial 265 finished with value: 0.09790209790209792 and parameters: {'alpha': 0.05215054565703313, 'force_alpha': 0, 'fit_prior': 1}. Best is trial 5 with value: 0.11188811188811187.\n"
     ]
    },
    {
     "name": "stderr",
     "output_type": "stream",
     "text": [
      "C:\\Users\\ivanm\\AppData\\Local\\Temp\\ipykernel_5188\\4256399241.py:10: FutureWarning:\n",
      "\n",
      "suggest_loguniform has been deprecated in v3.0.0. This feature will be removed in v6.0.0. See https://github.com/optuna/optuna/releases/tag/v3.0.0. Use suggest_float(..., log=True) instead.\n",
      "\n",
      "c:\\Users\\ivanm\\AppData\\Local\\Programs\\Python\\Python39\\lib\\site-packages\\sklearn\\utils\\_param_validation.py:558: FutureWarning:\n",
      "\n",
      "Passing an int for a boolean parameter is deprecated in version 1.2 and won't be supported anymore in version 1.4.\n",
      "\n",
      "[I 2024-12-23 14:35:50,440] Trial 266 finished with value: 0.09790209790209792 and parameters: {'alpha': 0.0005034126875614932, 'force_alpha': 0, 'fit_prior': 0}. Best is trial 5 with value: 0.11188811188811187.\n"
     ]
    },
    {
     "name": "stdout",
     "output_type": "stream",
     "text": [
      "Trial 266 finished with value: 0.09790209790209792 and parameters: {'alpha': 0.0005034126875614932, 'force_alpha': 0, 'fit_prior': 0}. Best is trial 5 with value: 0.11188811188811187.\n",
      "Trial 266 finished with value: 0.09790209790209792 and parameters: {'alpha': 0.0005034126875614932, 'force_alpha': 0, 'fit_prior': 0}. Best is trial 5 with value: 0.11188811188811187.\n",
      "Trial 266 finished with value: 0.09790209790209792 and parameters: {'alpha': 0.0005034126875614932, 'force_alpha': 0, 'fit_prior': 0}. Best is trial 5 with value: 0.11188811188811187.\n",
      "Trial 266 finished with value: 0.09790209790209792 and parameters: {'alpha': 0.0005034126875614932, 'force_alpha': 0, 'fit_prior': 0}. Best is trial 5 with value: 0.11188811188811187.\n"
     ]
    },
    {
     "name": "stderr",
     "output_type": "stream",
     "text": [
      "C:\\Users\\ivanm\\AppData\\Local\\Temp\\ipykernel_5188\\4256399241.py:10: FutureWarning:\n",
      "\n",
      "suggest_loguniform has been deprecated in v3.0.0. This feature will be removed in v6.0.0. See https://github.com/optuna/optuna/releases/tag/v3.0.0. Use suggest_float(..., log=True) instead.\n",
      "\n",
      "c:\\Users\\ivanm\\AppData\\Local\\Programs\\Python\\Python39\\lib\\site-packages\\sklearn\\utils\\_param_validation.py:558: FutureWarning:\n",
      "\n",
      "Passing an int for a boolean parameter is deprecated in version 1.2 and won't be supported anymore in version 1.4.\n",
      "\n",
      "[I 2024-12-23 14:35:50,550] Trial 267 finished with value: 0.09790209790209792 and parameters: {'alpha': 0.01467268451747403, 'force_alpha': 0, 'fit_prior': 1}. Best is trial 5 with value: 0.11188811188811187.\n"
     ]
    },
    {
     "name": "stdout",
     "output_type": "stream",
     "text": [
      "Trial 267 finished with value: 0.09790209790209792 and parameters: {'alpha': 0.01467268451747403, 'force_alpha': 0, 'fit_prior': 1}. Best is trial 5 with value: 0.11188811188811187.\n",
      "Trial 267 finished with value: 0.09790209790209792 and parameters: {'alpha': 0.01467268451747403, 'force_alpha': 0, 'fit_prior': 1}. Best is trial 5 with value: 0.11188811188811187.\n",
      "Trial 267 finished with value: 0.09790209790209792 and parameters: {'alpha': 0.01467268451747403, 'force_alpha': 0, 'fit_prior': 1}. Best is trial 5 with value: 0.11188811188811187.\n",
      "Trial 267 finished with value: 0.09790209790209792 and parameters: {'alpha': 0.01467268451747403, 'force_alpha': 0, 'fit_prior': 1}. Best is trial 5 with value: 0.11188811188811187.\n"
     ]
    },
    {
     "name": "stderr",
     "output_type": "stream",
     "text": [
      "C:\\Users\\ivanm\\AppData\\Local\\Temp\\ipykernel_5188\\4256399241.py:10: FutureWarning:\n",
      "\n",
      "suggest_loguniform has been deprecated in v3.0.0. This feature will be removed in v6.0.0. See https://github.com/optuna/optuna/releases/tag/v3.0.0. Use suggest_float(..., log=True) instead.\n",
      "\n",
      "c:\\Users\\ivanm\\AppData\\Local\\Programs\\Python\\Python39\\lib\\site-packages\\sklearn\\utils\\_param_validation.py:558: FutureWarning:\n",
      "\n",
      "Passing an int for a boolean parameter is deprecated in version 1.2 and won't be supported anymore in version 1.4.\n",
      "\n",
      "[I 2024-12-23 14:35:50,660] Trial 268 finished with value: 0.09790209790209792 and parameters: {'alpha': 378.54858832180486, 'force_alpha': 0, 'fit_prior': 0}. Best is trial 5 with value: 0.11188811188811187.\n"
     ]
    },
    {
     "name": "stdout",
     "output_type": "stream",
     "text": [
      "Trial 268 finished with value: 0.09790209790209792 and parameters: {'alpha': 378.54858832180486, 'force_alpha': 0, 'fit_prior': 0}. Best is trial 5 with value: 0.11188811188811187.\n",
      "Trial 268 finished with value: 0.09790209790209792 and parameters: {'alpha': 378.54858832180486, 'force_alpha': 0, 'fit_prior': 0}. Best is trial 5 with value: 0.11188811188811187.\n",
      "Trial 268 finished with value: 0.09790209790209792 and parameters: {'alpha': 378.54858832180486, 'force_alpha': 0, 'fit_prior': 0}. Best is trial 5 with value: 0.11188811188811187.\n",
      "Trial 268 finished with value: 0.09790209790209792 and parameters: {'alpha': 378.54858832180486, 'force_alpha': 0, 'fit_prior': 0}. Best is trial 5 with value: 0.11188811188811187.\n"
     ]
    },
    {
     "name": "stderr",
     "output_type": "stream",
     "text": [
      "C:\\Users\\ivanm\\AppData\\Local\\Temp\\ipykernel_5188\\4256399241.py:10: FutureWarning:\n",
      "\n",
      "suggest_loguniform has been deprecated in v3.0.0. This feature will be removed in v6.0.0. See https://github.com/optuna/optuna/releases/tag/v3.0.0. Use suggest_float(..., log=True) instead.\n",
      "\n",
      "c:\\Users\\ivanm\\AppData\\Local\\Programs\\Python\\Python39\\lib\\site-packages\\sklearn\\utils\\_param_validation.py:558: FutureWarning:\n",
      "\n",
      "Passing an int for a boolean parameter is deprecated in version 1.2 and won't be supported anymore in version 1.4.\n",
      "\n",
      "[I 2024-12-23 14:35:50,768] Trial 269 finished with value: 0.09790209790209792 and parameters: {'alpha': 0.04558308373667123, 'force_alpha': 0, 'fit_prior': 0}. Best is trial 5 with value: 0.11188811188811187.\n"
     ]
    },
    {
     "name": "stdout",
     "output_type": "stream",
     "text": [
      "Trial 269 finished with value: 0.09790209790209792 and parameters: {'alpha': 0.04558308373667123, 'force_alpha': 0, 'fit_prior': 0}. Best is trial 5 with value: 0.11188811188811187.\n",
      "Trial 269 finished with value: 0.09790209790209792 and parameters: {'alpha': 0.04558308373667123, 'force_alpha': 0, 'fit_prior': 0}. Best is trial 5 with value: 0.11188811188811187.\n",
      "Trial 269 finished with value: 0.09790209790209792 and parameters: {'alpha': 0.04558308373667123, 'force_alpha': 0, 'fit_prior': 0}. Best is trial 5 with value: 0.11188811188811187.\n",
      "Trial 269 finished with value: 0.09790209790209792 and parameters: {'alpha': 0.04558308373667123, 'force_alpha': 0, 'fit_prior': 0}. Best is trial 5 with value: 0.11188811188811187.\n"
     ]
    },
    {
     "name": "stderr",
     "output_type": "stream",
     "text": [
      "C:\\Users\\ivanm\\AppData\\Local\\Temp\\ipykernel_5188\\4256399241.py:10: FutureWarning:\n",
      "\n",
      "suggest_loguniform has been deprecated in v3.0.0. This feature will be removed in v6.0.0. See https://github.com/optuna/optuna/releases/tag/v3.0.0. Use suggest_float(..., log=True) instead.\n",
      "\n",
      "c:\\Users\\ivanm\\AppData\\Local\\Programs\\Python\\Python39\\lib\\site-packages\\sklearn\\utils\\_param_validation.py:558: FutureWarning:\n",
      "\n",
      "Passing an int for a boolean parameter is deprecated in version 1.2 and won't be supported anymore in version 1.4.\n",
      "\n",
      "[I 2024-12-23 14:35:50,873] Trial 270 finished with value: 0.09790209790209792 and parameters: {'alpha': 0.004573808021915027, 'force_alpha': 1, 'fit_prior': 0}. Best is trial 5 with value: 0.11188811188811187.\n"
     ]
    },
    {
     "name": "stdout",
     "output_type": "stream",
     "text": [
      "Trial 270 finished with value: 0.09790209790209792 and parameters: {'alpha': 0.004573808021915027, 'force_alpha': 1, 'fit_prior': 0}. Best is trial 5 with value: 0.11188811188811187.\n",
      "Trial 270 finished with value: 0.09790209790209792 and parameters: {'alpha': 0.004573808021915027, 'force_alpha': 1, 'fit_prior': 0}. Best is trial 5 with value: 0.11188811188811187.\n",
      "Trial 270 finished with value: 0.09790209790209792 and parameters: {'alpha': 0.004573808021915027, 'force_alpha': 1, 'fit_prior': 0}. Best is trial 5 with value: 0.11188811188811187.\n",
      "Trial 270 finished with value: 0.09790209790209792 and parameters: {'alpha': 0.004573808021915027, 'force_alpha': 1, 'fit_prior': 0}. Best is trial 5 with value: 0.11188811188811187.\n"
     ]
    },
    {
     "name": "stderr",
     "output_type": "stream",
     "text": [
      "C:\\Users\\ivanm\\AppData\\Local\\Temp\\ipykernel_5188\\4256399241.py:10: FutureWarning:\n",
      "\n",
      "suggest_loguniform has been deprecated in v3.0.0. This feature will be removed in v6.0.0. See https://github.com/optuna/optuna/releases/tag/v3.0.0. Use suggest_float(..., log=True) instead.\n",
      "\n",
      "c:\\Users\\ivanm\\AppData\\Local\\Programs\\Python\\Python39\\lib\\site-packages\\sklearn\\utils\\_param_validation.py:558: FutureWarning:\n",
      "\n",
      "Passing an int for a boolean parameter is deprecated in version 1.2 and won't be supported anymore in version 1.4.\n",
      "\n",
      "[I 2024-12-23 14:35:50,982] Trial 271 finished with value: 0.09790209790209792 and parameters: {'alpha': 212.0468297970876, 'force_alpha': 1, 'fit_prior': 0}. Best is trial 5 with value: 0.11188811188811187.\n"
     ]
    },
    {
     "name": "stdout",
     "output_type": "stream",
     "text": [
      "Trial 271 finished with value: 0.09790209790209792 and parameters: {'alpha': 212.0468297970876, 'force_alpha': 1, 'fit_prior': 0}. Best is trial 5 with value: 0.11188811188811187.\n",
      "Trial 271 finished with value: 0.09790209790209792 and parameters: {'alpha': 212.0468297970876, 'force_alpha': 1, 'fit_prior': 0}. Best is trial 5 with value: 0.11188811188811187.\n",
      "Trial 271 finished with value: 0.09790209790209792 and parameters: {'alpha': 212.0468297970876, 'force_alpha': 1, 'fit_prior': 0}. Best is trial 5 with value: 0.11188811188811187.\n",
      "Trial 271 finished with value: 0.09790209790209792 and parameters: {'alpha': 212.0468297970876, 'force_alpha': 1, 'fit_prior': 0}. Best is trial 5 with value: 0.11188811188811187.\n"
     ]
    },
    {
     "name": "stderr",
     "output_type": "stream",
     "text": [
      "C:\\Users\\ivanm\\AppData\\Local\\Temp\\ipykernel_5188\\4256399241.py:10: FutureWarning:\n",
      "\n",
      "suggest_loguniform has been deprecated in v3.0.0. This feature will be removed in v6.0.0. See https://github.com/optuna/optuna/releases/tag/v3.0.0. Use suggest_float(..., log=True) instead.\n",
      "\n",
      "c:\\Users\\ivanm\\AppData\\Local\\Programs\\Python\\Python39\\lib\\site-packages\\sklearn\\utils\\_param_validation.py:558: FutureWarning:\n",
      "\n",
      "Passing an int for a boolean parameter is deprecated in version 1.2 and won't be supported anymore in version 1.4.\n",
      "\n",
      "[I 2024-12-23 14:35:51,092] Trial 272 finished with value: 0.09790209790209792 and parameters: {'alpha': 1701.637225878249, 'force_alpha': 1, 'fit_prior': 1}. Best is trial 5 with value: 0.11188811188811187.\n"
     ]
    },
    {
     "name": "stdout",
     "output_type": "stream",
     "text": [
      "Trial 272 finished with value: 0.09790209790209792 and parameters: {'alpha': 1701.637225878249, 'force_alpha': 1, 'fit_prior': 1}. Best is trial 5 with value: 0.11188811188811187.\n",
      "Trial 272 finished with value: 0.09790209790209792 and parameters: {'alpha': 1701.637225878249, 'force_alpha': 1, 'fit_prior': 1}. Best is trial 5 with value: 0.11188811188811187.\n",
      "Trial 272 finished with value: 0.09790209790209792 and parameters: {'alpha': 1701.637225878249, 'force_alpha': 1, 'fit_prior': 1}. Best is trial 5 with value: 0.11188811188811187.\n",
      "Trial 272 finished with value: 0.09790209790209792 and parameters: {'alpha': 1701.637225878249, 'force_alpha': 1, 'fit_prior': 1}. Best is trial 5 with value: 0.11188811188811187.\n"
     ]
    },
    {
     "name": "stderr",
     "output_type": "stream",
     "text": [
      "C:\\Users\\ivanm\\AppData\\Local\\Temp\\ipykernel_5188\\4256399241.py:10: FutureWarning:\n",
      "\n",
      "suggest_loguniform has been deprecated in v3.0.0. This feature will be removed in v6.0.0. See https://github.com/optuna/optuna/releases/tag/v3.0.0. Use suggest_float(..., log=True) instead.\n",
      "\n",
      "c:\\Users\\ivanm\\AppData\\Local\\Programs\\Python\\Python39\\lib\\site-packages\\sklearn\\utils\\_param_validation.py:558: FutureWarning:\n",
      "\n",
      "Passing an int for a boolean parameter is deprecated in version 1.2 and won't be supported anymore in version 1.4.\n",
      "\n",
      "[I 2024-12-23 14:35:51,200] Trial 273 finished with value: 0.09790209790209792 and parameters: {'alpha': 0.0010969097518378269, 'force_alpha': 1, 'fit_prior': 0}. Best is trial 5 with value: 0.11188811188811187.\n"
     ]
    },
    {
     "name": "stdout",
     "output_type": "stream",
     "text": [
      "Trial 273 finished with value: 0.09790209790209792 and parameters: {'alpha': 0.0010969097518378269, 'force_alpha': 1, 'fit_prior': 0}. Best is trial 5 with value: 0.11188811188811187.\n",
      "Trial 273 finished with value: 0.09790209790209792 and parameters: {'alpha': 0.0010969097518378269, 'force_alpha': 1, 'fit_prior': 0}. Best is trial 5 with value: 0.11188811188811187.\n",
      "Trial 273 finished with value: 0.09790209790209792 and parameters: {'alpha': 0.0010969097518378269, 'force_alpha': 1, 'fit_prior': 0}. Best is trial 5 with value: 0.11188811188811187.\n",
      "Trial 273 finished with value: 0.09790209790209792 and parameters: {'alpha': 0.0010969097518378269, 'force_alpha': 1, 'fit_prior': 0}. Best is trial 5 with value: 0.11188811188811187.\n"
     ]
    },
    {
     "name": "stderr",
     "output_type": "stream",
     "text": [
      "C:\\Users\\ivanm\\AppData\\Local\\Temp\\ipykernel_5188\\4256399241.py:10: FutureWarning:\n",
      "\n",
      "suggest_loguniform has been deprecated in v3.0.0. This feature will be removed in v6.0.0. See https://github.com/optuna/optuna/releases/tag/v3.0.0. Use suggest_float(..., log=True) instead.\n",
      "\n",
      "c:\\Users\\ivanm\\AppData\\Local\\Programs\\Python\\Python39\\lib\\site-packages\\sklearn\\utils\\_param_validation.py:558: FutureWarning:\n",
      "\n",
      "Passing an int for a boolean parameter is deprecated in version 1.2 and won't be supported anymore in version 1.4.\n",
      "\n",
      "[I 2024-12-23 14:35:51,308] Trial 274 finished with value: 0.1048951048951049 and parameters: {'alpha': 4787.050019983484, 'force_alpha': 1, 'fit_prior': 0}. Best is trial 5 with value: 0.11188811188811187.\n"
     ]
    },
    {
     "name": "stdout",
     "output_type": "stream",
     "text": [
      "Trial 274 finished with value: 0.1048951048951049 and parameters: {'alpha': 4787.050019983484, 'force_alpha': 1, 'fit_prior': 0}. Best is trial 5 with value: 0.11188811188811187.\n",
      "Trial 274 finished with value: 0.1048951048951049 and parameters: {'alpha': 4787.050019983484, 'force_alpha': 1, 'fit_prior': 0}. Best is trial 5 with value: 0.11188811188811187.\n",
      "Trial 274 finished with value: 0.1048951048951049 and parameters: {'alpha': 4787.050019983484, 'force_alpha': 1, 'fit_prior': 0}. Best is trial 5 with value: 0.11188811188811187.\n",
      "Trial 274 finished with value: 0.1048951048951049 and parameters: {'alpha': 4787.050019983484, 'force_alpha': 1, 'fit_prior': 0}. Best is trial 5 with value: 0.11188811188811187.\n"
     ]
    },
    {
     "name": "stderr",
     "output_type": "stream",
     "text": [
      "C:\\Users\\ivanm\\AppData\\Local\\Temp\\ipykernel_5188\\4256399241.py:10: FutureWarning:\n",
      "\n",
      "suggest_loguniform has been deprecated in v3.0.0. This feature will be removed in v6.0.0. See https://github.com/optuna/optuna/releases/tag/v3.0.0. Use suggest_float(..., log=True) instead.\n",
      "\n",
      "c:\\Users\\ivanm\\AppData\\Local\\Programs\\Python\\Python39\\lib\\site-packages\\sklearn\\utils\\_param_validation.py:558: FutureWarning:\n",
      "\n",
      "Passing an int for a boolean parameter is deprecated in version 1.2 and won't be supported anymore in version 1.4.\n",
      "\n",
      "[I 2024-12-23 14:35:51,444] Trial 275 finished with value: 0.09790209790209792 and parameters: {'alpha': 0.00012833785594011462, 'force_alpha': 1, 'fit_prior': 0}. Best is trial 5 with value: 0.11188811188811187.\n"
     ]
    },
    {
     "name": "stdout",
     "output_type": "stream",
     "text": [
      "Trial 275 finished with value: 0.09790209790209792 and parameters: {'alpha': 0.00012833785594011462, 'force_alpha': 1, 'fit_prior': 0}. Best is trial 5 with value: 0.11188811188811187.\n",
      "Trial 275 finished with value: 0.09790209790209792 and parameters: {'alpha': 0.00012833785594011462, 'force_alpha': 1, 'fit_prior': 0}. Best is trial 5 with value: 0.11188811188811187.\n",
      "Trial 275 finished with value: 0.09790209790209792 and parameters: {'alpha': 0.00012833785594011462, 'force_alpha': 1, 'fit_prior': 0}. Best is trial 5 with value: 0.11188811188811187.\n",
      "Trial 275 finished with value: 0.09790209790209792 and parameters: {'alpha': 0.00012833785594011462, 'force_alpha': 1, 'fit_prior': 0}. Best is trial 5 with value: 0.11188811188811187.\n"
     ]
    },
    {
     "name": "stderr",
     "output_type": "stream",
     "text": [
      "C:\\Users\\ivanm\\AppData\\Local\\Temp\\ipykernel_5188\\4256399241.py:10: FutureWarning:\n",
      "\n",
      "suggest_loguniform has been deprecated in v3.0.0. This feature will be removed in v6.0.0. See https://github.com/optuna/optuna/releases/tag/v3.0.0. Use suggest_float(..., log=True) instead.\n",
      "\n",
      "c:\\Users\\ivanm\\AppData\\Local\\Programs\\Python\\Python39\\lib\\site-packages\\sklearn\\utils\\_param_validation.py:558: FutureWarning:\n",
      "\n",
      "Passing an int for a boolean parameter is deprecated in version 1.2 and won't be supported anymore in version 1.4.\n",
      "\n",
      "[I 2024-12-23 14:35:51,554] Trial 276 finished with value: 0.09790209790209792 and parameters: {'alpha': 0.11606127316436703, 'force_alpha': 1, 'fit_prior': 1}. Best is trial 5 with value: 0.11188811188811187.\n"
     ]
    },
    {
     "name": "stdout",
     "output_type": "stream",
     "text": [
      "Trial 276 finished with value: 0.09790209790209792 and parameters: {'alpha': 0.11606127316436703, 'force_alpha': 1, 'fit_prior': 1}. Best is trial 5 with value: 0.11188811188811187.\n",
      "Trial 276 finished with value: 0.09790209790209792 and parameters: {'alpha': 0.11606127316436703, 'force_alpha': 1, 'fit_prior': 1}. Best is trial 5 with value: 0.11188811188811187.\n",
      "Trial 276 finished with value: 0.09790209790209792 and parameters: {'alpha': 0.11606127316436703, 'force_alpha': 1, 'fit_prior': 1}. Best is trial 5 with value: 0.11188811188811187.\n",
      "Trial 276 finished with value: 0.09790209790209792 and parameters: {'alpha': 0.11606127316436703, 'force_alpha': 1, 'fit_prior': 1}. Best is trial 5 with value: 0.11188811188811187.\n"
     ]
    },
    {
     "name": "stderr",
     "output_type": "stream",
     "text": [
      "C:\\Users\\ivanm\\AppData\\Local\\Temp\\ipykernel_5188\\4256399241.py:10: FutureWarning:\n",
      "\n",
      "suggest_loguniform has been deprecated in v3.0.0. This feature will be removed in v6.0.0. See https://github.com/optuna/optuna/releases/tag/v3.0.0. Use suggest_float(..., log=True) instead.\n",
      "\n",
      "c:\\Users\\ivanm\\AppData\\Local\\Programs\\Python\\Python39\\lib\\site-packages\\sklearn\\utils\\_param_validation.py:558: FutureWarning:\n",
      "\n",
      "Passing an int for a boolean parameter is deprecated in version 1.2 and won't be supported anymore in version 1.4.\n",
      "\n",
      "[I 2024-12-23 14:35:51,657] Trial 277 finished with value: 0.09790209790209792 and parameters: {'alpha': 0.327609724624597, 'force_alpha': 1, 'fit_prior': 0}. Best is trial 5 with value: 0.11188811188811187.\n"
     ]
    },
    {
     "name": "stdout",
     "output_type": "stream",
     "text": [
      "Trial 277 finished with value: 0.09790209790209792 and parameters: {'alpha': 0.327609724624597, 'force_alpha': 1, 'fit_prior': 0}. Best is trial 5 with value: 0.11188811188811187.\n",
      "Trial 277 finished with value: 0.09790209790209792 and parameters: {'alpha': 0.327609724624597, 'force_alpha': 1, 'fit_prior': 0}. Best is trial 5 with value: 0.11188811188811187.\n",
      "Trial 277 finished with value: 0.09790209790209792 and parameters: {'alpha': 0.327609724624597, 'force_alpha': 1, 'fit_prior': 0}. Best is trial 5 with value: 0.11188811188811187.\n",
      "Trial 277 finished with value: 0.09790209790209792 and parameters: {'alpha': 0.327609724624597, 'force_alpha': 1, 'fit_prior': 0}. Best is trial 5 with value: 0.11188811188811187.\n"
     ]
    },
    {
     "name": "stderr",
     "output_type": "stream",
     "text": [
      "C:\\Users\\ivanm\\AppData\\Local\\Temp\\ipykernel_5188\\4256399241.py:10: FutureWarning:\n",
      "\n",
      "suggest_loguniform has been deprecated in v3.0.0. This feature will be removed in v6.0.0. See https://github.com/optuna/optuna/releases/tag/v3.0.0. Use suggest_float(..., log=True) instead.\n",
      "\n",
      "c:\\Users\\ivanm\\AppData\\Local\\Programs\\Python\\Python39\\lib\\site-packages\\sklearn\\utils\\_param_validation.py:558: FutureWarning:\n",
      "\n",
      "Passing an int for a boolean parameter is deprecated in version 1.2 and won't be supported anymore in version 1.4.\n",
      "\n",
      "[I 2024-12-23 14:35:51,768] Trial 278 finished with value: 0.09790209790209792 and parameters: {'alpha': 0.07859453740815638, 'force_alpha': 1, 'fit_prior': 1}. Best is trial 5 with value: 0.11188811188811187.\n"
     ]
    },
    {
     "name": "stdout",
     "output_type": "stream",
     "text": [
      "Trial 278 finished with value: 0.09790209790209792 and parameters: {'alpha': 0.07859453740815638, 'force_alpha': 1, 'fit_prior': 1}. Best is trial 5 with value: 0.11188811188811187.\n",
      "Trial 278 finished with value: 0.09790209790209792 and parameters: {'alpha': 0.07859453740815638, 'force_alpha': 1, 'fit_prior': 1}. Best is trial 5 with value: 0.11188811188811187.\n",
      "Trial 278 finished with value: 0.09790209790209792 and parameters: {'alpha': 0.07859453740815638, 'force_alpha': 1, 'fit_prior': 1}. Best is trial 5 with value: 0.11188811188811187.\n",
      "Trial 278 finished with value: 0.09790209790209792 and parameters: {'alpha': 0.07859453740815638, 'force_alpha': 1, 'fit_prior': 1}. Best is trial 5 with value: 0.11188811188811187.\n"
     ]
    },
    {
     "name": "stderr",
     "output_type": "stream",
     "text": [
      "C:\\Users\\ivanm\\AppData\\Local\\Temp\\ipykernel_5188\\4256399241.py:10: FutureWarning:\n",
      "\n",
      "suggest_loguniform has been deprecated in v3.0.0. This feature will be removed in v6.0.0. See https://github.com/optuna/optuna/releases/tag/v3.0.0. Use suggest_float(..., log=True) instead.\n",
      "\n",
      "c:\\Users\\ivanm\\AppData\\Local\\Programs\\Python\\Python39\\lib\\site-packages\\sklearn\\utils\\_param_validation.py:558: FutureWarning:\n",
      "\n",
      "Passing an int for a boolean parameter is deprecated in version 1.2 and won't be supported anymore in version 1.4.\n",
      "\n",
      "[I 2024-12-23 14:35:51,882] Trial 279 finished with value: 0.09790209790209792 and parameters: {'alpha': 0.009895957595795412, 'force_alpha': 1, 'fit_prior': 1}. Best is trial 5 with value: 0.11188811188811187.\n"
     ]
    },
    {
     "name": "stdout",
     "output_type": "stream",
     "text": [
      "Trial 279 finished with value: 0.09790209790209792 and parameters: {'alpha': 0.009895957595795412, 'force_alpha': 1, 'fit_prior': 1}. Best is trial 5 with value: 0.11188811188811187.\n",
      "Trial 279 finished with value: 0.09790209790209792 and parameters: {'alpha': 0.009895957595795412, 'force_alpha': 1, 'fit_prior': 1}. Best is trial 5 with value: 0.11188811188811187.\n",
      "Trial 279 finished with value: 0.09790209790209792 and parameters: {'alpha': 0.009895957595795412, 'force_alpha': 1, 'fit_prior': 1}. Best is trial 5 with value: 0.11188811188811187.\n",
      "Trial 279 finished with value: 0.09790209790209792 and parameters: {'alpha': 0.009895957595795412, 'force_alpha': 1, 'fit_prior': 1}. Best is trial 5 with value: 0.11188811188811187.\n"
     ]
    },
    {
     "name": "stderr",
     "output_type": "stream",
     "text": [
      "C:\\Users\\ivanm\\AppData\\Local\\Temp\\ipykernel_5188\\4256399241.py:10: FutureWarning:\n",
      "\n",
      "suggest_loguniform has been deprecated in v3.0.0. This feature will be removed in v6.0.0. See https://github.com/optuna/optuna/releases/tag/v3.0.0. Use suggest_float(..., log=True) instead.\n",
      "\n",
      "c:\\Users\\ivanm\\AppData\\Local\\Programs\\Python\\Python39\\lib\\site-packages\\sklearn\\utils\\_param_validation.py:558: FutureWarning:\n",
      "\n",
      "Passing an int for a boolean parameter is deprecated in version 1.2 and won't be supported anymore in version 1.4.\n",
      "\n",
      "[I 2024-12-23 14:35:51,991] Trial 280 finished with value: 0.09790209790209792 and parameters: {'alpha': 0.00015104419304893553, 'force_alpha': 1, 'fit_prior': 0}. Best is trial 5 with value: 0.11188811188811187.\n"
     ]
    },
    {
     "name": "stdout",
     "output_type": "stream",
     "text": [
      "Trial 280 finished with value: 0.09790209790209792 and parameters: {'alpha': 0.00015104419304893553, 'force_alpha': 1, 'fit_prior': 0}. Best is trial 5 with value: 0.11188811188811187.\n",
      "Trial 280 finished with value: 0.09790209790209792 and parameters: {'alpha': 0.00015104419304893553, 'force_alpha': 1, 'fit_prior': 0}. Best is trial 5 with value: 0.11188811188811187.\n",
      "Trial 280 finished with value: 0.09790209790209792 and parameters: {'alpha': 0.00015104419304893553, 'force_alpha': 1, 'fit_prior': 0}. Best is trial 5 with value: 0.11188811188811187.\n",
      "Trial 280 finished with value: 0.09790209790209792 and parameters: {'alpha': 0.00015104419304893553, 'force_alpha': 1, 'fit_prior': 0}. Best is trial 5 with value: 0.11188811188811187.\n"
     ]
    },
    {
     "name": "stderr",
     "output_type": "stream",
     "text": [
      "C:\\Users\\ivanm\\AppData\\Local\\Temp\\ipykernel_5188\\4256399241.py:10: FutureWarning:\n",
      "\n",
      "suggest_loguniform has been deprecated in v3.0.0. This feature will be removed in v6.0.0. See https://github.com/optuna/optuna/releases/tag/v3.0.0. Use suggest_float(..., log=True) instead.\n",
      "\n",
      "c:\\Users\\ivanm\\AppData\\Local\\Programs\\Python\\Python39\\lib\\site-packages\\sklearn\\utils\\_param_validation.py:558: FutureWarning:\n",
      "\n",
      "Passing an int for a boolean parameter is deprecated in version 1.2 and won't be supported anymore in version 1.4.\n",
      "\n",
      "[I 2024-12-23 14:35:52,101] Trial 281 finished with value: 0.09790209790209792 and parameters: {'alpha': 0.06406022585880042, 'force_alpha': 0, 'fit_prior': 0}. Best is trial 5 with value: 0.11188811188811187.\n"
     ]
    },
    {
     "name": "stdout",
     "output_type": "stream",
     "text": [
      "Trial 281 finished with value: 0.09790209790209792 and parameters: {'alpha': 0.06406022585880042, 'force_alpha': 0, 'fit_prior': 0}. Best is trial 5 with value: 0.11188811188811187.\n",
      "Trial 281 finished with value: 0.09790209790209792 and parameters: {'alpha': 0.06406022585880042, 'force_alpha': 0, 'fit_prior': 0}. Best is trial 5 with value: 0.11188811188811187.\n",
      "Trial 281 finished with value: 0.09790209790209792 and parameters: {'alpha': 0.06406022585880042, 'force_alpha': 0, 'fit_prior': 0}. Best is trial 5 with value: 0.11188811188811187.\n",
      "Trial 281 finished with value: 0.09790209790209792 and parameters: {'alpha': 0.06406022585880042, 'force_alpha': 0, 'fit_prior': 0}. Best is trial 5 with value: 0.11188811188811187.\n"
     ]
    },
    {
     "name": "stderr",
     "output_type": "stream",
     "text": [
      "C:\\Users\\ivanm\\AppData\\Local\\Temp\\ipykernel_5188\\4256399241.py:10: FutureWarning:\n",
      "\n",
      "suggest_loguniform has been deprecated in v3.0.0. This feature will be removed in v6.0.0. See https://github.com/optuna/optuna/releases/tag/v3.0.0. Use suggest_float(..., log=True) instead.\n",
      "\n",
      "c:\\Users\\ivanm\\AppData\\Local\\Programs\\Python\\Python39\\lib\\site-packages\\sklearn\\utils\\_param_validation.py:558: FutureWarning:\n",
      "\n",
      "Passing an int for a boolean parameter is deprecated in version 1.2 and won't be supported anymore in version 1.4.\n",
      "\n",
      "[I 2024-12-23 14:35:52,210] Trial 282 finished with value: 0.09790209790209792 and parameters: {'alpha': 0.31770269843681503, 'force_alpha': 0, 'fit_prior': 0}. Best is trial 5 with value: 0.11188811188811187.\n"
     ]
    },
    {
     "name": "stdout",
     "output_type": "stream",
     "text": [
      "Trial 282 finished with value: 0.09790209790209792 and parameters: {'alpha': 0.31770269843681503, 'force_alpha': 0, 'fit_prior': 0}. Best is trial 5 with value: 0.11188811188811187.\n",
      "Trial 282 finished with value: 0.09790209790209792 and parameters: {'alpha': 0.31770269843681503, 'force_alpha': 0, 'fit_prior': 0}. Best is trial 5 with value: 0.11188811188811187.\n",
      "Trial 282 finished with value: 0.09790209790209792 and parameters: {'alpha': 0.31770269843681503, 'force_alpha': 0, 'fit_prior': 0}. Best is trial 5 with value: 0.11188811188811187.\n",
      "Trial 282 finished with value: 0.09790209790209792 and parameters: {'alpha': 0.31770269843681503, 'force_alpha': 0, 'fit_prior': 0}. Best is trial 5 with value: 0.11188811188811187.\n"
     ]
    },
    {
     "name": "stderr",
     "output_type": "stream",
     "text": [
      "C:\\Users\\ivanm\\AppData\\Local\\Temp\\ipykernel_5188\\4256399241.py:10: FutureWarning:\n",
      "\n",
      "suggest_loguniform has been deprecated in v3.0.0. This feature will be removed in v6.0.0. See https://github.com/optuna/optuna/releases/tag/v3.0.0. Use suggest_float(..., log=True) instead.\n",
      "\n",
      "c:\\Users\\ivanm\\AppData\\Local\\Programs\\Python\\Python39\\lib\\site-packages\\sklearn\\utils\\_param_validation.py:558: FutureWarning:\n",
      "\n",
      "Passing an int for a boolean parameter is deprecated in version 1.2 and won't be supported anymore in version 1.4.\n",
      "\n",
      "[I 2024-12-23 14:35:52,319] Trial 283 finished with value: 0.09790209790209792 and parameters: {'alpha': 0.01033941796719686, 'force_alpha': 1, 'fit_prior': 0}. Best is trial 5 with value: 0.11188811188811187.\n"
     ]
    },
    {
     "name": "stdout",
     "output_type": "stream",
     "text": [
      "Trial 283 finished with value: 0.09790209790209792 and parameters: {'alpha': 0.01033941796719686, 'force_alpha': 1, 'fit_prior': 0}. Best is trial 5 with value: 0.11188811188811187.\n",
      "Trial 283 finished with value: 0.09790209790209792 and parameters: {'alpha': 0.01033941796719686, 'force_alpha': 1, 'fit_prior': 0}. Best is trial 5 with value: 0.11188811188811187.\n",
      "Trial 283 finished with value: 0.09790209790209792 and parameters: {'alpha': 0.01033941796719686, 'force_alpha': 1, 'fit_prior': 0}. Best is trial 5 with value: 0.11188811188811187.\n",
      "Trial 283 finished with value: 0.09790209790209792 and parameters: {'alpha': 0.01033941796719686, 'force_alpha': 1, 'fit_prior': 0}. Best is trial 5 with value: 0.11188811188811187.\n"
     ]
    },
    {
     "name": "stderr",
     "output_type": "stream",
     "text": [
      "C:\\Users\\ivanm\\AppData\\Local\\Temp\\ipykernel_5188\\4256399241.py:10: FutureWarning:\n",
      "\n",
      "suggest_loguniform has been deprecated in v3.0.0. This feature will be removed in v6.0.0. See https://github.com/optuna/optuna/releases/tag/v3.0.0. Use suggest_float(..., log=True) instead.\n",
      "\n",
      "c:\\Users\\ivanm\\AppData\\Local\\Programs\\Python\\Python39\\lib\\site-packages\\sklearn\\utils\\_param_validation.py:558: FutureWarning:\n",
      "\n",
      "Passing an int for a boolean parameter is deprecated in version 1.2 and won't be supported anymore in version 1.4.\n",
      "\n",
      "[I 2024-12-23 14:35:52,426] Trial 284 finished with value: 0.09790209790209792 and parameters: {'alpha': 336.76427349650686, 'force_alpha': 1, 'fit_prior': 1}. Best is trial 5 with value: 0.11188811188811187.\n"
     ]
    },
    {
     "name": "stdout",
     "output_type": "stream",
     "text": [
      "Trial 284 finished with value: 0.09790209790209792 and parameters: {'alpha': 336.76427349650686, 'force_alpha': 1, 'fit_prior': 1}. Best is trial 5 with value: 0.11188811188811187.\n",
      "Trial 284 finished with value: 0.09790209790209792 and parameters: {'alpha': 336.76427349650686, 'force_alpha': 1, 'fit_prior': 1}. Best is trial 5 with value: 0.11188811188811187.\n",
      "Trial 284 finished with value: 0.09790209790209792 and parameters: {'alpha': 336.76427349650686, 'force_alpha': 1, 'fit_prior': 1}. Best is trial 5 with value: 0.11188811188811187.\n",
      "Trial 284 finished with value: 0.09790209790209792 and parameters: {'alpha': 336.76427349650686, 'force_alpha': 1, 'fit_prior': 1}. Best is trial 5 with value: 0.11188811188811187.\n"
     ]
    },
    {
     "name": "stderr",
     "output_type": "stream",
     "text": [
      "C:\\Users\\ivanm\\AppData\\Local\\Temp\\ipykernel_5188\\4256399241.py:10: FutureWarning:\n",
      "\n",
      "suggest_loguniform has been deprecated in v3.0.0. This feature will be removed in v6.0.0. See https://github.com/optuna/optuna/releases/tag/v3.0.0. Use suggest_float(..., log=True) instead.\n",
      "\n",
      "c:\\Users\\ivanm\\AppData\\Local\\Programs\\Python\\Python39\\lib\\site-packages\\sklearn\\utils\\_param_validation.py:558: FutureWarning:\n",
      "\n",
      "Passing an int for a boolean parameter is deprecated in version 1.2 and won't be supported anymore in version 1.4.\n",
      "\n",
      "[I 2024-12-23 14:35:52,534] Trial 285 finished with value: 0.09790209790209792 and parameters: {'alpha': 0.0032528417248928634, 'force_alpha': 0, 'fit_prior': 0}. Best is trial 5 with value: 0.11188811188811187.\n"
     ]
    },
    {
     "name": "stdout",
     "output_type": "stream",
     "text": [
      "Trial 285 finished with value: 0.09790209790209792 and parameters: {'alpha': 0.0032528417248928634, 'force_alpha': 0, 'fit_prior': 0}. Best is trial 5 with value: 0.11188811188811187.\n",
      "Trial 285 finished with value: 0.09790209790209792 and parameters: {'alpha': 0.0032528417248928634, 'force_alpha': 0, 'fit_prior': 0}. Best is trial 5 with value: 0.11188811188811187.\n",
      "Trial 285 finished with value: 0.09790209790209792 and parameters: {'alpha': 0.0032528417248928634, 'force_alpha': 0, 'fit_prior': 0}. Best is trial 5 with value: 0.11188811188811187.\n",
      "Trial 285 finished with value: 0.09790209790209792 and parameters: {'alpha': 0.0032528417248928634, 'force_alpha': 0, 'fit_prior': 0}. Best is trial 5 with value: 0.11188811188811187.\n"
     ]
    },
    {
     "name": "stderr",
     "output_type": "stream",
     "text": [
      "C:\\Users\\ivanm\\AppData\\Local\\Temp\\ipykernel_5188\\4256399241.py:10: FutureWarning:\n",
      "\n",
      "suggest_loguniform has been deprecated in v3.0.0. This feature will be removed in v6.0.0. See https://github.com/optuna/optuna/releases/tag/v3.0.0. Use suggest_float(..., log=True) instead.\n",
      "\n",
      "c:\\Users\\ivanm\\AppData\\Local\\Programs\\Python\\Python39\\lib\\site-packages\\sklearn\\utils\\_param_validation.py:558: FutureWarning:\n",
      "\n",
      "Passing an int for a boolean parameter is deprecated in version 1.2 and won't be supported anymore in version 1.4.\n",
      "\n",
      "[I 2024-12-23 14:35:52,644] Trial 286 finished with value: 0.09790209790209792 and parameters: {'alpha': 140.70490708863503, 'force_alpha': 1, 'fit_prior': 1}. Best is trial 5 with value: 0.11188811188811187.\n"
     ]
    },
    {
     "name": "stdout",
     "output_type": "stream",
     "text": [
      "Trial 286 finished with value: 0.09790209790209792 and parameters: {'alpha': 140.70490708863503, 'force_alpha': 1, 'fit_prior': 1}. Best is trial 5 with value: 0.11188811188811187.\n",
      "Trial 286 finished with value: 0.09790209790209792 and parameters: {'alpha': 140.70490708863503, 'force_alpha': 1, 'fit_prior': 1}. Best is trial 5 with value: 0.11188811188811187.\n",
      "Trial 286 finished with value: 0.09790209790209792 and parameters: {'alpha': 140.70490708863503, 'force_alpha': 1, 'fit_prior': 1}. Best is trial 5 with value: 0.11188811188811187.\n",
      "Trial 286 finished with value: 0.09790209790209792 and parameters: {'alpha': 140.70490708863503, 'force_alpha': 1, 'fit_prior': 1}. Best is trial 5 with value: 0.11188811188811187.\n"
     ]
    },
    {
     "name": "stderr",
     "output_type": "stream",
     "text": [
      "C:\\Users\\ivanm\\AppData\\Local\\Temp\\ipykernel_5188\\4256399241.py:10: FutureWarning:\n",
      "\n",
      "suggest_loguniform has been deprecated in v3.0.0. This feature will be removed in v6.0.0. See https://github.com/optuna/optuna/releases/tag/v3.0.0. Use suggest_float(..., log=True) instead.\n",
      "\n",
      "c:\\Users\\ivanm\\AppData\\Local\\Programs\\Python\\Python39\\lib\\site-packages\\sklearn\\utils\\_param_validation.py:558: FutureWarning:\n",
      "\n",
      "Passing an int for a boolean parameter is deprecated in version 1.2 and won't be supported anymore in version 1.4.\n",
      "\n",
      "[I 2024-12-23 14:35:52,753] Trial 287 finished with value: 0.09790209790209792 and parameters: {'alpha': 0.1542078112882834, 'force_alpha': 0, 'fit_prior': 1}. Best is trial 5 with value: 0.11188811188811187.\n"
     ]
    },
    {
     "name": "stdout",
     "output_type": "stream",
     "text": [
      "Trial 287 finished with value: 0.09790209790209792 and parameters: {'alpha': 0.1542078112882834, 'force_alpha': 0, 'fit_prior': 1}. Best is trial 5 with value: 0.11188811188811187.\n",
      "Trial 287 finished with value: 0.09790209790209792 and parameters: {'alpha': 0.1542078112882834, 'force_alpha': 0, 'fit_prior': 1}. Best is trial 5 with value: 0.11188811188811187.\n",
      "Trial 287 finished with value: 0.09790209790209792 and parameters: {'alpha': 0.1542078112882834, 'force_alpha': 0, 'fit_prior': 1}. Best is trial 5 with value: 0.11188811188811187.\n",
      "Trial 287 finished with value: 0.09790209790209792 and parameters: {'alpha': 0.1542078112882834, 'force_alpha': 0, 'fit_prior': 1}. Best is trial 5 with value: 0.11188811188811187.\n"
     ]
    },
    {
     "name": "stderr",
     "output_type": "stream",
     "text": [
      "C:\\Users\\ivanm\\AppData\\Local\\Temp\\ipykernel_5188\\4256399241.py:10: FutureWarning:\n",
      "\n",
      "suggest_loguniform has been deprecated in v3.0.0. This feature will be removed in v6.0.0. See https://github.com/optuna/optuna/releases/tag/v3.0.0. Use suggest_float(..., log=True) instead.\n",
      "\n",
      "c:\\Users\\ivanm\\AppData\\Local\\Programs\\Python\\Python39\\lib\\site-packages\\sklearn\\utils\\_param_validation.py:558: FutureWarning:\n",
      "\n",
      "Passing an int for a boolean parameter is deprecated in version 1.2 and won't be supported anymore in version 1.4.\n",
      "\n",
      "[I 2024-12-23 14:35:52,859] Trial 288 finished with value: 0.09790209790209792 and parameters: {'alpha': 112.2448723445424, 'force_alpha': 1, 'fit_prior': 1}. Best is trial 5 with value: 0.11188811188811187.\n"
     ]
    },
    {
     "name": "stdout",
     "output_type": "stream",
     "text": [
      "Trial 288 finished with value: 0.09790209790209792 and parameters: {'alpha': 112.2448723445424, 'force_alpha': 1, 'fit_prior': 1}. Best is trial 5 with value: 0.11188811188811187.\n",
      "Trial 288 finished with value: 0.09790209790209792 and parameters: {'alpha': 112.2448723445424, 'force_alpha': 1, 'fit_prior': 1}. Best is trial 5 with value: 0.11188811188811187.\n",
      "Trial 288 finished with value: 0.09790209790209792 and parameters: {'alpha': 112.2448723445424, 'force_alpha': 1, 'fit_prior': 1}. Best is trial 5 with value: 0.11188811188811187.\n",
      "Trial 288 finished with value: 0.09790209790209792 and parameters: {'alpha': 112.2448723445424, 'force_alpha': 1, 'fit_prior': 1}. Best is trial 5 with value: 0.11188811188811187.\n"
     ]
    },
    {
     "name": "stderr",
     "output_type": "stream",
     "text": [
      "C:\\Users\\ivanm\\AppData\\Local\\Temp\\ipykernel_5188\\4256399241.py:10: FutureWarning:\n",
      "\n",
      "suggest_loguniform has been deprecated in v3.0.0. This feature will be removed in v6.0.0. See https://github.com/optuna/optuna/releases/tag/v3.0.0. Use suggest_float(..., log=True) instead.\n",
      "\n",
      "c:\\Users\\ivanm\\AppData\\Local\\Programs\\Python\\Python39\\lib\\site-packages\\sklearn\\utils\\_param_validation.py:558: FutureWarning:\n",
      "\n",
      "Passing an int for a boolean parameter is deprecated in version 1.2 and won't be supported anymore in version 1.4.\n",
      "\n",
      "[I 2024-12-23 14:35:52,968] Trial 289 finished with value: 0.09790209790209792 and parameters: {'alpha': 28.914549840607194, 'force_alpha': 1, 'fit_prior': 1}. Best is trial 5 with value: 0.11188811188811187.\n"
     ]
    },
    {
     "name": "stdout",
     "output_type": "stream",
     "text": [
      "Trial 289 finished with value: 0.09790209790209792 and parameters: {'alpha': 28.914549840607194, 'force_alpha': 1, 'fit_prior': 1}. Best is trial 5 with value: 0.11188811188811187.\n",
      "Trial 289 finished with value: 0.09790209790209792 and parameters: {'alpha': 28.914549840607194, 'force_alpha': 1, 'fit_prior': 1}. Best is trial 5 with value: 0.11188811188811187.\n",
      "Trial 289 finished with value: 0.09790209790209792 and parameters: {'alpha': 28.914549840607194, 'force_alpha': 1, 'fit_prior': 1}. Best is trial 5 with value: 0.11188811188811187.\n",
      "Trial 289 finished with value: 0.09790209790209792 and parameters: {'alpha': 28.914549840607194, 'force_alpha': 1, 'fit_prior': 1}. Best is trial 5 with value: 0.11188811188811187.\n"
     ]
    },
    {
     "name": "stderr",
     "output_type": "stream",
     "text": [
      "C:\\Users\\ivanm\\AppData\\Local\\Temp\\ipykernel_5188\\4256399241.py:10: FutureWarning:\n",
      "\n",
      "suggest_loguniform has been deprecated in v3.0.0. This feature will be removed in v6.0.0. See https://github.com/optuna/optuna/releases/tag/v3.0.0. Use suggest_float(..., log=True) instead.\n",
      "\n",
      "c:\\Users\\ivanm\\AppData\\Local\\Programs\\Python\\Python39\\lib\\site-packages\\sklearn\\utils\\_param_validation.py:558: FutureWarning:\n",
      "\n",
      "Passing an int for a boolean parameter is deprecated in version 1.2 and won't be supported anymore in version 1.4.\n",
      "\n",
      "[I 2024-12-23 14:35:53,080] Trial 290 finished with value: 0.09790209790209792 and parameters: {'alpha': 824.889202416136, 'force_alpha': 1, 'fit_prior': 1}. Best is trial 5 with value: 0.11188811188811187.\n"
     ]
    },
    {
     "name": "stdout",
     "output_type": "stream",
     "text": [
      "Trial 290 finished with value: 0.09790209790209792 and parameters: {'alpha': 824.889202416136, 'force_alpha': 1, 'fit_prior': 1}. Best is trial 5 with value: 0.11188811188811187.\n",
      "Trial 290 finished with value: 0.09790209790209792 and parameters: {'alpha': 824.889202416136, 'force_alpha': 1, 'fit_prior': 1}. Best is trial 5 with value: 0.11188811188811187.\n",
      "Trial 290 finished with value: 0.09790209790209792 and parameters: {'alpha': 824.889202416136, 'force_alpha': 1, 'fit_prior': 1}. Best is trial 5 with value: 0.11188811188811187.\n",
      "Trial 290 finished with value: 0.09790209790209792 and parameters: {'alpha': 824.889202416136, 'force_alpha': 1, 'fit_prior': 1}. Best is trial 5 with value: 0.11188811188811187.\n"
     ]
    },
    {
     "name": "stderr",
     "output_type": "stream",
     "text": [
      "C:\\Users\\ivanm\\AppData\\Local\\Temp\\ipykernel_5188\\4256399241.py:10: FutureWarning:\n",
      "\n",
      "suggest_loguniform has been deprecated in v3.0.0. This feature will be removed in v6.0.0. See https://github.com/optuna/optuna/releases/tag/v3.0.0. Use suggest_float(..., log=True) instead.\n",
      "\n",
      "c:\\Users\\ivanm\\AppData\\Local\\Programs\\Python\\Python39\\lib\\site-packages\\sklearn\\utils\\_param_validation.py:558: FutureWarning:\n",
      "\n",
      "Passing an int for a boolean parameter is deprecated in version 1.2 and won't be supported anymore in version 1.4.\n",
      "\n",
      "[I 2024-12-23 14:35:53,213] Trial 291 finished with value: 0.09790209790209792 and parameters: {'alpha': 0.04001377902871208, 'force_alpha': 0, 'fit_prior': 1}. Best is trial 5 with value: 0.11188811188811187.\n"
     ]
    },
    {
     "name": "stdout",
     "output_type": "stream",
     "text": [
      "Trial 291 finished with value: 0.09790209790209792 and parameters: {'alpha': 0.04001377902871208, 'force_alpha': 0, 'fit_prior': 1}. Best is trial 5 with value: 0.11188811188811187.\n",
      "Trial 291 finished with value: 0.09790209790209792 and parameters: {'alpha': 0.04001377902871208, 'force_alpha': 0, 'fit_prior': 1}. Best is trial 5 with value: 0.11188811188811187.\n",
      "Trial 291 finished with value: 0.09790209790209792 and parameters: {'alpha': 0.04001377902871208, 'force_alpha': 0, 'fit_prior': 1}. Best is trial 5 with value: 0.11188811188811187.\n",
      "Trial 291 finished with value: 0.09790209790209792 and parameters: {'alpha': 0.04001377902871208, 'force_alpha': 0, 'fit_prior': 1}. Best is trial 5 with value: 0.11188811188811187.\n"
     ]
    },
    {
     "name": "stderr",
     "output_type": "stream",
     "text": [
      "C:\\Users\\ivanm\\AppData\\Local\\Temp\\ipykernel_5188\\4256399241.py:10: FutureWarning:\n",
      "\n",
      "suggest_loguniform has been deprecated in v3.0.0. This feature will be removed in v6.0.0. See https://github.com/optuna/optuna/releases/tag/v3.0.0. Use suggest_float(..., log=True) instead.\n",
      "\n",
      "c:\\Users\\ivanm\\AppData\\Local\\Programs\\Python\\Python39\\lib\\site-packages\\sklearn\\utils\\_param_validation.py:558: FutureWarning:\n",
      "\n",
      "Passing an int for a boolean parameter is deprecated in version 1.2 and won't be supported anymore in version 1.4.\n",
      "\n",
      "[I 2024-12-23 14:35:53,323] Trial 292 finished with value: 0.09790209790209792 and parameters: {'alpha': 6.841021551476494, 'force_alpha': 1, 'fit_prior': 0}. Best is trial 5 with value: 0.11188811188811187.\n"
     ]
    },
    {
     "name": "stdout",
     "output_type": "stream",
     "text": [
      "Trial 292 finished with value: 0.09790209790209792 and parameters: {'alpha': 6.841021551476494, 'force_alpha': 1, 'fit_prior': 0}. Best is trial 5 with value: 0.11188811188811187.\n",
      "Trial 292 finished with value: 0.09790209790209792 and parameters: {'alpha': 6.841021551476494, 'force_alpha': 1, 'fit_prior': 0}. Best is trial 5 with value: 0.11188811188811187.\n",
      "Trial 292 finished with value: 0.09790209790209792 and parameters: {'alpha': 6.841021551476494, 'force_alpha': 1, 'fit_prior': 0}. Best is trial 5 with value: 0.11188811188811187.\n",
      "Trial 292 finished with value: 0.09790209790209792 and parameters: {'alpha': 6.841021551476494, 'force_alpha': 1, 'fit_prior': 0}. Best is trial 5 with value: 0.11188811188811187.\n"
     ]
    },
    {
     "name": "stderr",
     "output_type": "stream",
     "text": [
      "C:\\Users\\ivanm\\AppData\\Local\\Temp\\ipykernel_5188\\4256399241.py:10: FutureWarning:\n",
      "\n",
      "suggest_loguniform has been deprecated in v3.0.0. This feature will be removed in v6.0.0. See https://github.com/optuna/optuna/releases/tag/v3.0.0. Use suggest_float(..., log=True) instead.\n",
      "\n",
      "c:\\Users\\ivanm\\AppData\\Local\\Programs\\Python\\Python39\\lib\\site-packages\\sklearn\\utils\\_param_validation.py:558: FutureWarning:\n",
      "\n",
      "Passing an int for a boolean parameter is deprecated in version 1.2 and won't be supported anymore in version 1.4.\n",
      "\n",
      "[I 2024-12-23 14:35:53,432] Trial 293 finished with value: 0.09790209790209792 and parameters: {'alpha': 74.05563683716453, 'force_alpha': 0, 'fit_prior': 0}. Best is trial 5 with value: 0.11188811188811187.\n"
     ]
    },
    {
     "name": "stdout",
     "output_type": "stream",
     "text": [
      "Trial 293 finished with value: 0.09790209790209792 and parameters: {'alpha': 74.05563683716453, 'force_alpha': 0, 'fit_prior': 0}. Best is trial 5 with value: 0.11188811188811187.\n",
      "Trial 293 finished with value: 0.09790209790209792 and parameters: {'alpha': 74.05563683716453, 'force_alpha': 0, 'fit_prior': 0}. Best is trial 5 with value: 0.11188811188811187.\n",
      "Trial 293 finished with value: 0.09790209790209792 and parameters: {'alpha': 74.05563683716453, 'force_alpha': 0, 'fit_prior': 0}. Best is trial 5 with value: 0.11188811188811187.\n",
      "Trial 293 finished with value: 0.09790209790209792 and parameters: {'alpha': 74.05563683716453, 'force_alpha': 0, 'fit_prior': 0}. Best is trial 5 with value: 0.11188811188811187.\n"
     ]
    },
    {
     "name": "stderr",
     "output_type": "stream",
     "text": [
      "C:\\Users\\ivanm\\AppData\\Local\\Temp\\ipykernel_5188\\4256399241.py:10: FutureWarning:\n",
      "\n",
      "suggest_loguniform has been deprecated in v3.0.0. This feature will be removed in v6.0.0. See https://github.com/optuna/optuna/releases/tag/v3.0.0. Use suggest_float(..., log=True) instead.\n",
      "\n",
      "c:\\Users\\ivanm\\AppData\\Local\\Programs\\Python\\Python39\\lib\\site-packages\\sklearn\\utils\\_param_validation.py:558: FutureWarning:\n",
      "\n",
      "Passing an int for a boolean parameter is deprecated in version 1.2 and won't be supported anymore in version 1.4.\n",
      "\n",
      "[I 2024-12-23 14:35:53,450] Trial 294 pruned. \n"
     ]
    },
    {
     "name": "stdout",
     "output_type": "stream",
     "text": [
      "Trial 294 pruned. \n",
      "Trial 294 pruned. \n",
      "Trial 294 pruned. \n",
      "Trial 294 pruned. \n"
     ]
    },
    {
     "name": "stderr",
     "output_type": "stream",
     "text": [
      "C:\\Users\\ivanm\\AppData\\Local\\Temp\\ipykernel_5188\\4256399241.py:10: FutureWarning:\n",
      "\n",
      "suggest_loguniform has been deprecated in v3.0.0. This feature will be removed in v6.0.0. See https://github.com/optuna/optuna/releases/tag/v3.0.0. Use suggest_float(..., log=True) instead.\n",
      "\n",
      "c:\\Users\\ivanm\\AppData\\Local\\Programs\\Python\\Python39\\lib\\site-packages\\sklearn\\utils\\_param_validation.py:558: FutureWarning:\n",
      "\n",
      "Passing an int for a boolean parameter is deprecated in version 1.2 and won't be supported anymore in version 1.4.\n",
      "\n",
      "[I 2024-12-23 14:35:53,558] Trial 295 finished with value: 0.09790209790209792 and parameters: {'alpha': 0.00017629767817748288, 'force_alpha': 1, 'fit_prior': 0}. Best is trial 5 with value: 0.11188811188811187.\n"
     ]
    },
    {
     "name": "stdout",
     "output_type": "stream",
     "text": [
      "Trial 295 finished with value: 0.09790209790209792 and parameters: {'alpha': 0.00017629767817748288, 'force_alpha': 1, 'fit_prior': 0}. Best is trial 5 with value: 0.11188811188811187.\n",
      "Trial 295 finished with value: 0.09790209790209792 and parameters: {'alpha': 0.00017629767817748288, 'force_alpha': 1, 'fit_prior': 0}. Best is trial 5 with value: 0.11188811188811187.\n",
      "Trial 295 finished with value: 0.09790209790209792 and parameters: {'alpha': 0.00017629767817748288, 'force_alpha': 1, 'fit_prior': 0}. Best is trial 5 with value: 0.11188811188811187.\n",
      "Trial 295 finished with value: 0.09790209790209792 and parameters: {'alpha': 0.00017629767817748288, 'force_alpha': 1, 'fit_prior': 0}. Best is trial 5 with value: 0.11188811188811187.\n"
     ]
    },
    {
     "name": "stderr",
     "output_type": "stream",
     "text": [
      "C:\\Users\\ivanm\\AppData\\Local\\Temp\\ipykernel_5188\\4256399241.py:10: FutureWarning:\n",
      "\n",
      "suggest_loguniform has been deprecated in v3.0.0. This feature will be removed in v6.0.0. See https://github.com/optuna/optuna/releases/tag/v3.0.0. Use suggest_float(..., log=True) instead.\n",
      "\n",
      "c:\\Users\\ivanm\\AppData\\Local\\Programs\\Python\\Python39\\lib\\site-packages\\sklearn\\utils\\_param_validation.py:558: FutureWarning:\n",
      "\n",
      "Passing an int for a boolean parameter is deprecated in version 1.2 and won't be supported anymore in version 1.4.\n",
      "\n",
      "[I 2024-12-23 14:35:53,668] Trial 296 finished with value: 0.09790209790209792 and parameters: {'alpha': 0.0020502540179411395, 'force_alpha': 0, 'fit_prior': 1}. Best is trial 5 with value: 0.11188811188811187.\n"
     ]
    },
    {
     "name": "stdout",
     "output_type": "stream",
     "text": [
      "Trial 296 finished with value: 0.09790209790209792 and parameters: {'alpha': 0.0020502540179411395, 'force_alpha': 0, 'fit_prior': 1}. Best is trial 5 with value: 0.11188811188811187.\n",
      "Trial 296 finished with value: 0.09790209790209792 and parameters: {'alpha': 0.0020502540179411395, 'force_alpha': 0, 'fit_prior': 1}. Best is trial 5 with value: 0.11188811188811187.\n",
      "Trial 296 finished with value: 0.09790209790209792 and parameters: {'alpha': 0.0020502540179411395, 'force_alpha': 0, 'fit_prior': 1}. Best is trial 5 with value: 0.11188811188811187.\n",
      "Trial 296 finished with value: 0.09790209790209792 and parameters: {'alpha': 0.0020502540179411395, 'force_alpha': 0, 'fit_prior': 1}. Best is trial 5 with value: 0.11188811188811187.\n"
     ]
    },
    {
     "name": "stderr",
     "output_type": "stream",
     "text": [
      "C:\\Users\\ivanm\\AppData\\Local\\Temp\\ipykernel_5188\\4256399241.py:10: FutureWarning:\n",
      "\n",
      "suggest_loguniform has been deprecated in v3.0.0. This feature will be removed in v6.0.0. See https://github.com/optuna/optuna/releases/tag/v3.0.0. Use suggest_float(..., log=True) instead.\n",
      "\n",
      "c:\\Users\\ivanm\\AppData\\Local\\Programs\\Python\\Python39\\lib\\site-packages\\sklearn\\utils\\_param_validation.py:558: FutureWarning:\n",
      "\n",
      "Passing an int for a boolean parameter is deprecated in version 1.2 and won't be supported anymore in version 1.4.\n",
      "\n",
      "[I 2024-12-23 14:35:53,774] Trial 297 finished with value: 0.09790209790209792 and parameters: {'alpha': 0.0050956984632583606, 'force_alpha': 0, 'fit_prior': 0}. Best is trial 5 with value: 0.11188811188811187.\n"
     ]
    },
    {
     "name": "stdout",
     "output_type": "stream",
     "text": [
      "Trial 297 finished with value: 0.09790209790209792 and parameters: {'alpha': 0.0050956984632583606, 'force_alpha': 0, 'fit_prior': 0}. Best is trial 5 with value: 0.11188811188811187.\n",
      "Trial 297 finished with value: 0.09790209790209792 and parameters: {'alpha': 0.0050956984632583606, 'force_alpha': 0, 'fit_prior': 0}. Best is trial 5 with value: 0.11188811188811187.\n",
      "Trial 297 finished with value: 0.09790209790209792 and parameters: {'alpha': 0.0050956984632583606, 'force_alpha': 0, 'fit_prior': 0}. Best is trial 5 with value: 0.11188811188811187.\n",
      "Trial 297 finished with value: 0.09790209790209792 and parameters: {'alpha': 0.0050956984632583606, 'force_alpha': 0, 'fit_prior': 0}. Best is trial 5 with value: 0.11188811188811187.\n"
     ]
    },
    {
     "name": "stderr",
     "output_type": "stream",
     "text": [
      "C:\\Users\\ivanm\\AppData\\Local\\Temp\\ipykernel_5188\\4256399241.py:10: FutureWarning:\n",
      "\n",
      "suggest_loguniform has been deprecated in v3.0.0. This feature will be removed in v6.0.0. See https://github.com/optuna/optuna/releases/tag/v3.0.0. Use suggest_float(..., log=True) instead.\n",
      "\n",
      "c:\\Users\\ivanm\\AppData\\Local\\Programs\\Python\\Python39\\lib\\site-packages\\sklearn\\utils\\_param_validation.py:558: FutureWarning:\n",
      "\n",
      "Passing an int for a boolean parameter is deprecated in version 1.2 and won't be supported anymore in version 1.4.\n",
      "\n",
      "[I 2024-12-23 14:35:53,883] Trial 298 finished with value: 0.09790209790209792 and parameters: {'alpha': 1916.5301228203925, 'force_alpha': 1, 'fit_prior': 0}. Best is trial 5 with value: 0.11188811188811187.\n"
     ]
    },
    {
     "name": "stdout",
     "output_type": "stream",
     "text": [
      "Trial 298 finished with value: 0.09790209790209792 and parameters: {'alpha': 1916.5301228203925, 'force_alpha': 1, 'fit_prior': 0}. Best is trial 5 with value: 0.11188811188811187.\n",
      "Trial 298 finished with value: 0.09790209790209792 and parameters: {'alpha': 1916.5301228203925, 'force_alpha': 1, 'fit_prior': 0}. Best is trial 5 with value: 0.11188811188811187.\n",
      "Trial 298 finished with value: 0.09790209790209792 and parameters: {'alpha': 1916.5301228203925, 'force_alpha': 1, 'fit_prior': 0}. Best is trial 5 with value: 0.11188811188811187.\n",
      "Trial 298 finished with value: 0.09790209790209792 and parameters: {'alpha': 1916.5301228203925, 'force_alpha': 1, 'fit_prior': 0}. Best is trial 5 with value: 0.11188811188811187.\n"
     ]
    },
    {
     "name": "stderr",
     "output_type": "stream",
     "text": [
      "C:\\Users\\ivanm\\AppData\\Local\\Temp\\ipykernel_5188\\4256399241.py:10: FutureWarning:\n",
      "\n",
      "suggest_loguniform has been deprecated in v3.0.0. This feature will be removed in v6.0.0. See https://github.com/optuna/optuna/releases/tag/v3.0.0. Use suggest_float(..., log=True) instead.\n",
      "\n",
      "c:\\Users\\ivanm\\AppData\\Local\\Programs\\Python\\Python39\\lib\\site-packages\\sklearn\\utils\\_param_validation.py:558: FutureWarning:\n",
      "\n",
      "Passing an int for a boolean parameter is deprecated in version 1.2 and won't be supported anymore in version 1.4.\n",
      "\n",
      "[I 2024-12-23 14:35:54,000] Trial 299 finished with value: 0.09790209790209792 and parameters: {'alpha': 0.00032554803581740324, 'force_alpha': 0, 'fit_prior': 0}. Best is trial 5 with value: 0.11188811188811187.\n"
     ]
    },
    {
     "name": "stdout",
     "output_type": "stream",
     "text": [
      "Trial 299 finished with value: 0.09790209790209792 and parameters: {'alpha': 0.00032554803581740324, 'force_alpha': 0, 'fit_prior': 0}. Best is trial 5 with value: 0.11188811188811187.\n",
      "Trial 299 finished with value: 0.09790209790209792 and parameters: {'alpha': 0.00032554803581740324, 'force_alpha': 0, 'fit_prior': 0}. Best is trial 5 with value: 0.11188811188811187.\n",
      "Trial 299 finished with value: 0.09790209790209792 and parameters: {'alpha': 0.00032554803581740324, 'force_alpha': 0, 'fit_prior': 0}. Best is trial 5 with value: 0.11188811188811187.\n",
      "Trial 299 finished with value: 0.09790209790209792 and parameters: {'alpha': 0.00032554803581740324, 'force_alpha': 0, 'fit_prior': 0}. Best is trial 5 with value: 0.11188811188811187.\n"
     ]
    },
    {
     "name": "stderr",
     "output_type": "stream",
     "text": [
      "C:\\Users\\ivanm\\AppData\\Local\\Temp\\ipykernel_5188\\4256399241.py:10: FutureWarning:\n",
      "\n",
      "suggest_loguniform has been deprecated in v3.0.0. This feature will be removed in v6.0.0. See https://github.com/optuna/optuna/releases/tag/v3.0.0. Use suggest_float(..., log=True) instead.\n",
      "\n",
      "c:\\Users\\ivanm\\AppData\\Local\\Programs\\Python\\Python39\\lib\\site-packages\\sklearn\\utils\\_param_validation.py:558: FutureWarning:\n",
      "\n",
      "Passing an int for a boolean parameter is deprecated in version 1.2 and won't be supported anymore in version 1.4.\n",
      "\n",
      "[I 2024-12-23 14:35:54,109] Trial 300 finished with value: 0.09790209790209792 and parameters: {'alpha': 16.764801886061875, 'force_alpha': 1, 'fit_prior': 0}. Best is trial 5 with value: 0.11188811188811187.\n"
     ]
    },
    {
     "name": "stdout",
     "output_type": "stream",
     "text": [
      "Trial 300 finished with value: 0.09790209790209792 and parameters: {'alpha': 16.764801886061875, 'force_alpha': 1, 'fit_prior': 0}. Best is trial 5 with value: 0.11188811188811187.\n",
      "Trial 300 finished with value: 0.09790209790209792 and parameters: {'alpha': 16.764801886061875, 'force_alpha': 1, 'fit_prior': 0}. Best is trial 5 with value: 0.11188811188811187.\n",
      "Trial 300 finished with value: 0.09790209790209792 and parameters: {'alpha': 16.764801886061875, 'force_alpha': 1, 'fit_prior': 0}. Best is trial 5 with value: 0.11188811188811187.\n",
      "Trial 300 finished with value: 0.09790209790209792 and parameters: {'alpha': 16.764801886061875, 'force_alpha': 1, 'fit_prior': 0}. Best is trial 5 with value: 0.11188811188811187.\n"
     ]
    },
    {
     "name": "stderr",
     "output_type": "stream",
     "text": [
      "C:\\Users\\ivanm\\AppData\\Local\\Temp\\ipykernel_5188\\4256399241.py:10: FutureWarning:\n",
      "\n",
      "suggest_loguniform has been deprecated in v3.0.0. This feature will be removed in v6.0.0. See https://github.com/optuna/optuna/releases/tag/v3.0.0. Use suggest_float(..., log=True) instead.\n",
      "\n",
      "c:\\Users\\ivanm\\AppData\\Local\\Programs\\Python\\Python39\\lib\\site-packages\\sklearn\\utils\\_param_validation.py:558: FutureWarning:\n",
      "\n",
      "Passing an int for a boolean parameter is deprecated in version 1.2 and won't be supported anymore in version 1.4.\n",
      "\n",
      "[I 2024-12-23 14:35:54,218] Trial 301 finished with value: 0.09790209790209792 and parameters: {'alpha': 0.005749613875861086, 'force_alpha': 0, 'fit_prior': 0}. Best is trial 5 with value: 0.11188811188811187.\n"
     ]
    },
    {
     "name": "stdout",
     "output_type": "stream",
     "text": [
      "Trial 301 finished with value: 0.09790209790209792 and parameters: {'alpha': 0.005749613875861086, 'force_alpha': 0, 'fit_prior': 0}. Best is trial 5 with value: 0.11188811188811187.\n",
      "Trial 301 finished with value: 0.09790209790209792 and parameters: {'alpha': 0.005749613875861086, 'force_alpha': 0, 'fit_prior': 0}. Best is trial 5 with value: 0.11188811188811187.\n",
      "Trial 301 finished with value: 0.09790209790209792 and parameters: {'alpha': 0.005749613875861086, 'force_alpha': 0, 'fit_prior': 0}. Best is trial 5 with value: 0.11188811188811187.\n",
      "Trial 301 finished with value: 0.09790209790209792 and parameters: {'alpha': 0.005749613875861086, 'force_alpha': 0, 'fit_prior': 0}. Best is trial 5 with value: 0.11188811188811187.\n"
     ]
    },
    {
     "name": "stderr",
     "output_type": "stream",
     "text": [
      "C:\\Users\\ivanm\\AppData\\Local\\Temp\\ipykernel_5188\\4256399241.py:10: FutureWarning:\n",
      "\n",
      "suggest_loguniform has been deprecated in v3.0.0. This feature will be removed in v6.0.0. See https://github.com/optuna/optuna/releases/tag/v3.0.0. Use suggest_float(..., log=True) instead.\n",
      "\n",
      "c:\\Users\\ivanm\\AppData\\Local\\Programs\\Python\\Python39\\lib\\site-packages\\sklearn\\utils\\_param_validation.py:558: FutureWarning:\n",
      "\n",
      "Passing an int for a boolean parameter is deprecated in version 1.2 and won't be supported anymore in version 1.4.\n",
      "\n",
      "[I 2024-12-23 14:35:54,327] Trial 302 finished with value: 0.09790209790209792 and parameters: {'alpha': 0.0002283589420859781, 'force_alpha': 0, 'fit_prior': 1}. Best is trial 5 with value: 0.11188811188811187.\n"
     ]
    },
    {
     "name": "stdout",
     "output_type": "stream",
     "text": [
      "Trial 302 finished with value: 0.09790209790209792 and parameters: {'alpha': 0.0002283589420859781, 'force_alpha': 0, 'fit_prior': 1}. Best is trial 5 with value: 0.11188811188811187.\n",
      "Trial 302 finished with value: 0.09790209790209792 and parameters: {'alpha': 0.0002283589420859781, 'force_alpha': 0, 'fit_prior': 1}. Best is trial 5 with value: 0.11188811188811187.\n",
      "Trial 302 finished with value: 0.09790209790209792 and parameters: {'alpha': 0.0002283589420859781, 'force_alpha': 0, 'fit_prior': 1}. Best is trial 5 with value: 0.11188811188811187.\n",
      "Trial 302 finished with value: 0.09790209790209792 and parameters: {'alpha': 0.0002283589420859781, 'force_alpha': 0, 'fit_prior': 1}. Best is trial 5 with value: 0.11188811188811187.\n"
     ]
    },
    {
     "name": "stderr",
     "output_type": "stream",
     "text": [
      "C:\\Users\\ivanm\\AppData\\Local\\Temp\\ipykernel_5188\\4256399241.py:10: FutureWarning:\n",
      "\n",
      "suggest_loguniform has been deprecated in v3.0.0. This feature will be removed in v6.0.0. See https://github.com/optuna/optuna/releases/tag/v3.0.0. Use suggest_float(..., log=True) instead.\n",
      "\n",
      "c:\\Users\\ivanm\\AppData\\Local\\Programs\\Python\\Python39\\lib\\site-packages\\sklearn\\utils\\_param_validation.py:558: FutureWarning:\n",
      "\n",
      "Passing an int for a boolean parameter is deprecated in version 1.2 and won't be supported anymore in version 1.4.\n",
      "\n",
      "[I 2024-12-23 14:35:54,336] Trial 303 pruned. \n"
     ]
    },
    {
     "name": "stdout",
     "output_type": "stream",
     "text": [
      "Trial 303 pruned. \n",
      "Trial 303 pruned. \n",
      "Trial 303 pruned. \n",
      "Trial 303 pruned. \n"
     ]
    },
    {
     "name": "stderr",
     "output_type": "stream",
     "text": [
      "C:\\Users\\ivanm\\AppData\\Local\\Temp\\ipykernel_5188\\4256399241.py:10: FutureWarning:\n",
      "\n",
      "suggest_loguniform has been deprecated in v3.0.0. This feature will be removed in v6.0.0. See https://github.com/optuna/optuna/releases/tag/v3.0.0. Use suggest_float(..., log=True) instead.\n",
      "\n",
      "c:\\Users\\ivanm\\AppData\\Local\\Programs\\Python\\Python39\\lib\\site-packages\\sklearn\\utils\\_param_validation.py:558: FutureWarning:\n",
      "\n",
      "Passing an int for a boolean parameter is deprecated in version 1.2 and won't be supported anymore in version 1.4.\n",
      "\n",
      "[I 2024-12-23 14:35:54,442] Trial 304 finished with value: 0.09790209790209792 and parameters: {'alpha': 0.1214413121213034, 'force_alpha': 0, 'fit_prior': 1}. Best is trial 5 with value: 0.11188811188811187.\n"
     ]
    },
    {
     "name": "stdout",
     "output_type": "stream",
     "text": [
      "Trial 304 finished with value: 0.09790209790209792 and parameters: {'alpha': 0.1214413121213034, 'force_alpha': 0, 'fit_prior': 1}. Best is trial 5 with value: 0.11188811188811187.\n",
      "Trial 304 finished with value: 0.09790209790209792 and parameters: {'alpha': 0.1214413121213034, 'force_alpha': 0, 'fit_prior': 1}. Best is trial 5 with value: 0.11188811188811187.\n",
      "Trial 304 finished with value: 0.09790209790209792 and parameters: {'alpha': 0.1214413121213034, 'force_alpha': 0, 'fit_prior': 1}. Best is trial 5 with value: 0.11188811188811187.\n",
      "Trial 304 finished with value: 0.09790209790209792 and parameters: {'alpha': 0.1214413121213034, 'force_alpha': 0, 'fit_prior': 1}. Best is trial 5 with value: 0.11188811188811187.\n"
     ]
    },
    {
     "name": "stderr",
     "output_type": "stream",
     "text": [
      "C:\\Users\\ivanm\\AppData\\Local\\Temp\\ipykernel_5188\\4256399241.py:10: FutureWarning:\n",
      "\n",
      "suggest_loguniform has been deprecated in v3.0.0. This feature will be removed in v6.0.0. See https://github.com/optuna/optuna/releases/tag/v3.0.0. Use suggest_float(..., log=True) instead.\n",
      "\n",
      "c:\\Users\\ivanm\\AppData\\Local\\Programs\\Python\\Python39\\lib\\site-packages\\sklearn\\utils\\_param_validation.py:558: FutureWarning:\n",
      "\n",
      "Passing an int for a boolean parameter is deprecated in version 1.2 and won't be supported anymore in version 1.4.\n",
      "\n",
      "[I 2024-12-23 14:35:54,543] Trial 305 finished with value: 0.09790209790209792 and parameters: {'alpha': 0.01382286543794054, 'force_alpha': 1, 'fit_prior': 0}. Best is trial 5 with value: 0.11188811188811187.\n"
     ]
    },
    {
     "name": "stdout",
     "output_type": "stream",
     "text": [
      "Trial 305 finished with value: 0.09790209790209792 and parameters: {'alpha': 0.01382286543794054, 'force_alpha': 1, 'fit_prior': 0}. Best is trial 5 with value: 0.11188811188811187.\n",
      "Trial 305 finished with value: 0.09790209790209792 and parameters: {'alpha': 0.01382286543794054, 'force_alpha': 1, 'fit_prior': 0}. Best is trial 5 with value: 0.11188811188811187.\n",
      "Trial 305 finished with value: 0.09790209790209792 and parameters: {'alpha': 0.01382286543794054, 'force_alpha': 1, 'fit_prior': 0}. Best is trial 5 with value: 0.11188811188811187.\n",
      "Trial 305 finished with value: 0.09790209790209792 and parameters: {'alpha': 0.01382286543794054, 'force_alpha': 1, 'fit_prior': 0}. Best is trial 5 with value: 0.11188811188811187.\n"
     ]
    },
    {
     "name": "stderr",
     "output_type": "stream",
     "text": [
      "C:\\Users\\ivanm\\AppData\\Local\\Temp\\ipykernel_5188\\4256399241.py:10: FutureWarning:\n",
      "\n",
      "suggest_loguniform has been deprecated in v3.0.0. This feature will be removed in v6.0.0. See https://github.com/optuna/optuna/releases/tag/v3.0.0. Use suggest_float(..., log=True) instead.\n",
      "\n",
      "c:\\Users\\ivanm\\AppData\\Local\\Programs\\Python\\Python39\\lib\\site-packages\\sklearn\\utils\\_param_validation.py:558: FutureWarning:\n",
      "\n",
      "Passing an int for a boolean parameter is deprecated in version 1.2 and won't be supported anymore in version 1.4.\n",
      "\n",
      "[I 2024-12-23 14:35:54,655] Trial 306 finished with value: 0.09790209790209792 and parameters: {'alpha': 37.31652327154326, 'force_alpha': 1, 'fit_prior': 0}. Best is trial 5 with value: 0.11188811188811187.\n"
     ]
    },
    {
     "name": "stdout",
     "output_type": "stream",
     "text": [
      "Trial 306 finished with value: 0.09790209790209792 and parameters: {'alpha': 37.31652327154326, 'force_alpha': 1, 'fit_prior': 0}. Best is trial 5 with value: 0.11188811188811187.\n",
      "Trial 306 finished with value: 0.09790209790209792 and parameters: {'alpha': 37.31652327154326, 'force_alpha': 1, 'fit_prior': 0}. Best is trial 5 with value: 0.11188811188811187.\n",
      "Trial 306 finished with value: 0.09790209790209792 and parameters: {'alpha': 37.31652327154326, 'force_alpha': 1, 'fit_prior': 0}. Best is trial 5 with value: 0.11188811188811187.\n",
      "Trial 306 finished with value: 0.09790209790209792 and parameters: {'alpha': 37.31652327154326, 'force_alpha': 1, 'fit_prior': 0}. Best is trial 5 with value: 0.11188811188811187.\n"
     ]
    },
    {
     "name": "stderr",
     "output_type": "stream",
     "text": [
      "C:\\Users\\ivanm\\AppData\\Local\\Temp\\ipykernel_5188\\4256399241.py:10: FutureWarning:\n",
      "\n",
      "suggest_loguniform has been deprecated in v3.0.0. This feature will be removed in v6.0.0. See https://github.com/optuna/optuna/releases/tag/v3.0.0. Use suggest_float(..., log=True) instead.\n",
      "\n",
      "c:\\Users\\ivanm\\AppData\\Local\\Programs\\Python\\Python39\\lib\\site-packages\\sklearn\\utils\\_param_validation.py:558: FutureWarning:\n",
      "\n",
      "Passing an int for a boolean parameter is deprecated in version 1.2 and won't be supported anymore in version 1.4.\n",
      "\n",
      "[I 2024-12-23 14:35:54,666] Trial 307 pruned. \n"
     ]
    },
    {
     "name": "stdout",
     "output_type": "stream",
     "text": [
      "Trial 307 pruned. \n",
      "Trial 307 pruned. \n",
      "Trial 307 pruned. \n",
      "Trial 307 pruned. \n"
     ]
    }
   ],
   "source": [
    "study_2.optimize(objective, n_trials=100)"
   ]
  },
  {
   "cell_type": "code",
   "execution_count": 34,
   "metadata": {},
   "outputs": [
    {
     "data": {
      "text/plain": [
       "FrozenTrial(number=5, state=TrialState.COMPLETE, values=[0.11188811188811187], datetime_start=datetime.datetime(2024, 12, 23, 14, 35, 7, 223184), datetime_complete=datetime.datetime(2024, 12, 23, 14, 35, 7, 356185), params={'alpha': 3858.103775335643, 'force_alpha': 0, 'fit_prior': 0}, user_attrs={}, system_attrs={'completed_rung_0': 0.23776223776223782, 'completed_rung_1': 0.09790209790209792, 'completed_rung_2': 0.1048951048951049, 'completed_rung_3': 0.1048951048951049}, intermediate_values={0: 0.6223776223776224, 1: 0.4755244755244755, 2: 0.3496503496503497, 3: 0.23776223776223782, 4: 0.19580419580419584, 5: 0.16083916083916083, 6: 0.13286713286713292, 7: 0.13286713286713292, 8: 0.1048951048951049, 9: 0.09790209790209792, 10: 0.09090909090909094, 11: 0.09090909090909094, 12: 0.08391608391608396, 13: 0.09090909090909094, 14: 0.09090909090909094, 15: 0.09790209790209792, 16: 0.09790209790209792, 17: 0.09790209790209792, 18: 0.09790209790209792, 19: 0.09790209790209792, 20: 0.09790209790209792, 21: 0.1048951048951049, 22: 0.1048951048951049, 23: 0.1048951048951049, 24: 0.1048951048951049, 25: 0.1048951048951049, 26: 0.1048951048951049, 27: 0.1048951048951049, 28: 0.1048951048951049, 29: 0.1048951048951049, 30: 0.1048951048951049, 31: 0.1048951048951049, 32: 0.1048951048951049, 33: 0.1048951048951049, 34: 0.1048951048951049, 35: 0.11188811188811187, 36: 0.11188811188811187, 37: 0.11188811188811187, 38: 0.11188811188811187, 39: 0.1048951048951049, 40: 0.1048951048951049, 41: 0.1048951048951049, 42: 0.1048951048951049, 43: 0.1048951048951049, 44: 0.1048951048951049, 45: 0.1048951048951049, 46: 0.1048951048951049, 47: 0.1048951048951049, 48: 0.1048951048951049, 49: 0.1048951048951049, 50: 0.1048951048951049, 51: 0.1048951048951049, 52: 0.1048951048951049, 53: 0.11188811188811187, 54: 0.11188811188811187, 55: 0.11188811188811187, 56: 0.11188811188811187, 57: 0.11188811188811187, 58: 0.11188811188811187, 59: 0.11188811188811187, 60: 0.11188811188811187, 61: 0.1048951048951049, 62: 0.1048951048951049, 63: 0.1048951048951049, 64: 0.1048951048951049, 65: 0.1048951048951049, 66: 0.1048951048951049, 67: 0.1048951048951049, 68: 0.1048951048951049, 69: 0.1048951048951049, 70: 0.1048951048951049, 71: 0.1048951048951049, 72: 0.1048951048951049, 73: 0.1048951048951049, 74: 0.1048951048951049, 75: 0.1048951048951049, 76: 0.1048951048951049, 77: 0.1048951048951049, 78: 0.1048951048951049, 79: 0.1048951048951049, 80: 0.1048951048951049, 81: 0.1048951048951049, 82: 0.1048951048951049, 83: 0.1048951048951049, 84: 0.1048951048951049, 85: 0.1048951048951049, 86: 0.1048951048951049, 87: 0.1048951048951049, 88: 0.1048951048951049, 89: 0.11188811188811187, 90: 0.11188811188811187, 91: 0.11188811188811187, 92: 0.11188811188811187, 93: 0.11188811188811187, 94: 0.11188811188811187, 95: 0.11188811188811187, 96: 0.11188811188811187, 97: 0.11188811188811187, 98: 0.11188811188811187, 99: 0.11188811188811187}, distributions={'alpha': FloatDistribution(high=10000.0, log=True, low=0.0001, step=None), 'force_alpha': CategoricalDistribution(choices=(1, 0)), 'fit_prior': CategoricalDistribution(choices=(1, 0))}, trial_id=5, value=None)"
      ]
     },
     "execution_count": 34,
     "metadata": {},
     "output_type": "execute_result"
    }
   ],
   "source": [
    "study_2.best_trial"
   ]
  },
  {
   "cell_type": "code",
   "execution_count": 35,
   "metadata": {},
   "outputs": [
    {
     "data": {
      "application/vnd.plotly.v1+json": {
       "config": {
        "plotlyServerURL": "https://plot.ly"
       },
       "data": [
        {
         "mode": "markers",
         "name": "Objective Value",
         "type": "scatter",
         "x": [
          0,
          1,
          2,
          3,
          4,
          5,
          6,
          7,
          8,
          9,
          10,
          11,
          12,
          14,
          15,
          17,
          18,
          20,
          21,
          22,
          23,
          24,
          25,
          26,
          28,
          29,
          31,
          32,
          33,
          34,
          35,
          36,
          37,
          38,
          39,
          40,
          41,
          44,
          45,
          46,
          47,
          48,
          50,
          51,
          52,
          53,
          55,
          57,
          59,
          60,
          61,
          62,
          65,
          68,
          69,
          71,
          73,
          74,
          76,
          77,
          80,
          81,
          82,
          84,
          86,
          88,
          89,
          90,
          91,
          92,
          94,
          95,
          96,
          97,
          98,
          99,
          102,
          104,
          106,
          108,
          109,
          110,
          111,
          112,
          113,
          114,
          115,
          116,
          118,
          119,
          120,
          121,
          122,
          123,
          124,
          125,
          126,
          127,
          128,
          129,
          130,
          132,
          134,
          135,
          137,
          138,
          140,
          142,
          143,
          144,
          145,
          147,
          148,
          149,
          151,
          153,
          154,
          155,
          156,
          158,
          159,
          160,
          161,
          162,
          163,
          164,
          165,
          167,
          168,
          169,
          170,
          172,
          173,
          174,
          175,
          176,
          177,
          179,
          180,
          181,
          182,
          183,
          184,
          185,
          186,
          187,
          188,
          189,
          190,
          191,
          192,
          194,
          195,
          196,
          197,
          198,
          199,
          201,
          202,
          203,
          204,
          205,
          206,
          207,
          208,
          209,
          210,
          211,
          212,
          213,
          215,
          216,
          217,
          218,
          219,
          220,
          222,
          223,
          224,
          225,
          226,
          228,
          229,
          230,
          231,
          232,
          233,
          234,
          235,
          237,
          238,
          239,
          240,
          241,
          242,
          243,
          244,
          245,
          246,
          247,
          249,
          250,
          251,
          252,
          253,
          254,
          255,
          256,
          257,
          258,
          259,
          260,
          261,
          262,
          263,
          264,
          265,
          266,
          267,
          268,
          269,
          270,
          271,
          272,
          273,
          274,
          275,
          276,
          277,
          278,
          279,
          280,
          281,
          282,
          283,
          284,
          285,
          286,
          287,
          288,
          289,
          290,
          291,
          292,
          293,
          295,
          296,
          297,
          298,
          299,
          300,
          301,
          302,
          304,
          305,
          306
         ],
         "y": [
          0.09790209790209792,
          0.09790209790209792,
          0.09790209790209792,
          0.09790209790209792,
          0.09790209790209792,
          0.11188811188811187,
          0.09790209790209792,
          0.09790209790209792,
          0.09790209790209792,
          0.09790209790209792,
          0.09790209790209792,
          0.11188811188811187,
          0.09790209790209792,
          0.09790209790209792,
          0.09790209790209792,
          0.09790209790209792,
          0.09790209790209792,
          0.09790209790209792,
          0.09790209790209792,
          0.09790209790209792,
          0.09790209790209792,
          0.09790209790209792,
          0.09790209790209792,
          0.09790209790209792,
          0.09790209790209792,
          0.09790209790209792,
          0.09790209790209792,
          0.09790209790209792,
          0.09790209790209792,
          0.09790209790209792,
          0.09790209790209792,
          0.09790209790209792,
          0.09790209790209792,
          0.09790209790209792,
          0.09790209790209792,
          0.09790209790209792,
          0.09790209790209792,
          0.09790209790209792,
          0.09790209790209792,
          0.09790209790209792,
          0.09790209790209792,
          0.09790209790209792,
          0.09790209790209792,
          0.09790209790209792,
          0.09790209790209792,
          0.09790209790209792,
          0.09790209790209792,
          0.09790209790209792,
          0.09790209790209792,
          0.09790209790209792,
          0.09790209790209792,
          0.09790209790209792,
          0.09790209790209792,
          0.09790209790209792,
          0.09790209790209792,
          0.09790209790209792,
          0.09790209790209792,
          0.09790209790209792,
          0.09790209790209792,
          0.09790209790209792,
          0.09790209790209792,
          0.09790209790209792,
          0.09790209790209792,
          0.09790209790209792,
          0.09790209790209792,
          0.09790209790209792,
          0.09790209790209792,
          0.09790209790209792,
          0.09790209790209792,
          0.09790209790209792,
          0.09790209790209792,
          0.09790209790209792,
          0.09790209790209792,
          0.09790209790209792,
          0.1048951048951049,
          0.09790209790209792,
          0.09790209790209792,
          0.09790209790209792,
          0.1048951048951049,
          0.09790209790209792,
          0.09790209790209792,
          0.09790209790209792,
          0.09790209790209792,
          0.09790209790209792,
          0.11188811188811187,
          0.09790209790209792,
          0.09790209790209792,
          0.09790209790209792,
          0.09790209790209792,
          0.09790209790209792,
          0.09790209790209792,
          0.09790209790209792,
          0.09790209790209792,
          0.09790209790209792,
          0.09790209790209792,
          0.09790209790209792,
          0.09790209790209792,
          0.11188811188811187,
          0.09790209790209792,
          0.09790209790209792,
          0.09790209790209792,
          0.09790209790209792,
          0.09790209790209792,
          0.09790209790209792,
          0.09790209790209792,
          0.09790209790209792,
          0.09790209790209792,
          0.09790209790209792,
          0.09790209790209792,
          0.09790209790209792,
          0.09790209790209792,
          0.09790209790209792,
          0.09790209790209792,
          0.09790209790209792,
          0.09790209790209792,
          0.09790209790209792,
          0.09790209790209792,
          0.09790209790209792,
          0.09790209790209792,
          0.09790209790209792,
          0.09790209790209792,
          0.09790209790209792,
          0.09790209790209792,
          0.09790209790209792,
          0.09790209790209792,
          0.09790209790209792,
          0.09790209790209792,
          0.09790209790209792,
          0.09790209790209792,
          0.1048951048951049,
          0.09790209790209792,
          0.09790209790209792,
          0.09790209790209792,
          0.09790209790209792,
          0.09790209790209792,
          0.09790209790209792,
          0.09790209790209792,
          0.09790209790209792,
          0.09790209790209792,
          0.09790209790209792,
          0.09790209790209792,
          0.09790209790209792,
          0.09790209790209792,
          0.09790209790209792,
          0.09790209790209792,
          0.09790209790209792,
          0.09790209790209792,
          0.1048951048951049,
          0.09790209790209792,
          0.09790209790209792,
          0.09790209790209792,
          0.09790209790209792,
          0.09790209790209792,
          0.09790209790209792,
          0.09790209790209792,
          0.09790209790209792,
          0.09790209790209792,
          0.09790209790209792,
          0.09790209790209792,
          0.09790209790209792,
          0.09790209790209792,
          0.09790209790209792,
          0.09790209790209792,
          0.09790209790209792,
          0.09790209790209792,
          0.09790209790209792,
          0.09790209790209792,
          0.09790209790209792,
          0.09790209790209792,
          0.09790209790209792,
          0.09790209790209792,
          0.09790209790209792,
          0.09790209790209792,
          0.09790209790209792,
          0.09790209790209792,
          0.09790209790209792,
          0.09790209790209792,
          0.09790209790209792,
          0.09790209790209792,
          0.09790209790209792,
          0.09790209790209792,
          0.09790209790209792,
          0.09790209790209792,
          0.09790209790209792,
          0.09790209790209792,
          0.09790209790209792,
          0.09790209790209792,
          0.09790209790209792,
          0.09790209790209792,
          0.09790209790209792,
          0.09790209790209792,
          0.09790209790209792,
          0.09790209790209792,
          0.09790209790209792,
          0.09790209790209792,
          0.09790209790209792,
          0.09790209790209792,
          0.09790209790209792,
          0.09790209790209792,
          0.09790209790209792,
          0.09790209790209792,
          0.09790209790209792,
          0.09790209790209792,
          0.09790209790209792,
          0.09790209790209792,
          0.09790209790209792,
          0.09790209790209792,
          0.09790209790209792,
          0.09790209790209792,
          0.09790209790209792,
          0.09790209790209792,
          0.09790209790209792,
          0.09790209790209792,
          0.09790209790209792,
          0.09790209790209792,
          0.09790209790209792,
          0.09790209790209792,
          0.09790209790209792,
          0.09790209790209792,
          0.09790209790209792,
          0.09790209790209792,
          0.09790209790209792,
          0.09790209790209792,
          0.09790209790209792,
          0.09790209790209792,
          0.1048951048951049,
          0.09790209790209792,
          0.09790209790209792,
          0.09790209790209792,
          0.09790209790209792,
          0.09790209790209792,
          0.09790209790209792,
          0.09790209790209792,
          0.09790209790209792,
          0.09790209790209792,
          0.09790209790209792,
          0.09790209790209792,
          0.09790209790209792,
          0.09790209790209792,
          0.09790209790209792,
          0.09790209790209792,
          0.09790209790209792,
          0.09790209790209792,
          0.09790209790209792,
          0.09790209790209792,
          0.09790209790209792,
          0.09790209790209792,
          0.09790209790209792,
          0.09790209790209792,
          0.09790209790209792,
          0.09790209790209792,
          0.09790209790209792,
          0.09790209790209792,
          0.09790209790209792,
          0.09790209790209792,
          0.09790209790209792
         ]
        },
        {
         "mode": "lines",
         "name": "Best Value",
         "type": "scatter",
         "x": [
          0,
          1,
          2,
          3,
          4,
          5,
          6,
          7,
          8,
          9,
          10,
          11,
          12,
          13,
          14,
          15,
          16,
          17,
          18,
          19,
          20,
          21,
          22,
          23,
          24,
          25,
          26,
          27,
          28,
          29,
          30,
          31,
          32,
          33,
          34,
          35,
          36,
          37,
          38,
          39,
          40,
          41,
          42,
          43,
          44,
          45,
          46,
          47,
          48,
          49,
          50,
          51,
          52,
          53,
          54,
          55,
          56,
          57,
          58,
          59,
          60,
          61,
          62,
          63,
          64,
          65,
          66,
          67,
          68,
          69,
          70,
          71,
          72,
          73,
          74,
          75,
          76,
          77,
          78,
          79,
          80,
          81,
          82,
          83,
          84,
          85,
          86,
          87,
          88,
          89,
          90,
          91,
          92,
          93,
          94,
          95,
          96,
          97,
          98,
          99,
          100,
          101,
          102,
          103,
          104,
          105,
          106,
          107,
          108,
          109,
          110,
          111,
          112,
          113,
          114,
          115,
          116,
          117,
          118,
          119,
          120,
          121,
          122,
          123,
          124,
          125,
          126,
          127,
          128,
          129,
          130,
          131,
          132,
          133,
          134,
          135,
          136,
          137,
          138,
          139,
          140,
          141,
          142,
          143,
          144,
          145,
          146,
          147,
          148,
          149,
          150,
          151,
          152,
          153,
          154,
          155,
          156,
          157,
          158,
          159,
          160,
          161,
          162,
          163,
          164,
          165,
          166,
          167,
          168,
          169,
          170,
          171,
          172,
          173,
          174,
          175,
          176,
          177,
          178,
          179,
          180,
          181,
          182,
          183,
          184,
          185,
          186,
          187,
          188,
          189,
          190,
          191,
          192,
          193,
          194,
          195,
          196,
          197,
          198,
          199,
          200,
          201,
          202,
          203,
          204,
          205,
          206,
          207,
          208,
          209,
          210,
          211,
          212,
          213,
          214,
          215,
          216,
          217,
          218,
          219,
          220,
          221,
          222,
          223,
          224,
          225,
          226,
          227,
          228,
          229,
          230,
          231,
          232,
          233,
          234,
          235,
          236,
          237,
          238,
          239,
          240,
          241,
          242,
          243,
          244,
          245,
          246,
          247,
          248,
          249,
          250,
          251,
          252,
          253,
          254,
          255,
          256,
          257,
          258,
          259,
          260,
          261,
          262,
          263,
          264,
          265,
          266,
          267,
          268,
          269,
          270,
          271,
          272,
          273,
          274,
          275,
          276,
          277,
          278,
          279,
          280,
          281,
          282,
          283,
          284,
          285,
          286,
          287,
          288,
          289,
          290,
          291,
          292,
          293,
          294,
          295,
          296,
          297,
          298,
          299,
          300,
          301,
          302,
          303,
          304,
          305,
          306,
          307
         ],
         "y": [
          0.09790209790209792,
          0.09790209790209792,
          0.09790209790209792,
          0.09790209790209792,
          0.09790209790209792,
          0.11188811188811187,
          0.11188811188811187,
          0.11188811188811187,
          0.11188811188811187,
          0.11188811188811187,
          0.11188811188811187,
          0.11188811188811187,
          0.11188811188811187,
          0.11188811188811187,
          0.11188811188811187,
          0.11188811188811187,
          0.11188811188811187,
          0.11188811188811187,
          0.11188811188811187,
          0.11188811188811187,
          0.11188811188811187,
          0.11188811188811187,
          0.11188811188811187,
          0.11188811188811187,
          0.11188811188811187,
          0.11188811188811187,
          0.11188811188811187,
          0.11188811188811187,
          0.11188811188811187,
          0.11188811188811187,
          0.11188811188811187,
          0.11188811188811187,
          0.11188811188811187,
          0.11188811188811187,
          0.11188811188811187,
          0.11188811188811187,
          0.11188811188811187,
          0.11188811188811187,
          0.11188811188811187,
          0.11188811188811187,
          0.11188811188811187,
          0.11188811188811187,
          0.11188811188811187,
          0.11188811188811187,
          0.11188811188811187,
          0.11188811188811187,
          0.11188811188811187,
          0.11188811188811187,
          0.11188811188811187,
          0.11188811188811187,
          0.11188811188811187,
          0.11188811188811187,
          0.11188811188811187,
          0.11188811188811187,
          0.11188811188811187,
          0.11188811188811187,
          0.11188811188811187,
          0.11188811188811187,
          0.11188811188811187,
          0.11188811188811187,
          0.11188811188811187,
          0.11188811188811187,
          0.11188811188811187,
          0.11188811188811187,
          0.11188811188811187,
          0.11188811188811187,
          0.11188811188811187,
          0.11188811188811187,
          0.11188811188811187,
          0.11188811188811187,
          0.11188811188811187,
          0.11188811188811187,
          0.11188811188811187,
          0.11188811188811187,
          0.11188811188811187,
          0.11188811188811187,
          0.11188811188811187,
          0.11188811188811187,
          0.11188811188811187,
          0.11188811188811187,
          0.11188811188811187,
          0.11188811188811187,
          0.11188811188811187,
          0.11188811188811187,
          0.11188811188811187,
          0.11188811188811187,
          0.11188811188811187,
          0.11188811188811187,
          0.11188811188811187,
          0.11188811188811187,
          0.11188811188811187,
          0.11188811188811187,
          0.11188811188811187,
          0.11188811188811187,
          0.11188811188811187,
          0.11188811188811187,
          0.11188811188811187,
          0.11188811188811187,
          0.11188811188811187,
          0.11188811188811187,
          0.11188811188811187,
          0.11188811188811187,
          0.11188811188811187,
          0.11188811188811187,
          0.11188811188811187,
          0.11188811188811187,
          0.11188811188811187,
          0.11188811188811187,
          0.11188811188811187,
          0.11188811188811187,
          0.11188811188811187,
          0.11188811188811187,
          0.11188811188811187,
          0.11188811188811187,
          0.11188811188811187,
          0.11188811188811187,
          0.11188811188811187,
          0.11188811188811187,
          0.11188811188811187,
          0.11188811188811187,
          0.11188811188811187,
          0.11188811188811187,
          0.11188811188811187,
          0.11188811188811187,
          0.11188811188811187,
          0.11188811188811187,
          0.11188811188811187,
          0.11188811188811187,
          0.11188811188811187,
          0.11188811188811187,
          0.11188811188811187,
          0.11188811188811187,
          0.11188811188811187,
          0.11188811188811187,
          0.11188811188811187,
          0.11188811188811187,
          0.11188811188811187,
          0.11188811188811187,
          0.11188811188811187,
          0.11188811188811187,
          0.11188811188811187,
          0.11188811188811187,
          0.11188811188811187,
          0.11188811188811187,
          0.11188811188811187,
          0.11188811188811187,
          0.11188811188811187,
          0.11188811188811187,
          0.11188811188811187,
          0.11188811188811187,
          0.11188811188811187,
          0.11188811188811187,
          0.11188811188811187,
          0.11188811188811187,
          0.11188811188811187,
          0.11188811188811187,
          0.11188811188811187,
          0.11188811188811187,
          0.11188811188811187,
          0.11188811188811187,
          0.11188811188811187,
          0.11188811188811187,
          0.11188811188811187,
          0.11188811188811187,
          0.11188811188811187,
          0.11188811188811187,
          0.11188811188811187,
          0.11188811188811187,
          0.11188811188811187,
          0.11188811188811187,
          0.11188811188811187,
          0.11188811188811187,
          0.11188811188811187,
          0.11188811188811187,
          0.11188811188811187,
          0.11188811188811187,
          0.11188811188811187,
          0.11188811188811187,
          0.11188811188811187,
          0.11188811188811187,
          0.11188811188811187,
          0.11188811188811187,
          0.11188811188811187,
          0.11188811188811187,
          0.11188811188811187,
          0.11188811188811187,
          0.11188811188811187,
          0.11188811188811187,
          0.11188811188811187,
          0.11188811188811187,
          0.11188811188811187,
          0.11188811188811187,
          0.11188811188811187,
          0.11188811188811187,
          0.11188811188811187,
          0.11188811188811187,
          0.11188811188811187,
          0.11188811188811187,
          0.11188811188811187,
          0.11188811188811187,
          0.11188811188811187,
          0.11188811188811187,
          0.11188811188811187,
          0.11188811188811187,
          0.11188811188811187,
          0.11188811188811187,
          0.11188811188811187,
          0.11188811188811187,
          0.11188811188811187,
          0.11188811188811187,
          0.11188811188811187,
          0.11188811188811187,
          0.11188811188811187,
          0.11188811188811187,
          0.11188811188811187,
          0.11188811188811187,
          0.11188811188811187,
          0.11188811188811187,
          0.11188811188811187,
          0.11188811188811187,
          0.11188811188811187,
          0.11188811188811187,
          0.11188811188811187,
          0.11188811188811187,
          0.11188811188811187,
          0.11188811188811187,
          0.11188811188811187,
          0.11188811188811187,
          0.11188811188811187,
          0.11188811188811187,
          0.11188811188811187,
          0.11188811188811187,
          0.11188811188811187,
          0.11188811188811187,
          0.11188811188811187,
          0.11188811188811187,
          0.11188811188811187,
          0.11188811188811187,
          0.11188811188811187,
          0.11188811188811187,
          0.11188811188811187,
          0.11188811188811187,
          0.11188811188811187,
          0.11188811188811187,
          0.11188811188811187,
          0.11188811188811187,
          0.11188811188811187,
          0.11188811188811187,
          0.11188811188811187,
          0.11188811188811187,
          0.11188811188811187,
          0.11188811188811187,
          0.11188811188811187,
          0.11188811188811187,
          0.11188811188811187,
          0.11188811188811187,
          0.11188811188811187,
          0.11188811188811187,
          0.11188811188811187,
          0.11188811188811187,
          0.11188811188811187,
          0.11188811188811187,
          0.11188811188811187,
          0.11188811188811187,
          0.11188811188811187,
          0.11188811188811187,
          0.11188811188811187,
          0.11188811188811187,
          0.11188811188811187,
          0.11188811188811187,
          0.11188811188811187,
          0.11188811188811187,
          0.11188811188811187,
          0.11188811188811187,
          0.11188811188811187,
          0.11188811188811187,
          0.11188811188811187,
          0.11188811188811187,
          0.11188811188811187,
          0.11188811188811187,
          0.11188811188811187,
          0.11188811188811187,
          0.11188811188811187,
          0.11188811188811187,
          0.11188811188811187,
          0.11188811188811187,
          0.11188811188811187,
          0.11188811188811187,
          0.11188811188811187,
          0.11188811188811187,
          0.11188811188811187,
          0.11188811188811187,
          0.11188811188811187,
          0.11188811188811187,
          0.11188811188811187,
          0.11188811188811187,
          0.11188811188811187,
          0.11188811188811187,
          0.11188811188811187,
          0.11188811188811187,
          0.11188811188811187,
          0.11188811188811187,
          0.11188811188811187,
          0.11188811188811187,
          0.11188811188811187,
          0.11188811188811187,
          0.11188811188811187,
          0.11188811188811187
         ]
        },
        {
         "marker": {
          "color": "#cccccc"
         },
         "mode": "markers",
         "name": "Infeasible Trial",
         "showlegend": false,
         "type": "scatter",
         "x": [],
         "y": []
        }
       ],
       "layout": {
        "template": {
         "data": {
          "bar": [
           {
            "error_x": {
             "color": "#2a3f5f"
            },
            "error_y": {
             "color": "#2a3f5f"
            },
            "marker": {
             "line": {
              "color": "#E5ECF6",
              "width": 0.5
             },
             "pattern": {
              "fillmode": "overlay",
              "size": 10,
              "solidity": 0.2
             }
            },
            "type": "bar"
           }
          ],
          "barpolar": [
           {
            "marker": {
             "line": {
              "color": "#E5ECF6",
              "width": 0.5
             },
             "pattern": {
              "fillmode": "overlay",
              "size": 10,
              "solidity": 0.2
             }
            },
            "type": "barpolar"
           }
          ],
          "carpet": [
           {
            "aaxis": {
             "endlinecolor": "#2a3f5f",
             "gridcolor": "white",
             "linecolor": "white",
             "minorgridcolor": "white",
             "startlinecolor": "#2a3f5f"
            },
            "baxis": {
             "endlinecolor": "#2a3f5f",
             "gridcolor": "white",
             "linecolor": "white",
             "minorgridcolor": "white",
             "startlinecolor": "#2a3f5f"
            },
            "type": "carpet"
           }
          ],
          "choropleth": [
           {
            "colorbar": {
             "outlinewidth": 0,
             "ticks": ""
            },
            "type": "choropleth"
           }
          ],
          "contour": [
           {
            "colorbar": {
             "outlinewidth": 0,
             "ticks": ""
            },
            "colorscale": [
             [
              0,
              "#0d0887"
             ],
             [
              0.1111111111111111,
              "#46039f"
             ],
             [
              0.2222222222222222,
              "#7201a8"
             ],
             [
              0.3333333333333333,
              "#9c179e"
             ],
             [
              0.4444444444444444,
              "#bd3786"
             ],
             [
              0.5555555555555556,
              "#d8576b"
             ],
             [
              0.6666666666666666,
              "#ed7953"
             ],
             [
              0.7777777777777778,
              "#fb9f3a"
             ],
             [
              0.8888888888888888,
              "#fdca26"
             ],
             [
              1,
              "#f0f921"
             ]
            ],
            "type": "contour"
           }
          ],
          "contourcarpet": [
           {
            "colorbar": {
             "outlinewidth": 0,
             "ticks": ""
            },
            "type": "contourcarpet"
           }
          ],
          "heatmap": [
           {
            "colorbar": {
             "outlinewidth": 0,
             "ticks": ""
            },
            "colorscale": [
             [
              0,
              "#0d0887"
             ],
             [
              0.1111111111111111,
              "#46039f"
             ],
             [
              0.2222222222222222,
              "#7201a8"
             ],
             [
              0.3333333333333333,
              "#9c179e"
             ],
             [
              0.4444444444444444,
              "#bd3786"
             ],
             [
              0.5555555555555556,
              "#d8576b"
             ],
             [
              0.6666666666666666,
              "#ed7953"
             ],
             [
              0.7777777777777778,
              "#fb9f3a"
             ],
             [
              0.8888888888888888,
              "#fdca26"
             ],
             [
              1,
              "#f0f921"
             ]
            ],
            "type": "heatmap"
           }
          ],
          "heatmapgl": [
           {
            "colorbar": {
             "outlinewidth": 0,
             "ticks": ""
            },
            "colorscale": [
             [
              0,
              "#0d0887"
             ],
             [
              0.1111111111111111,
              "#46039f"
             ],
             [
              0.2222222222222222,
              "#7201a8"
             ],
             [
              0.3333333333333333,
              "#9c179e"
             ],
             [
              0.4444444444444444,
              "#bd3786"
             ],
             [
              0.5555555555555556,
              "#d8576b"
             ],
             [
              0.6666666666666666,
              "#ed7953"
             ],
             [
              0.7777777777777778,
              "#fb9f3a"
             ],
             [
              0.8888888888888888,
              "#fdca26"
             ],
             [
              1,
              "#f0f921"
             ]
            ],
            "type": "heatmapgl"
           }
          ],
          "histogram": [
           {
            "marker": {
             "pattern": {
              "fillmode": "overlay",
              "size": 10,
              "solidity": 0.2
             }
            },
            "type": "histogram"
           }
          ],
          "histogram2d": [
           {
            "colorbar": {
             "outlinewidth": 0,
             "ticks": ""
            },
            "colorscale": [
             [
              0,
              "#0d0887"
             ],
             [
              0.1111111111111111,
              "#46039f"
             ],
             [
              0.2222222222222222,
              "#7201a8"
             ],
             [
              0.3333333333333333,
              "#9c179e"
             ],
             [
              0.4444444444444444,
              "#bd3786"
             ],
             [
              0.5555555555555556,
              "#d8576b"
             ],
             [
              0.6666666666666666,
              "#ed7953"
             ],
             [
              0.7777777777777778,
              "#fb9f3a"
             ],
             [
              0.8888888888888888,
              "#fdca26"
             ],
             [
              1,
              "#f0f921"
             ]
            ],
            "type": "histogram2d"
           }
          ],
          "histogram2dcontour": [
           {
            "colorbar": {
             "outlinewidth": 0,
             "ticks": ""
            },
            "colorscale": [
             [
              0,
              "#0d0887"
             ],
             [
              0.1111111111111111,
              "#46039f"
             ],
             [
              0.2222222222222222,
              "#7201a8"
             ],
             [
              0.3333333333333333,
              "#9c179e"
             ],
             [
              0.4444444444444444,
              "#bd3786"
             ],
             [
              0.5555555555555556,
              "#d8576b"
             ],
             [
              0.6666666666666666,
              "#ed7953"
             ],
             [
              0.7777777777777778,
              "#fb9f3a"
             ],
             [
              0.8888888888888888,
              "#fdca26"
             ],
             [
              1,
              "#f0f921"
             ]
            ],
            "type": "histogram2dcontour"
           }
          ],
          "mesh3d": [
           {
            "colorbar": {
             "outlinewidth": 0,
             "ticks": ""
            },
            "type": "mesh3d"
           }
          ],
          "parcoords": [
           {
            "line": {
             "colorbar": {
              "outlinewidth": 0,
              "ticks": ""
             }
            },
            "type": "parcoords"
           }
          ],
          "pie": [
           {
            "automargin": true,
            "type": "pie"
           }
          ],
          "scatter": [
           {
            "fillpattern": {
             "fillmode": "overlay",
             "size": 10,
             "solidity": 0.2
            },
            "type": "scatter"
           }
          ],
          "scatter3d": [
           {
            "line": {
             "colorbar": {
              "outlinewidth": 0,
              "ticks": ""
             }
            },
            "marker": {
             "colorbar": {
              "outlinewidth": 0,
              "ticks": ""
             }
            },
            "type": "scatter3d"
           }
          ],
          "scattercarpet": [
           {
            "marker": {
             "colorbar": {
              "outlinewidth": 0,
              "ticks": ""
             }
            },
            "type": "scattercarpet"
           }
          ],
          "scattergeo": [
           {
            "marker": {
             "colorbar": {
              "outlinewidth": 0,
              "ticks": ""
             }
            },
            "type": "scattergeo"
           }
          ],
          "scattergl": [
           {
            "marker": {
             "colorbar": {
              "outlinewidth": 0,
              "ticks": ""
             }
            },
            "type": "scattergl"
           }
          ],
          "scattermapbox": [
           {
            "marker": {
             "colorbar": {
              "outlinewidth": 0,
              "ticks": ""
             }
            },
            "type": "scattermapbox"
           }
          ],
          "scatterpolar": [
           {
            "marker": {
             "colorbar": {
              "outlinewidth": 0,
              "ticks": ""
             }
            },
            "type": "scatterpolar"
           }
          ],
          "scatterpolargl": [
           {
            "marker": {
             "colorbar": {
              "outlinewidth": 0,
              "ticks": ""
             }
            },
            "type": "scatterpolargl"
           }
          ],
          "scatterternary": [
           {
            "marker": {
             "colorbar": {
              "outlinewidth": 0,
              "ticks": ""
             }
            },
            "type": "scatterternary"
           }
          ],
          "surface": [
           {
            "colorbar": {
             "outlinewidth": 0,
             "ticks": ""
            },
            "colorscale": [
             [
              0,
              "#0d0887"
             ],
             [
              0.1111111111111111,
              "#46039f"
             ],
             [
              0.2222222222222222,
              "#7201a8"
             ],
             [
              0.3333333333333333,
              "#9c179e"
             ],
             [
              0.4444444444444444,
              "#bd3786"
             ],
             [
              0.5555555555555556,
              "#d8576b"
             ],
             [
              0.6666666666666666,
              "#ed7953"
             ],
             [
              0.7777777777777778,
              "#fb9f3a"
             ],
             [
              0.8888888888888888,
              "#fdca26"
             ],
             [
              1,
              "#f0f921"
             ]
            ],
            "type": "surface"
           }
          ],
          "table": [
           {
            "cells": {
             "fill": {
              "color": "#EBF0F8"
             },
             "line": {
              "color": "white"
             }
            },
            "header": {
             "fill": {
              "color": "#C8D4E3"
             },
             "line": {
              "color": "white"
             }
            },
            "type": "table"
           }
          ]
         },
         "layout": {
          "annotationdefaults": {
           "arrowcolor": "#2a3f5f",
           "arrowhead": 0,
           "arrowwidth": 1
          },
          "autotypenumbers": "strict",
          "coloraxis": {
           "colorbar": {
            "outlinewidth": 0,
            "ticks": ""
           }
          },
          "colorscale": {
           "diverging": [
            [
             0,
             "#8e0152"
            ],
            [
             0.1,
             "#c51b7d"
            ],
            [
             0.2,
             "#de77ae"
            ],
            [
             0.3,
             "#f1b6da"
            ],
            [
             0.4,
             "#fde0ef"
            ],
            [
             0.5,
             "#f7f7f7"
            ],
            [
             0.6,
             "#e6f5d0"
            ],
            [
             0.7,
             "#b8e186"
            ],
            [
             0.8,
             "#7fbc41"
            ],
            [
             0.9,
             "#4d9221"
            ],
            [
             1,
             "#276419"
            ]
           ],
           "sequential": [
            [
             0,
             "#0d0887"
            ],
            [
             0.1111111111111111,
             "#46039f"
            ],
            [
             0.2222222222222222,
             "#7201a8"
            ],
            [
             0.3333333333333333,
             "#9c179e"
            ],
            [
             0.4444444444444444,
             "#bd3786"
            ],
            [
             0.5555555555555556,
             "#d8576b"
            ],
            [
             0.6666666666666666,
             "#ed7953"
            ],
            [
             0.7777777777777778,
             "#fb9f3a"
            ],
            [
             0.8888888888888888,
             "#fdca26"
            ],
            [
             1,
             "#f0f921"
            ]
           ],
           "sequentialminus": [
            [
             0,
             "#0d0887"
            ],
            [
             0.1111111111111111,
             "#46039f"
            ],
            [
             0.2222222222222222,
             "#7201a8"
            ],
            [
             0.3333333333333333,
             "#9c179e"
            ],
            [
             0.4444444444444444,
             "#bd3786"
            ],
            [
             0.5555555555555556,
             "#d8576b"
            ],
            [
             0.6666666666666666,
             "#ed7953"
            ],
            [
             0.7777777777777778,
             "#fb9f3a"
            ],
            [
             0.8888888888888888,
             "#fdca26"
            ],
            [
             1,
             "#f0f921"
            ]
           ]
          },
          "colorway": [
           "#636efa",
           "#EF553B",
           "#00cc96",
           "#ab63fa",
           "#FFA15A",
           "#19d3f3",
           "#FF6692",
           "#B6E880",
           "#FF97FF",
           "#FECB52"
          ],
          "font": {
           "color": "#2a3f5f"
          },
          "geo": {
           "bgcolor": "white",
           "lakecolor": "white",
           "landcolor": "#E5ECF6",
           "showlakes": true,
           "showland": true,
           "subunitcolor": "white"
          },
          "hoverlabel": {
           "align": "left"
          },
          "hovermode": "closest",
          "mapbox": {
           "style": "light"
          },
          "paper_bgcolor": "white",
          "plot_bgcolor": "#E5ECF6",
          "polar": {
           "angularaxis": {
            "gridcolor": "white",
            "linecolor": "white",
            "ticks": ""
           },
           "bgcolor": "#E5ECF6",
           "radialaxis": {
            "gridcolor": "white",
            "linecolor": "white",
            "ticks": ""
           }
          },
          "scene": {
           "xaxis": {
            "backgroundcolor": "#E5ECF6",
            "gridcolor": "white",
            "gridwidth": 2,
            "linecolor": "white",
            "showbackground": true,
            "ticks": "",
            "zerolinecolor": "white"
           },
           "yaxis": {
            "backgroundcolor": "#E5ECF6",
            "gridcolor": "white",
            "gridwidth": 2,
            "linecolor": "white",
            "showbackground": true,
            "ticks": "",
            "zerolinecolor": "white"
           },
           "zaxis": {
            "backgroundcolor": "#E5ECF6",
            "gridcolor": "white",
            "gridwidth": 2,
            "linecolor": "white",
            "showbackground": true,
            "ticks": "",
            "zerolinecolor": "white"
           }
          },
          "shapedefaults": {
           "line": {
            "color": "#2a3f5f"
           }
          },
          "ternary": {
           "aaxis": {
            "gridcolor": "white",
            "linecolor": "white",
            "ticks": ""
           },
           "baxis": {
            "gridcolor": "white",
            "linecolor": "white",
            "ticks": ""
           },
           "bgcolor": "#E5ECF6",
           "caxis": {
            "gridcolor": "white",
            "linecolor": "white",
            "ticks": ""
           }
          },
          "title": {
           "x": 0.05
          },
          "xaxis": {
           "automargin": true,
           "gridcolor": "white",
           "linecolor": "white",
           "ticks": "",
           "title": {
            "standoff": 15
           },
           "zerolinecolor": "white",
           "zerolinewidth": 2
          },
          "yaxis": {
           "automargin": true,
           "gridcolor": "white",
           "linecolor": "white",
           "ticks": "",
           "title": {
            "standoff": 15
           },
           "zerolinecolor": "white",
           "zerolinewidth": 2
          }
         }
        },
        "title": {
         "text": "Optimization History Plot"
        },
        "xaxis": {
         "title": {
          "text": "Trial"
         }
        },
        "yaxis": {
         "title": {
          "text": "Objective Value"
         }
        }
       }
      }
     },
     "metadata": {},
     "output_type": "display_data"
    }
   ],
   "source": [
    "plot_optimization_history(study_2)"
   ]
  },
  {
   "cell_type": "code",
   "execution_count": 36,
   "metadata": {},
   "outputs": [
    {
     "data": {
      "application/vnd.plotly.v1+json": {
       "config": {
        "plotlyServerURL": "https://plot.ly"
       },
       "data": [
        {
         "cliponaxis": false,
         "hovertemplate": [
          "fit_prior (CategoricalDistribution): 0.008370345543343042<extra></extra>",
          "force_alpha (CategoricalDistribution): 0.194699021811347<extra></extra>",
          "alpha (FloatDistribution): 0.79693063264531<extra></extra>"
         ],
         "name": "Objective Value",
         "orientation": "h",
         "text": [
          "<0.01",
          "0.19",
          "0.80"
         ],
         "textposition": "outside",
         "type": "bar",
         "x": [
          0.008370345543343042,
          0.194699021811347,
          0.79693063264531
         ],
         "y": [
          "fit_prior",
          "force_alpha",
          "alpha"
         ]
        }
       ],
       "layout": {
        "template": {
         "data": {
          "bar": [
           {
            "error_x": {
             "color": "#2a3f5f"
            },
            "error_y": {
             "color": "#2a3f5f"
            },
            "marker": {
             "line": {
              "color": "#E5ECF6",
              "width": 0.5
             },
             "pattern": {
              "fillmode": "overlay",
              "size": 10,
              "solidity": 0.2
             }
            },
            "type": "bar"
           }
          ],
          "barpolar": [
           {
            "marker": {
             "line": {
              "color": "#E5ECF6",
              "width": 0.5
             },
             "pattern": {
              "fillmode": "overlay",
              "size": 10,
              "solidity": 0.2
             }
            },
            "type": "barpolar"
           }
          ],
          "carpet": [
           {
            "aaxis": {
             "endlinecolor": "#2a3f5f",
             "gridcolor": "white",
             "linecolor": "white",
             "minorgridcolor": "white",
             "startlinecolor": "#2a3f5f"
            },
            "baxis": {
             "endlinecolor": "#2a3f5f",
             "gridcolor": "white",
             "linecolor": "white",
             "minorgridcolor": "white",
             "startlinecolor": "#2a3f5f"
            },
            "type": "carpet"
           }
          ],
          "choropleth": [
           {
            "colorbar": {
             "outlinewidth": 0,
             "ticks": ""
            },
            "type": "choropleth"
           }
          ],
          "contour": [
           {
            "colorbar": {
             "outlinewidth": 0,
             "ticks": ""
            },
            "colorscale": [
             [
              0,
              "#0d0887"
             ],
             [
              0.1111111111111111,
              "#46039f"
             ],
             [
              0.2222222222222222,
              "#7201a8"
             ],
             [
              0.3333333333333333,
              "#9c179e"
             ],
             [
              0.4444444444444444,
              "#bd3786"
             ],
             [
              0.5555555555555556,
              "#d8576b"
             ],
             [
              0.6666666666666666,
              "#ed7953"
             ],
             [
              0.7777777777777778,
              "#fb9f3a"
             ],
             [
              0.8888888888888888,
              "#fdca26"
             ],
             [
              1,
              "#f0f921"
             ]
            ],
            "type": "contour"
           }
          ],
          "contourcarpet": [
           {
            "colorbar": {
             "outlinewidth": 0,
             "ticks": ""
            },
            "type": "contourcarpet"
           }
          ],
          "heatmap": [
           {
            "colorbar": {
             "outlinewidth": 0,
             "ticks": ""
            },
            "colorscale": [
             [
              0,
              "#0d0887"
             ],
             [
              0.1111111111111111,
              "#46039f"
             ],
             [
              0.2222222222222222,
              "#7201a8"
             ],
             [
              0.3333333333333333,
              "#9c179e"
             ],
             [
              0.4444444444444444,
              "#bd3786"
             ],
             [
              0.5555555555555556,
              "#d8576b"
             ],
             [
              0.6666666666666666,
              "#ed7953"
             ],
             [
              0.7777777777777778,
              "#fb9f3a"
             ],
             [
              0.8888888888888888,
              "#fdca26"
             ],
             [
              1,
              "#f0f921"
             ]
            ],
            "type": "heatmap"
           }
          ],
          "heatmapgl": [
           {
            "colorbar": {
             "outlinewidth": 0,
             "ticks": ""
            },
            "colorscale": [
             [
              0,
              "#0d0887"
             ],
             [
              0.1111111111111111,
              "#46039f"
             ],
             [
              0.2222222222222222,
              "#7201a8"
             ],
             [
              0.3333333333333333,
              "#9c179e"
             ],
             [
              0.4444444444444444,
              "#bd3786"
             ],
             [
              0.5555555555555556,
              "#d8576b"
             ],
             [
              0.6666666666666666,
              "#ed7953"
             ],
             [
              0.7777777777777778,
              "#fb9f3a"
             ],
             [
              0.8888888888888888,
              "#fdca26"
             ],
             [
              1,
              "#f0f921"
             ]
            ],
            "type": "heatmapgl"
           }
          ],
          "histogram": [
           {
            "marker": {
             "pattern": {
              "fillmode": "overlay",
              "size": 10,
              "solidity": 0.2
             }
            },
            "type": "histogram"
           }
          ],
          "histogram2d": [
           {
            "colorbar": {
             "outlinewidth": 0,
             "ticks": ""
            },
            "colorscale": [
             [
              0,
              "#0d0887"
             ],
             [
              0.1111111111111111,
              "#46039f"
             ],
             [
              0.2222222222222222,
              "#7201a8"
             ],
             [
              0.3333333333333333,
              "#9c179e"
             ],
             [
              0.4444444444444444,
              "#bd3786"
             ],
             [
              0.5555555555555556,
              "#d8576b"
             ],
             [
              0.6666666666666666,
              "#ed7953"
             ],
             [
              0.7777777777777778,
              "#fb9f3a"
             ],
             [
              0.8888888888888888,
              "#fdca26"
             ],
             [
              1,
              "#f0f921"
             ]
            ],
            "type": "histogram2d"
           }
          ],
          "histogram2dcontour": [
           {
            "colorbar": {
             "outlinewidth": 0,
             "ticks": ""
            },
            "colorscale": [
             [
              0,
              "#0d0887"
             ],
             [
              0.1111111111111111,
              "#46039f"
             ],
             [
              0.2222222222222222,
              "#7201a8"
             ],
             [
              0.3333333333333333,
              "#9c179e"
             ],
             [
              0.4444444444444444,
              "#bd3786"
             ],
             [
              0.5555555555555556,
              "#d8576b"
             ],
             [
              0.6666666666666666,
              "#ed7953"
             ],
             [
              0.7777777777777778,
              "#fb9f3a"
             ],
             [
              0.8888888888888888,
              "#fdca26"
             ],
             [
              1,
              "#f0f921"
             ]
            ],
            "type": "histogram2dcontour"
           }
          ],
          "mesh3d": [
           {
            "colorbar": {
             "outlinewidth": 0,
             "ticks": ""
            },
            "type": "mesh3d"
           }
          ],
          "parcoords": [
           {
            "line": {
             "colorbar": {
              "outlinewidth": 0,
              "ticks": ""
             }
            },
            "type": "parcoords"
           }
          ],
          "pie": [
           {
            "automargin": true,
            "type": "pie"
           }
          ],
          "scatter": [
           {
            "fillpattern": {
             "fillmode": "overlay",
             "size": 10,
             "solidity": 0.2
            },
            "type": "scatter"
           }
          ],
          "scatter3d": [
           {
            "line": {
             "colorbar": {
              "outlinewidth": 0,
              "ticks": ""
             }
            },
            "marker": {
             "colorbar": {
              "outlinewidth": 0,
              "ticks": ""
             }
            },
            "type": "scatter3d"
           }
          ],
          "scattercarpet": [
           {
            "marker": {
             "colorbar": {
              "outlinewidth": 0,
              "ticks": ""
             }
            },
            "type": "scattercarpet"
           }
          ],
          "scattergeo": [
           {
            "marker": {
             "colorbar": {
              "outlinewidth": 0,
              "ticks": ""
             }
            },
            "type": "scattergeo"
           }
          ],
          "scattergl": [
           {
            "marker": {
             "colorbar": {
              "outlinewidth": 0,
              "ticks": ""
             }
            },
            "type": "scattergl"
           }
          ],
          "scattermapbox": [
           {
            "marker": {
             "colorbar": {
              "outlinewidth": 0,
              "ticks": ""
             }
            },
            "type": "scattermapbox"
           }
          ],
          "scatterpolar": [
           {
            "marker": {
             "colorbar": {
              "outlinewidth": 0,
              "ticks": ""
             }
            },
            "type": "scatterpolar"
           }
          ],
          "scatterpolargl": [
           {
            "marker": {
             "colorbar": {
              "outlinewidth": 0,
              "ticks": ""
             }
            },
            "type": "scatterpolargl"
           }
          ],
          "scatterternary": [
           {
            "marker": {
             "colorbar": {
              "outlinewidth": 0,
              "ticks": ""
             }
            },
            "type": "scatterternary"
           }
          ],
          "surface": [
           {
            "colorbar": {
             "outlinewidth": 0,
             "ticks": ""
            },
            "colorscale": [
             [
              0,
              "#0d0887"
             ],
             [
              0.1111111111111111,
              "#46039f"
             ],
             [
              0.2222222222222222,
              "#7201a8"
             ],
             [
              0.3333333333333333,
              "#9c179e"
             ],
             [
              0.4444444444444444,
              "#bd3786"
             ],
             [
              0.5555555555555556,
              "#d8576b"
             ],
             [
              0.6666666666666666,
              "#ed7953"
             ],
             [
              0.7777777777777778,
              "#fb9f3a"
             ],
             [
              0.8888888888888888,
              "#fdca26"
             ],
             [
              1,
              "#f0f921"
             ]
            ],
            "type": "surface"
           }
          ],
          "table": [
           {
            "cells": {
             "fill": {
              "color": "#EBF0F8"
             },
             "line": {
              "color": "white"
             }
            },
            "header": {
             "fill": {
              "color": "#C8D4E3"
             },
             "line": {
              "color": "white"
             }
            },
            "type": "table"
           }
          ]
         },
         "layout": {
          "annotationdefaults": {
           "arrowcolor": "#2a3f5f",
           "arrowhead": 0,
           "arrowwidth": 1
          },
          "autotypenumbers": "strict",
          "coloraxis": {
           "colorbar": {
            "outlinewidth": 0,
            "ticks": ""
           }
          },
          "colorscale": {
           "diverging": [
            [
             0,
             "#8e0152"
            ],
            [
             0.1,
             "#c51b7d"
            ],
            [
             0.2,
             "#de77ae"
            ],
            [
             0.3,
             "#f1b6da"
            ],
            [
             0.4,
             "#fde0ef"
            ],
            [
             0.5,
             "#f7f7f7"
            ],
            [
             0.6,
             "#e6f5d0"
            ],
            [
             0.7,
             "#b8e186"
            ],
            [
             0.8,
             "#7fbc41"
            ],
            [
             0.9,
             "#4d9221"
            ],
            [
             1,
             "#276419"
            ]
           ],
           "sequential": [
            [
             0,
             "#0d0887"
            ],
            [
             0.1111111111111111,
             "#46039f"
            ],
            [
             0.2222222222222222,
             "#7201a8"
            ],
            [
             0.3333333333333333,
             "#9c179e"
            ],
            [
             0.4444444444444444,
             "#bd3786"
            ],
            [
             0.5555555555555556,
             "#d8576b"
            ],
            [
             0.6666666666666666,
             "#ed7953"
            ],
            [
             0.7777777777777778,
             "#fb9f3a"
            ],
            [
             0.8888888888888888,
             "#fdca26"
            ],
            [
             1,
             "#f0f921"
            ]
           ],
           "sequentialminus": [
            [
             0,
             "#0d0887"
            ],
            [
             0.1111111111111111,
             "#46039f"
            ],
            [
             0.2222222222222222,
             "#7201a8"
            ],
            [
             0.3333333333333333,
             "#9c179e"
            ],
            [
             0.4444444444444444,
             "#bd3786"
            ],
            [
             0.5555555555555556,
             "#d8576b"
            ],
            [
             0.6666666666666666,
             "#ed7953"
            ],
            [
             0.7777777777777778,
             "#fb9f3a"
            ],
            [
             0.8888888888888888,
             "#fdca26"
            ],
            [
             1,
             "#f0f921"
            ]
           ]
          },
          "colorway": [
           "#636efa",
           "#EF553B",
           "#00cc96",
           "#ab63fa",
           "#FFA15A",
           "#19d3f3",
           "#FF6692",
           "#B6E880",
           "#FF97FF",
           "#FECB52"
          ],
          "font": {
           "color": "#2a3f5f"
          },
          "geo": {
           "bgcolor": "white",
           "lakecolor": "white",
           "landcolor": "#E5ECF6",
           "showlakes": true,
           "showland": true,
           "subunitcolor": "white"
          },
          "hoverlabel": {
           "align": "left"
          },
          "hovermode": "closest",
          "mapbox": {
           "style": "light"
          },
          "paper_bgcolor": "white",
          "plot_bgcolor": "#E5ECF6",
          "polar": {
           "angularaxis": {
            "gridcolor": "white",
            "linecolor": "white",
            "ticks": ""
           },
           "bgcolor": "#E5ECF6",
           "radialaxis": {
            "gridcolor": "white",
            "linecolor": "white",
            "ticks": ""
           }
          },
          "scene": {
           "xaxis": {
            "backgroundcolor": "#E5ECF6",
            "gridcolor": "white",
            "gridwidth": 2,
            "linecolor": "white",
            "showbackground": true,
            "ticks": "",
            "zerolinecolor": "white"
           },
           "yaxis": {
            "backgroundcolor": "#E5ECF6",
            "gridcolor": "white",
            "gridwidth": 2,
            "linecolor": "white",
            "showbackground": true,
            "ticks": "",
            "zerolinecolor": "white"
           },
           "zaxis": {
            "backgroundcolor": "#E5ECF6",
            "gridcolor": "white",
            "gridwidth": 2,
            "linecolor": "white",
            "showbackground": true,
            "ticks": "",
            "zerolinecolor": "white"
           }
          },
          "shapedefaults": {
           "line": {
            "color": "#2a3f5f"
           }
          },
          "ternary": {
           "aaxis": {
            "gridcolor": "white",
            "linecolor": "white",
            "ticks": ""
           },
           "baxis": {
            "gridcolor": "white",
            "linecolor": "white",
            "ticks": ""
           },
           "bgcolor": "#E5ECF6",
           "caxis": {
            "gridcolor": "white",
            "linecolor": "white",
            "ticks": ""
           }
          },
          "title": {
           "x": 0.05
          },
          "xaxis": {
           "automargin": true,
           "gridcolor": "white",
           "linecolor": "white",
           "ticks": "",
           "title": {
            "standoff": 15
           },
           "zerolinecolor": "white",
           "zerolinewidth": 2
          },
          "yaxis": {
           "automargin": true,
           "gridcolor": "white",
           "linecolor": "white",
           "ticks": "",
           "title": {
            "standoff": 15
           },
           "zerolinecolor": "white",
           "zerolinewidth": 2
          }
         }
        },
        "title": {
         "text": "Hyperparameter Importances"
        },
        "xaxis": {
         "title": {
          "text": "Hyperparameter Importance"
         }
        },
        "yaxis": {
         "title": {
          "text": "Hyperparameter"
         }
        }
       }
      }
     },
     "metadata": {},
     "output_type": "display_data"
    }
   ],
   "source": [
    "plot_param_importances(study_2)"
   ]
  }
 ],
 "metadata": {
  "kernelspec": {
   "display_name": "Python 3",
   "language": "python",
   "name": "python3"
  },
  "language_info": {
   "codemirror_mode": {
    "name": "ipython",
    "version": 3
   },
   "file_extension": ".py",
   "mimetype": "text/x-python",
   "name": "python",
   "nbconvert_exporter": "python",
   "pygments_lexer": "ipython3",
   "version": "3.10.3"
  }
 },
 "nbformat": 4,
 "nbformat_minor": 2
}
