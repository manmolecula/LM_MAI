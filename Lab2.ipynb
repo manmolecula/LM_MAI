{
 "cells": [
  {
   "cell_type": "markdown",
   "metadata": {},
   "source": [
    "# Фундаментальные концепции ИИ\n",
    "\n",
    "## Лабораторная работа №2\n",
    "### Глобальная оптимизация и метаэвристические алгоритмы\n",
    "\n",
    "Выполнил студент группы М8О-109СВ-24 Кучев Антон"
   ]
  },
  {
   "cell_type": "code",
   "execution_count": 7,
   "metadata": {},
   "outputs": [
    {
     "name": "stdout",
     "output_type": "stream",
     "text": [
      "2.19.7\n"
     ]
    }
   ],
   "source": [
    "import pygmo as pg\n",
    "#import sympy as sy\n",
    "import pandas as pd\n",
    "import numpy as np\n",
    "print(pg.__version__)"
   ]
  },
  {
   "cell_type": "markdown",
   "metadata": {},
   "source": [
    "Создаём класс для функции Бута"
   ]
  },
  {
   "cell_type": "code",
   "execution_count": 8,
   "metadata": {},
   "outputs": [],
   "source": [
    "class booth_expr:\n",
    "    def fitness(self, x):\n",
    "        func = (x[0] + 2 * x[1] - 7)**2 + (2 * x[0] + x[1] - 5)**2\n",
    "        return [func]\n",
    "    \n",
    "    def get_bounds(self):\n",
    "        return ([-10, -10], [10, 10])\n"
   ]
  },
  {
   "cell_type": "markdown",
   "metadata": {},
   "source": [
    "Создадим объект класса problem на основе функции Бута"
   ]
  },
  {
   "cell_type": "code",
   "execution_count": 9,
   "metadata": {},
   "outputs": [],
   "source": [
    "prob = pg.problem(booth_expr())"
   ]
  },
  {
   "cell_type": "code",
   "execution_count": 10,
   "metadata": {},
   "outputs": [
    {
     "data": {
      "text/plain": [
       "Problem name: <class '__main__.booth_expr'>\n",
       "\tC++ class name: class pybind11::object\n",
       "\n",
       "\tGlobal dimension:\t\t\t2\n",
       "\tInteger dimension:\t\t\t0\n",
       "\tFitness dimension:\t\t\t1\n",
       "\tNumber of objectives:\t\t\t1\n",
       "\tEquality constraints dimension:\t\t0\n",
       "\tInequality constraints dimension:\t0\n",
       "\tLower bounds: [-10, -10]\n",
       "\tUpper bounds: [10, 10]\n",
       "\tHas batch fitness evaluation: false\n",
       "\n",
       "\tHas gradient: false\n",
       "\tUser implemented gradient sparsity: false\n",
       "\tHas hessians: false\n",
       "\tUser implemented hessians sparsity: false\n",
       "\n",
       "\tFitness evaluations: 0\n",
       "\n",
       "\tThread safety: none"
      ]
     },
     "execution_count": 10,
     "metadata": {},
     "output_type": "execute_result"
    }
   ],
   "source": [
    "prob"
   ]
  },
  {
   "cell_type": "markdown",
   "metadata": {},
   "source": [
    "Создадим архипелаг, на котором будет 16 островов, на каждом острове будет использоваться алгоритм пчелиного роя, размер популяции - 100"
   ]
  },
  {
   "cell_type": "code",
   "execution_count": 35,
   "metadata": {},
   "outputs": [],
   "source": [
    "archi = pg.archipelago(n = 16, algo = pg.bee_colony(gen = 50, limit = 10), prob = prob, pop_size = 100, seed = 32)\n",
    "archi.evolve()"
   ]
  },
  {
   "cell_type": "code",
   "execution_count": 36,
   "metadata": {},
   "outputs": [
    {
     "data": {
      "text/plain": [
       "[array([0.00126402]),\n",
       " array([0.00013454]),\n",
       " array([0.00104498]),\n",
       " array([6.91586804e-05]),\n",
       " array([0.00159553]),\n",
       " array([5.77798706e-05]),\n",
       " array([4.61755013e-05]),\n",
       " array([0.00087278]),\n",
       " array([6.34771085e-06]),\n",
       " array([0.00142806]),\n",
       " array([0.00012232]),\n",
       " array([0.0001738]),\n",
       " array([6.63774391e-06]),\n",
       " array([0.0004635]),\n",
       " array([0.00038389]),\n",
       " array([7.56722056e-05])]"
      ]
     },
     "execution_count": 36,
     "metadata": {},
     "output_type": "execute_result"
    }
   ],
   "source": [
    "archi.wait()\n",
    "res_bees = archi.get_champions_f()\n",
    "res_bees"
   ]
  },
  {
   "cell_type": "markdown",
   "metadata": {},
   "source": [
    "То же самое для алгоритма Grey Wolf Optimizer"
   ]
  },
  {
   "cell_type": "code",
   "execution_count": 39,
   "metadata": {},
   "outputs": [],
   "source": [
    "archi = pg.archipelago(n = 16, algo = pg.gwo(gen = 50), prob = prob, pop_size = 100, seed = 32)\n",
    "archi.evolve()"
   ]
  },
  {
   "cell_type": "code",
   "execution_count": 40,
   "metadata": {},
   "outputs": [
    {
     "data": {
      "text/plain": [
       "[array([8.81128868e-06]),\n",
       " array([2.74949306e-06]),\n",
       " array([1.58307159e-06]),\n",
       " array([7.22869299e-06]),\n",
       " array([3.79981306e-09]),\n",
       " array([2.78086026e-07]),\n",
       " array([1.41949231e-06]),\n",
       " array([4.60163968e-10]),\n",
       " array([2.82759534e-06]),\n",
       " array([1.34826422e-05]),\n",
       " array([3.69509013e-06]),\n",
       " array([1.51490732e-05]),\n",
       " array([1.01878446e-06]),\n",
       " array([6.0889925e-07]),\n",
       " array([5.41459776e-06]),\n",
       " array([6.23269581e-06])]"
      ]
     },
     "execution_count": 40,
     "metadata": {},
     "output_type": "execute_result"
    }
   ],
   "source": [
    "archi.wait()\n",
    "res_wolfs = archi.get_champions_f()\n",
    "res_wolfs"
   ]
  },
  {
   "cell_type": "markdown",
   "metadata": {},
   "source": [
    "Импользуем также алгоритм имитации отжига"
   ]
  },
  {
   "cell_type": "code",
   "execution_count": 43,
   "metadata": {},
   "outputs": [],
   "source": [
    "archi = pg.archipelago(n = 16, algo = pg.simulated_annealing(Ts=100., Tf=.1, n_T_adj=50, n_range_adj=50), prob = prob, pop_size = 100, seed = 32)\n",
    "archi.evolve()"
   ]
  },
  {
   "cell_type": "code",
   "execution_count": 44,
   "metadata": {},
   "outputs": [
    {
     "data": {
      "text/plain": [
       "[array([6.14665649e-08]),\n",
       " array([1.70345054e-05]),\n",
       " array([6.14665649e-08]),\n",
       " array([1.70345054e-05]),\n",
       " array([6.14665649e-08]),\n",
       " array([6.14665649e-08]),\n",
       " array([6.14665649e-08]),\n",
       " array([6.14665649e-08]),\n",
       " array([6.14665649e-08]),\n",
       " array([6.14665649e-08]),\n",
       " array([6.14665649e-08]),\n",
       " array([6.14665649e-08]),\n",
       " array([1.70345054e-05]),\n",
       " array([1.70345054e-05]),\n",
       " array([6.14665649e-08]),\n",
       " array([6.14665649e-08])]"
      ]
     },
     "execution_count": 44,
     "metadata": {},
     "output_type": "execute_result"
    }
   ],
   "source": [
    "archi.wait()\n",
    "res_annealing = archi.get_champions_f()\n",
    "res_annealing"
   ]
  },
  {
   "cell_type": "markdown",
   "metadata": {},
   "source": [
    "Занесём данные в pandas dataframe"
   ]
  },
  {
   "cell_type": "code",
   "execution_count": 45,
   "metadata": {},
   "outputs": [],
   "source": [
    "res_wolfs = [res_wolfs[i][0] for i in range(len(res_wolfs))]\n",
    "res_bees = [res_bees[i][0] for i in range(len(res_bees))]\n",
    "res_annealing = [res_annealing[i][0] for i in range(len(res_annealing))]"
   ]
  },
  {
   "cell_type": "code",
   "execution_count": 46,
   "metadata": {},
   "outputs": [],
   "source": [
    "data = {'Real min value' : np.zeros(len(res_wolfs)) ,\n",
    "         'Bee colony absolute erroe' : res_bees,\n",
    "         'Grey Wolf Optimizer absolute error' : res_wolfs,\n",
    "         'Simulated Annealing absolute error' : res_annealing}\n",
    "\n",
    "compare_booth = pd.DataFrame(data=data)"
   ]
  },
  {
   "cell_type": "code",
   "execution_count": 34,
   "metadata": {},
   "outputs": [
    {
     "data": {
      "text/html": [
       "<div>\n",
       "<style scoped>\n",
       "    .dataframe tbody tr th:only-of-type {\n",
       "        vertical-align: middle;\n",
       "    }\n",
       "\n",
       "    .dataframe tbody tr th {\n",
       "        vertical-align: top;\n",
       "    }\n",
       "\n",
       "    .dataframe thead th {\n",
       "        text-align: right;\n",
       "    }\n",
       "</style>\n",
       "<table border=\"1\" class=\"dataframe\">\n",
       "  <thead>\n",
       "    <tr style=\"text-align: right;\">\n",
       "      <th></th>\n",
       "      <th>Real min value</th>\n",
       "      <th>Bee colony absolute erroe</th>\n",
       "      <th>Grey Wolf Optimizer absolute error</th>\n",
       "      <th>Simulated Annealing absolute error</th>\n",
       "    </tr>\n",
       "  </thead>\n",
       "  <tbody>\n",
       "    <tr>\n",
       "      <th>0</th>\n",
       "      <td>0.0</td>\n",
       "      <td>0.000110</td>\n",
       "      <td>4.511178e-06</td>\n",
       "      <td>0.000004</td>\n",
       "    </tr>\n",
       "    <tr>\n",
       "      <th>1</th>\n",
       "      <td>0.0</td>\n",
       "      <td>0.002593</td>\n",
       "      <td>3.946110e-06</td>\n",
       "      <td>0.000004</td>\n",
       "    </tr>\n",
       "    <tr>\n",
       "      <th>2</th>\n",
       "      <td>0.0</td>\n",
       "      <td>0.001159</td>\n",
       "      <td>2.144247e-07</td>\n",
       "      <td>0.000004</td>\n",
       "    </tr>\n",
       "    <tr>\n",
       "      <th>3</th>\n",
       "      <td>0.0</td>\n",
       "      <td>0.000533</td>\n",
       "      <td>1.072206e-05</td>\n",
       "      <td>0.000004</td>\n",
       "    </tr>\n",
       "    <tr>\n",
       "      <th>4</th>\n",
       "      <td>0.0</td>\n",
       "      <td>0.000671</td>\n",
       "      <td>7.764650e-06</td>\n",
       "      <td>0.000027</td>\n",
       "    </tr>\n",
       "    <tr>\n",
       "      <th>5</th>\n",
       "      <td>0.0</td>\n",
       "      <td>0.000177</td>\n",
       "      <td>4.229339e-07</td>\n",
       "      <td>0.000004</td>\n",
       "    </tr>\n",
       "    <tr>\n",
       "      <th>6</th>\n",
       "      <td>0.0</td>\n",
       "      <td>0.000002</td>\n",
       "      <td>8.402780e-06</td>\n",
       "      <td>0.000031</td>\n",
       "    </tr>\n",
       "    <tr>\n",
       "      <th>7</th>\n",
       "      <td>0.0</td>\n",
       "      <td>0.000522</td>\n",
       "      <td>9.413065e-07</td>\n",
       "      <td>0.000004</td>\n",
       "    </tr>\n",
       "    <tr>\n",
       "      <th>8</th>\n",
       "      <td>0.0</td>\n",
       "      <td>0.000052</td>\n",
       "      <td>1.090378e-05</td>\n",
       "      <td>0.000004</td>\n",
       "    </tr>\n",
       "    <tr>\n",
       "      <th>9</th>\n",
       "      <td>0.0</td>\n",
       "      <td>0.000384</td>\n",
       "      <td>6.687791e-07</td>\n",
       "      <td>0.000004</td>\n",
       "    </tr>\n",
       "    <tr>\n",
       "      <th>10</th>\n",
       "      <td>0.0</td>\n",
       "      <td>0.000344</td>\n",
       "      <td>2.834339e-07</td>\n",
       "      <td>0.000027</td>\n",
       "    </tr>\n",
       "    <tr>\n",
       "      <th>11</th>\n",
       "      <td>0.0</td>\n",
       "      <td>0.000369</td>\n",
       "      <td>1.540677e-05</td>\n",
       "      <td>0.000004</td>\n",
       "    </tr>\n",
       "    <tr>\n",
       "      <th>12</th>\n",
       "      <td>0.0</td>\n",
       "      <td>0.000490</td>\n",
       "      <td>3.181904e-06</td>\n",
       "      <td>0.000004</td>\n",
       "    </tr>\n",
       "    <tr>\n",
       "      <th>13</th>\n",
       "      <td>0.0</td>\n",
       "      <td>0.000181</td>\n",
       "      <td>4.989086e-07</td>\n",
       "      <td>0.000027</td>\n",
       "    </tr>\n",
       "    <tr>\n",
       "      <th>14</th>\n",
       "      <td>0.0</td>\n",
       "      <td>0.000298</td>\n",
       "      <td>1.391714e-05</td>\n",
       "      <td>0.000027</td>\n",
       "    </tr>\n",
       "    <tr>\n",
       "      <th>15</th>\n",
       "      <td>0.0</td>\n",
       "      <td>0.000401</td>\n",
       "      <td>6.540808e-07</td>\n",
       "      <td>0.000027</td>\n",
       "    </tr>\n",
       "  </tbody>\n",
       "</table>\n",
       "</div>"
      ],
      "text/plain": [
       "    Real min value  Bee colony absolute erroe  \\\n",
       "0              0.0                   0.000110   \n",
       "1              0.0                   0.002593   \n",
       "2              0.0                   0.001159   \n",
       "3              0.0                   0.000533   \n",
       "4              0.0                   0.000671   \n",
       "5              0.0                   0.000177   \n",
       "6              0.0                   0.000002   \n",
       "7              0.0                   0.000522   \n",
       "8              0.0                   0.000052   \n",
       "9              0.0                   0.000384   \n",
       "10             0.0                   0.000344   \n",
       "11             0.0                   0.000369   \n",
       "12             0.0                   0.000490   \n",
       "13             0.0                   0.000181   \n",
       "14             0.0                   0.000298   \n",
       "15             0.0                   0.000401   \n",
       "\n",
       "    Grey Wolf Optimizer absolute error  Simulated Annealing absolute error  \n",
       "0                         4.511178e-06                            0.000004  \n",
       "1                         3.946110e-06                            0.000004  \n",
       "2                         2.144247e-07                            0.000004  \n",
       "3                         1.072206e-05                            0.000004  \n",
       "4                         7.764650e-06                            0.000027  \n",
       "5                         4.229339e-07                            0.000004  \n",
       "6                         8.402780e-06                            0.000031  \n",
       "7                         9.413065e-07                            0.000004  \n",
       "8                         1.090378e-05                            0.000004  \n",
       "9                         6.687791e-07                            0.000004  \n",
       "10                        2.834339e-07                            0.000027  \n",
       "11                        1.540677e-05                            0.000004  \n",
       "12                        3.181904e-06                            0.000004  \n",
       "13                        4.989086e-07                            0.000027  \n",
       "14                        1.391714e-05                            0.000027  \n",
       "15                        6.540808e-07                            0.000027  "
      ]
     },
     "execution_count": 34,
     "metadata": {},
     "output_type": "execute_result"
    }
   ],
   "source": [
    "compare_booth"
   ]
  },
  {
   "cell_type": "code",
   "execution_count": 65,
   "metadata": {},
   "outputs": [],
   "source": [
    "class shaffer_expr:\n",
    "    def fitness(self, x):\n",
    "        func = 0.5 + (np.cos(np.sin(np.abs(x[0]**2 - x[1]**2)))**2 - 0.5) / (1 + 0.001 * (x[0]**2 + x[1]**2))**2\n",
    "        return [func]\n",
    "    \n",
    "    def get_bounds(self):\n",
    "        return ([-100, -100], [100, 100])\n"
   ]
  },
  {
   "cell_type": "code",
   "execution_count": 66,
   "metadata": {},
   "outputs": [],
   "source": [
    "prob = pg.problem(shaffer_expr())"
   ]
  },
  {
   "cell_type": "code",
   "execution_count": 67,
   "metadata": {},
   "outputs": [
    {
     "data": {
      "text/plain": [
       "Problem name: <class '__main__.shaffer_expr'>\n",
       "\tC++ class name: class pybind11::object\n",
       "\n",
       "\tGlobal dimension:\t\t\t2\n",
       "\tInteger dimension:\t\t\t0\n",
       "\tFitness dimension:\t\t\t1\n",
       "\tNumber of objectives:\t\t\t1\n",
       "\tEquality constraints dimension:\t\t0\n",
       "\tInequality constraints dimension:\t0\n",
       "\tLower bounds: [-100, -100]\n",
       "\tUpper bounds: [100, 100]\n",
       "\tHas batch fitness evaluation: false\n",
       "\n",
       "\tHas gradient: false\n",
       "\tUser implemented gradient sparsity: false\n",
       "\tHas hessians: false\n",
       "\tUser implemented hessians sparsity: false\n",
       "\n",
       "\tFitness evaluations: 0\n",
       "\n",
       "\tThread safety: none"
      ]
     },
     "execution_count": 67,
     "metadata": {},
     "output_type": "execute_result"
    }
   ],
   "source": [
    "prob"
   ]
  },
  {
   "cell_type": "code",
   "execution_count": 68,
   "metadata": {},
   "outputs": [],
   "source": [
    "archi = pg.archipelago(n = 16, algo = pg.bee_colony(gen = 50, limit = 10), prob = prob, pop_size = 100, seed = 32)\n",
    "archi.evolve()"
   ]
  },
  {
   "cell_type": "code",
   "execution_count": 69,
   "metadata": {},
   "outputs": [
    {
     "data": {
      "text/plain": [
       "Number of islands: 16\n",
       "Topology: Unconnected\n",
       "Migration type: point-to-point\n",
       "Migrant handling policy: preserve\n",
       "Status: idle\n",
       "\n",
       "Islands summaries:\n",
       "\n",
       "\t#   Type                    Algo                        Prob                             Size  Status  \n",
       "\t-------------------------------------------------------------------------------------------------------\n",
       "\t0   Multiprocessing island  ABC: Artificial Bee Colony  <class '__main__.shaffer_expr'>  100   idle    \n",
       "\t1   Multiprocessing island  ABC: Artificial Bee Colony  <class '__main__.shaffer_expr'>  100   idle    \n",
       "\t2   Multiprocessing island  ABC: Artificial Bee Colony  <class '__main__.shaffer_expr'>  100   idle    \n",
       "\t3   Multiprocessing island  ABC: Artificial Bee Colony  <class '__main__.shaffer_expr'>  100   idle    \n",
       "\t4   Multiprocessing island  ABC: Artificial Bee Colony  <class '__main__.shaffer_expr'>  100   idle    \n",
       "\t5   Multiprocessing island  ABC: Artificial Bee Colony  <class '__main__.shaffer_expr'>  100   idle    \n",
       "\t6   Multiprocessing island  ABC: Artificial Bee Colony  <class '__main__.shaffer_expr'>  100   idle    \n",
       "\t7   Multiprocessing island  ABC: Artificial Bee Colony  <class '__main__.shaffer_expr'>  100   idle    \n",
       "\t8   Multiprocessing island  ABC: Artificial Bee Colony  <class '__main__.shaffer_expr'>  100   idle    \n",
       "\t9   Multiprocessing island  ABC: Artificial Bee Colony  <class '__main__.shaffer_expr'>  100   idle    \n",
       "\t10  Multiprocessing island  ABC: Artificial Bee Colony  <class '__main__.shaffer_expr'>  100   idle    \n",
       "\t11  Multiprocessing island  ABC: Artificial Bee Colony  <class '__main__.shaffer_expr'>  100   idle    \n",
       "\t12  Multiprocessing island  ABC: Artificial Bee Colony  <class '__main__.shaffer_expr'>  100   idle    \n",
       "\t13  Multiprocessing island  ABC: Artificial Bee Colony  <class '__main__.shaffer_expr'>  100   idle    \n",
       "\t14  Multiprocessing island  ABC: Artificial Bee Colony  <class '__main__.shaffer_expr'>  100   idle    \n",
       "\t15  Multiprocessing island  ABC: Artificial Bee Colony  <class '__main__.shaffer_expr'>  100   idle    "
      ]
     },
     "execution_count": 69,
     "metadata": {},
     "output_type": "execute_result"
    }
   ],
   "source": [
    "archi"
   ]
  },
  {
   "cell_type": "code",
   "execution_count": 70,
   "metadata": {},
   "outputs": [
    {
     "data": {
      "text/plain": [
       "[array([0.29318555]),\n",
       " array([0.29270513]),\n",
       " array([0.29335253]),\n",
       " array([0.29270009]),\n",
       " array([0.29268281]),\n",
       " array([0.29259056]),\n",
       " array([0.29263347]),\n",
       " array([0.29297393]),\n",
       " array([0.29262125]),\n",
       " array([0.29307929]),\n",
       " array([0.29260263]),\n",
       " array([0.29298704]),\n",
       " array([0.29259247]),\n",
       " array([0.29265479]),\n",
       " array([0.29264737]),\n",
       " array([0.29260363])]"
      ]
     },
     "execution_count": 70,
     "metadata": {},
     "output_type": "execute_result"
    }
   ],
   "source": [
    "archi.wait()\n",
    "res_bees = archi.get_champions_f()\n",
    "res_bees"
   ]
  },
  {
   "cell_type": "code",
   "execution_count": 71,
   "metadata": {},
   "outputs": [],
   "source": [
    "archi = pg.archipelago(n = 16, algo = pg.gwo(gen = 50), prob = prob, pop_size = 100, seed = 32)\n",
    "archi.evolve()"
   ]
  },
  {
   "cell_type": "code",
   "execution_count": 72,
   "metadata": {},
   "outputs": [
    {
     "data": {
      "text/plain": [
       "Number of islands: 16\n",
       "Topology: Unconnected\n",
       "Migration type: point-to-point\n",
       "Migrant handling policy: preserve\n",
       "Status: idle\n",
       "\n",
       "Islands summaries:\n",
       "\n",
       "\t#   Type                    Algo                      Prob                             Size  Status  \n",
       "\t-----------------------------------------------------------------------------------------------------\n",
       "\t0   Multiprocessing island  GWO: Grey Wolf Optimizer  <class '__main__.shaffer_expr'>  100   idle    \n",
       "\t1   Multiprocessing island  GWO: Grey Wolf Optimizer  <class '__main__.shaffer_expr'>  100   idle    \n",
       "\t2   Multiprocessing island  GWO: Grey Wolf Optimizer  <class '__main__.shaffer_expr'>  100   idle    \n",
       "\t3   Multiprocessing island  GWO: Grey Wolf Optimizer  <class '__main__.shaffer_expr'>  100   idle    \n",
       "\t4   Multiprocessing island  GWO: Grey Wolf Optimizer  <class '__main__.shaffer_expr'>  100   idle    \n",
       "\t5   Multiprocessing island  GWO: Grey Wolf Optimizer  <class '__main__.shaffer_expr'>  100   idle    \n",
       "\t6   Multiprocessing island  GWO: Grey Wolf Optimizer  <class '__main__.shaffer_expr'>  100   idle    \n",
       "\t7   Multiprocessing island  GWO: Grey Wolf Optimizer  <class '__main__.shaffer_expr'>  100   idle    \n",
       "\t8   Multiprocessing island  GWO: Grey Wolf Optimizer  <class '__main__.shaffer_expr'>  100   idle    \n",
       "\t9   Multiprocessing island  GWO: Grey Wolf Optimizer  <class '__main__.shaffer_expr'>  100   idle    \n",
       "\t10  Multiprocessing island  GWO: Grey Wolf Optimizer  <class '__main__.shaffer_expr'>  100   idle    \n",
       "\t11  Multiprocessing island  GWO: Grey Wolf Optimizer  <class '__main__.shaffer_expr'>  100   idle    \n",
       "\t12  Multiprocessing island  GWO: Grey Wolf Optimizer  <class '__main__.shaffer_expr'>  100   idle    \n",
       "\t13  Multiprocessing island  GWO: Grey Wolf Optimizer  <class '__main__.shaffer_expr'>  100   idle    \n",
       "\t14  Multiprocessing island  GWO: Grey Wolf Optimizer  <class '__main__.shaffer_expr'>  100   idle    \n",
       "\t15  Multiprocessing island  GWO: Grey Wolf Optimizer  <class '__main__.shaffer_expr'>  100   idle    "
      ]
     },
     "execution_count": 72,
     "metadata": {},
     "output_type": "execute_result"
    }
   ],
   "source": [
    "archi"
   ]
  },
  {
   "cell_type": "code",
   "execution_count": 73,
   "metadata": {},
   "outputs": [
    {
     "data": {
      "text/plain": [
       "[array([0.29258279]),\n",
       " array([0.29258447]),\n",
       " array([0.29259285]),\n",
       " array([0.29260492]),\n",
       " array([0.29257863]),\n",
       " array([0.29257936]),\n",
       " array([0.29257872]),\n",
       " array([0.29258053]),\n",
       " array([0.29257955]),\n",
       " array([0.29264279]),\n",
       " array([0.29258453]),\n",
       " array([0.29263522]),\n",
       " array([0.29258378]),\n",
       " array([0.29257964]),\n",
       " array([0.29258818]),\n",
       " array([0.29258174])]"
      ]
     },
     "execution_count": 73,
     "metadata": {},
     "output_type": "execute_result"
    }
   ],
   "source": [
    "archi.wait()\n",
    "res_wolfs = archi.get_champions_f()\n",
    "res_wolfs "
   ]
  },
  {
   "cell_type": "code",
   "execution_count": 84,
   "metadata": {},
   "outputs": [],
   "source": [
    "archi = pg.archipelago(n = 16, algo = pg.simulated_annealing(Ts=100., Tf=.1, n_T_adj=50, n_range_adj=50), prob = prob, pop_size = 100, seed = 32)\n",
    "archi.evolve()"
   ]
  },
  {
   "cell_type": "code",
   "execution_count": 85,
   "metadata": {},
   "outputs": [
    {
     "data": {
      "text/plain": [
       "[array([0.29357301]),\n",
       " array([0.29357301]),\n",
       " array([0.29357301]),\n",
       " array([0.29357301]),\n",
       " array([0.29357301]),\n",
       " array([0.29357301]),\n",
       " array([0.29357301]),\n",
       " array([0.29357301]),\n",
       " array([0.29357301]),\n",
       " array([0.29357301]),\n",
       " array([0.29357301]),\n",
       " array([0.29357301]),\n",
       " array([0.29357301]),\n",
       " array([0.29357301]),\n",
       " array([0.29357301]),\n",
       " array([0.29357301])]"
      ]
     },
     "execution_count": 85,
     "metadata": {},
     "output_type": "execute_result"
    }
   ],
   "source": [
    "archi.wait()\n",
    "res_annealing = archi.get_champions_f()\n",
    "res_annealing"
   ]
  },
  {
   "cell_type": "code",
   "execution_count": 86,
   "metadata": {},
   "outputs": [],
   "source": [
    "real_val = np.ones(len(res_wolfs)) * 0.292579\n",
    "res_wolfs = [res_wolfs[i][0] for i in range(len(res_wolfs))]\n",
    "res_bees = [res_bees[i][0] for i in range(len(res_bees))]\n",
    "res_annealing = [res_annealing[i][0] for i in range(len(res_annealing))]"
   ]
  },
  {
   "cell_type": "code",
   "execution_count": 87,
   "metadata": {},
   "outputs": [],
   "source": [
    "real_val = np.ones(len(res_wolfs)) * 0.292579\n",
    "\n",
    "data = {'Real min value' : real_val,\n",
    "         'Bee colony result' : res_bees, 'Bee colony absolute error' : np.abs(res_bees - real_val),\n",
    "         'Grey Wolf Optimizer result' : res_wolfs, 'Grey Wolf Optimizer absolute error' : np.abs(res_wolfs - real_val),\n",
    "         'Simulated Annealing result' : res_annealing, 'Simulated Annealing absolut error' : np.abs(res_annealing - real_val)}\n",
    "\n",
    "compare_shaffer = pd.DataFrame(data=data)"
   ]
  },
  {
   "cell_type": "code",
   "execution_count": 88,
   "metadata": {},
   "outputs": [
    {
     "data": {
      "text/html": [
       "<div>\n",
       "<style scoped>\n",
       "    .dataframe tbody tr th:only-of-type {\n",
       "        vertical-align: middle;\n",
       "    }\n",
       "\n",
       "    .dataframe tbody tr th {\n",
       "        vertical-align: top;\n",
       "    }\n",
       "\n",
       "    .dataframe thead th {\n",
       "        text-align: right;\n",
       "    }\n",
       "</style>\n",
       "<table border=\"1\" class=\"dataframe\">\n",
       "  <thead>\n",
       "    <tr style=\"text-align: right;\">\n",
       "      <th></th>\n",
       "      <th>Real min value</th>\n",
       "      <th>Bee colony result</th>\n",
       "      <th>Bee colony absolute error</th>\n",
       "      <th>Grey Wolf Optimizer result</th>\n",
       "      <th>Grey Wolf Optimizer absolute error</th>\n",
       "      <th>Simulated Annealing result</th>\n",
       "      <th>Simulated Annealing absolut error</th>\n",
       "    </tr>\n",
       "  </thead>\n",
       "  <tbody>\n",
       "    <tr>\n",
       "      <th>0</th>\n",
       "      <td>0.292579</td>\n",
       "      <td>0.293186</td>\n",
       "      <td>0.000607</td>\n",
       "      <td>0.292583</td>\n",
       "      <td>3.789547e-06</td>\n",
       "      <td>0.293573</td>\n",
       "      <td>0.000994</td>\n",
       "    </tr>\n",
       "    <tr>\n",
       "      <th>1</th>\n",
       "      <td>0.292579</td>\n",
       "      <td>0.292705</td>\n",
       "      <td>0.000126</td>\n",
       "      <td>0.292584</td>\n",
       "      <td>5.472586e-06</td>\n",
       "      <td>0.293573</td>\n",
       "      <td>0.000994</td>\n",
       "    </tr>\n",
       "    <tr>\n",
       "      <th>2</th>\n",
       "      <td>0.292579</td>\n",
       "      <td>0.293353</td>\n",
       "      <td>0.000774</td>\n",
       "      <td>0.292593</td>\n",
       "      <td>1.385113e-05</td>\n",
       "      <td>0.293573</td>\n",
       "      <td>0.000994</td>\n",
       "    </tr>\n",
       "    <tr>\n",
       "      <th>3</th>\n",
       "      <td>0.292579</td>\n",
       "      <td>0.292700</td>\n",
       "      <td>0.000121</td>\n",
       "      <td>0.292605</td>\n",
       "      <td>2.591926e-05</td>\n",
       "      <td>0.293573</td>\n",
       "      <td>0.000994</td>\n",
       "    </tr>\n",
       "    <tr>\n",
       "      <th>4</th>\n",
       "      <td>0.292579</td>\n",
       "      <td>0.292683</td>\n",
       "      <td>0.000104</td>\n",
       "      <td>0.292579</td>\n",
       "      <td>3.667707e-07</td>\n",
       "      <td>0.293573</td>\n",
       "      <td>0.000994</td>\n",
       "    </tr>\n",
       "    <tr>\n",
       "      <th>5</th>\n",
       "      <td>0.292579</td>\n",
       "      <td>0.292591</td>\n",
       "      <td>0.000012</td>\n",
       "      <td>0.292579</td>\n",
       "      <td>3.606794e-07</td>\n",
       "      <td>0.293573</td>\n",
       "      <td>0.000994</td>\n",
       "    </tr>\n",
       "    <tr>\n",
       "      <th>6</th>\n",
       "      <td>0.292579</td>\n",
       "      <td>0.292633</td>\n",
       "      <td>0.000054</td>\n",
       "      <td>0.292579</td>\n",
       "      <td>2.803733e-07</td>\n",
       "      <td>0.293573</td>\n",
       "      <td>0.000994</td>\n",
       "    </tr>\n",
       "    <tr>\n",
       "      <th>7</th>\n",
       "      <td>0.292579</td>\n",
       "      <td>0.292974</td>\n",
       "      <td>0.000395</td>\n",
       "      <td>0.292581</td>\n",
       "      <td>1.526853e-06</td>\n",
       "      <td>0.293573</td>\n",
       "      <td>0.000994</td>\n",
       "    </tr>\n",
       "    <tr>\n",
       "      <th>8</th>\n",
       "      <td>0.292579</td>\n",
       "      <td>0.292621</td>\n",
       "      <td>0.000042</td>\n",
       "      <td>0.292580</td>\n",
       "      <td>5.497261e-07</td>\n",
       "      <td>0.293573</td>\n",
       "      <td>0.000994</td>\n",
       "    </tr>\n",
       "    <tr>\n",
       "      <th>9</th>\n",
       "      <td>0.292579</td>\n",
       "      <td>0.293079</td>\n",
       "      <td>0.000500</td>\n",
       "      <td>0.292643</td>\n",
       "      <td>6.379498e-05</td>\n",
       "      <td>0.293573</td>\n",
       "      <td>0.000994</td>\n",
       "    </tr>\n",
       "    <tr>\n",
       "      <th>10</th>\n",
       "      <td>0.292579</td>\n",
       "      <td>0.292603</td>\n",
       "      <td>0.000024</td>\n",
       "      <td>0.292585</td>\n",
       "      <td>5.533921e-06</td>\n",
       "      <td>0.293573</td>\n",
       "      <td>0.000994</td>\n",
       "    </tr>\n",
       "    <tr>\n",
       "      <th>11</th>\n",
       "      <td>0.292579</td>\n",
       "      <td>0.292987</td>\n",
       "      <td>0.000408</td>\n",
       "      <td>0.292635</td>\n",
       "      <td>5.621749e-05</td>\n",
       "      <td>0.293573</td>\n",
       "      <td>0.000994</td>\n",
       "    </tr>\n",
       "    <tr>\n",
       "      <th>12</th>\n",
       "      <td>0.292579</td>\n",
       "      <td>0.292592</td>\n",
       "      <td>0.000013</td>\n",
       "      <td>0.292584</td>\n",
       "      <td>4.775639e-06</td>\n",
       "      <td>0.293573</td>\n",
       "      <td>0.000994</td>\n",
       "    </tr>\n",
       "    <tr>\n",
       "      <th>13</th>\n",
       "      <td>0.292579</td>\n",
       "      <td>0.292655</td>\n",
       "      <td>0.000076</td>\n",
       "      <td>0.292580</td>\n",
       "      <td>6.377325e-07</td>\n",
       "      <td>0.293573</td>\n",
       "      <td>0.000994</td>\n",
       "    </tr>\n",
       "    <tr>\n",
       "      <th>14</th>\n",
       "      <td>0.292579</td>\n",
       "      <td>0.292647</td>\n",
       "      <td>0.000068</td>\n",
       "      <td>0.292588</td>\n",
       "      <td>9.184412e-06</td>\n",
       "      <td>0.293573</td>\n",
       "      <td>0.000994</td>\n",
       "    </tr>\n",
       "    <tr>\n",
       "      <th>15</th>\n",
       "      <td>0.292579</td>\n",
       "      <td>0.292604</td>\n",
       "      <td>0.000025</td>\n",
       "      <td>0.292582</td>\n",
       "      <td>2.740275e-06</td>\n",
       "      <td>0.293573</td>\n",
       "      <td>0.000994</td>\n",
       "    </tr>\n",
       "  </tbody>\n",
       "</table>\n",
       "</div>"
      ],
      "text/plain": [
       "    Real min value  Bee colony result  Bee colony absolute error  \\\n",
       "0         0.292579           0.293186                   0.000607   \n",
       "1         0.292579           0.292705                   0.000126   \n",
       "2         0.292579           0.293353                   0.000774   \n",
       "3         0.292579           0.292700                   0.000121   \n",
       "4         0.292579           0.292683                   0.000104   \n",
       "5         0.292579           0.292591                   0.000012   \n",
       "6         0.292579           0.292633                   0.000054   \n",
       "7         0.292579           0.292974                   0.000395   \n",
       "8         0.292579           0.292621                   0.000042   \n",
       "9         0.292579           0.293079                   0.000500   \n",
       "10        0.292579           0.292603                   0.000024   \n",
       "11        0.292579           0.292987                   0.000408   \n",
       "12        0.292579           0.292592                   0.000013   \n",
       "13        0.292579           0.292655                   0.000076   \n",
       "14        0.292579           0.292647                   0.000068   \n",
       "15        0.292579           0.292604                   0.000025   \n",
       "\n",
       "    Grey Wolf Optimizer result  Grey Wolf Optimizer absolute error  \\\n",
       "0                     0.292583                        3.789547e-06   \n",
       "1                     0.292584                        5.472586e-06   \n",
       "2                     0.292593                        1.385113e-05   \n",
       "3                     0.292605                        2.591926e-05   \n",
       "4                     0.292579                        3.667707e-07   \n",
       "5                     0.292579                        3.606794e-07   \n",
       "6                     0.292579                        2.803733e-07   \n",
       "7                     0.292581                        1.526853e-06   \n",
       "8                     0.292580                        5.497261e-07   \n",
       "9                     0.292643                        6.379498e-05   \n",
       "10                    0.292585                        5.533921e-06   \n",
       "11                    0.292635                        5.621749e-05   \n",
       "12                    0.292584                        4.775639e-06   \n",
       "13                    0.292580                        6.377325e-07   \n",
       "14                    0.292588                        9.184412e-06   \n",
       "15                    0.292582                        2.740275e-06   \n",
       "\n",
       "    Simulated Annealing result  Simulated Annealing absolut error  \n",
       "0                     0.293573                           0.000994  \n",
       "1                     0.293573                           0.000994  \n",
       "2                     0.293573                           0.000994  \n",
       "3                     0.293573                           0.000994  \n",
       "4                     0.293573                           0.000994  \n",
       "5                     0.293573                           0.000994  \n",
       "6                     0.293573                           0.000994  \n",
       "7                     0.293573                           0.000994  \n",
       "8                     0.293573                           0.000994  \n",
       "9                     0.293573                           0.000994  \n",
       "10                    0.293573                           0.000994  \n",
       "11                    0.293573                           0.000994  \n",
       "12                    0.293573                           0.000994  \n",
       "13                    0.293573                           0.000994  \n",
       "14                    0.293573                           0.000994  \n",
       "15                    0.293573                           0.000994  "
      ]
     },
     "execution_count": 88,
     "metadata": {},
     "output_type": "execute_result"
    }
   ],
   "source": [
    "compare_shaffer"
   ]
  }
 ],
 "metadata": {
  "kernelspec": {
   "display_name": "Python 3",
   "language": "python",
   "name": "python3"
  },
  "language_info": {
   "codemirror_mode": {
    "name": "ipython",
    "version": 3
   },
   "file_extension": ".py",
   "mimetype": "text/x-python",
   "name": "python",
   "nbconvert_exporter": "python",
   "pygments_lexer": "ipython3",
   "version": "3.10.3"
  }
 },
 "nbformat": 4,
 "nbformat_minor": 2
}
